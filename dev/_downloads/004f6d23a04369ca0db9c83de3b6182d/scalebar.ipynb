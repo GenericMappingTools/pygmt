{
  "cells": [
    {
      "cell_type": "markdown",
      "metadata": {},
      "source": [
        "\n# Scale bar\n\nThe ``map_scale`` parameter of the :meth:`pygmt.Figure.basemap` and\n:meth:`pygmt.Figure.coast` methods is used to add a scale bar to a map.\nThis example shows how such a scale bar can be customized:\n\n - position: **g**\\|\\ **j**\\|\\ **J**\\|\\ **n**\\|\\ **x**. Set the position\n   of the reference point. Choose from\n\n   - **g**: Give map coordinates as *longitude*\\/\\ *latitude*.\n   - **j**\\|\\ **J**: Specify a two-character (order independent) code.\n     Choose from vertical **T**\\(op), **M**\\(iddle), or **B**\\(ottom) and\n     horizontal **L**\\(eft), **C**\\(entre), or **R**\\(ight). Lower / upper\n     case **j** / **J** mean inside / outside of the map bounding box.\n   - **n**: Give normalized bounding box coordinates as *nx*\\/\\ *ny*.\n   - **x**: Give plot coordinates as *x*\\/\\ *y*.\n\n - length: **+w**. Give a distance value, and, optionally a distance unit.\n   Choose from **e** (meters), **f** (feet), **k** (kilometers) [Default],\n   **M** (statute miles), **n** (nautical miles), or **u** (US survey feet).\n - origin: **+c**\\ [*slon*/]\\ *slat*. Control where on the map the scale bar\n   applies. If **+c** is not given the reference point is used. If only\n   **+c** is appended the middle of the map is used. Note that *slon* is only\n   optional for projections with constant scale along parallels, e.g.,\n   Mercator projection.\n - justify: **+j**. Set the anchor point. Specify a two-character (order\n   independent) code. Choose from vertical **T**\\(op), **M**\\(iddle), or\n   **B**\\(ottom) and horizontal **L**\\(eft), **C**\\(entre), or **R**\\(ight).\n - offset: **+o**\\ *offset* or **+o**\\ *xoffset*/\\ *yoffset*. Give either a\n   common shift or individual shifts in x (longitude) and y (latitude)\n   directions.\n - height: Use :gmt-term:`MAP_SCALE_HEIGHT` via :func:`pygmt.config`.\n - fancy style: **+f**. Get a scale bar that looks like train tracks.\n - unit: **+u**. Add the distance unit given via **+w** to the single\n   distance values.\n - label: **+l**. Add the distance unit given via **+w** as label. Append\n   text to get a customized label instead.\n - alignment: **+a**. Set the label alignment. Choose from **t**\\(op)\n   [Default], **b**\\(ottom), **l**\\(eft), or **r**\\(ight).\n"
      ]
    },
    {
      "cell_type": "code",
      "execution_count": null,
      "metadata": {
        "collapsed": false
      },
      "outputs": [],
      "source": [
        "import pygmt\n\n# Create a new Figure instance\nfig = pygmt.Figure()\n\n# Mercator projection with 10 centimeters width\nfig.basemap(region=[-45, -25, -15, 0], projection=\"M0/0/10c\", frame=[\"WSne\", \"af\"])\n\n# -----------------------------------------------------------------------------\n# Top Left: Add a plain scale bar\n# It is placed based on geographic coordinates (g) 42\u00b0 West and 1\u00b0 South,\n# applies at the reference point (+c is not given), and represents a\n# length (+w) of 500 kilometers\nfig.basemap(map_scale=\"g-42/-1+w500k\")\n\n# -----------------------------------------------------------------------------\n# Top Right: Add a fancy scale bar\n# It is placed based on normalized bounding box coordinates (n)\n# Use a fancy style (+f) to get a scale bar that looks like train tracks\n# Add the distance unit (+u) to the single distance values\nfig.basemap(map_scale=\"n0.8/0.95+w500k+f+u\")\n\n# -----------------------------------------------------------------------------\n# Bottom Left: Add a thick scale bar\n# Adjust the GMT default parameter MAP_SCALE_HEIGHT locally (the change applies\n# only to the code within the \"with\" statement)\n# It applies (+c) at the middle of the map (no location is appended to +c)\n# Without appending text, +l adds the distance unit as label\nwith pygmt.config(MAP_SCALE_HEIGHT=\"10p\"):\n    fig.basemap(map_scale=\"n0.2/0.15+c+w500k+f+l\")\n\n# -----------------------------------------------------------------------------\n# Bottom Right: Add a scale bar valid for a specific location\n# It is placed at BottomRight (j) using MiddleRight as anchor point (+j) with\n# an offset (+o) of 1 centimeter in both x and y directions\n# It applies (+c) at -7\u00b0 South, add a customized label by appending text to +l\nfig.basemap(map_scale=\"jBR+jMR+o1c/1c+c-7+w500k+f+u+lvalid at 7\u00b0 S\")\n\nfig.show()"
      ]
    },
    {
      "cell_type": "markdown",
      "metadata": {},
      "source": [
        "The ``box`` parameter allows surrounding the scale bar. This can be useful\nwhen adding a scale bar to a colorful map. To fill the box, append **+g**\nwith the desired color (or pattern). The outline of the box can be adjusted\nby appending **+p** with the desired thickness, color, and style. To force\nrounded edges append **+r** with the desired radius.\n\n"
      ]
    },
    {
      "cell_type": "code",
      "execution_count": null,
      "metadata": {
        "collapsed": false
      },
      "outputs": [],
      "source": [
        "# Create a new Figure instance\nfig = pygmt.Figure()\n\nfig.coast(\n    region=[-45, -25, -15, 0],\n    projection=\"M10c\",\n    land=\"tan\",\n    water=\"steelblue\",\n    frame=[\"WSne\", \"af\"],\n    # Set the label alignment (+a) to right (r)\n    map_scale=\"jBL+o1c/1c+c-7+w500k+f+lkm+ar\",\n    # Fill the box in white with a transparency of 30 percent, add a solid\n    # outline in darkgray (gray30) with a thickness of 0.5 points, and use\n    # rounded edges with a radius of 3 points\n    box=\"+gwhite@30+p0.5p,gray30,solid+r3p\",\n)\n\nfig.show()"
      ]
    }
  ],
  "metadata": {
    "kernelspec": {
      "display_name": "Python 3",
      "language": "python",
      "name": "python3"
    },
    "language_info": {
      "codemirror_mode": {
        "name": "ipython",
        "version": 3
      },
      "file_extension": ".py",
      "mimetype": "text/x-python",
      "name": "python",
      "nbconvert_exporter": "python",
      "pygments_lexer": "ipython3",
      "version": "3.12.2"
    }
  },
  "nbformat": 4,
  "nbformat_minor": 0
}