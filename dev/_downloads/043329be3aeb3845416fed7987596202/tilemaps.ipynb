{
  "cells": [
    {
      "cell_type": "markdown",
      "metadata": {},
      "source": [
        "\n# Tile maps\nThe :meth:`pygmt.Figure.tilemap` method allows to plot\ntiles from a tile server or local file as a basemap or overlay.\n"
      ]
    },
    {
      "cell_type": "code",
      "execution_count": null,
      "metadata": {
        "collapsed": false
      },
      "outputs": [],
      "source": [
        "import contextily\nimport pygmt\n\nfig = pygmt.Figure()\nfig.tilemap(\n    region=[-157.84, -157.8, 21.255, 21.285],\n    projection=\"M12c\",\n    # Set level of details (0-22)\n    # Higher levels mean a zoom level closer to the Earth's\n    # surface with more tiles covering a smaller\n    # geographic area and thus more details and vice versa\n    # Please note, not all zoom levels are always available\n    zoom=14,\n    # Use tiles from OpenStreetMap tile server\n    source=\"https://{s}.tile.openstreetmap.org/{z}/{x}/{y}.png\",\n    frame=\"afg\",\n)\n\nfig.show()"
      ]
    },
    {
      "cell_type": "markdown",
      "metadata": {},
      "source": [
        "It's also possible to use tiles provided via the\n[contextily](https://github.com/geopandas/contextily)_\nlibrary. See :doc:`Contextily providers <contextily:providers_deepdive>`\nfor a list of possible tilemap options.\n\n"
      ]
    },
    {
      "cell_type": "code",
      "execution_count": null,
      "metadata": {
        "collapsed": false
      },
      "outputs": [],
      "source": [
        "fig = pygmt.Figure()\nfig.tilemap(\n    region=[-157.84, -157.8, 21.255, 21.285],\n    projection=\"M12c\",\n    # Use the Stamen.Watercolor option from contextily\n    source=contextily.providers.Stamen.Watercolor,\n    frame=\"afg\",\n)\n\nfig.show()"
      ]
    }
  ],
  "metadata": {
    "kernelspec": {
      "display_name": "Python 3",
      "language": "python",
      "name": "python3"
    },
    "language_info": {
      "codemirror_mode": {
        "name": "ipython",
        "version": 3
      },
      "file_extension": ".py",
      "mimetype": "text/x-python",
      "name": "python",
      "nbconvert_exporter": "python",
      "pygments_lexer": "ipython3",
      "version": "3.11.3"
    }
  },
  "nbformat": 4,
  "nbformat_minor": 0
}