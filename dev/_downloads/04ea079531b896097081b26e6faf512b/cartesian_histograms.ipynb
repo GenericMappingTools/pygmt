{
  "cells": [
    {
      "cell_type": "markdown",
      "metadata": {},
      "source": [
        "\n# Cartesian histograms\n\nCartesian histograms can be generated using the :meth:`pygmt.Figure.histogram` method.\nIn this tutorial, different histogram related aspects are addressed:\n\n- Using vertical and horizontal bars\n- Using stair-steps\n- Showing counts and frequency percent\n- Adding annotations to the bars\n- Showing cumulative values\n- Using color and pattern as fill for the bars\n- Using overlaid, stacked, and grouped bars\n"
      ]
    },
    {
      "cell_type": "markdown",
      "metadata": {},
      "source": [
        "Import the required packages\n\n"
      ]
    },
    {
      "cell_type": "code",
      "execution_count": null,
      "metadata": {
        "collapsed": false
      },
      "outputs": [],
      "source": [
        "import numpy as np\nimport pygmt\nfrom pygmt.params import Pattern"
      ]
    },
    {
      "cell_type": "markdown",
      "metadata": {},
      "source": [
        "Generate random data from a normal distribution:\n\n"
      ]
    },
    {
      "cell_type": "code",
      "execution_count": null,
      "metadata": {
        "collapsed": false
      },
      "outputs": [],
      "source": [
        "rng = np.random.default_rng(seed=100)\n\n# Mean of distribution\nmean = 100\n# Standard deviation of distribution\nstddev = 20\n\n# Create two data sets\ndata01 = rng.normal(loc=mean, scale=stddev, size=42)\ndata02 = rng.normal(loc=mean, scale=stddev * 2, size=42)"
      ]
    },
    {
      "cell_type": "markdown",
      "metadata": {},
      "source": [
        "## Vertical and horizontal bars\n\nTo define the width of the bins, the ``series`` parameter has to be specified. The\nbars can be filled via the ``fill`` parameter with either a color or a pattern (see\nlater in this tutorial). Use the ``pen`` parameter to adjust width, color, and style\nof the outlines. By default, a histogram with vertical bars is created. Horizontal\nbars can be achieved via ``horizontal=True``.\n\n"
      ]
    },
    {
      "cell_type": "code",
      "execution_count": null,
      "metadata": {
        "collapsed": false
      },
      "outputs": [],
      "source": [
        "fig = pygmt.Figure()\n\n# Create histogram for data01 with vertical bars\nfig.histogram(\n    # Define the plot range as a list of xmin, xmax, ymin, ymax\n    # Let ymin and ymax determined automatically by setting both to the same value\n    region=[0, 200, 0, 0],\n    projection=\"X10c\",  # Cartesian projection with a width of 10 centimeters\n    # Add frame, annotations (\"a\"), ticks (\"f\"), and y-axis label (\"+l\") \"Counts\"; the\n    # numbers give the steps of annotations and ticks\n    frame=[\"WStr\", \"xaf10\", \"ya1f1+lCounts\"],\n    data=data01,\n    # Set the bin width via the \"series\" parameter\n    series=10,\n    # Fill the bars with color \"red3\"\n    fill=\"red3\",\n    # Draw a 1-point thick, solid outline in \"darkgray\" around the bars\n    pen=\"1p,darkgray,solid\",\n    # Choose counts via the \"histtype\" parameter\n    histtype=0,\n)\n\n# Shift plot origin by the figure width (\"w\") plus 2 centimeters to the right\nfig.shift_origin(xshift=\"w+2c\")\n\n# Create histogram for data01 with horizontal bars\nfig.histogram(\n    region=[0, 200, 0, 0],\n    projection=\"X10c\",\n    frame=[\"WStr\", \"xaf10\", \"ya1f1+lCounts\"],\n    data=data01,\n    series=10,\n    fill=\"red3\",\n    pen=\"1p,darkgray,solid\",\n    histtype=0,\n    # Use horizontal bars. Note that the x- and y-axes are flipped, with the x-axis\n    # plotted vertically and the y-axis plotted horizontally.\n    horizontal=True,\n)\n\nfig.show()"
      ]
    },
    {
      "cell_type": "markdown",
      "metadata": {},
      "source": [
        "## Stair-steps\n\nA stair-step diagram can be created by setting ``stairs=True``. Then only the\nouter outlines of the bars are drawn, and no internal bars are visible.\n\n"
      ]
    },
    {
      "cell_type": "code",
      "execution_count": null,
      "metadata": {
        "collapsed": false
      },
      "outputs": [],
      "source": [
        "fig = pygmt.Figure()\n\n# Create histogram for data01\nfig.histogram(\n    region=[0, 200, 0, 0],\n    projection=\"X10c\",\n    frame=[\"WSne\", \"xaf10\", \"ya1f1+lCounts\"],\n    data=data01,\n    series=10,\n    # Draw a 1-point thick, dotted outline in \"red3\"\n    pen=\"1p,red3,dotted\",\n    histtype=0,\n    # Draw stair-steps in stead of bars\n    stairs=True,\n)\n\nfig.shift_origin(xshift=\"w+2c\")\n\n# Create histogram for data02\nfig.histogram(\n    region=[0, 200, 0, 0],\n    projection=\"X10c\",\n    frame=[\"WSne\", \"xaf10\", \"ya1f1+lCounts\"],\n    data=data02,\n    series=10,\n    # Draw a 1.5-points thick, dashed outline in \"orange\"\n    pen=\"1.5p,orange,dashed\",\n    histtype=0,\n    stairs=True,\n)\n\nfig.show()"
      ]
    },
    {
      "cell_type": "markdown",
      "metadata": {},
      "source": [
        "## Counts and frequency percent\n\nBy default, a histogram showing the counts in each bin is created (``histtype=0``).\nTo show the frequency percent set the ``histtype`` parameter to ``1``. For further\noptions please have a look at the documentation of :meth:`pygmt.Figure.histogram`.\n\n"
      ]
    },
    {
      "cell_type": "code",
      "execution_count": null,
      "metadata": {
        "collapsed": false
      },
      "outputs": [],
      "source": [
        "fig = pygmt.Figure()\n\n# Create histogram for data02 showing counts\nfig.histogram(\n    region=[0, 200, 0, 0],\n    projection=\"X10c\",\n    frame=[\"WSnr\", \"xaf10\", \"ya1f1+lCounts\"],\n    data=data02,\n    series=10,\n    fill=\"orange\",\n    pen=\"1p,darkgray,solid\",\n    # Choose counts via the \"histtype\" parameter\n    histtype=0,\n)\n\nfig.shift_origin(xshift=\"w+1c\")\n\n# Create histogram for data02 showing frequency percent\nfig.histogram(\n    region=[0, 200, 0, 0],\n    projection=\"X10c\",\n    # Add suffix % (+u)\n    frame=[\"lSnE\", \"xaf10\", \"ya2f1+u%+lFrequency percent\"],\n    data=data02,\n    series=10,\n    fill=\"orange\",\n    pen=\"1p,darkgray,solid\",\n    # Choose frequency percent via the \"histtype\" parameter\n    histtype=1,\n)\n\nfig.show()"
      ]
    },
    {
      "cell_type": "markdown",
      "metadata": {},
      "source": [
        "## Cumulative values\n\nTo create a histogram showing the cumulative values set ``cumulative=True``. Here, the\nbars of the cumulative histogram are filled with a :class:`pygmt.params.Pattern` via\nthe ``fill`` parameter. Annotate each bar with the counts it represents using the\n``annotate`` parameter.\n\n"
      ]
    },
    {
      "cell_type": "code",
      "execution_count": null,
      "metadata": {
        "collapsed": false
      },
      "outputs": [],
      "source": [
        "fig = pygmt.Figure()\n\n# Create histogram for data01 showing the counts per bin\nfig.histogram(\n    region=[0, 200, 0, len(data01) + 1],\n    projection=\"X10c\",\n    frame=[\"WSne\", \"xaf10\", \"ya5f1+lCounts\"],\n    data=data01,\n    series=10,\n    fill=\"red3\",\n    pen=\"1p,darkgray,solid\",\n    histtype=0,\n    # Annotate each bar with the counts it represents\n    annotate=True,\n)\n\nfig.shift_origin(xshift=\"w+1c\")\n\n# Create histogram for data01 showing the cumulative counts\nfig.histogram(\n    region=[0, 200, 0, len(data01) + 1],\n    projection=\"X10c\",\n    frame=[\"wSnE\", \"xaf10\", \"ya5f1+lCumulative counts\"],\n    data=data01,\n    series=10,\n    # Fill bars with GMT pattern 8, with white background and black foreground.\n    fill=Pattern(8, bgcolor=\"white\", fgcolor=\"black\"),\n    pen=\"1p,darkgray,solid\",\n    histtype=0,\n    # Show cumulative counts\n    cumulative=True,\n    # Offset (\"+o\") the label by 10 points in negative y-direction\n    annotate=\"+o-10p\",\n)\n\nfig.show()"
      ]
    },
    {
      "cell_type": "markdown",
      "metadata": {},
      "source": [
        "## Overlaid bars\n\nOverlaid or overlapping bars can be achieved by plotting two or several histograms,\neach for one data set, on top of each other. The legend entry can be specified via\nthe ``label`` parameter.\n\nLimitations of histograms with overlaid bars are:\n\n- Mixing of colors or/and patterns\n- Visually more colors or/and patterns than data sets\n- Visually a \"third histogram\" (or more in case of more than two data sets)\n\n"
      ]
    },
    {
      "cell_type": "code",
      "execution_count": null,
      "metadata": {
        "collapsed": false
      },
      "outputs": [],
      "source": [
        "fig = pygmt.Figure()\n\n# Create histogram for data01\nfig.histogram(\n    region=[0, 200, 0, 0],\n    projection=\"X10c\",\n    frame=[\"WSne\", \"xaf10\", \"ya1f1+lCounts\"],\n    data=data01,\n    series=10,\n    fill=\"red3\",\n    pen=\"1p,darkgray,solid\",\n    histtype=0,\n    # Set legend entry\n    label=\"data01\",\n)\n\n# Create histogram for data02\n# It is plotted on top of the histogram for data01\nfig.histogram(\n    data=data02,\n    series=10,\n    # Fill bars with color \"orange\", use a transparency of 50% (\"@50\")\n    fill=\"orange@50\",\n    pen=\"1p,darkgray,solid\",\n    histtype=0,\n    label=\"data02\",\n)\n\n# Add legend\nfig.legend()\n\nfig.show()"
      ]
    },
    {
      "cell_type": "markdown",
      "metadata": {},
      "source": [
        "## Stacked bars\n\nHistograms with stacked bars are not directly supported by PyGMT. Thus, before\nplotting, combined data sets have to be created from the single data sets. Then,\nstacked bars can be achieved similar to overlaid bars via plotting two or several\nhistograms on top of each other.\n\nLimitations of histograms with stacked bars are:\n\n- No common baseline\n- Partly not directly clear whether overlaid or stacked bars\n\n"
      ]
    },
    {
      "cell_type": "code",
      "execution_count": null,
      "metadata": {
        "collapsed": false
      },
      "outputs": [],
      "source": [
        "# Combine the two data sets to one data set\ndata_merge = np.concatenate((data01, data02), axis=None)\n\nfig = pygmt.Figure()\n\n# Create histogram for data02 by using the combined data set\nfig.histogram(\n    region=[0, 200, 0, 0],\n    projection=\"X10c\",\n    frame=[\"WSne\", \"xaf10\", \"ya1f1+lCounts\"],\n    data=data_merge,\n    series=10,\n    fill=\"orange\",\n    pen=\"1p,darkgray,solid\",\n    histtype=0,\n    # The combined data set appears in the final histogram visually as data set data02\n    label=\"data02\",\n)\n\n# Create histogram for data01\n# It is plotted on top of the histogram for data02\nfig.histogram(\n    data=data01,\n    series=10,\n    fill=\"red3\",\n    pen=\"1p,darkgray,solid\",\n    histtype=0,\n    label=\"data01\",\n)\n\n# Add legend\nfig.legend()\n\nfig.show()"
      ]
    },
    {
      "cell_type": "markdown",
      "metadata": {},
      "source": [
        "## Grouped bars\n\nBy setting the ``barwidth`` parameter in respect to the values passed to the\n``series`` parameter histograms with grouped bars can be created.\n\nLimitations of histograms with grouped bars are:\n\n- Careful setting width and position of the bars in respect to the bin width\n- Difficult to see the variations of the single data sets\n\n"
      ]
    },
    {
      "cell_type": "code",
      "execution_count": null,
      "metadata": {
        "collapsed": false
      },
      "outputs": [],
      "source": [
        "# Width used for binning the data\nbinwidth = 10\n\nfig = pygmt.Figure()\n\n# Create histogram for data01\nfig.histogram(\n    region=[0, 200, 0, 0],\n    projection=\"X10c\",\n    frame=[\"WSne\", \"xaf10g10\", \"ya1f1+lCounts\"],\n    data=data01,\n    series=binwidth,\n    fill=\"red3\",\n    pen=\"1p,darkgray,solid\",\n    histtype=0,\n    # Calculate the bar width in respect to the bin width, here for two data sets half\n    # of the bin width\n    # Offset (\"+o\") the bars to align each bar with the left limit of the corresponding\n    # bin\n    barwidth=f\"{binwidth / 2}+o-{binwidth / 4}\",\n    label=\"data01\",\n)\n\n# Create histogram for data02\nfig.histogram(\n    data=data02,\n    series=binwidth,\n    fill=\"orange\",\n    pen=\"1p,darkgray,solid\",\n    histtype=0,\n    barwidth=f\"{binwidth / 2}+o{binwidth / 4}\",\n    label=\"data02\",\n)\n\n# Add legend\nfig.legend()\n\nfig.show()"
      ]
    }
  ],
  "metadata": {
    "kernelspec": {
      "display_name": "Python 3",
      "language": "python",
      "name": "python3"
    },
    "language_info": {
      "codemirror_mode": {
        "name": "ipython",
        "version": 3
      },
      "file_extension": ".py",
      "mimetype": "text/x-python",
      "name": "python",
      "nbconvert_exporter": "python",
      "pygments_lexer": "ipython3",
      "version": "3.13.7"
    }
  },
  "nbformat": 4,
  "nbformat_minor": 0
}