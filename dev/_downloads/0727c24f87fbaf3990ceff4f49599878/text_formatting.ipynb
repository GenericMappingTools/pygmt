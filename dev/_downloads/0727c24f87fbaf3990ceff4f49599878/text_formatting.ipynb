{
  "cells": [
    {
      "cell_type": "markdown",
      "metadata": {},
      "source": [
        "\n# Text formatting\n\nThere are various options for formatting text contained in a plot, e.g., text added via\n:meth:`pygmt.Figure.text`, the plot title, labels of colorbars as well as Cartesian\naxes, and legend entries. It's also possible to change the font as well as its color\nand size only for specific characters of a longer text. The supported fonts are listed\nat :doc:`Supported Fonts </techref/fonts>`. For an complete overview see\n:doc:`Text Formatting </techref/text_formatting>`.\n"
      ]
    },
    {
      "cell_type": "code",
      "execution_count": null,
      "metadata": {
        "collapsed": false
      },
      "outputs": [],
      "source": [
        "import pygmt\n\nfig = pygmt.Figure()\nfig.basemap(region=[-1, 1, -4, 4], projection=\"X4c/5c\", frame=0)\n\n# Change font color for specific letters of the word \"PyGMT\":\n# blue for \"P\", yellow for \"y\", and red for \"GMT\"\nfig.text(x=0, y=3, text=\"@;63/124/173;P@;;@;255/212/59;y@;;@;238/86/52;GMT@;;\")\n\n# Change font size and style for one single character, respectively\nfig.text(x=0, y=2, text=\"te@:15:x@::t     tex@%Courier-Oblique%t@%%\")\n\n# Use superscript\nfig.text(x=0, y=1, text=\"E = mc@+2@+\")\n\n# Use subscripts and Greek letters\nfig.text(x=0, y=0, text=\"@~s@~@-ij@- = c@-ijkl@- @~e@~@-kl@-\")\n\n# Combine two characters above each other\nfig.text(x=0, y=-1, text=\"@!_~\")\n\n# Underline the text\nfig.text(x=0, y=-2, text=\"This is @_underlined@_ text\")\n\n# Use small caps\nfig.text(x=0, y=-3, text=\"T@#ext@# in S@#mall@# C@#aps@#\")\n\nfig.show()"
      ]
    }
  ],
  "metadata": {
    "kernelspec": {
      "display_name": "Python 3",
      "language": "python",
      "name": "python3"
    },
    "language_info": {
      "codemirror_mode": {
        "name": "ipython",
        "version": 3
      },
      "file_extension": ".py",
      "mimetype": "text/x-python",
      "name": "python",
      "nbconvert_exporter": "python",
      "pygments_lexer": "ipython3",
      "version": "3.13.9"
    }
  },
  "nbformat": 4,
  "nbformat_minor": 0
}