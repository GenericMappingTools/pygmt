{
  "cells": [
    {
      "cell_type": "code",
      "execution_count": null,
      "metadata": {
        "collapsed": false
      },
      "outputs": [],
      "source": [
        "%matplotlib inline"
      ]
    },
    {
      "cell_type": "markdown",
      "metadata": {},
      "source": [
        "\n# Cartesian logarithmic\n\n**X**\\ *width*\\ [**l**]/[*height*\\ [**l**]]: Give the *width* of the figure and\nthe optional *height*. The axis or axes with a logarithmic transformation\nrequires **l** after its size argument.\n"
      ]
    },
    {
      "cell_type": "code",
      "execution_count": null,
      "metadata": {
        "collapsed": false
      },
      "outputs": [],
      "source": [
        "import numpy as np\nimport pygmt\n\n# Create a list of x values 0-100\nxline = np.arange(0, 101)\n# Create a list of y-values that are the square root of the x-values\nyline = xline**0.5\n# Create a list of x values for every 10 in 0-100\nxpoints = np.arange(0, 101, 10)\n# Create a list of y-values that are the square root of the x-values\nypoints = xpoints**0.5\n\nfig = pygmt.Figure()\nfig.plot(\n    region=[1, 100, 0, 10],\n    # Set a logarithmic transformation on the x-axis\n    projection=\"X15cl/10c\",\n    # Set the figures frame, color, and gridlines\n    frame=[\"WSne+gbisque\", \"x2g3\", \"ya2f1g2\"],\n    x=xline,\n    y=yline,\n    # Set the line thickness to *1p*, the color to *blue*, and the style to\n    # *dash*\n    pen=\"1p,blue,-\",\n)\n# Plot square root values as points on the line\n# Style of points is 0.3 cm square, color is *red* with a *black* outline\n# Points are not clipped if they go off the figure\nfig.plot(x=xpoints, y=ypoints, style=\"s0.3c\", color=\"red\", no_clip=True, pen=\"black\")\nfig.show()"
      ]
    }
  ],
  "metadata": {
    "kernelspec": {
      "display_name": "Python 3",
      "language": "python",
      "name": "python3"
    },
    "language_info": {
      "codemirror_mode": {
        "name": "ipython",
        "version": 3
      },
      "file_extension": ".py",
      "mimetype": "text/x-python",
      "name": "python",
      "nbconvert_exporter": "python",
      "pygments_lexer": "ipython3",
      "version": "3.10.5"
    }
  },
  "nbformat": 4,
  "nbformat_minor": 0
}