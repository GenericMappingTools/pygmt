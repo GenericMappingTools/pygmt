{
  "cells": [
    {
      "cell_type": "markdown",
      "metadata": {},
      "source": [
        "\n# Choropleth map\n\nThe :meth:`pygmt.Figure.plot` method allows us to plot geographical data such as\npolygons which are stored in a :class:`geopandas.GeoDataFrame` object. Use\n:func:`geopandas.read_file` to load data from any supported OGR format such as a\nshapefile (.shp), GeoJSON (.geojson), geopackage (.gpkg), etc. You can also use a full\nURL pointing to your desired data source. Then, pass the :class:`geopandas.GeoDataFrame`\nas an argument to the ``data`` parameter of :meth:`pygmt.Figure.plot`, and style the\ngeometry using the ``pen`` parameter. To fill the polygons based on a corresponding\ncolumn you need to set ``fill=\"+z\"`` as well as select the appropriate column using the\n``aspatial`` parameter as shown in the example below.\n"
      ]
    },
    {
      "cell_type": "code",
      "execution_count": null,
      "metadata": {
        "collapsed": false
      },
      "outputs": [],
      "source": [
        "import geodatasets\nimport geopandas as gpd\nimport pygmt\n\n# Read the example dataset provided by geodatasets.\ngdf = gpd.read_file(geodatasets.get_path(\"geoda airbnb\"))\nprint(gdf.head())"
      ]
    },
    {
      "cell_type": "code",
      "execution_count": null,
      "metadata": {
        "collapsed": false
      },
      "outputs": [],
      "source": [
        "fig = pygmt.Figure()\n\nfig.basemap(\n    region=gdf.total_bounds[[0, 2, 1, 3]],\n    projection=\"M6c\",\n    frame=\"+tPopulation of Chicago\",\n)\n\n# The dataset contains different attributes, here we select the \"population\" column to\n# plot.\n\n# First, we define the colormap to fill the polygons based on the \"population\" column.\npygmt.makecpt(\n    cmap=\"acton\",\n    series=[gdf[\"population\"].min(), gdf[\"population\"].max(), 10],\n    continuous=True,\n    reverse=True,\n)\n\n# Next, we plot the polygons and fill them using the defined colormap. The target column\n# is defined by the aspatial parameter.\nfig.plot(\n    data=gdf,\n    pen=\"0.3p,gray10\",\n    fill=\"+z\",\n    cmap=True,\n    aspatial=\"Z=population\",\n)\n\n# Add colorbar legend.\nfig.colorbar(frame=\"x+lPopulation\", position=\"jML+o-0.5c+w3.5c/0.2c\")\n\nfig.show()"
      ]
    }
  ],
  "metadata": {
    "kernelspec": {
      "display_name": "Python 3",
      "language": "python",
      "name": "python3"
    },
    "language_info": {
      "codemirror_mode": {
        "name": "ipython",
        "version": 3
      },
      "file_extension": ".py",
      "mimetype": "text/x-python",
      "name": "python",
      "nbconvert_exporter": "python",
      "pygments_lexer": "ipython3",
      "version": "3.13.5"
    }
  },
  "nbformat": 4,
  "nbformat_minor": 0
}