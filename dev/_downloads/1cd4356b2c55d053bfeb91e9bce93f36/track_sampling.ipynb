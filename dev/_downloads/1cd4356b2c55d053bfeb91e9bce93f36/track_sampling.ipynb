{
  "cells": [
    {
      "cell_type": "markdown",
      "metadata": {},
      "source": [
        "\n# Sampling along tracks\n\nThe :func:`pygmt.grdtrack` function samples a raster grid's value along\nspecified points. We will need to input a 2-D raster to ``grid`` which can be\nan :class:`xarray.DataArray`. The argument passed to the ``points`` parameter\ncan be a :class:`pandas.DataFrame` table where the first two columns are\nx and y (or longitude and latitude). Note also that there is a ``newcolname``\nparameter that will be used to name the new column of values sampled from the\ngrid.\n\nAlternatively, a netCDF file path can be passed to ``grid``. An ASCII file path\ncan also be accepted for ``points``. To save an output ASCII file, a file name\nargument needs to be passed to the ``outfile`` parameter.\n"
      ]
    },
    {
      "cell_type": "code",
      "execution_count": null,
      "metadata": {
        "collapsed": false
      },
      "outputs": [],
      "source": [
        "import pygmt\n\n# Load sample grid and point datasets\ngrid = pygmt.datasets.load_earth_relief()\npoints = pygmt.datasets.load_sample_data(name=\"ocean_ridge_points\")\n# Sample the bathymetry along the world's ocean ridges at specified track\n# points\ntrack = pygmt.grdtrack(points=points, grid=grid, newcolname=\"bathymetry\")\n\nfig = pygmt.Figure()\n# Plot the earth relief grid on Cylindrical Stereographic projection, masking\n# land areas\nfig.basemap(region=\"g\", projection=\"Cyl_stere/150/-20/15c\", frame=True)\nfig.grdimage(grid=grid, cmap=\"gray\")\nfig.coast(land=\"#666666\")\n# Plot the sampled bathymetry points using circles (c) of 0.15 cm size\n# Points are colored using elevation values (normalized for visual purposes)\nfig.plot(\n    x=track.longitude,\n    y=track.latitude,\n    style=\"c0.15c\",\n    cmap=\"terra\",\n    fill=(track.bathymetry - track.bathymetry.mean()) / track.bathymetry.std(),\n)\nfig.show()"
      ]
    }
  ],
  "metadata": {
    "kernelspec": {
      "display_name": "Python 3",
      "language": "python",
      "name": "python3"
    },
    "language_info": {
      "codemirror_mode": {
        "name": "ipython",
        "version": 3
      },
      "file_extension": ".py",
      "mimetype": "text/x-python",
      "name": "python",
      "nbconvert_exporter": "python",
      "pygments_lexer": "ipython3",
      "version": "3.11.3"
    }
  },
  "nbformat": 4,
  "nbformat_minor": 0
}