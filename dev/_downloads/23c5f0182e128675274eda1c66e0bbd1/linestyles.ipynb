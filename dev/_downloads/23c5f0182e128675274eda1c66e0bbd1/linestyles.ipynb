{
  "cells": [
    {
      "cell_type": "markdown",
      "metadata": {},
      "source": [
        "\n# Line styles\n\nThe :meth:`pygmt.Figure.plot` method can plot lines in different styles.\nThe default line style is a 0.25-point wide, black, solid line, and can be\ncustomized with the ``pen`` parameter.\n\nA *pen* in GMT has three attributes: *width*, *color*, and *style*.\nThe *style* attribute controls the appearance of the line.\nGiving ``\"dotted\"`` or ``\".\"`` yields a dotted line, whereas a dashed pen is\nrequested with ``\"dashed\"`` or ``\"-\"``. Also combinations of dots and dashes,\nlike ``\".-\"`` for a dot-dashed line, are allowed.\n\nFor more advanced *pen* attributes, see the GMT cookbook\n:gmt-docs:`cookbook/features.html#wpen-attrib`.\n"
      ]
    },
    {
      "cell_type": "code",
      "execution_count": null,
      "metadata": {
        "collapsed": false
      },
      "outputs": [],
      "source": [
        "import numpy as np\nimport pygmt\n\n# Generate a two-point line for plotting\nx = np.array([0, 7])\ny = np.array([9, 9])\n\nfig = pygmt.Figure()\nfig.basemap(region=[0, 10, 0, 10], projection=\"X15c/8c\", frame=\"+tLine Styles\")\n\n# Plot the line using the default line style\nfig.plot(x=x, y=y)\nfig.text(x=x[-1], y=y[-1], text=\"solid (default)\", justify=\"ML\", offset=\"0.2c/0c\")\n\n# Plot the line using different line styles\nfor linestyle in [\n    \"1p,red,-\",  # dashed line\n    \"1p,blue,.\",  # dotted line\n    \"1p,lightblue,-.\",  # dash-dotted line\n    \"2p,blue,..-\",  # dot-dot-dashed line\n    \"2p,tomato,--.\",  # dash-dash-dotted line\n    # A pattern of 4-point-long line segments and 2-point-long gaps between\n    # segments, with pattern offset by 2 points from the origin\n    \"2p,tomato,4_2:2p\",\n]:\n    y -= 1  # Move the current line down\n    fig.plot(x=x, y=y, pen=linestyle)\n    fig.text(x=x[-1], y=y[-1], text=linestyle, justify=\"ML\", offset=\"0.2c/0c\")\n\n# Plot the line like a railway track (black/white).\n# The trick here is plotting the same line twice but with different line styles\ny -= 1  # move the current line down\nfig.plot(x=x, y=y, pen=\"5p,black\")\nfig.plot(x=x, y=y, pen=\"4p,white,20p_20p\")\nfig.text(x=x[-1], y=y[-1], text=\"5p,black\", justify=\"ML\", offset=\"0.2c/0.2c\")\nfig.text(x=x[-1], y=y[-1], text=\"4p,white,20p_20p\", justify=\"ML\", offset=\"0.2c/-0.2c\")\n\nfig.show()"
      ]
    }
  ],
  "metadata": {
    "kernelspec": {
      "display_name": "Python 3",
      "language": "python",
      "name": "python3"
    },
    "language_info": {
      "codemirror_mode": {
        "name": "ipython",
        "version": 3
      },
      "file_extension": ".py",
      "mimetype": "text/x-python",
      "name": "python",
      "nbconvert_exporter": "python",
      "pygments_lexer": "ipython3",
      "version": "3.11.3"
    }
  },
  "nbformat": 4,
  "nbformat_minor": 0
}