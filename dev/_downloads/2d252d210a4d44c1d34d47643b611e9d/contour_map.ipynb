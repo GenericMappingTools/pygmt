{
  "cells": [
    {
      "cell_type": "markdown",
      "metadata": {},
      "source": [
        "\n# Creating a map with contour lines\n\nPlotting a contour map is handled by :meth:`pygmt.Figure.grdcontour`.\n"
      ]
    },
    {
      "cell_type": "code",
      "execution_count": null,
      "metadata": {
        "collapsed": false
      },
      "outputs": [],
      "source": [
        "import pygmt\n\n# Load sample earth relief data\ngrid = pygmt.datasets.load_earth_relief(resolution=\"05m\", region=[-92.5, -82.5, -3, 7])"
      ]
    },
    {
      "cell_type": "markdown",
      "metadata": {},
      "source": [
        "## Create contour plot\n\nThe :meth:`pygmt.Figure.grdcontour` method takes the grid input. It plots annotated\ncontour lines, which are thicker and have the elevation/depth written on them, and\nunannotated contour lines. In the example below, the default contour line intervals\nare 500 meters, with an annotated contour line every 1,000 meters. By default, it\nplots the map with the equidistant cylindrical projection and with no frame.\n\n"
      ]
    },
    {
      "cell_type": "code",
      "execution_count": null,
      "metadata": {
        "collapsed": false
      },
      "outputs": [],
      "source": [
        "fig = pygmt.Figure()\nfig.grdcontour(grid=grid)\nfig.show()"
      ]
    },
    {
      "cell_type": "markdown",
      "metadata": {},
      "source": [
        "## Contour line settings\n\nUse the ``annotation`` and ``levels`` parameters to adjust contour line intervals. In\nthe example below, there are contour intervals every 250 meters and annotated contour\nlines every 1,000 meters.\n\n"
      ]
    },
    {
      "cell_type": "code",
      "execution_count": null,
      "metadata": {
        "collapsed": false
      },
      "outputs": [],
      "source": [
        "fig = pygmt.Figure()\nfig.grdcontour(grid=grid, annotation=1000, levels=250)\nfig.show()"
      ]
    },
    {
      "cell_type": "markdown",
      "metadata": {},
      "source": [
        "## Contour limits\n\nThe ``limit`` parameter sets the minimum and maximum values for the contour lines. The\nparameter takes the low and high values, and is either a list (as below) or a string\n``limit=\"-4000/-2000\"``.\n\n"
      ]
    },
    {
      "cell_type": "code",
      "execution_count": null,
      "metadata": {
        "collapsed": false
      },
      "outputs": [],
      "source": [
        "fig = pygmt.Figure()\nfig.grdcontour(grid=grid, annotation=1000, levels=250, limit=[-4000, -2000])\nfig.show()"
      ]
    },
    {
      "cell_type": "markdown",
      "metadata": {},
      "source": [
        "## Map settings\n\nThe :meth:`pygmt.Figure.grdcontour` method accepts additional parameters, including\nsetting the projection and frame.\n\n"
      ]
    },
    {
      "cell_type": "code",
      "execution_count": null,
      "metadata": {
        "collapsed": false
      },
      "outputs": [],
      "source": [
        "fig = pygmt.Figure()\nfig.grdcontour(\n    grid=grid,\n    annotation=1000,\n    levels=250,\n    limit=[-4000, -2000],\n    projection=\"M10c\",\n    frame=True,\n)\nfig.show()"
      ]
    },
    {
      "cell_type": "markdown",
      "metadata": {},
      "source": [
        "## Adding a colormap\n\nThe :meth:`pygmt.Figure.grdimage` method can be used to add a colormap to the contour\nmap. It must be called prior to :meth:`pygmt.Figure.grdcontour` to keep the contour\nlines visible on the final map. If the ``projection`` parameter is specified in the\n:meth:`pygmt.Figure.grdimage` method, it does not need to be repeated in the\n:meth:`pygmt.Figure.grdcontour` method. Finally, a colorbar is added using the\n:meth:`pygmt.Figure.colorbar` method.\n\n"
      ]
    },
    {
      "cell_type": "code",
      "execution_count": null,
      "metadata": {
        "collapsed": false
      },
      "outputs": [],
      "source": [
        "fig = pygmt.Figure()\nfig.grdimage(grid=grid, cmap=\"haxby\", projection=\"M10c\", frame=True)\nfig.grdcontour(grid=grid, annotation=1000, levels=250, limit=[-4000, -2000])\nfig.colorbar(frame=[\"x+lelevation\", \"y+lm\"])\nfig.show()"
      ]
    }
  ],
  "metadata": {
    "kernelspec": {
      "display_name": "Python 3",
      "language": "python",
      "name": "python3"
    },
    "language_info": {
      "codemirror_mode": {
        "name": "ipython",
        "version": 3
      },
      "file_extension": ".py",
      "mimetype": "text/x-python",
      "name": "python",
      "nbconvert_exporter": "python",
      "pygments_lexer": "ipython3",
      "version": "3.13.5"
    }
  },
  "nbformat": 4,
  "nbformat_minor": 0
}