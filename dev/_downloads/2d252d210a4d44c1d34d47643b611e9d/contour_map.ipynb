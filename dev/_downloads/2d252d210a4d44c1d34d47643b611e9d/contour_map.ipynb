{
  "cells": [
    {
      "cell_type": "markdown",
      "metadata": {},
      "source": [
        "\n# Creating a map with contour lines\n\nPlotting a contour map is handled by :meth:`pygmt.Figure.grdcontour`.\n"
      ]
    },
    {
      "cell_type": "code",
      "execution_count": null,
      "metadata": {
        "collapsed": false
      },
      "outputs": [],
      "source": [
        "import pygmt\n\n# Load sample earth relief data\ngrid = pygmt.datasets.load_earth_relief(resolution=\"05m\", region=[-92.5, -82.5, -3, 7])"
      ]
    },
    {
      "cell_type": "markdown",
      "metadata": {},
      "source": [
        "## Create contour plot\n\nThe :meth:`pygmt.Figure.grdcontour` method takes the grid input.\nIt plots annotated contour lines, which are thicker and have the\nelevation/depth written on them, and unannotated contour lines.\nIn the example below, the default contour line intervals are 500 meters,\nwith an annotated contour line every 1,000 meters.\nBy default, it plots the map with the\nequidistant cylindrical projection and with no frame.\n\n"
      ]
    },
    {
      "cell_type": "code",
      "execution_count": null,
      "metadata": {
        "collapsed": false
      },
      "outputs": [],
      "source": [
        "fig = pygmt.Figure()\nfig.grdcontour(grid=grid)\nfig.show()"
      ]
    },
    {
      "cell_type": "markdown",
      "metadata": {},
      "source": [
        "## Contour line settings\n\nUse the ``annotation`` and ``interval`` parameters to adjust contour line\nintervals. In the example below, there are contour intervals every 250 meters\nand annotated contour lines every 1,000 meters.\n\n"
      ]
    },
    {
      "cell_type": "code",
      "execution_count": null,
      "metadata": {
        "collapsed": false
      },
      "outputs": [],
      "source": [
        "fig = pygmt.Figure()\nfig.grdcontour(\n    annotation=1000,\n    interval=250,\n    grid=grid,\n)\nfig.show()"
      ]
    },
    {
      "cell_type": "markdown",
      "metadata": {},
      "source": [
        "## Contour limits\n\nThe ``limit`` parameter sets the minimum and maximum values for the contour\nlines. The parameter takes the low and high values, and is either a list (as\nbelow) or a string ``limit=\"-4000/-2000\"``.\n\n"
      ]
    },
    {
      "cell_type": "code",
      "execution_count": null,
      "metadata": {
        "collapsed": false
      },
      "outputs": [],
      "source": [
        "fig = pygmt.Figure()\nfig.grdcontour(\n    annotation=1000,\n    interval=250,\n    grid=grid,\n    limit=[-4000, -2000],\n)\nfig.show()"
      ]
    },
    {
      "cell_type": "markdown",
      "metadata": {},
      "source": [
        "## Map settings\n\nThe :meth:`pygmt.Figure.grdcontour` method accepts additional parameters,\nincluding setting the projection and frame.\n\n"
      ]
    },
    {
      "cell_type": "code",
      "execution_count": null,
      "metadata": {
        "collapsed": false
      },
      "outputs": [],
      "source": [
        "fig = pygmt.Figure()\nfig.grdcontour(\n    annotation=1000,\n    interval=250,\n    grid=grid,\n    limit=[-4000, -2000],\n    projection=\"M10c\",\n    frame=True,\n)\nfig.show()"
      ]
    },
    {
      "cell_type": "markdown",
      "metadata": {},
      "source": [
        "## Adding a colormap\n\nThe :meth:`pygmt.Figure.grdimage` method can be used to add a\ncolormap to the contour map. It must be called prior to\n:meth:`pygmt.Figure.grdcontour` to keep the contour lines visible on the\nfinal map. If the ``projection`` parameter is specified in the\n:meth:`pygmt.Figure.grdimage` method, it does not need to be repeated in the\n:meth:`pygmt.Figure.grdcontour` method. Finally, a colorbar is added using\nthe :meth:`pygmt.Figure.colorbar` method.\n\n"
      ]
    },
    {
      "cell_type": "code",
      "execution_count": null,
      "metadata": {
        "collapsed": false
      },
      "outputs": [],
      "source": [
        "fig = pygmt.Figure()\nfig.grdimage(\n    grid=grid,\n    cmap=\"haxby\",\n    projection=\"M10c\",\n    frame=True,\n)\nfig.grdcontour(\n    annotation=1000,\n    interval=250,\n    grid=grid,\n    limit=[-4000, -2000],\n)\nfig.colorbar(frame=[\"x+lelevation\", \"y+lm\"])\nfig.show()"
      ]
    }
  ],
  "metadata": {
    "kernelspec": {
      "display_name": "Python 3",
      "language": "python",
      "name": "python3"
    },
    "language_info": {
      "codemirror_mode": {
        "name": "ipython",
        "version": 3
      },
      "file_extension": ".py",
      "mimetype": "text/x-python",
      "name": "python",
      "nbconvert_exporter": "python",
      "pygments_lexer": "ipython3",
      "version": "3.11.3"
    }
  },
  "nbformat": 4,
  "nbformat_minor": 0
}