{
  "cells": [
    {
      "cell_type": "markdown",
      "metadata": {},
      "source": [
        "\n# Line fronts\n\nUsing the :meth:`pygmt.Figure.plot` method you can draw a so-called\n*front* which allows to plot specific symbols distributed along a line\nor curve. Typical use cases are weather fronts, fault lines,\nsubduction zones, and more. To draw general symbols along a line or\ncurve, i.e., a so-called *decorated line*, see the\n:doc:`Decorated lines example </gallery/lines/decorated_lines>`.\n\nA front can be drawn by passing **f**\\[\u00b1]\\ *gap*\\[/*size*] to the ``style``\nparameter where *gap* defines the distance gap between the symbols and\n*size* the symbol size. If *gap* is negative, it is interpreted to mean\nthe number of symbols along the front instead. If *gap* has a leading +\nthen we use the value exactly as given [Default will start and end each\nline with a symbol, hence the *gap* is adjusted to fit]. If *size* is\nmissing it is set to 30% of the *gap*, except when *gap* is negative\nand *size* is thus required. Append **+l** or **+r** to plot symbols on\nthe left or right side of the front [Default is centered]. Append\n**+**\\ *type* to specify which symbol to plot: **b**\\ ox, **c**\\ ircle,\n**f**\\ ault [Default], **s**\\ lip, or **t**\\ riangle. Slip means left-lateral\nor right-lateral strike-slip arrows (centered is not an option). The **+s**\nmodifier optionally accepts the angle used to draw the vector [Default is\n20 degrees]. Alternatively, use **+S** which draws arcuate arrow heads.\nAppend **+o**\\ *offset* to offset the first symbol from the beginning of\nthe front by that amount [Default is 0]. The chosen symbol is drawn with\nthe same pen as set for the line (i.e., via the ``pen`` parameter). To use\nan alternate pen, append **+p**\\ *pen*. To skip the outline, just use\n**+p** with no argument. To make the main front line invisible, add **+i**.\nFor modifying the main front line via the ``pen`` parameter, see the\n:doc:`Line styles example </gallery/lines/linestyles>`.\n"
      ]
    },
    {
      "cell_type": "code",
      "execution_count": null,
      "metadata": {
        "collapsed": false
      },
      "outputs": [],
      "source": [
        "import numpy as np\nimport pygmt\n\n# Generate a two-point line for plotting\nx = np.array([1, 4])\ny = np.array([20, 20])\n\nfig = pygmt.Figure()\nfig.basemap(region=[0, 10, 0, 20], projection=\"X15c/15c\", frame=\"+tLine Fronts\")\n\n# Plot the line using different front styles\nfor frontstyle in [\n    # line with \"faults\" front style, same as +f [Default]\n    \"f1c/0.25c\",\n    # line with box front style\n    \"f1c/0.25c+b\",\n    # line with circle front style\n    \"f1c/0.25c+c\",\n    # line with triangle front style\n    \"f1c/0.3c+t\",\n    # line with left-lateral (\"+l\") slip (\"+s\") front style, angle is set to\n    # 45 degrees and offset to 2.25 cm\n    \"f5c/1c+l+s45+o2.25c\",\n    # line with \"faults\" front style, symbols are plotted on the left side of\n    # the front\n    \"f1c/0.4c+l\",\n    # line with box front style, symbols are plotted on the left side of the\n    # front\n    \"f1c/0.3c+l+b\",\n    # line with circle front style, symbols are plotted on the right side of\n    # the front\n    \"f1c/0.4c+r+c\",\n    # line with triangle front style, symbols are plotted on the left side of\n    # the front\n    \"f1c/0.3c+l+t\",\n    # line with triangle front style, symbols are plotted on the right side of\n    # the front, use other pen for the outline of the symbol\n    \"f1c/0.4c+r+t+p1.5p,dodgerblue\",\n    # line with triangle front style, symbols are plotted on the right side of\n    # the front and offset is set to 0.3 cm, skip the outline\n    \"f0.5c/0.3c+r+t+o0.3c+p\",\n    # line with triangle front style, symbols are plotted on the right side of\n    # the front and offset is set to 0.3 cm, skip the outline and make the main\n    # front line invisible\n    \"f0.5c/0.3c+r+t+o0.3c+p+i\",\n]:\n    y -= 1  # move the current line down\n    fig.plot(x=x, y=y, pen=\"1.25p\", style=frontstyle, fill=\"red3\")\n    fig.text(\n        x=x[-1],\n        y=y[-1],\n        text=frontstyle,\n        font=\"Courier-Bold\",\n        justify=\"ML\",\n        offset=\"0.75c/0c\",\n    )\n\nfig.show()"
      ]
    }
  ],
  "metadata": {
    "kernelspec": {
      "display_name": "Python 3",
      "language": "python",
      "name": "python3"
    },
    "language_info": {
      "codemirror_mode": {
        "name": "ipython",
        "version": 3
      },
      "file_extension": ".py",
      "mimetype": "text/x-python",
      "name": "python",
      "nbconvert_exporter": "python",
      "pygments_lexer": "ipython3",
      "version": "3.11.3"
    }
  },
  "nbformat": 4,
  "nbformat_minor": 0
}