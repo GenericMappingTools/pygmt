{
  "cells": [
    {
      "cell_type": "markdown",
      "metadata": {},
      "source": [
        "\n# Configuring PyGMT defaults\n\nDefault GMT parameters can be set globally or locally using :class:`pygmt.config`.\n"
      ]
    },
    {
      "cell_type": "code",
      "execution_count": null,
      "metadata": {
        "collapsed": false
      },
      "outputs": [],
      "source": [
        "import pygmt"
      ]
    },
    {
      "cell_type": "markdown",
      "metadata": {},
      "source": [
        "## Configuring default GMT parameters\n\nUsers can override default parameters either temporarily (locally) or permanently\n(globally) using :class:`pygmt.config`. The full list of default parameters that can\nbe changed can be found at :gmt-docs:`gmt.conf.html`.\n\nWe demonstrate the usage of :class:`pygmt.config` by configuring a map plot.\n\n"
      ]
    },
    {
      "cell_type": "code",
      "execution_count": null,
      "metadata": {
        "collapsed": false
      },
      "outputs": [],
      "source": [
        "# Start with a basic figure with the default style\nfig = pygmt.Figure()\nfig.basemap(region=[115, 119.5, 4, 7.5], projection=\"M10c\", frame=True)\nfig.coast(land=\"black\", water=\"skyblue\")\n\nfig.show()"
      ]
    },
    {
      "cell_type": "markdown",
      "metadata": {},
      "source": [
        "## Globally overriding defaults\n\nThe ``MAP_FRAME_TYPE`` parameter specifies the style of map frame to use, of which\nthere are 5 options: ``fancy`` (default, see above), ``fancy+``, ``plain``, ``graph``\n(which does not apply to geographical maps) and ``inside``.\n\nThe ``FORMAT_GEO_MAP`` parameter controls the format of geographical tick annotations.\nThe default uses degrees and minutes. Here we specify the ticks to be a decimal number\nof degrees.\n\n"
      ]
    },
    {
      "cell_type": "code",
      "execution_count": null,
      "metadata": {
        "collapsed": false
      },
      "outputs": [],
      "source": [
        "fig = pygmt.Figure()\n\n# Configuration for the 'current figure'\npygmt.config(MAP_FRAME_TYPE=\"plain\")\npygmt.config(FORMAT_GEO_MAP=\"ddd.xx\")\n\nfig.basemap(region=[115, 119.5, 4, 7.5], projection=\"M10c\", frame=True)\nfig.coast(land=\"black\", water=\"skyblue\")\n\nfig.show()"
      ]
    },
    {
      "cell_type": "markdown",
      "metadata": {},
      "source": [
        "## Locally overriding defaults\n\nIt is also possible to temporarily override the default parameters, which is very\nuseful for limiting the scope of changes to a particular plot. :class:`pygmt.config`\nis implemented as a context manager, which handles the setup and teardown of a GMT\nsession. Python users are likely familiar with the ``with open(...) as file:``\nsnippet, which returns a ``file`` context manager. In this way, it can be used to\noverride a parameter for a single command, or a sequence of commands. An application\nof :class:`pygmt.config` as a context manager is shown below:\n\n"
      ]
    },
    {
      "cell_type": "code",
      "execution_count": null,
      "metadata": {
        "collapsed": false
      },
      "outputs": [],
      "source": [
        "fig = pygmt.Figure()\n\n# This will have a fancy+ frame\nwith pygmt.config(MAP_FRAME_TYPE=\"fancy+\"):\n    fig.basemap(region=[115, 119.5, 4, 7.5], projection=\"M10c\", frame=True)\nfig.coast(land=\"black\", water=\"skyblue\")\n\n# Shift plot origin down by the height of the figure to plot another map\nfig.shift_origin(yshift=\"-h\")\n\n# This figure retains the default \"fancy\" frame\nfig.basemap(region=[115, 119.5, 4, 7.5], projection=\"M10c\", frame=True)\nfig.coast(land=\"black\", water=\"skyblue\")\n\nfig.show()"
      ]
    }
  ],
  "metadata": {
    "kernelspec": {
      "display_name": "Python 3",
      "language": "python",
      "name": "python3"
    },
    "language_info": {
      "codemirror_mode": {
        "name": "ipython",
        "version": 3
      },
      "file_extension": ".py",
      "mimetype": "text/x-python",
      "name": "python",
      "nbconvert_exporter": "python",
      "pygments_lexer": "ipython3",
      "version": "3.13.9"
    }
  },
  "nbformat": 4,
  "nbformat_minor": 0
}