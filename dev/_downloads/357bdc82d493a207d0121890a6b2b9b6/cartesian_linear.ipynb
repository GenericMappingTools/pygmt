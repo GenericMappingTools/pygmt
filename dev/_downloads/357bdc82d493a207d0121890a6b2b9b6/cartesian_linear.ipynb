{
  "cells": [
    {
      "cell_type": "markdown",
      "metadata": {},
      "source": [
        "\n# Cartesian linear\n\n**X**\\ *width*\\ [/*height*] or **x**\\ *x-scale*\\ [/*y-scale*]\n\nGive the *width* of the figure and the optional *height*. The lower-case version\n**x** is similar to **X** but expects an *x-scale* and an optional *y-scale*.\n\nThe Cartesian linear projection is primarily designed for regular floating point\ndata. To plot geographical data in a linear projection, see the upstream GMT\ndocumentation :gmt-docs:`Geographic coordinates\n<reference/coordinate-transformations.html#geographic-coordinates>`.\nTo make the linear plot using calendar date/time as input coordinates, see the\ntutorial :doc:`Plotting datetime charts </tutorials/advanced/date_time_charts>`.\nGMT documentation :gmt-docs:`Calendar time coordinates\n<reference/coordinate-transformations.html#calendar-time-coordinates>`.\n"
      ]
    },
    {
      "cell_type": "code",
      "execution_count": null,
      "metadata": {
        "collapsed": false
      },
      "outputs": [],
      "source": [
        "import pygmt\n\nfig = pygmt.Figure()\n# The region parameter is specified as x_min, x_max, y_min, y_max\nfig.basemap(region=[0, 10, 0, 50], projection=\"X15c/10c\", frame=[\"afg\", \"+gbisque\"])\nfig.plot(x=[3, 9, 2], y=[4, 9, 37], pen=\"2p,black\")\n# Plot data points on top of the line\n# Use squares with a size of 0.3 centimeters, an \"orange\" fill and a \"black\" outline\nfig.plot(x=[3, 9, 2], y=[4, 9, 37], style=\"s0.3c\", fill=\"orange\", pen=\"black\")\nfig.show()"
      ]
    }
  ],
  "metadata": {
    "kernelspec": {
      "display_name": "Python 3",
      "language": "python",
      "name": "python3"
    },
    "language_info": {
      "codemirror_mode": {
        "name": "ipython",
        "version": 3
      },
      "file_extension": ".py",
      "mimetype": "text/x-python",
      "name": "python",
      "nbconvert_exporter": "python",
      "pygments_lexer": "ipython3",
      "version": "3.13.1"
    }
  },
  "nbformat": 4,
  "nbformat_minor": 0
}