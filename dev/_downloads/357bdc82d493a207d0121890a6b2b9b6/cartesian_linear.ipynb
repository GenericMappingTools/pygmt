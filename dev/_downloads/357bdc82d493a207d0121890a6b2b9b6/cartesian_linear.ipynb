{
  "cells": [
    {
      "cell_type": "code",
      "execution_count": null,
      "metadata": {
        "collapsed": false
      },
      "outputs": [],
      "source": [
        "%matplotlib inline"
      ]
    },
    {
      "cell_type": "markdown",
      "metadata": {},
      "source": [
        "\n# Cartesian linear\n\n**X**\\ *width*/[*height*]: Give the *width* of the figure and the optional\n*height*.\n"
      ]
    },
    {
      "cell_type": "code",
      "execution_count": null,
      "metadata": {
        "collapsed": false
      },
      "outputs": [],
      "source": [
        "import pygmt\n\nfig = pygmt.Figure()\nfig.plot(\n    # The x and y parameters determine the coordinates of lines\n    x=[3, 9, 2],\n    y=[4, 9, 37],\n    pen=\"3p,red\",\n    # ``region`` sets the x and y ranges or the Cartesian figure.\n    region=[0, 10, 0, 50],\n    projection=\"X15c/10c\",\n    # ``WSne`` is passed to ``frame`` to put axis labels only on the left and\n    # bottom axes.\n    frame=[\"af\", \"WSne\"],\n)\nfig.show()"
      ]
    }
  ],
  "metadata": {
    "kernelspec": {
      "display_name": "Python 3",
      "language": "python",
      "name": "python3"
    },
    "language_info": {
      "codemirror_mode": {
        "name": "ipython",
        "version": 3
      },
      "file_extension": ".py",
      "mimetype": "text/x-python",
      "name": "python",
      "nbconvert_exporter": "python",
      "pygments_lexer": "ipython3",
      "version": "3.10.5"
    }
  },
  "nbformat": 4,
  "nbformat_minor": 0
}