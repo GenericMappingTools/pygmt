{
  "cells": [
    {
      "cell_type": "markdown",
      "metadata": {},
      "source": [
        "\n# Azimuthal Equidistant\n\nThe main advantage of this projection is that distances from the projection\ncenter are displayed in correct proportions. Also directions measured from the\nprojection center are correct. It is very useful for a global view on locations\nthat lie within a certain distance or for comparing distances of different\nlocations relative to the projection center.\n\n**e**\\ *lon0/lat0*\\ [*/horizon*]\\ */scale* or\n**E**\\ *lon0/lat0*\\ [*/horizon*]\\ */width*\n\nThe projection type is set with **e** or **E**. *lon0/lat0* specifies the\nprojection center, and the optional parameter *horizon* specifies the maximum\ndistance to the projection center (i.e. the visible portion of the rest of the\nworld map) in degrees <= 180\u00b0 (default 180\u00b0). The size of the figure is set by\n*scale* or *width*.\n"
      ]
    },
    {
      "cell_type": "code",
      "execution_count": null,
      "metadata": {
        "collapsed": false
      },
      "outputs": [],
      "source": [
        "import pygmt\n\nfig = pygmt.Figure()\nfig.coast(projection=\"E-100/40/15c\", region=\"g\", frame=\"g\", land=\"gray\")\nfig.show()"
      ]
    }
  ],
  "metadata": {
    "kernelspec": {
      "display_name": "Python 3",
      "language": "python",
      "name": "python3"
    },
    "language_info": {
      "codemirror_mode": {
        "name": "ipython",
        "version": 3
      },
      "file_extension": ".py",
      "mimetype": "text/x-python",
      "name": "python",
      "nbconvert_exporter": "python",
      "pygments_lexer": "ipython3",
      "version": "3.11.3"
    }
  },
  "nbformat": 4,
  "nbformat_minor": 0
}