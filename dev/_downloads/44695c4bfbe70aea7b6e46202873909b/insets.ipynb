{
  "cells": [
    {
      "cell_type": "markdown",
      "metadata": {},
      "source": [
        "\n# Adding an inset to the figure\n\nTo plot an inset figure inside another larger figure, we can use the\n:meth:`pygmt.Figure.inset` method. After a large figure has been created,\ncall ``inset`` using a ``with`` statement, and new plot elements will be\nadded to the inset figure instead of the larger figure.\n"
      ]
    },
    {
      "cell_type": "code",
      "execution_count": null,
      "metadata": {
        "collapsed": false
      },
      "outputs": [],
      "source": [
        "import pygmt"
      ]
    },
    {
      "cell_type": "markdown",
      "metadata": {},
      "source": [
        "Prior to creating an inset figure, a larger figure must first be plotted. In\nthe example below, :meth:`pygmt.Figure.coast` is used to create a map of the\nUS state of Massachusetts.\n\n"
      ]
    },
    {
      "cell_type": "code",
      "execution_count": null,
      "metadata": {
        "collapsed": false
      },
      "outputs": [],
      "source": [
        "fig = pygmt.Figure()\nfig.coast(\n    region=[-74, -69.5, 41, 43],  # Set bounding box of the large figure\n    borders=\"2/thin\",  # Plot state boundaries with thin lines\n    shorelines=\"thin\",  # Plot coastline with thin lines\n    projection=\"M15c\",  # Set Mercator projection and size of 15 centimeter\n    land=\"lightyellow\",  # Color land areas light yellow\n    water=\"lightblue\",  # Color water areas light blue\n    frame=\"a\",  # Set frame with annotation and major tick spacing\n)\nfig.show()"
      ]
    },
    {
      "cell_type": "markdown",
      "metadata": {},
      "source": [
        "The :meth:`pygmt.Figure.inset` method uses a context manager, and is called\nusing a ``with`` statement. The ``position`` parameter, including the inset\nwidth, is required to plot the inset. Using the **j** argument, the location\nof the inset is set to one of the 9 anchors (bottom-middle-top and\nleft-center-right). In the example below, ``BL`` sets the inset to the bottom\nleft. The ``box`` parameter can set the fill and border of the inset. In the\nexample below, ``+pblack`` sets the border color to black and ``+glightred``\nsets the fill to light red.\n\n"
      ]
    },
    {
      "cell_type": "code",
      "execution_count": null,
      "metadata": {
        "collapsed": false
      },
      "outputs": [],
      "source": [
        "fig = pygmt.Figure()\nfig.coast(\n    region=[-74, -69.5, 41, 43],\n    borders=\"2/thin\",\n    shorelines=\"thin\",\n    projection=\"M15c\",\n    land=\"lightyellow\",\n    water=\"lightblue\",\n    frame=\"a\",\n)\nwith fig.inset(position=\"jBL+w3c\", box=\"+pblack+glightred\"):\n    # pass is used to exit the with statement as no plotting methods are\n    # called\n    pass\nfig.show()"
      ]
    },
    {
      "cell_type": "markdown",
      "metadata": {},
      "source": [
        "When using **j** to set the anchor of the inset, the default location is in\ncontact with the nearby axis or axes. The offset of the inset can be set with\n**+o**, followed by the offsets along the x- and y-axis. If only one offset\nis passed, it is applied to both axes. Each offset can have its own unit. In\nthe example below, the inset is shifted 0.5 centimeters on the x-axis and\n0.2 centimeters on the y-axis.\n\n"
      ]
    },
    {
      "cell_type": "code",
      "execution_count": null,
      "metadata": {
        "collapsed": false
      },
      "outputs": [],
      "source": [
        "fig = pygmt.Figure()\nfig.coast(\n    region=[-74, -69.5, 41, 43],\n    borders=\"2/thin\",\n    shorelines=\"thin\",\n    projection=\"M15c\",\n    land=\"lightyellow\",\n    water=\"lightblue\",\n    frame=\"a\",\n)\nwith fig.inset(position=\"jBL+w3c+o0.5c/0.2c\", box=\"+pblack+glightred\"):\n    pass\nfig.show()"
      ]
    },
    {
      "cell_type": "markdown",
      "metadata": {},
      "source": [
        "Standard plotting methods can be called from within the ``inset`` context\nmanager. The example below uses :meth:`pygmt.Figure.coast` to plot a zoomed\nout map that selectively paints the state of Massachusetts to show its\nlocation relative to other states.\n\n"
      ]
    },
    {
      "cell_type": "code",
      "execution_count": null,
      "metadata": {
        "collapsed": false
      },
      "outputs": [],
      "source": [
        "fig = pygmt.Figure()\nfig.coast(\n    region=[-74, -69.5, 41, 43],\n    borders=\"2/thin\",\n    shorelines=\"thin\",\n    projection=\"M15c\",\n    land=\"lightyellow\",\n    water=\"lightblue\",\n    frame=\"a\",\n)\n# This does not include an inset fill as it is covered by the inset figure\n# Inset width/height are determined by the ``region`` and ``projection``\n# parameters.\nwith fig.inset(\n    position=\"jBL+o0.5c/0.2c\",\n    box=\"+pblack\",\n    region=[-80, -65, 35, 50],\n    projection=\"M3c\",\n):\n    # Use a plotting method to create a figure inside the inset.\n    fig.coast(\n        land=\"gray\",\n        borders=[1, 2],\n        shorelines=\"1/thin\",\n        water=\"white\",\n        # Use dcw to selectively highlight an area\n        dcw=\"US.MA+gred\",\n    )\nfig.show()"
      ]
    }
  ],
  "metadata": {
    "kernelspec": {
      "display_name": "Python 3",
      "language": "python",
      "name": "python3"
    },
    "language_info": {
      "codemirror_mode": {
        "name": "ipython",
        "version": 3
      },
      "file_extension": ".py",
      "mimetype": "text/x-python",
      "name": "python",
      "nbconvert_exporter": "python",
      "pygments_lexer": "ipython3",
      "version": "3.11.3"
    }
  },
  "nbformat": 4,
  "nbformat_minor": 0
}