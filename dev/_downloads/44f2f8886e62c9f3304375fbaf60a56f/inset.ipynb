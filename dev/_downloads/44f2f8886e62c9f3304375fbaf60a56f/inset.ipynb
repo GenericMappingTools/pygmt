{
  "cells": [
    {
      "cell_type": "markdown",
      "metadata": {},
      "source": [
        "\n# Inset\n\nThe :meth:`pygmt.Figure.inset` method adds an inset figure inside a larger\nfigure. The method is called using a ``with`` statement, and its\n``position``, ``box``, ``offset``, and ``margin`` parameters are set. Plotting\nmethods called within the ``with`` statement are applied to the inset figure.\n"
      ]
    },
    {
      "cell_type": "code",
      "execution_count": null,
      "metadata": {
        "collapsed": false
      },
      "outputs": [],
      "source": [
        "import pygmt\n\nfig = pygmt.Figure()\n# Create the primary figure, setting the region to Madagascar, the land color\n# to \"brown\", the water to \"lightblue\", the shorelines width to \"thin\", and\n# adding a frame\nfig.coast(region=\"MG+r2\", land=\"brown\", water=\"lightblue\", shorelines=\"thin\", frame=\"a\")\n# Create an inset, setting the position to top left, the width to 3.5 cm, and\n# the x- and y-offsets to 0.2 cm. The margin is set to 0, and the border is\n# \"gold\" with a pen size of 1.5p.\nwith fig.inset(position=\"jTL+w3.5c+o0.2c\", margin=0, box=\"+p1.5p,gold\"):\n    # Create a figure in the inset using coast. This example uses the azimuthal\n    # orthogonal projection centered at 47E, 20S. The land color is set to\n    # \"gray\" and Madagascar is highlighted in \"red3\".\n    fig.coast(\n        region=\"g\",\n        projection=\"G47/-20/?\",\n        land=\"gray\",\n        water=\"white\",\n        dcw=\"MG+gred3\",\n    )\nfig.show()"
      ]
    }
  ],
  "metadata": {
    "kernelspec": {
      "display_name": "Python 3",
      "language": "python",
      "name": "python3"
    },
    "language_info": {
      "codemirror_mode": {
        "name": "ipython",
        "version": 3
      },
      "file_extension": ".py",
      "mimetype": "text/x-python",
      "name": "python",
      "nbconvert_exporter": "python",
      "pygments_lexer": "ipython3",
      "version": "3.11.3"
    }
  },
  "nbformat": 4,
  "nbformat_minor": 0
}