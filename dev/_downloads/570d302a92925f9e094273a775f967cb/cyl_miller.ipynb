{
  "cells": [
    {
      "cell_type": "markdown",
      "metadata": {},
      "source": [
        "\n# Miller cylindrical\n\nThis cylindrical projection, presented by Osborn Maitland Miller of the\nAmerican Geographic Society in 1942, is neither equal nor conformal. All\nmeridians and parallels are straight lines. The projection was designed to be a\ncompromise between Mercator and other cylindrical projections. Specifically,\nMiller spaced the parallels by using Mercator\u2019s formula with 0.8 times the\nactual latitude, thus avoiding the singular poles; the result was then divided\nby 0.8.\n\n**j**\\ [*lon0/*]\\ */scale* or **J**\\ [*lon0/*]\\ */width*\n\nThe projection is set with **j** or **J**. The central meridian is set by the\noptional *lon0*, and the figure size is set with *scale* or *width*.\n"
      ]
    },
    {
      "cell_type": "code",
      "execution_count": null,
      "metadata": {
        "collapsed": false
      },
      "outputs": [],
      "source": [
        "import pygmt\n\nfig = pygmt.Figure()\nfig.coast(\n    region=[-180, 180, -80, 80],\n    projection=\"J-65/12c\",\n    land=\"khaki\",\n    water=\"azure\",\n    shorelines=\"thinnest\",\n    frame=\"afg\",\n)\nfig.show()"
      ]
    }
  ],
  "metadata": {
    "kernelspec": {
      "display_name": "Python 3",
      "language": "python",
      "name": "python3"
    },
    "language_info": {
      "codemirror_mode": {
        "name": "ipython",
        "version": 3
      },
      "file_extension": ".py",
      "mimetype": "text/x-python",
      "name": "python",
      "nbconvert_exporter": "python",
      "pygments_lexer": "ipython3",
      "version": "3.11.3"
    }
  },
  "nbformat": 4,
  "nbformat_minor": 0
}