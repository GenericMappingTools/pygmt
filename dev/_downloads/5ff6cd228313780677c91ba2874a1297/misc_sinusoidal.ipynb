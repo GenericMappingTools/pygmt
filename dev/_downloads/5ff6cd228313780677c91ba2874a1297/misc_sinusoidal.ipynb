{
  "cells": [
    {
      "cell_type": "markdown",
      "metadata": {},
      "source": [
        "\n# Sinusoidal\n\nThe sinusoidal projection is one of the oldest known projections, is\nequal-area, and has been used since the mid-16th century. It has also been\ncalled the \"Equal-area Mercator\" projection. The central meridian is a straight\nline; all other meridians are sinusoidal curves. Parallels are all equally\nspaced straight lines, with scale being true along all parallels (and central\nmeridian).\n\n**i**\\ [*lon0/*]\\ *scale* or **I**\\ [*lon0/*]\\ *width*\n\nThe projection is set with **i** or **I**. The central meridian is set with the\noptional *lon0*, and the figure size is set with *scale* or *width*.\n"
      ]
    },
    {
      "cell_type": "code",
      "execution_count": null,
      "metadata": {
        "collapsed": false
      },
      "outputs": [],
      "source": [
        "import pygmt\n\nfig = pygmt.Figure()\n# Use region \"d\" to specify global region (-180/180/-90/90)\nfig.coast(region=\"d\", projection=\"I12c\", land=\"coral4\", water=\"azure3\", frame=\"afg\")\nfig.show()"
      ]
    }
  ],
  "metadata": {
    "kernelspec": {
      "display_name": "Python 3",
      "language": "python",
      "name": "python3"
    },
    "language_info": {
      "codemirror_mode": {
        "name": "ipython",
        "version": 3
      },
      "file_extension": ".py",
      "mimetype": "text/x-python",
      "name": "python",
      "nbconvert_exporter": "python",
      "pygments_lexer": "ipython3",
      "version": "3.11.3"
    }
  },
  "nbformat": 4,
  "nbformat_minor": 0
}