{
  "cells": [
    {
      "cell_type": "markdown",
      "metadata": {},
      "source": [
        "\n# Line segment caps and joints\nPyGMT offers different appearances of line segment caps and joints. The desired\nappearance can be set via the GMT default parameters :gmt-term:`PS_LINE_CAP`\n(``\"butt\"``, ``\"round\"``, or ``\"square\"`` [Default]) as well as :gmt-term:`PS_LINE_JOIN`\n(``\"bevel\"``, ``\"round\"``, and ``\"miter\"`` [Default]) and :gmt-term:`PS_MITER_LIMIT`\n(limit on the angle at the mitered joint below which a bevel is applied).\n"
      ]
    },
    {
      "cell_type": "code",
      "execution_count": null,
      "metadata": {
        "collapsed": false
      },
      "outputs": [],
      "source": [
        "import numpy as np\nimport pygmt\n\n# Set up dictionary for colors\ndict_col = {\n    \"round\": \"green4\",\n    \"square\": \"steelblue\",\n    \"butt\": \"orange\",\n    \"miter\": \"steelblue\",\n    \"bevel\": \"orange\",\n}\n\n# Create new Figure instance\nfig = pygmt.Figure()\n\n# -----------------------------------------------------------------------------\n# Top: PS_LINE_CAP\n\n# Create sample data\nx = np.array([30, 170])\ny = np.array([70, 70])\n\nfig.basemap(region=[0, 260, 0, 100], projection=\"x1p\", frame=\"rltb\")\n\nfor line_cap in [\"butt\", \"round\", \"square\"]:\n    # Change GMT default locally\n    with pygmt.config(PS_LINE_CAP=line_cap):\n        color = dict_col[line_cap]\n        # Draw a 10-point thick line with 20-point long segments and gaps\n        # Use the local PS_LINE_CAP setting\n        fig.plot(x=x, y=y, pen=f\"10p,{color},20_20\")\n\n    # Draw a 1-point thick black solid line to highlight segment cap appearance\n    fig.plot(x=x, y=y, pen=\"1p,black,solid\")\n    # Plot data points as circles\n    fig.plot(x=x, y=y, style=\"c0.1c\", fill=\"white\", pen=\"0.5p,\")\n    # Add label for PS_LINE_CAP setting\n    fig.text(text=line_cap, x=x[-1] + 20, y=y[-1], justify=\"LM\")\n\n    y = y - 20\n\nfig.shift_origin(yshift=\"-h\")\n\n# -----------------------------------------------------------------------------\n# Bottom: PS_LINE_JOIN and PS_MITER_LIMIT\n\nx = np.array([5, 95, 65])\ny = np.array([10, 70, 10])\n\nfig.basemap(region=[0, 260, 0, 100], projection=\"x1p\", frame=\"rltb\")\n\nfor line_join in [\"bevel\", \"round\", \"miter\"]:\n    with pygmt.config(PS_LINE_JOIN=line_join, PS_MITER_LIMIT=1):\n        color = dict_col[line_join]\n        # Draw a 7-point thick solid line\n        # Use the local PS_LINE_JOIN and PS_MITER_LIMIT settings\n        fig.plot(x=x, y=y, pen=f\"7p,{color},solid\")\n\n    fig.plot(x=x, y=y, pen=\"1p,black,solid\")\n    fig.plot(x=x, y=y, style=\"c0.1c\", fill=\"white\", pen=\"0.5p\")\n    fig.text(text=line_join, x=x[1] - 10, y=y[1], justify=\"RB\")\n\n    x = x + 75\n\nfig.show()"
      ]
    }
  ],
  "metadata": {
    "kernelspec": {
      "display_name": "Python 3",
      "language": "python",
      "name": "python3"
    },
    "language_info": {
      "codemirror_mode": {
        "name": "ipython",
        "version": 3
      },
      "file_extension": ".py",
      "mimetype": "text/x-python",
      "name": "python",
      "nbconvert_exporter": "python",
      "pygments_lexer": "ipython3",
      "version": "3.12.2"
    }
  },
  "nbformat": 4,
  "nbformat_minor": 0
}