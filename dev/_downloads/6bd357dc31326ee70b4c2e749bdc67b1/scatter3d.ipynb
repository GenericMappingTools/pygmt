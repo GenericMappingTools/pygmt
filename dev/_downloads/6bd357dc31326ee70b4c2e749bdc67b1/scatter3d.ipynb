{
  "cells": [
    {
      "cell_type": "code",
      "execution_count": null,
      "metadata": {
        "collapsed": false
      },
      "outputs": [],
      "source": [
        "%matplotlib inline"
      ]
    },
    {
      "cell_type": "markdown",
      "metadata": {},
      "source": [
        "\n# 3D Scatter plots\n\nThe :meth:`pygmt.Figure.plot3d` method can be used to plot symbols in 3D.\nIn the example below, we show how the\n`Iris flower dataset <https://en.wikipedia.org/wiki/Iris_flower_data_set>`__\ncan be visualized using a perspective 3D plot. The ``region``\nparameter has to include the $x$, $y$, $z$ axis limits in the\nform of (xmin, xmax, ymin, ymax, zmin, zmax), which can be done automatically\nusing :meth:`pygmt.info`. To plot the z-axis frame, set ``frame`` as a\nminimum to something like ``frame=[\"WsNeZ\", \"zaf\"]``. Use ``perspective`` to\ncontrol the azimuth and elevation angle of the view, and ``zscale`` to adjust\nthe vertical exaggeration factor.\n"
      ]
    },
    {
      "cell_type": "code",
      "execution_count": null,
      "metadata": {
        "collapsed": false
      },
      "outputs": [],
      "source": [
        "import pandas as pd\nimport pygmt\n\n# Load sample iris data\ndf = pd.read_csv(\"https://github.com/mwaskom/seaborn-data/raw/master/iris.csv\")\n# Convert 'species' column to categorical dtype\n# By default, pandas sorts the individual categories in an alphabetical order.\n# For a non-alphabetical order, you have to manually adjust the list of\n# categories. For handling and manipulating categorical data in pandas,\n# have a look at:\n# https://pandas.pydata.org/docs/user_guide/categorical.html\ndf.species = df.species.astype(dtype=\"category\")\n# Make a list of the individual categories of the 'species' column\n# ['setosa', 'versicolor', 'virginica']\n# They are (corresponding to the categorical number code) by default in\n# alphabetical order and later used for the colorbar labels\nlabels = list(df.species.cat.categories)\n\n# Use pygmt.info to get region bounds (xmin, xmax, ymin, ymax, zmin, zmax)\n# The below example will return a numpy array [0.0, 3.0, 4.0, 8.0, 1.0, 7.0]\nregion = pygmt.info(\n    data=df[[\"petal_width\", \"sepal_length\", \"petal_length\"]],  # x, y, z columns\n    per_column=True,  # report the min/max values per column as a numpy array\n    # round the min/max values of the first three columns to the nearest\n    # multiple of 1, 2 and 0.5, respectively\n    spacing=(1, 2, 0.5),\n)\n\n# Make a 3D scatter plot, coloring each of the 3 species differently\nfig = pygmt.Figure()\n\n# Define a colormap to be used for three categories, define the range of the\n# new discrete CPT using series=(lowest_value, highest_value, interval),\n# use color_model=\"+csetosa,versicolor,virginica\" to write the discrete color\n# palette \"cubhelix\" in categorical format and add the species names as\n# annotations for the colorbar\npygmt.makecpt(\n    cmap=\"cubhelix\",\n    # Use the minimum and maximum of the categorical number code\n    # to set the lowest_value and the highest_value of the CPT\n    series=(df.species.cat.codes.min(), df.species.cat.codes.max(), 1),\n    # convert ['setosa', 'versicolor', 'virginica'] to\n    # 'setosa,versicolor,virginica'\n    color_model=\"+c\" + \",\".join(labels),\n)\n\nfig.plot3d(\n    # Use petal width, sepal length and petal length as x, y and z data input,\n    # respectively\n    x=df.petal_width,\n    y=df.sepal_length,\n    z=df.petal_length,\n    # Vary each symbol size according to another feature (sepal width, scaled\n    # by 0.1)\n    size=0.1 * df.sepal_width,\n    # Use 3D cubes (\"u\") as symbols, with size in centimeter units (\"c\")\n    style=\"uc\",\n    # Points colored by categorical number code\n    color=df.species.cat.codes.astype(int),\n    # Use colormap created by makecpt\n    cmap=True,\n    # Set map dimensions (xmin, xmax, ymin, ymax, zmin, zmax)\n    region=region,\n    # Set frame parameters\n    frame=[\n        'WsNeZ3+t\"Iris flower data set\"',  # z axis label positioned on 3rd corner, add title\n        'xafg+l\"Petal Width (cm)\"',\n        'yafg+l\"Sepal Length (cm)\"',\n        'zafg+l\"Petal Length (cm)\"',\n    ],\n    # Set perspective to azimuth NorthWest (315\u00b0), at elevation 25\u00b0\n    perspective=[315, 25],\n    # Vertical exaggeration factor\n    zscale=1.5,\n)\n\n# Add colorbar legend\nfig.colorbar(xshift=3.1)\n\nfig.show()"
      ]
    }
  ],
  "metadata": {
    "kernelspec": {
      "display_name": "Python 3",
      "language": "python",
      "name": "python3"
    },
    "language_info": {
      "codemirror_mode": {
        "name": "ipython",
        "version": 3
      },
      "file_extension": ".py",
      "mimetype": "text/x-python",
      "name": "python",
      "nbconvert_exporter": "python",
      "pygments_lexer": "ipython3",
      "version": "3.10.5"
    }
  },
  "nbformat": 4,
  "nbformat_minor": 0
}