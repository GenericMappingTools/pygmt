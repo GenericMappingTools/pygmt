{
  "cells": [
    {
      "cell_type": "code",
      "execution_count": null,
      "metadata": {
        "collapsed": false
      },
      "outputs": [],
      "source": [
        "%matplotlib inline"
      ]
    },
    {
      "cell_type": "markdown",
      "metadata": {},
      "source": [
        "\n# Polar\n\nPolar projections allow plotting polar coordinate data (e.g. angle\n$\\theta$ and radius *r*).\n\nThe full syntax for polar projections is:\n\n**P**\\ *width*\\ [**+a**]\\ [**+f**\\ [**e**\\|\\ **p**\\|\\ *radius*]]\\\n[**+r**\\ *offset*][**+t**\\ *origin*][**+z**\\ [**p**\\|\\ *radius*]]\n\nLimits are set via the ``region`` parameter\n([*theta_min*, *theta_max*, *radius_min*, *radius_max*]). When using\n**P**\\ *width* you have to give the *width* of the figure. The lower-case\nversion **p** is similar to **P** but expects a *scale* instead of\na width (**p**\\ *scale*).\n\nThe following customizing modifiers are available:\n\n- **+a**: by default, $\\theta$ refers to the angle that is equivalent to\n  a counterclockwise rotation with respect to the east direction (standard\n  definition); **+a** indicates that the input data is rotated clockwise\n  relative to the north direction (geographical azimuth angle).\n\n- **+r**\\ *offset*: represents the offset of the r axis. This modifier allows\n  you to offset the center of the circle from r=0.\n\n- **+t**\\ *origin*: sets the angle corresponding to the east direction which is\n  equivalent to rotating the entire coordinate axis clockwise; if the **+a**\n  modifier is used, setting the angle corresponding to the north direction is\n  equivalent to rotating the entire coordinate axis counterclockwise.\n\n- **+f**: reverses the radial direction.\n\n  - Append **e** to indicate that the r-axis is an elevation angle, and the\n    range of the r-axis should be between 0 and 90.\n  - Appending **p** sets the current earth radius (determined by\n    :gmt-term:`PROJ_ELLIPSOID`)\n    to the maximum value of the r axis when the r axis is reversed.\n  - Append *radius* to set the maximum value of the r axis.\n\n- **+z**: indicates that the r axis is marked as depth instead of radius (e.g.\n  *r = radius - z*).\n\n  - Append **p** to set radius to the current earth radius.\n  - Append *radius* to set the value of the radius.\n"
      ]
    },
    {
      "cell_type": "code",
      "execution_count": null,
      "metadata": {
        "collapsed": false
      },
      "outputs": [],
      "source": [
        "import pygmt\n\nfig = pygmt.Figure()\n\npygmt.config(FONT_TITLE=\"14p,Helvetica,black\", FORMAT_GEO_MAP=\"+D\")\n\n# ============\n\nfig.basemap(\n    # set map limits to theta_min = 0, theta_max = 360, radius_min = 0,\n    # radius_max = 1\n    region=[0, 360, 0, 1],\n    # set map width to 5 cm\n    projection=\"P5c\",\n    # set the frame and color\n    frame=[\"xa45f\", \"+gbisque\"],\n)\n\nfig.text(position=\"TC\", text=\"projection='P5c'\", offset=\"0/2.0c\", no_clip=True)\nfig.text(position=\"TC\", text=\"region=[0, 360, 0, 1]\", offset=\"0/1.5c\", no_clip=True)\n\nfig.shift_origin(xshift=\"8c\")\n\n# ============\nfig.basemap(\n    # set map limits to theta_min = 0, theta_max = 360, radius_min = 0,\n    # radius_max = 1\n    region=[0, 360, 0, 1],\n    # set map width to 5 cm and interpret input data as geographic azimuth\n    # instead of standard angle\n    projection=\"P5c+a\",\n    # set the frame and color\n    frame=[\"xa45f\", \"+gbisque\"],\n)\n\nfig.text(position=\"TC\", text=\"projection='P5c+a'\", offset=\"0/2.0c\", no_clip=True)\nfig.text(position=\"TC\", text=\"region=[0, 360, 0, 1]\", offset=\"0/1.5c\", no_clip=True)\n\nfig.shift_origin(xshift=\"8c\")\n\n# ============\nfig.basemap(\n    # set map limits to theta_min = 0, theta_max = 90, radius_min = 0,\n    # radius_max = 1\n    region=[0, 90, 0, 1],\n    # set map width to 5 cm and interpret input data as geographic azimuth\n    # instead of standard angle\n    projection=\"P5c+a\",\n    # set the frame and color\n    frame=[\"xa45f\", \"ya0.2\", \"WNe+gbisque\"],\n)\n\nfig.text(position=\"TC\", text=\"projection='P5c+a'\", offset=\"0/2.0c\", no_clip=True)\nfig.text(position=\"TC\", text=\"region=[0, 90, 0, 1]\", offset=\"0/1.5c\", no_clip=True)\n\nfig.shift_origin(xshift=\"-16c\", yshift=\"-7c\")\n\n# ============\nfig.basemap(\n    # set map limits to theta_min = 0, theta_max = 90, radius_min = 0,\n    # radius_max = 1\n    region=[0, 90, 0, 1],\n    # set map width to 5 cm and interpret input data as geographic azimuth\n    # instead of standard angle, rotate coordinate system counterclockwise by\n    # 45 degrees\n    projection=\"P5c+a+t45\",\n    # set the frame and color\n    frame=[\"xa30f\", \"ya0.2\", \"WNe+gbisque\"],\n)\n\nfig.text(position=\"TC\", text=r\"projection='P5c+a\\+t45'\", offset=\"0/2.0c\", no_clip=True)\nfig.text(position=\"TC\", text=\"region=[0, 90, 0, 1]\", offset=\"0/1.5c\", no_clip=True)\n\nfig.shift_origin(xshift=\"8c\", yshift=\"1.3c\")\n\n# ============\nfig.basemap(\n    # set map limits to theta_min = 0, theta_max = 90, radius_min = 3480,\n    # radius_max = 6371 (Earth's radius)\n    region=[0, 90, 3480, 6371],\n    # set map width to 5 cm and interpret input data as geographic azimuth\n    # instead of standard angle, rotate coordinate system counterclockwise by\n    # 45 degrees\n    projection=\"P5c+a+t45\",\n    # set the frame and color\n    frame=[\"xa30f\", \"ya\", \"WNse+gbisque\"],\n)\n\nfig.text(position=\"TC\", text=r\"projection='P5c+a\\+t45'\", offset=\"0/2.0c\", no_clip=True)\nfig.text(\n    position=\"TC\", text=\"region=[0, 90, 3480, 6371]\", offset=\"0/1.5c\", no_clip=True\n)\n\nfig.shift_origin(xshift=\"8c\")\n\n# ============\nfig.basemap(\n    # set map limits to theta_min = 0, theta_max = 90, radius_min = 3480,\n    # radius_max = 6371 (Earth's radius)\n    region=[0, 90, 3480, 6371],\n    # set map width to 5 cm and interpret input data as geographic azimuth\n    # instead of standard angle, rotate coordinate system counterclockwise by\n    # 45 degrees, r axis is marked as depth\n    projection=\"P5c+a+t45+z\",\n    # set the frame and color\n    frame=[\"xa30f\", \"ya\", \"WNse+gbisque\"],\n)\n\nfig.text(\n    position=\"TC\", text=r\"projection='P5c+a\\+t45+z'\", offset=\"0/2.0c\", no_clip=True\n)\nfig.text(\n    position=\"TC\", text=\"region=[0, 90, 3480, 6371]\", offset=\"0/1.5c\", no_clip=True\n)\n\nfig.show()"
      ]
    }
  ],
  "metadata": {
    "kernelspec": {
      "display_name": "Python 3",
      "language": "python",
      "name": "python3"
    },
    "language_info": {
      "codemirror_mode": {
        "name": "ipython",
        "version": 3
      },
      "file_extension": ".py",
      "mimetype": "text/x-python",
      "name": "python",
      "nbconvert_exporter": "python",
      "pygments_lexer": "ipython3",
      "version": "3.10.5"
    }
  },
  "nbformat": 4,
  "nbformat_minor": 0
}