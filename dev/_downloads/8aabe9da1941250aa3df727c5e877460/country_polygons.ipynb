{
  "cells": [
    {
      "cell_type": "markdown",
      "metadata": {},
      "source": [
        "\n# Highlight country, continent and state polygons\n\nThe :meth:`pygmt.Figure.coast` method can highlight country polygons via the ``dcw``\nparameter. It accepts the country code (following the 2-letter\n[ISO 3166-1 alpha-2 convention](https://en.wikipedia.org/wiki/ISO_3166-1_alpha-2)) or\nfull country name and can draw its borders and add a color to its landmass. It's also\npossible to define multiple countries at once by separating the individual names with\ncommas.\n"
      ]
    },
    {
      "cell_type": "code",
      "execution_count": null,
      "metadata": {
        "collapsed": false
      },
      "outputs": [],
      "source": [
        "import pygmt\n\nfig = pygmt.Figure()\n\nfig.coast(\n    region=[-12, 32, 34, 72],\n    # Lambert Azimuthal Equal Area lon0/lat0/horizon/width\n    projection=\"A10/52/25/6c\",\n    land=\"gray\",\n    water=\"white\",\n    frame=\"afg\",\n    dcw=[\n        # Great Britain (country code) with seagreen land\n        \"GB+gseagreen\",\n        # Italy with a red border\n        \"IT+p0.5p,red3\",\n        # Spain with a magenta dashed border\n        \"ES+p0.5p,magenta4,-\",\n        # Romania with a black dotted border\n        \"RO+p0.75p,black,.\",\n        # Germany with orange land and a blue border\n        \"DE+gorange+p0.5p,dodgerblue4\",\n        # France (full country name) with a steelblue border\n        \"France+p0.5p,steelblue\",\n        # Norway, Sweden and Finland (multiple countries) with pink\n        # land and pink3 borders\n        \"Norway,Sweden,Finland+gpink+p0.2p,pink3\",\n    ],\n)\n\nfig.show()"
      ]
    },
    {
      "cell_type": "markdown",
      "metadata": {},
      "source": [
        "Entire continents can also be highlighted by adding ``\"=\"`` in\nfront of the continent code to differentiate it from a country code.\n\n"
      ]
    },
    {
      "cell_type": "code",
      "execution_count": null,
      "metadata": {
        "collapsed": false
      },
      "outputs": [],
      "source": [
        "fig = pygmt.Figure()\n\nfig.coast(\n    region=\"d\",\n    projection=\"H10c\",\n    land=\"gray\",\n    water=\"white\",\n    frame=\"afg\",\n    dcw=[\n        # Europe\n        \"=EU+gseagreen\",\n        # Africa\n        \"=AF+gred3\",\n        # North America\n        \"=NA+gmagenta4\",\n        # South America\n        \"=SA+gorange\",\n        # Asia\n        \"=AS+gdodgerblue4\",\n        # Oceania\n        \"=OC+gtomato\",\n        # Antarctica\n        \"=AN+ggray30\",\n    ],\n)\n\nfig.show()"
      ]
    },
    {
      "cell_type": "markdown",
      "metadata": {},
      "source": [
        "If available, states/territories of a country can be highlighted, too.\n\n"
      ]
    },
    {
      "cell_type": "code",
      "execution_count": null,
      "metadata": {
        "collapsed": false
      },
      "outputs": [],
      "source": [
        "fig = pygmt.Figure()\n\nfig.coast(\n    region=[-130, -70, 24, 52],\n    projection=\"L-100/35/33/45/12c\",\n    land=\"gray\",\n    shorelines=\"1/0.5p,gray30\",\n    borders=[\"1/0.8p,gray30\", \"2/0.2p,gray30\"],\n    frame=True,\n    dcw=[\n        # Texas with orange fill\n        \"US.TX+gorange\",\n        # Kentucky with blue outline\n        \"US.KY+p1p,blue\",\n    ],\n)\n\nfig.show()"
      ]
    }
  ],
  "metadata": {
    "kernelspec": {
      "display_name": "Python 3",
      "language": "python",
      "name": "python3"
    },
    "language_info": {
      "codemirror_mode": {
        "name": "ipython",
        "version": 3
      },
      "file_extension": ".py",
      "mimetype": "text/x-python",
      "name": "python",
      "nbconvert_exporter": "python",
      "pygments_lexer": "ipython3",
      "version": "3.13.9"
    }
  },
  "nbformat": 4,
  "nbformat_minor": 0
}