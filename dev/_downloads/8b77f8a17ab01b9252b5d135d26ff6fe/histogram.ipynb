{
  "cells": [
    {
      "cell_type": "code",
      "execution_count": null,
      "metadata": {
        "collapsed": false
      },
      "outputs": [],
      "source": [
        "%matplotlib inline"
      ]
    },
    {
      "cell_type": "markdown",
      "metadata": {},
      "source": [
        "\n# Histogram\nThe :meth:`pygmt.Figure.histogram` method can plot regular histograms.\nUsing the ``series`` parameter allows to set the interval for the width of\neach bar. The type of histogram (frequency count or percentage) can be\nselected via the ``histtype`` parameter.\n"
      ]
    },
    {
      "cell_type": "code",
      "execution_count": null,
      "metadata": {
        "collapsed": false
      },
      "outputs": [],
      "source": [
        "import numpy as np\nimport pygmt\n\nnp.random.seed(100)\n\n# generate random elevation data from a normal distribution\nmean = 100  # mean of distribution\nstddev = 25  # standard deviation of distribution\ndata = mean + stddev * np.random.randn(521)\n\nfig = pygmt.Figure()\n\nfig.histogram(\n    data=data,\n    # define the frame, add title and set background color to\n    # lightgray, add annotations for x and y axis\n    frame=['WSne+t\"Histogram\"+glightgray', 'x+l\"Elevation (m)\"', 'y+l\"Counts\"'],\n    # generate evenly spaced bins by increments of 5\n    series=5,\n    # use red3 as color fill for the bars\n    fill=\"red3\",\n    # use a pen size of 1p to draw the outlines\n    pen=\"1p\",\n    # choose histogram type 0 = counts [default]\n    histtype=0,\n)\n\nfig.show()"
      ]
    }
  ],
  "metadata": {
    "kernelspec": {
      "display_name": "Python 3",
      "language": "python",
      "name": "python3"
    },
    "language_info": {
      "codemirror_mode": {
        "name": "ipython",
        "version": 3
      },
      "file_extension": ".py",
      "mimetype": "text/x-python",
      "name": "python",
      "nbconvert_exporter": "python",
      "pygments_lexer": "ipython3",
      "version": "3.10.5"
    }
  },
  "nbformat": 4,
  "nbformat_minor": 0
}