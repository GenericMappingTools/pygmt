{
  "cells": [
    {
      "cell_type": "code",
      "execution_count": null,
      "metadata": {
        "collapsed": false
      },
      "outputs": [],
      "source": [
        "%matplotlib inline"
      ]
    },
    {
      "cell_type": "markdown",
      "metadata": {},
      "source": [
        "\n# Universal Transverse Mercator\n\nA particular subset of the transverse Mercator is the Universal Transverse\nMercator (UTM) which was adopted by the US Army for large-scale military maps.\nHere, the globe is divided into 60 zones between 84\u00b0S and 84\u00b0N, most of which\nare 6 wide. Each of these UTM zones have their unique central meridian.\nFurthermore, each zone is divided into latitude bands but these are not needed\nto specify the projection for most cases.\n\nIn order to minimize the distortion in any given zone, a scale factor of 0.9996\nhas been factored into the formulae. This makes the UTM projection a secant\nprojection and not a tangent projection like the transverse Mercator above. The\nscale only varies by 1 part in 1,000 from true scale at equator. The\nellipsoidal projection expressions are accurate for map areas that extend less\nthan 10 away from the central meridian.\n\n**u**\\ *zone/scale* or **U**\\ *zone/width*\n\nthe projection is set with **u** or **U**. *zone* sets the zone for the figure,\nand the figure size is set with *scale* or *width*.\n"
      ]
    },
    {
      "cell_type": "code",
      "execution_count": null,
      "metadata": {
        "collapsed": false
      },
      "outputs": [],
      "source": [
        "import pygmt\n\nfig = pygmt.Figure()\n# UTM Zone is set to 52R\nfig.coast(\n    region=[127.5, 128.5, 26, 27],\n    projection=\"U52R/12c\",\n    land=\"lightgreen\",\n    water=\"lightblue\",\n    shorelines=\"thinnest\",\n    frame=\"afg\",\n)\nfig.show()"
      ]
    }
  ],
  "metadata": {
    "kernelspec": {
      "display_name": "Python 3",
      "language": "python",
      "name": "python3"
    },
    "language_info": {
      "codemirror_mode": {
        "name": "ipython",
        "version": 3
      },
      "file_extension": ".py",
      "mimetype": "text/x-python",
      "name": "python",
      "nbconvert_exporter": "python",
      "pygments_lexer": "ipython3",
      "version": "3.10.5"
    }
  },
  "nbformat": 4,
  "nbformat_minor": 0
}