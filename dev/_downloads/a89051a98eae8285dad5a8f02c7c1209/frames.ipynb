{
  "cells": [
    {
      "cell_type": "markdown",
      "metadata": {},
      "source": [
        "\n# Frames, ticks, titles, and labels\n\nSetting frame, ticks, title, etc., of the plot is handled by the ``frame``\nparameter that most plotting methods of the :class:`pygmt.Figure` class\ncontain.\n"
      ]
    },
    {
      "cell_type": "code",
      "execution_count": null,
      "metadata": {
        "collapsed": false
      },
      "outputs": [],
      "source": [
        "import pygmt"
      ]
    },
    {
      "cell_type": "markdown",
      "metadata": {},
      "source": [
        "## Plot frame\n\nBy default, PyGMT does not add a frame to your plot. For example, we can plot\nthe coastlines of the world with a Mercator projection:\n\n"
      ]
    },
    {
      "cell_type": "code",
      "execution_count": null,
      "metadata": {
        "collapsed": false
      },
      "outputs": [],
      "source": [
        "fig = pygmt.Figure()\nfig.coast(shorelines=\"1/0.5p\", region=[-180, 180, -60, 60], projection=\"M25c\")\nfig.show()"
      ]
    },
    {
      "cell_type": "markdown",
      "metadata": {},
      "source": [
        "To add the default GMT frame style to the plot, use ``frame=\"f\"`` in\n:meth:`pygmt.Figure.basemap` or another plotting method (which has the\n``frame`` parameter, with exception of :meth:`pygmt.Figure.colorbar`):\n\n"
      ]
    },
    {
      "cell_type": "code",
      "execution_count": null,
      "metadata": {
        "collapsed": false
      },
      "outputs": [],
      "source": [
        "fig = pygmt.Figure()\nfig.coast(shorelines=\"1/0.5p\", region=[-180, 180, -60, 60], projection=\"M25c\")\nfig.basemap(frame=\"f\")\nfig.show()"
      ]
    },
    {
      "cell_type": "markdown",
      "metadata": {},
      "source": [
        "## Ticks and grid lines\n\nThe automatic frame (``frame=True`` or ``frame=\"af\"``) adds the default GMT\nframe style and automatically determines tick labels from the plot region.\nIn GMT the tick labels are called **a**\\ nnotations.\n\n"
      ]
    },
    {
      "cell_type": "code",
      "execution_count": null,
      "metadata": {
        "collapsed": false
      },
      "outputs": [],
      "source": [
        "fig = pygmt.Figure()\nfig.coast(shorelines=\"1/0.5p\", region=[-180, 180, -60, 60], projection=\"M25c\")\nfig.basemap(frame=\"af\")\nfig.show()"
      ]
    },
    {
      "cell_type": "markdown",
      "metadata": {},
      "source": [
        "Add automatic grid lines to the plot by passing ``g`` through the ``frame``\nparameter:\n\n"
      ]
    },
    {
      "cell_type": "code",
      "execution_count": null,
      "metadata": {
        "collapsed": false
      },
      "outputs": [],
      "source": [
        "fig = pygmt.Figure()\nfig.coast(shorelines=\"1/0.5p\", region=[-180, 180, -60, 60], projection=\"M25c\")\nfig.basemap(frame=\"ag\")\nfig.show()"
      ]
    },
    {
      "cell_type": "markdown",
      "metadata": {},
      "source": [
        "To adjust the step widths of annotations, frame, and grid lines we can\nadd the desired step widths after ``a``, ``f``, or ``g``. In the example\nbelow, the step widths are set to 30\u00b0, 7.5\u00b0, and 15\u00b0, respectively.\n\n"
      ]
    },
    {
      "cell_type": "code",
      "execution_count": null,
      "metadata": {
        "collapsed": false
      },
      "outputs": [],
      "source": [
        "fig = pygmt.Figure()\nfig.coast(shorelines=\"1/0.5p\", region=[-180, 180, -60, 60], projection=\"M25c\")\nfig.basemap(frame=\"a30f7.5g15\")\nfig.show()"
      ]
    },
    {
      "cell_type": "markdown",
      "metadata": {},
      "source": [
        "## Title\n\nThe figure title can be set by passing **+t**\\ *title* to the ``frame``\nparameter of :meth:`pygmt.Figure.basemap`. Passing multiple arguments to\n``frame`` can be done by using a list, as show in the example below.\n\n"
      ]
    },
    {
      "cell_type": "code",
      "execution_count": null,
      "metadata": {
        "collapsed": false
      },
      "outputs": [],
      "source": [
        "fig = pygmt.Figure()\n# region=\"TT\" specifies Trinidad and Tobago using the ISO country code\nfig.coast(shorelines=\"1/0.5p\", region=\"TT\", projection=\"M25c\")\nfig.basemap(frame=[\"a\", \"+tTrinidad and Tobago\"])\nfig.show()"
      ]
    },
    {
      "cell_type": "markdown",
      "metadata": {},
      "source": [
        "## Axis labels\n\nAxis labels, in GMT simply called labels, can be set by passing\n**x+l**\\ *label* (or starting with **y** if\nlabeling the y-axis) to the ``frame`` parameter of\n:meth:`pygmt.Figure.basemap`. The map boundaries (or plot axes) are named as\nWest/west/left (**W**, **w**, **l**), South/south/bottom\n(**S**, **s**, **b**), North/north/top (**N**, **n**, **t**), and\nEast/east/right (**E**, **e**, **r**) sides of a figure. If an upper-case\nletter (**W**, **S**, **N**, **E**) is passed, the axis is plotted with\ntick marks and annotations. The lower-case version\n(**w**, **s**, **n**, **e**) plots the axis only with tick marks.\nTo only plot the axis pass **l**, **b**, **t**, **r**. By default\n(``frame=True`` or ``frame=\"af\"``), the West and the South axes are\nplotted with both tick marks and annotations.\n\nThe example below uses a Cartesian projection, as GMT does not allow\nlabels to be set for geographic maps.\n\n"
      ]
    },
    {
      "cell_type": "code",
      "execution_count": null,
      "metadata": {
        "collapsed": false
      },
      "outputs": [],
      "source": [
        "fig = pygmt.Figure()\nfig.basemap(\n    region=[0, 10, 0, 20],\n    projection=\"X10c/8c\",\n    # Plot axis with tick marks, annotations, and labels on the\n    # West and South axes\n    # Plot axis with tick marks on the north and east axes\n    frame=[\"WSne\", \"xaf+lx-axis\", \"yaf+ly-axis\"],\n)\nfig.show()"
      ]
    }
  ],
  "metadata": {
    "kernelspec": {
      "display_name": "Python 3",
      "language": "python",
      "name": "python3"
    },
    "language_info": {
      "codemirror_mode": {
        "name": "ipython",
        "version": 3
      },
      "file_extension": ".py",
      "mimetype": "text/x-python",
      "name": "python",
      "nbconvert_exporter": "python",
      "pygments_lexer": "ipython3",
      "version": "3.11.3"
    }
  },
  "nbformat": 4,
  "nbformat_minor": 0
}