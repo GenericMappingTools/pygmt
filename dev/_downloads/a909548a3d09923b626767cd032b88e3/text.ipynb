{
  "cells": [
    {
      "cell_type": "markdown",
      "metadata": {},
      "source": [
        "\n# Plotting text\n\nIt is often useful to add text annotations to a plot or map. This is handled by the\n:meth:`pygmt.Figure.text` method of the :class:`pygmt.Figure` class.\n"
      ]
    },
    {
      "cell_type": "code",
      "execution_count": null,
      "metadata": {
        "collapsed": false
      },
      "outputs": [],
      "source": [
        "from pathlib import Path\n\nimport pygmt"
      ]
    },
    {
      "cell_type": "markdown",
      "metadata": {},
      "source": [
        "## Adding a single text label\n\nTo add a single text label to a plot, use the ``text`` and ``x`` and ``y`` parameters\nto specify the text and position.\n\n"
      ]
    },
    {
      "cell_type": "code",
      "execution_count": null,
      "metadata": {
        "collapsed": false
      },
      "outputs": [],
      "source": [
        "fig = pygmt.Figure()\nfig.basemap(region=[-5, 5, -5, 5], projection=\"X5c\", frame=True)\nfig.text(x=0, y=0, text=\"My text\")\nfig.show()"
      ]
    },
    {
      "cell_type": "markdown",
      "metadata": {},
      "source": [
        "## Adjusting the text label\n\nThere are several optional parameters to adjust the text label:\n\n* ``font``: Sets the size, family/weight, and color of the font for the text.\n  A list of all recognized fonts can be found at :doc:`/techref/fonts`.\n  For details of how to use non-default fonts, refer to\n  :gmt-docs:`PostScript Fonts Used by GMT <reference/postscript-fonts.html>`.\n* ``angle``: Specifies the rotation of the text. It is measured counter-clockwise\n  from the horizontal in degrees.\n* ``justify``: Defines the anchor point of the bounding box for the text. It is\n  specified by a two-letter (order independent) code, chosen from:\n\n  * Vertical: **T**\\(op), **M**\\(iddle), **B**\\(ottom)\n  * Horizontal: **L**\\(eft), **C**\\(entre), **R**\\(ight)\n\n* ``offset``: Shifts the text relatively to the reference point.\n\n"
      ]
    },
    {
      "cell_type": "code",
      "execution_count": null,
      "metadata": {
        "collapsed": false
      },
      "outputs": [],
      "source": [
        "fig = pygmt.Figure()\n\n# -----------------------------------------------------------------------------\n# Left: \"font\", \"angle\", and \"offset\" parameters\nfig.basemap(region=[-5, 5, -5, 5], projection=\"X5c\", frame=\"rtlb\")\n\n# Change font size, family/weight, color of the text\nfig.text(x=0, y=3, text=\"my text\", font=\"12p,Helvetica-Bold,blue\")\n\n# Rotate the text by 30 degrees counter-clockwise from the horizontal\nfig.text(x=0, y=0, text=\"my text\", angle=30)\n\n# Plot marker and text label for reference\nfig.plot(x=0, y=-3, style=\"s0.2c\", fill=\"darkorange\", pen=\"0.7p,darkgray\")\nfig.text(x=0, y=-3, text=\"my text\")\n# Shift the text label relatively to the position given via the x and y parameters\n# by 1 centimeter to the right (positive x direction) and 0.5 centimeters down\n# (negative y direction)\nfig.text(x=0, y=-3, text=\"my text\", offset=\"1c/-0.5c\")\n\nfig.shift_origin(xshift=\"w+0.5c\")\n\n# -----------------------------------------------------------------------------\n# Right: \"justify\" parameter\nfig.basemap(region=[-1, 1, -1, 1], projection=\"X5c\", frame=\"rtlb\")\n\n# Plot markers for reference\nfig.plot(\n    x=[-0.5, 0, 0.5, -0.5, 0, 0.5, -0.5, 0, 0.5],\n    y=[0.5, 0.5, 0.5, 0, 0, 0, -0.5, -0.5, -0.5],\n    style=\"s0.2c\",\n    fill=\"darkorange\",\n    pen=\"0.7p,darkgray\",\n)\n\n# Plot text labels at the x and y positions of the markers while varying the anchor\n# point via the justify parameter\nfig.text(x=-0.5, y=0.5, text=\"TL\", justify=\"TL\")  # TopLeft\nfig.text(x=0, y=0.5, text=\"TC\", justify=\"TC\")  # TopCenter\nfig.text(x=0.5, y=0.5, text=\"TR\", justify=\"TR\")  # TopRight\nfig.text(x=-0.5, y=0, text=\"ML\", justify=\"ML\")  # MiddleLeft\nfig.text(x=0, y=0, text=\"MC\", justify=\"MC\")  # MiddleCenter\nfig.text(x=0.5, y=0, text=\"MR\", justify=\"MR\")  # MiddleRight\nfig.text(x=-0.5, y=-0.5, text=\"BL\", justify=\"BL\")  # BottomLeft\nfig.text(x=0, y=-0.5, text=\"BC\", justify=\"BC\")  # BottomCenter\nfig.text(x=0.5, y=-0.5, text=\"BR\", justify=\"BR\")  # BottomRight\n\nfig.show()"
      ]
    },
    {
      "cell_type": "markdown",
      "metadata": {},
      "source": [
        "## Adding a text box\n\nThere are different optional parameters to add and customize a text box:\n\n* ``fill``: Fills the text box with a color.\n* ``pen``: Outlines the text box.\n* ``clearance``: Adds margins in x and y directions between the text and the outline\n  of the text box. Can be used to get a text box with rounded edges.\n\n"
      ]
    },
    {
      "cell_type": "code",
      "execution_count": null,
      "metadata": {
        "collapsed": false
      },
      "outputs": [],
      "source": [
        "fig = pygmt.Figure()\n\nfig.basemap(region=[-5, 5, -5, 5], projection=\"X5c\", frame=\"rtlb\")\n\n# Add a box with a fill in green color\nfig.text(x=0, y=3, text=\"My text\", fill=\"green\")\n\n# Add box with a seagreen, 1-point thick, solid outline\nfig.text(x=0, y=1, text=\"My text\", pen=\"1p,seagreen,solid\")\n\n# Add margins between the text and the outline of the text box of 0.1\n# centimeters in x direction and 0.2 centimeters in y direction\nfig.text(x=0, y=-1, text=\"My text\", pen=\"1p,seagreen,dashed\", clearance=\"0.1c/0.2c\")\n\n# Get rounded edges by passing \"+tO\" to the \"clearance\" parameter\nfig.text(x=0, y=-3, text=\"My text\", pen=\"1p,seagreen,solid\", clearance=\"0.2c/0.2c+tO\")\n\nfig.show()"
      ]
    },
    {
      "cell_type": "markdown",
      "metadata": {},
      "source": [
        "## Adding multiple text labels with individual configurations\n\nTo add multiple text labels with individual ``font``, ``angle``, and ``justify``,\none can provide lists with the corresponding arguments.\n\n"
      ]
    },
    {
      "cell_type": "code",
      "execution_count": null,
      "metadata": {
        "collapsed": false
      },
      "outputs": [],
      "source": [
        "fig = pygmt.Figure()\nfig.basemap(region=[-5, 5, -5, 5], projection=\"X5c\", frame=True)\n\nfig.text(\n    x=[0, 0, 0],\n    y=[3, 2, -2],\n    font=[\"5p,Helvetica,black\", \"5p,Helvetica,blue\", \"6p,Courier-Bold,red\"],\n    angle=[0, 0, 30],\n    justify=[\"CM\", \"LT\", \"CM\"],\n    text=[\n        \"black text with justify='CM'\",\n        \"blue text with justify='LT'\",\n        \"red text with angle=30\",\n    ],\n)\n\nfig.show()"
      ]
    },
    {
      "cell_type": "markdown",
      "metadata": {},
      "source": [
        "## Using an external input file\n\nIt is also possible to add text labels via an external input file containing ``x``,\n``y``, and ``text`` columns. Addionaly, columns to set the ``angle``, ``front``,\nand ``justify`` parameters can be provided. Here, we give a complete example.\n\n"
      ]
    },
    {
      "cell_type": "code",
      "execution_count": null,
      "metadata": {
        "collapsed": false
      },
      "outputs": [],
      "source": [
        "fig = pygmt.Figure()\nfig.basemap(region=[108, 121, -5, 8], projection=\"M10c\", frame=\"a2f1\")\nfig.coast(land=\"darkgray\", water=\"steelblue\", shorelines=\"1/0.1p,gray30\")\n\n# Create space-delimited file with region / sea names:\n# - longitude (x) and latitude (y) coordinates are in the first two columns\n# - angle, font, and justify muss be present in this order in the next three columns\n# - the text to be printed is given in the last column\nwith Path.open(\"examples.txt\", \"w\") as f:\n    f.write(\"114.00  0.50   0 15p,Helvetica-Bold,white CM BORNEO\\n\")\n    f.write(\"119.00  3.25   0  8p,Helvetica-Bold,black CM CELEBES SEA\\n\")\n    f.write(\"112.00 -4.60   0  8p,Helvetica-Bold,black CM JAVA SEA\\n\")\n    f.write(\"112.00  6.00  40  8p,Helvetica-Bold,black CM SOUTH CHINA SEA\\n\")\n    f.write(\"119.12  7.25 -40  8p,Helvetica-Bold,black CM SULU SEA\\n\")\n    f.write(\"118.40 -1.00  65  8p,Helvetica-Bold,black CM MAKASSAR STRAIT\\n\")\n\n# Setting the angle, font, and justify parameters to True indicates that those columns\n# are present in the text file\nfig.text(textfiles=\"examples.txt\", angle=True, font=True, justify=True)\n\n# Cleanups\nPath(\"examples.txt\").unlink()\n\nfig.show()"
      ]
    },
    {
      "cell_type": "markdown",
      "metadata": {},
      "source": [
        "## Using the position parameter\n\nInstead of using the ``x`` and ``y`` parameters, the ``position`` parameter can be\nspecified to set the reference point for the text on the plot. As for the ``justify``\nparameter, the ``position`` parameter is specified by a two-letter (order independent)\ncode, chosen from:\n\n* Vertical: **T**\\(op), **M**\\(iddle), **B**\\(ottom)\n* Horizontal: **L**\\(eft), **C**\\(entre), **R**\\(ight)\n\nThis can be helpful to add a tag to a subplot or text labels out of the plot or map\nframe, e.g., for depth slices.\n\n"
      ]
    },
    {
      "cell_type": "code",
      "execution_count": null,
      "metadata": {
        "collapsed": false
      },
      "outputs": [],
      "source": [
        "fig = pygmt.Figure()\n\n# -----------------------------------------------------------------------------\n# Left: Add a tag to a subplot\nfig.basemap(region=[-5, 5, -5, 5], projection=\"X5c\", frame=[\"WStr\", \"af\"])\n\nfig.text(\n    text=\"(a)\",\n    position=\"TL\",  # Top Left\n    justify=\"TL\",  # Top Left\n    offset=\"0.1c/-0.1c\",\n)\n\nfig.shift_origin(xshift=\"w+1c\")\n\n# -----------------------------------------------------------------------------\n# Right: Add a text label outside of the plot or map frame\nfig.basemap(region=[-30, 30, 10, 60], projection=\"L0/35/23/47/5c\", frame=[\"wSnE\", \"af\"])\n\nfig.text(\n    text=\"@@100 km\",  # \"@@\" gives \"@\" in GMT or PyGMT\n    position=\"TC\",  # Top Center\n    justify=\"MC\",  # Middle Center\n    offset=\"0c/0.2c\",\n    no_clip=True,  # Allow plotting outside of the map or plot frame\n)\n\nfig.show()"
      ]
    },
    {
      "cell_type": "markdown",
      "metadata": {},
      "source": [
        "## Advanced configuration\n\nFor crafting more advanced styles, including using special symbols and other character\nsets, be sure to check out the GMT documentation at :gmt-docs:`text.html` and also the\nTechnical References at :gmt-docs:`reference/features.html#placement-of-text`. Good\nluck!\n\n"
      ]
    }
  ],
  "metadata": {
    "kernelspec": {
      "display_name": "Python 3",
      "language": "python",
      "name": "python3"
    },
    "language_info": {
      "codemirror_mode": {
        "name": "ipython",
        "version": 3
      },
      "file_extension": ".py",
      "mimetype": "text/x-python",
      "name": "python",
      "nbconvert_exporter": "python",
      "pygments_lexer": "ipython3",
      "version": "3.13.2"
    }
  },
  "nbformat": 4,
  "nbformat_minor": 0
}