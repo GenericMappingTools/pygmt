{
  "cells": [
    {
      "cell_type": "markdown",
      "metadata": {},
      "source": [
        "\n# 2. Create a contour map\n\nThis tutorial page covers the basics of creating a figure of Earth relief,\nusing a remote dataset hosted by GMT, using the method\n:meth:`pygmt.datasets.load_earth_relief`. It will use\n:meth:`pygmt.Figure.grdimage`, :meth:`pygmt.Figure.grdcontour`,\n:meth:`pygmt.Figure.colorbar`, and :meth:`pygmt.Figure.coast` methods for\nplotting.\n"
      ]
    },
    {
      "cell_type": "code",
      "execution_count": null,
      "metadata": {
        "collapsed": false
      },
      "outputs": [],
      "source": [
        "import pygmt"
      ]
    },
    {
      "cell_type": "markdown",
      "metadata": {},
      "source": [
        "## Loading the Earth relief dataset\n\nThe first step is to use :meth:`pygmt.datasets.load_earth_relief`.\nThe ``resolution`` parameter sets the resolution of the remote grid file,\nwhich will affect the resolution of the plot made later in the tutorial.\nThe ``registration`` parameter determines the grid registration.\n\nThis grid region covers the islands of Guam and Rota in the western Pacific\nOcean.\n\n"
      ]
    },
    {
      "cell_type": "code",
      "execution_count": null,
      "metadata": {
        "collapsed": false
      },
      "outputs": [],
      "source": [
        "grid = pygmt.datasets.load_earth_relief(\n    resolution=\"30s\", region=[144.5, 145.5, 13, 14.5], registration=\"gridline\"\n)"
      ]
    },
    {
      "cell_type": "markdown",
      "metadata": {},
      "source": [
        "## Plotting Earth relief\n\nTo plot Earth relief data, the method :meth:`pygmt.Figure.grdimage` can be\nused to plot a color-coded figure to display the topography and bathymetry\nin the grid file. The ``grid`` parameter accepts the input grid, which in\nthis case is the remote file downloaded in the previous step. If the\n``region`` parameter is not set, the region boundaries of the input grid are\nused.\n\nThe ``cmap`` parameter sets the color palette table (CPT) used for\nportraying Earth relief. The :meth:`pygmt.Figure.grdimage` method uses the\ninput grid to apply Earth relief values to a specific color within the CPT.\nIn this case, the CPT used is \"oleron\"; a full list of CPTs can be found\nat :gmt-docs:`cookbook/cpts.html`.\n\n"
      ]
    },
    {
      "cell_type": "code",
      "execution_count": null,
      "metadata": {
        "collapsed": false
      },
      "outputs": [],
      "source": [
        "fig = pygmt.Figure()\nfig.grdimage(grid=grid, frame=\"a\", projection=\"M10c\", cmap=\"oleron\")\nfig.show()"
      ]
    },
    {
      "cell_type": "markdown",
      "metadata": {},
      "source": [
        "## Adding a colorbar\n\nTo show how the plotted colors relate to the Earth relief, a colorbar can be\nadded using the :meth:`pygmt.Figure.colorbar` method.\n\nTo control the labels on the colorbar, a list is passed to the ``frame``\nparameter. The value beginning with \"a\" sets the interval for annotation on\nthe colorbar, in this case every 1,000 meters. To set the label for an axis\non the colorbar, the value begins with either \"x+l\" (x-axis) or \"y+l\"\n(y-axis), followed by the intended label.\n\nBy default, the CPT for the colorbar is the same as the one set\nin :meth:`pygmt.Figure.grdimage`.\n\n"
      ]
    },
    {
      "cell_type": "code",
      "execution_count": null,
      "metadata": {
        "collapsed": false
      },
      "outputs": [],
      "source": [
        "fig = pygmt.Figure()\nfig.grdimage(grid=grid, frame=\"a\", projection=\"M10c\", cmap=\"oleron\")\nfig.colorbar(frame=[\"a1000\", \"x+lElevation\", \"y+lm\"])\nfig.show()"
      ]
    },
    {
      "cell_type": "markdown",
      "metadata": {},
      "source": [
        "## Adding contour lines\n\nTo add contour lines to the color coded figured, the\n:meth:`pygmt.Figure.grdcontour` method is used. The ``frame`` and\n``projection`` are already set using :meth:`pygmt.Figure.grdimage` and are\nnot needed again. However, the same input for ``grid`` (in this case, the\nvariable named \"grid\") must be input again. The ``interval`` parameter sets\nthe spacing between lines (in this case, 500 meters), and the ``annotation``\nparameter draws darker lines that are annotated with the elevation or\nbathymetry.\n\n"
      ]
    },
    {
      "cell_type": "code",
      "execution_count": null,
      "metadata": {
        "collapsed": false
      },
      "outputs": [],
      "source": [
        "fig = pygmt.Figure()\nfig.grdimage(grid=grid, frame=\"a\", projection=\"M10c\", cmap=\"oleron\")\nfig.grdcontour(grid=grid, interval=500, annotation=1000)\nfig.colorbar(frame=[\"a1000\", \"x+lElevation (m)\"])\nfig.show()"
      ]
    },
    {
      "cell_type": "markdown",
      "metadata": {},
      "source": [
        "## Color in land\n\nTo make it clear where the islands are located, the\n:meth:`pygmt.Figure.coast` method can be used to color in the land. The\n``land`` is colored in as \"lightgray\", and the ``shorelines`` parameters\ndraws a border around the islands.\n\n"
      ]
    },
    {
      "cell_type": "code",
      "execution_count": null,
      "metadata": {
        "collapsed": false
      },
      "outputs": [],
      "source": [
        "fig = pygmt.Figure()\nfig.grdimage(grid=grid, frame=\"a\", projection=\"M10c\", cmap=\"oleron\")\nfig.grdcontour(grid=grid, interval=500, annotation=1000)\nfig.coast(shorelines=\"2p\", land=\"lightgray\")\nfig.colorbar(frame=[\"a1000\", \"x+lElevation (m)\"])\nfig.show()"
      ]
    },
    {
      "cell_type": "markdown",
      "metadata": {},
      "source": [
        "## Additional exercises\n\nThis is the end of the second tutorial. Here are some additional exercises\nfor the concepts that were discussed:\n\n1. Change the resolution of the grid file to either \"01m\" (1 arc-minute, a\n   lower resolution) or \"15s\" (15 arc-seconds, a higher resolution). Note\n   that higher resolution grids will have larger file sizes. Available\n   resolutions can be found [here](https://www.generic-mapping-tools.org/\n   remote-datasets/earth-relief.html#usage).\n\n2. Create a contour map of the area around Mt. Rainier. A suggestion for the\n   ``region`` would be ``[-122, -121, 46.5, 47.5]``. Adjust the\n   :meth:`pygmt.Figure.grdcontour` and :meth:`pygmt.Figure.colorbar`\n   settings as needed to make the figure look good.\n\n3. Create a contour map of S\u00e3o Miguel Island in the Azores; a suggested\n   ``region`` is ``[-26, -25, 37.5, 38]``. Instead of coloring in ``land``,\n   set ``water`` to \"lightblue\" to only display Earth relief information for\n   the land.\n\n4. Try other CPTs, such as \"SCM/fes\" or \"geo\".\n\n"
      ]
    }
  ],
  "metadata": {
    "kernelspec": {
      "display_name": "Python 3",
      "language": "python",
      "name": "python3"
    },
    "language_info": {
      "codemirror_mode": {
        "name": "ipython",
        "version": 3
      },
      "file_extension": ".py",
      "mimetype": "text/x-python",
      "name": "python",
      "nbconvert_exporter": "python",
      "pygments_lexer": "ipython3",
      "version": "3.11.3"
    }
  },
  "nbformat": 4,
  "nbformat_minor": 0
}