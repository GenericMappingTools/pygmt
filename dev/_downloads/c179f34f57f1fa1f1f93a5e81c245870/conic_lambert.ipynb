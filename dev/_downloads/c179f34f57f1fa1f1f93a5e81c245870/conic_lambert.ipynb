{
  "cells": [
    {
      "cell_type": "markdown",
      "metadata": {},
      "source": [
        "\n# Lambert conic conformal projection\n\nThis conic projection was designed by the Alsatian mathematician Johann\nHeinrich Lambert (1772) and has been used extensively for mapping of regions\nwith predominantly east-west orientation, just like the Albers projection.\nUnlike the Albers projection, Lambert's conformal projection is not equal-area.\nThe parallels are arcs of circles with a common origin, and meridians are the\nequally spaced radii of these circles. As with Albers projection, it is only\nthe two standard parallels that are distortion-free.\n\n**l**\\ *lon0/lat0*\\ /\\ *lat1/lat2*\\ */scale*\nor **L**\\ *lon0/lat0*\\ /\\ *lat1/lat2*\\ */width*\n\nThe projection is set with **l** or **L**. The projection center is set by\n*lon0/lat0* and two standard parallels for the map are set with *lat1/lat2*.\nThe figure size is set with *scale* or *width*.\n"
      ]
    },
    {
      "cell_type": "code",
      "execution_count": null,
      "metadata": {
        "collapsed": false
      },
      "outputs": [],
      "source": [
        "import pygmt\n\nfig = pygmt.Figure()\nfig.coast(\n    region=[-130, -70, 24, 52],\n    projection=\"L-100/35/33/45/12c\",\n    frame=\"afg\",\n    land=\"seagreen\",\n    water=\"gray90\",\n)\n\nfig.show()"
      ]
    }
  ],
  "metadata": {
    "kernelspec": {
      "display_name": "Python 3",
      "language": "python",
      "name": "python3"
    },
    "language_info": {
      "codemirror_mode": {
        "name": "ipython",
        "version": 3
      },
      "file_extension": ".py",
      "mimetype": "text/x-python",
      "name": "python",
      "nbconvert_exporter": "python",
      "pygments_lexer": "ipython3",
      "version": "3.13.1"
    }
  },
  "nbformat": 4,
  "nbformat_minor": 0
}