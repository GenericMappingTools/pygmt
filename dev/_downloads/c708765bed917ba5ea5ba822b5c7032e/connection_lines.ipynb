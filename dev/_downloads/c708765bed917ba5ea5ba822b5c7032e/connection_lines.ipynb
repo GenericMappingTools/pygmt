{
  "cells": [
    {
      "cell_type": "markdown",
      "metadata": {},
      "source": [
        "\n# Connection lines\n\nThe ``connection`` parameter of the :meth:`pygmt.Figure.plot` method allows to plot\nconnection lines between a set of data points. Width, color, and style of the lines\ncan be adjusted via the ``pen`` parameter. The data points must be plotted separately\nusing the ``style`` parameter, with adjustments for the symbol fill and outline via\nthe ``fill`` and ``pen`` parameters, respectively.\n"
      ]
    },
    {
      "cell_type": "code",
      "execution_count": null,
      "metadata": {
        "collapsed": false
      },
      "outputs": [],
      "source": [
        "import pygmt\n\n# Set up same sample data\nx = [2.2, 3.3, -3.1, -3.7, -0.1]\ny = [1.8, -1.2, -0.9, -4.5, 4.5]\n\n# Create new Figure instance\nfig = pygmt.Figure()\n\n# -----------------------------------------------------------------------------\n# Left: record order\nfig.basemap(region=[-5, 5, -5, 5], projection=\"X6c\", frame=[\"WSne\", \"af\"])\n\n# Connect data points based on the record order [Default connection=None]\nfig.plot(x=x, y=y, pen=\"1.5p,dodgerblue\")\n# Plot data points\nfig.plot(x=x, y=y, style=\"c0.2c\", fill=\"green3\", pen=\"1.5p\")\n\nfig.shift_origin(xshift=\"w+0.5c\")\n\n# -----------------------------------------------------------------------------\n# Middle: network\nfig.basemap(region=[-5, 5, -5, 5], projection=\"X6c\", frame=[\"wSne\", \"af\"])\n\n# Connect data points as network\nfig.plot(x=x, y=y, pen=\"1.5p,dodgerblue\", connection=\"n\")\n# Plot data points\nfig.plot(x=x, y=y, style=\"c0.2c\", fill=\"green3\", pen=\"1.5p\")\n\nfig.shift_origin(xshift=\"w+0.5c\")\n\n# -----------------------------------------------------------------------------\n# Right: reference point\nfig.basemap(region=[-5, 5, -5, 5], projection=\"X6c\", frame=[\"wSne\", \"af\"])\n\n# Connect data points with the reference point (0,0)\nfig.plot(x=x, y=y, pen=\"1.5p,dodgerblue\", connection=\"p0/0\")\n# Plot data points\nfig.plot(x=x, y=y, style=\"c0.2c\", fill=\"green3\", pen=\"1.5p\")\n# Plot reference point\nfig.plot(x=0, y=0, style=\"s0.3c\", fill=\"gold\", pen=\"1.5p\")\n\nfig.show()"
      ]
    }
  ],
  "metadata": {
    "kernelspec": {
      "display_name": "Python 3",
      "language": "python",
      "name": "python3"
    },
    "language_info": {
      "codemirror_mode": {
        "name": "ipython",
        "version": 3
      },
      "file_extension": ".py",
      "mimetype": "text/x-python",
      "name": "python",
      "nbconvert_exporter": "python",
      "pygments_lexer": "ipython3",
      "version": "3.12.1"
    }
  },
  "nbformat": 4,
  "nbformat_minor": 0
}