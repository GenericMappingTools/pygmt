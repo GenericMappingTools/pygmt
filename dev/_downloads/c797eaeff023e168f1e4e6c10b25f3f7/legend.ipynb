{
  "cells": [
    {
      "cell_type": "markdown",
      "metadata": {},
      "source": [
        "\n# Legend\n\nThe :meth:`pygmt.Figure.legend` method can automatically create a legend for\nsymbols plotted using :meth:`pygmt.Figure.plot`. A legend entry is only added\nwhen the ``label`` parameter is used to state the desired text. Optionally,\nto adjust the legend, users can append different modifiers. A list of all\navailable modifiers can be found at :gmt-docs:`gmt.html#l-full`. To create a\nmultiple-column legend **+N** is used with the desired number of columns.\nFor more complicated legends, users may want to write an ASCII file with\ninstructions for the layout of the legend items and pass it to the ``spec``\nparameter of :meth:`pygmt.Figure.legend`. For details on how to set up such a\nfile, please see the GMT documentation at :gmt-docs:`legend.html#legend-codes`.\n"
      ]
    },
    {
      "cell_type": "code",
      "execution_count": null,
      "metadata": {
        "collapsed": false
      },
      "outputs": [],
      "source": [
        "import numpy as np\nimport pygmt\n\n# Set up some test data\nx = np.arange(-10, 10.2, 0.2)\ny1 = np.sin(x) + 1.1\ny2 = np.cos(x) + 1.1\ny3 = np.sin(x / 2) - 1.1\ny4 = np.cos(x / 2) - 1.1\n\n# Create new Figure() object\nfig = pygmt.Figure()\n\nfig.basemap(\n    projection=\"X10c/7c\",\n    region=[-10, 10, -3.5, 3.5],\n    frame=[\"WSne\", \"xaf+lx\", \"ya1f0.5+ly\"],\n)\n\n# -----------------------------------------------------------------------------\n# Top: Vertical legend (one column, default)\n\n# Use the label parameter to state the text label for the legend entry\nfig.plot(x=x, y=y1, pen=\"1p,green3\", label=\"sin(x)+1.1\")\n\nfig.plot(x=x, y=y2, style=\"c0.07c\", fill=\"dodgerblue\", label=\"cos(x)+1.1\")\n\n# Add a legend to the plot; place it within the plot bounding box with both\n# reference (\"J\") and anchor (\"+j\") points being the Top Right (TR) corner and an\n# offset of 0.2 centimeters in x- and y-directions; surround the legend with a box\nfig.legend(position=\"JTR+jTR+o0.2c\", box=True)\n\n# -----------------------------------------------------------------------------\n# Bottom: Horizontal legend (here two columns)\n\n# +N sets the number of columns corresponding to the given number, here 2\nfig.plot(x=x, y=y3, pen=\"1p,darkred,-\", label=\"sin(x/2)-1.1+N2\")\n\nfig.plot(x=x, y=y4, style=\"s0.07c\", fill=\"orange\", label=\"cos(x/2)-1.1\")\n\n# For a multi-column legend, users have to provide the width via \"+w\", here it is\n# set to 6 centimeters; reference and anchor points are the Bottom Right (BR) corner\nfig.legend(position=\"JBR+jBR+o0.2c+w6c\", box=True)\n\nfig.show()"
      ]
    }
  ],
  "metadata": {
    "kernelspec": {
      "display_name": "Python 3",
      "language": "python",
      "name": "python3"
    },
    "language_info": {
      "codemirror_mode": {
        "name": "ipython",
        "version": 3
      },
      "file_extension": ".py",
      "mimetype": "text/x-python",
      "name": "python",
      "nbconvert_exporter": "python",
      "pygments_lexer": "ipython3",
      "version": "3.13.9"
    }
  },
  "nbformat": 4,
  "nbformat_minor": 0
}