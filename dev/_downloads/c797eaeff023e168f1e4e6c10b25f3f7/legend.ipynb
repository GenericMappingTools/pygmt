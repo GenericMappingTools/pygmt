{
  "cells": [
    {
      "cell_type": "code",
      "execution_count": null,
      "metadata": {
        "collapsed": false
      },
      "outputs": [],
      "source": [
        "%matplotlib inline"
      ]
    },
    {
      "cell_type": "markdown",
      "metadata": {},
      "source": [
        "\n# Legend\n\nThe :meth:`pygmt.Figure.legend` method can automatically create a legend for\nsymbols plotted using :meth:`pygmt.Figure.plot`. Legend entries are only\ncreated when the ``label`` parameter is used.\n"
      ]
    },
    {
      "cell_type": "code",
      "execution_count": null,
      "metadata": {
        "collapsed": false
      },
      "outputs": [],
      "source": [
        "import pygmt\n\nfig = pygmt.Figure()\n\nfig.basemap(projection=\"x1i\", region=[0, 7, 3, 7], frame=True)\n\nfig.plot(\n    data=\"@Table_5_11.txt\",\n    style=\"c0.15i\",\n    color=\"lightgreen\",\n    pen=\"faint\",\n    label=\"Apples\",\n)\nfig.plot(data=\"@Table_5_11.txt\", pen=\"1.5p,gray\", label=\"My lines\")\nfig.plot(data=\"@Table_5_11.txt\", style=\"t0.15i\", color=\"orange\", label=\"Oranges\")\n\nfig.legend(position=\"JTR+jTR+o0.2c\", box=True)\n\nfig.show()"
      ]
    }
  ],
  "metadata": {
    "kernelspec": {
      "display_name": "Python 3",
      "language": "python",
      "name": "python3"
    },
    "language_info": {
      "codemirror_mode": {
        "name": "ipython",
        "version": 3
      },
      "file_extension": ".py",
      "mimetype": "text/x-python",
      "name": "python",
      "nbconvert_exporter": "python",
      "pygments_lexer": "ipython3",
      "version": "3.10.5"
    }
  },
  "nbformat": 4,
  "nbformat_minor": 0
}