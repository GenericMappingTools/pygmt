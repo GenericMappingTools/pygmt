{
  "cells": [
    {
      "cell_type": "code",
      "execution_count": null,
      "metadata": {
        "collapsed": false
      },
      "outputs": [],
      "source": [
        "%matplotlib inline"
      ]
    },
    {
      "cell_type": "markdown",
      "metadata": {},
      "source": [
        "\n# Blockmean\nThe :meth:`pygmt.blockmean` method calculates different quantities\ninside blocks/bins whose dimensions are defined via the ``spacing`` parameter.\nThe following examples show how to calculate the averages of the given values\ninside each bin and how to report the number of points inside each bin.\n"
      ]
    },
    {
      "cell_type": "code",
      "execution_count": null,
      "metadata": {
        "collapsed": false
      },
      "outputs": [],
      "source": [
        "import pygmt\n\n# Load sample data\ndata = pygmt.datasets.load_sample_data(name=\"japan_quakes\")\n# Select only needed columns\ndata = data[[\"longitude\", \"latitude\", \"depth_km\"]]\n\n# Set the region for the plot\nregion = [130, 152.5, 32.5, 52.5]\n# Define spacing in x and y direction (150 by 150 minute blocks)\nspacing = \"150m\"\n\nfig = pygmt.Figure()\n\n# Calculate mean depth in km from all events within 150x150 minute\n# bins using blockmean\ndf = pygmt.blockmean(data=data, region=region, spacing=spacing)\n# convert to grid\ngrd = pygmt.xyz2grd(data=df, region=region, spacing=spacing)\n\nfig.grdimage(\n    grid=grd,\n    region=region,\n    frame=[\"af\", '+t\"Mean earthquake depth inside each block\"'],\n    cmap=\"batlow\",\n)\n# plot slightly transparent landmasses on top\nfig.coast(land=\"darkgray\", transparency=40)\n# plot original data points\nfig.plot(\n    x=data.longitude, y=data.latitude, style=\"c0.3c\", color=\"white\", pen=\"1p,black\"\n)\nfig.colorbar(frame=[\"x+lkm\"])\n\nfig.shift_origin(xshift=\"w+5c\")\n\n# Calculate number of total locations within 150x150 minute bins via\n# blockmean's summary parameter\ndf = pygmt.blockmean(data=data, region=region, spacing=spacing, summary=\"n\")\ngrd = pygmt.xyz2grd(data=df, region=region, spacing=spacing)\n\nfig.grdimage(\n    grid=grd,\n    region=region,\n    frame=[\"af\", '+t\"Number of points inside each block\"'],\n    cmap=\"batlow\",\n)\nfig.coast(land=\"darkgray\", transparency=40)\nfig.plot(\n    x=data.longitude, y=data.latitude, style=\"c0.3c\", color=\"white\", pen=\"1p,black\"\n)\nfig.colorbar(frame=[\"x+lcount\"])\n\nfig.show()"
      ]
    }
  ],
  "metadata": {
    "kernelspec": {
      "display_name": "Python 3",
      "language": "python",
      "name": "python3"
    },
    "language_info": {
      "codemirror_mode": {
        "name": "ipython",
        "version": 3
      },
      "file_extension": ".py",
      "mimetype": "text/x-python",
      "name": "python",
      "nbconvert_exporter": "python",
      "pygments_lexer": "ipython3",
      "version": "3.10.5"
    }
  },
  "nbformat": 4,
  "nbformat_minor": 0
}