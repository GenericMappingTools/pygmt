{
  "cells": [
    {
      "cell_type": "code",
      "execution_count": null,
      "metadata": {
        "collapsed": false
      },
      "outputs": [],
      "source": [
        "%matplotlib inline"
      ]
    },
    {
      "cell_type": "markdown",
      "metadata": {},
      "source": [
        "\n# Robinson\n\nThe Robinson projection, presented by the American geographer and cartographer\nArthur H. Robinson in 1963, is a modified cylindrical projection that is\nneither conformal nor equal-area. Central meridian and all parallels are\nstraight lines; other meridians are curved. It uses lookup tables rather than\nanalytic expressions to make the world map \"look\" right 22. The scale is true\nalong latitudes 38. The projection was originally developed for use by Rand\nMcNally and is currently used by the National Geographic Society.\n\n**n**\\ [*lon0/*]\\ *scale* or **N**\\ [*lon0/*]\\ *width*\n\nThe projection is set with **n** or **N**. The central meridian is set with the\noptional *lon0*, and the figure size is set with *scale* or *width*.\n"
      ]
    },
    {
      "cell_type": "code",
      "execution_count": null,
      "metadata": {
        "collapsed": false
      },
      "outputs": [],
      "source": [
        "import pygmt\n\nfig = pygmt.Figure()\n# Use region \"d\" to specify global region (-180/180/-90/90)\nfig.coast(region=\"d\", projection=\"N12c\", land=\"goldenrod\", water=\"snow2\", frame=\"afg\")\nfig.show()"
      ]
    }
  ],
  "metadata": {
    "kernelspec": {
      "display_name": "Python 3",
      "language": "python",
      "name": "python3"
    },
    "language_info": {
      "codemirror_mode": {
        "name": "ipython",
        "version": 3
      },
      "file_extension": ".py",
      "mimetype": "text/x-python",
      "name": "python",
      "nbconvert_exporter": "python",
      "pygments_lexer": "ipython3",
      "version": "3.10.5"
    }
  },
  "nbformat": 4,
  "nbformat_minor": 0
}