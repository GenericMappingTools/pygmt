{
  "cells": [
    {
      "cell_type": "markdown",
      "metadata": {},
      "source": [
        "\n# Setting the region\n\nMany of the plotting methods take the ``region`` parameter, which sets the\narea that will be shown in the figure. This tutorial covers the different types\nof inputs that it can accept.\n"
      ]
    },
    {
      "cell_type": "code",
      "execution_count": null,
      "metadata": {
        "collapsed": false
      },
      "outputs": [],
      "source": [
        "import pygmt"
      ]
    },
    {
      "cell_type": "markdown",
      "metadata": {},
      "source": [
        "## Coordinates\n\nA string of coordinates can be passed to ``region``, in the form of\n*xmin*/*xmax*/*ymin*/*ymax*.\n\n"
      ]
    },
    {
      "cell_type": "code",
      "execution_count": null,
      "metadata": {
        "collapsed": false
      },
      "outputs": [],
      "source": [
        "fig = pygmt.Figure()\nfig.coast(\n    # Set the x-range from 10E to 20E and the y-range to 35N to 45N\n    region=\"10/20/35/45\",\n    # Set projection to Mercator, and the figure size to 15 centimeters\n    projection=\"M15c\",\n    # Set the color of the land to light gray\n    land=\"lightgray\",\n    # Set the color of the water to white\n    water=\"white\",\n    # Display the national borders and set the pen thickness to 0.5p\n    borders=\"1/0.5p\",\n    # Display the shorelines and set the pen thickness to 0.5p\n    shorelines=\"1/0.5p\",\n    # Set the frame to display annotations and gridlines\n    frame=\"ag\",\n)\nfig.show()"
      ]
    },
    {
      "cell_type": "markdown",
      "metadata": {},
      "source": [
        "The coordinates can be passed to ``region`` as a list, in the form of\n[*xmin*, *xmax*, *ymin*, *ymax*].\n\n"
      ]
    },
    {
      "cell_type": "code",
      "execution_count": null,
      "metadata": {
        "collapsed": false
      },
      "outputs": [],
      "source": [
        "fig = pygmt.Figure()\nfig.coast(\n    # Set the x-range from 10E to 20E and the y-range to 35N to 45N\n    region=[10, 20, 35, 45],\n    projection=\"M12c\",\n    land=\"lightgray\",\n    water=\"white\",\n    borders=\"1/0.5p\",\n    shorelines=\"1/0.5p\",\n    frame=\"ag\",\n)\nfig.show()"
      ]
    },
    {
      "cell_type": "markdown",
      "metadata": {},
      "source": [
        "Instead of passing axes minima and maxima, the coordinates can be passed for\nthe bottom-left and top-right corners. The string format takes the\ncoordinates for the bottom-left and top-right coordinates. To specify corner\ncoordinates, append **+r** at the end of the ``region`` string.\n\n"
      ]
    },
    {
      "cell_type": "code",
      "execution_count": null,
      "metadata": {
        "collapsed": false
      },
      "outputs": [],
      "source": [
        "fig = pygmt.Figure()\nfig.coast(\n    # Set the bottom-left corner as 10E, 35N and the top-right corner as\n    # 20E, 45N\n    region=\"10/35/20/45+r\",\n    projection=\"M12c\",\n    land=\"lightgray\",\n    water=\"white\",\n    borders=\"1/0.5p\",\n    shorelines=\"1/0.5p\",\n    frame=\"ag\",\n)\nfig.show()"
      ]
    },
    {
      "cell_type": "markdown",
      "metadata": {},
      "source": [
        "## Global regions\n\nIn addition to passing coordinates, the argument **d** can be passed to set\nthe region to the entire globe. The range is 180W to 180E (-180, 180) and 90S\nto 90N (-90 to 90). With no parameters set for the projection, the figure\ndefaults to be centered at the mid-point of both x- and y-axes. Using\n**d**\\ , the figure is centered at (0, 0), or the intersection of the equator\nand prime meridian.\n\n"
      ]
    },
    {
      "cell_type": "code",
      "execution_count": null,
      "metadata": {
        "collapsed": false
      },
      "outputs": [],
      "source": [
        "fig = pygmt.Figure()\nfig.coast(\n    region=\"d\",\n    projection=\"Cyl_stere/12c\",\n    land=\"darkgray\",\n    water=\"white\",\n    borders=\"1/0.5p\",\n    shorelines=\"1/0.5p\",\n    frame=\"ag\",\n)\nfig.show()"
      ]
    },
    {
      "cell_type": "markdown",
      "metadata": {},
      "source": [
        "The argument **g** can be passed, which encompasses the entire globe. The\nrange is 0E to 360E (0, 360) and 90S to 90N (-90 to 90). With no parameters\nset for the projection, the figure is centered at (180, 0), or the\nintersection of the equator and International Date Line.\n\n"
      ]
    },
    {
      "cell_type": "code",
      "execution_count": null,
      "metadata": {
        "collapsed": false
      },
      "outputs": [],
      "source": [
        "fig = pygmt.Figure()\nfig.coast(\n    region=\"g\",\n    projection=\"Cyl_stere/12c\",\n    land=\"darkgray\",\n    water=\"white\",\n    borders=\"1/0.5p\",\n    shorelines=\"1/0.5p\",\n    frame=\"ag\",\n)\nfig.show()"
      ]
    },
    {
      "cell_type": "markdown",
      "metadata": {},
      "source": [
        "## ISO code\n\nThe ``region`` can be set to include a specific area specified by the\ntwo-character ISO 3166-1 alpha-2 convention\n(for further information: https://en.wikipedia.org/wiki/ISO_3166-1_alpha-2).\n\n"
      ]
    },
    {
      "cell_type": "code",
      "execution_count": null,
      "metadata": {
        "collapsed": false
      },
      "outputs": [],
      "source": [
        "fig = pygmt.Figure()\nfig.coast(\n    # Set the figure region to encompass Japan with the ISO code \"JP\"\n    region=\"JP\",\n    projection=\"M12c\",\n    land=\"lightgray\",\n    water=\"white\",\n    borders=\"1/0.5p\",\n    shorelines=\"1/0.5p\",\n    frame=\"ag\",\n)\nfig.show()"
      ]
    },
    {
      "cell_type": "markdown",
      "metadata": {},
      "source": [
        "The area encompassed by the ISO code can be expanded by appending\n**+r**\\ *increment* to the ISO code. The *increment* unit is in degrees, and\nif only one value is added it expands the range of the region in all\ndirections. Using **+r** expands the final region boundaries to be multiples\nof *increment* .\n\n"
      ]
    },
    {
      "cell_type": "code",
      "execution_count": null,
      "metadata": {
        "collapsed": false
      },
      "outputs": [],
      "source": [
        "fig = pygmt.Figure()\nfig.coast(\n    # Expand the region boundaries to be multiples of 3 degrees in all\n    # directions\n    region=\"JP+r3\",\n    projection=\"M12c\",\n    land=\"lightgray\",\n    water=\"white\",\n    borders=\"1/0.5p\",\n    shorelines=\"1/0.5p\",\n    frame=\"ag\",\n)\nfig.show()"
      ]
    },
    {
      "cell_type": "markdown",
      "metadata": {},
      "source": [
        "Instead of expanding the range of the plot uniformly in all directions, two\nvalues can be passed to expand differently on each axis. The format is\n*xinc*/*yinc*.\n\n"
      ]
    },
    {
      "cell_type": "code",
      "execution_count": null,
      "metadata": {
        "collapsed": false
      },
      "outputs": [],
      "source": [
        "fig = pygmt.Figure()\nfig.coast(\n    # Expand the region boundaries to be multiples of 3 degrees on the x-axis\n    # and 5 degrees on the y-axis.\n    region=\"JP+r3/5\",\n    projection=\"M12c\",\n    land=\"lightgray\",\n    water=\"white\",\n    borders=\"1/0.5p\",\n    shorelines=\"1/0.5p\",\n    frame=\"ag\",\n)\nfig.show()"
      ]
    },
    {
      "cell_type": "markdown",
      "metadata": {},
      "source": [
        "Instead of expanding the range of the plot uniformly in all directions, four\nvalues can be passed to expand differently in each direction.\nThe format is *winc*/*einc*/*sinc*/*ninc*, which expands on the west,\neast, south, and north axes.\n\n"
      ]
    },
    {
      "cell_type": "code",
      "execution_count": null,
      "metadata": {
        "collapsed": false
      },
      "outputs": [],
      "source": [
        "fig = pygmt.Figure()\nfig.coast(\n    # Expand the region boundaries to be multiples of 3 degrees to the west, 5\n    # degrees to the east, 7 degrees to the south, and 9 degrees to the north.\n    region=\"JP+r3/5/7/9\",\n    projection=\"M12c\",\n    land=\"lightgray\",\n    water=\"white\",\n    borders=\"1/0.5p\",\n    shorelines=\"1/0.5p\",\n    frame=\"ag\",\n)\nfig.show()"
      ]
    },
    {
      "cell_type": "markdown",
      "metadata": {},
      "source": [
        "The ``region`` increment can be appended with **+R**, which adds the\nincrement without rounding.\n\n"
      ]
    },
    {
      "cell_type": "code",
      "execution_count": null,
      "metadata": {
        "collapsed": false
      },
      "outputs": [],
      "source": [
        "fig = pygmt.Figure()\nfig.coast(\n    # Expand the region setting outside the range of Japan by 3 degrees in all\n    # directions, without rounding to the nearest increment.\n    region=\"JP+R3\",\n    projection=\"M12c\",\n    land=\"lightgray\",\n    water=\"white\",\n    borders=\"1/0.5p\",\n    shorelines=\"1/0.5p\",\n    frame=\"ag\",\n)\nfig.show()"
      ]
    },
    {
      "cell_type": "markdown",
      "metadata": {},
      "source": [
        "The ``region`` increment can be appended with **+e**, which is like **+r**\nand expands the final region boundaries to be multiples of *increment*.\nHowever, it ensures that the bounding box extends by at least 0.25 times the\nincrement.\n\n"
      ]
    },
    {
      "cell_type": "code",
      "execution_count": null,
      "metadata": {
        "collapsed": false
      },
      "outputs": [],
      "source": [
        "fig = pygmt.Figure()\nfig.coast(\n    # Expand the region boundaries to be multiples of 3 degrees in all\n    # directions\n    region=\"JP+e3\",\n    projection=\"M12c\",\n    land=\"lightgray\",\n    water=\"white\",\n    borders=\"1/0.5p\",\n    shorelines=\"1/0.5p\",\n    frame=\"ag\",\n)\nfig.show()"
      ]
    }
  ],
  "metadata": {
    "kernelspec": {
      "display_name": "Python 3",
      "language": "python",
      "name": "python3"
    },
    "language_info": {
      "codemirror_mode": {
        "name": "ipython",
        "version": 3
      },
      "file_extension": ".py",
      "mimetype": "text/x-python",
      "name": "python",
      "nbconvert_exporter": "python",
      "pygments_lexer": "ipython3",
      "version": "3.11.3"
    }
  },
  "nbformat": 4,
  "nbformat_minor": 0
}