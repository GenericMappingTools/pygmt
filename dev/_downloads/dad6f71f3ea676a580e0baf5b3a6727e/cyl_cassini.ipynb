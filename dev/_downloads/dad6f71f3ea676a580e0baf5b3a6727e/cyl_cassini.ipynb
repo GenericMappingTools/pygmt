{
  "cells": [
    {
      "cell_type": "markdown",
      "metadata": {},
      "source": [
        "\n# Cassini Cylindrical\n\nThis cylindrical projection was developed in 1745 by C\u00e9sar-Fran\u00e7ois Cassini de\nThury for the survey of France. It is occasionally called Cassini-Soldner since\nthe latter provided the more accurate mathematical analysis that led to the\ndevelopment of the ellipsoidal formulae. The projection is neither conformal\nnor equal-area, and behaves as a compromise between the two end-members. The\ndistortion is zero along the central meridian. It is best suited for mapping\nregions of north-south extent. The central meridian, each meridian 90\u00b0 away,\nand equator are straight lines; all other meridians and parallels are complex\ncurves.\n\n**c**\\ *lon0/lat0*\\ */scale* or **C**\\ *lon0/lat0*\\ */width*\n\nThe projection is set with **c** or **C**. The projection center is set by\n*lon0/lat0*, and the figure size is set with *scale* or *width*.\n"
      ]
    },
    {
      "cell_type": "code",
      "execution_count": null,
      "metadata": {
        "collapsed": false
      },
      "outputs": [],
      "source": [
        "import pygmt\n\nfig = pygmt.Figure()\n# Use the ISO code for Madagascar (MG) and pad it by 2 degrees (+R2)\nfig.coast(projection=\"C47/-19/12c\", region=\"MG+R2\", frame=\"afg\", land=\"gray\", borders=1)\nfig.show()"
      ]
    }
  ],
  "metadata": {
    "kernelspec": {
      "display_name": "Python 3",
      "language": "python",
      "name": "python3"
    },
    "language_info": {
      "codemirror_mode": {
        "name": "ipython",
        "version": 3
      },
      "file_extension": ".py",
      "mimetype": "text/x-python",
      "name": "python",
      "nbconvert_exporter": "python",
      "pygments_lexer": "ipython3",
      "version": "3.11.3"
    }
  },
  "nbformat": 4,
  "nbformat_minor": 0
}