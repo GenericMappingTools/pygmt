{
  "cells": [
    {
      "cell_type": "markdown",
      "metadata": {},
      "source": [
        "\n# Plotting datetime charts\n\nPyGMT accepts a variety of datetime objects to plot data and create charts.\nAside from the built-in Python ``datetime`` object, PyGMT supports input using\nISO formatted strings, ``pandas``, ``xarray``, as well as ``numpy``.\nThese data types can be used to plot specific points as well as get\npassed into the ``region`` parameter to create a range of the data on an axis.\n\nThe following examples will demonstrate how to create plots\nusing the different datetime objects.\n"
      ]
    },
    {
      "cell_type": "code",
      "execution_count": null,
      "metadata": {
        "collapsed": false
      },
      "outputs": [],
      "source": [
        "import datetime\n\nimport numpy as np\nimport pandas as pd\nimport pygmt\nimport xarray as xr"
      ]
    },
    {
      "cell_type": "markdown",
      "metadata": {},
      "source": [
        "## Using Python's ``datetime``\n\nIn this example, Python's built-in ``datetime`` module is used\nto create data points stored in list ``x``. Additionally,\ndates are passed into the ``region`` parameter in the format\n``(x_start, x_end, y_start, y_end)``,\nwhere the date range is plotted on the x-axis.\nAn additional notable parameter is ``style``, where it's specified\nthat data points are to be plotted in an **X** shape with a size\nof 0.3 centimeters.\n\n\n"
      ]
    },
    {
      "cell_type": "code",
      "execution_count": null,
      "metadata": {
        "collapsed": false
      },
      "outputs": [],
      "source": [
        "x = [\n    datetime.date(2010, 6, 1),\n    datetime.date(2011, 6, 1),\n    datetime.date(2012, 6, 1),\n    datetime.date(2013, 6, 1),\n]\ny = [1, 2, 3, 5]\n\nfig = pygmt.Figure()\nfig.plot(\n    projection=\"X10c/5c\",\n    region=[datetime.date(2010, 1, 1), datetime.date(2014, 12, 1), 0, 6],\n    frame=[\"WSen\", \"afg\"],\n    x=x,\n    y=y,\n    style=\"x0.3c\",\n    pen=\"1p\",\n)\nfig.show()"
      ]
    },
    {
      "cell_type": "markdown",
      "metadata": {},
      "source": [
        "In addition to specifying the date, ``datetime`` supports the exact time at\nwhich the data points were recorded. Using :meth:`datetime.datetime` the\n``region`` parameter as well as data points can be created with both date and\ntime information.\n\nSome notable differences to the previous example include\n\n- Modifying ``frame`` to only include West (left) and South (bottom) borders,\n  and removing grid lines\n- Using circles to plot data points defined through ``c`` in ``style``\n  parameter\n\n"
      ]
    },
    {
      "cell_type": "code",
      "execution_count": null,
      "metadata": {
        "collapsed": false
      },
      "outputs": [],
      "source": [
        "x = [\n    datetime.datetime(2021, 1, 1, 3, 45, 1),\n    datetime.datetime(2021, 1, 1, 6, 15, 1),\n    datetime.datetime(2021, 1, 1, 13, 30, 1),\n    datetime.datetime(2021, 1, 1, 20, 30, 1),\n]\ny = [5, 3, 1, 2]\n\nfig = pygmt.Figure()\nfig.plot(\n    projection=\"X10c/5c\",\n    region=[\n        datetime.datetime(2021, 1, 1, 0, 0, 0),\n        datetime.datetime(2021, 1, 2, 0, 0, 0),\n        0,\n        6,\n    ],\n    frame=[\"WS\", \"af\"],\n    x=x,\n    y=y,\n    style=\"c0.4c\",\n    pen=\"1p\",\n    fill=\"blue\",\n)\nfig.show()"
      ]
    },
    {
      "cell_type": "markdown",
      "metadata": {},
      "source": [
        "## Using ISO Format\n\nIn addition to Python's ``datetime`` library, PyGMT also supports passing\ntimes in ISO format. Basic ISO strings are formatted as ``YYYY-MM-DD`` with\neach ``-`` delineated section marking the four digit year value, two digit\nmonth value, and two digit day value respectively.\n\nWhen including time of day into ISO strings, the ``T`` character is used, as\ncan be seen in the following example. This character is immediately followed\nby a string formatted as ``hh:mm:ss`` where each ``:`` delineated section\nmarking the two digit hour value, two digit minute value, and two digit\nsecond value respectively. The figure in the following example is plotted\nover a horizontal range of one year from 2016-01-01 to 2017-01-01.\n\n"
      ]
    },
    {
      "cell_type": "code",
      "execution_count": null,
      "metadata": {
        "collapsed": false
      },
      "outputs": [],
      "source": [
        "x = [\"2016-02-01\", \"2016-06-04T14\", \"2016-10-04T00:00:15\", \"2016-12-01T05:00:15\"]\ny = [1, 3, 5, 2]\nfig = pygmt.Figure()\nfig.plot(\n    projection=\"X10c/5c\",\n    region=[\"2016-01-01\", \"2017-01-01\", 0, 6],\n    frame=[\"WSen\", \"afg\"],\n    x=x,\n    y=y,\n    style=\"a0.45c\",\n    pen=\"1p\",\n    fill=\"dodgerblue\",\n)\nfig.show()"
      ]
    },
    {
      "cell_type": "markdown",
      "metadata": {},
      "source": [
        "PyGMT doesn't recognize non-ISO datetime strings like \"Jun 05, 2018\". If your\ndata contain non-ISO datetime strings, you can convert them to a recognized\nformat using :func:`pandas.to_datetime` and then pass it to PyGMT.\n\n\n"
      ]
    },
    {
      "cell_type": "markdown",
      "metadata": {},
      "source": [
        "## Mixing and matching Python ``datetime`` and ISO dates\n\nThe following example provides context on how both ``datetime`` and ISO date\ndata can be plotted using PyGMT. This can be helpful when dates and times are\ncoming from different sources, meaning conversions do not need to take place\nbetween ISO and datetime in order to create valid plots.\n\n"
      ]
    },
    {
      "cell_type": "code",
      "execution_count": null,
      "metadata": {
        "collapsed": false
      },
      "outputs": [],
      "source": [
        "x = [\"2020-02-01\", \"2020-06-04\", \"2020-10-04\", datetime.datetime(2021, 1, 15)]\ny = [1.3, 2.2, 4.1, 3]\nfig = pygmt.Figure()\nfig.plot(\n    projection=\"X10c/5c\",\n    region=[datetime.datetime(2020, 1, 1), datetime.datetime(2021, 3, 1), 0, 6],\n    frame=[\"WSen\", \"afg\"],\n    x=x,\n    y=y,\n    style=\"i0.4c\",\n    pen=\"1p\",\n    fill=\"yellow\",\n)\nfig.show()"
      ]
    },
    {
      "cell_type": "markdown",
      "metadata": {},
      "source": [
        "## Using :meth:`pandas.date_range`\n\nIn the following example, :func:`pandas.date_range` produces a list of\n:class:`pandas.DatetimeIndex` objects, which gets is used to pass date\ndata to the PyGMT figure.\nSpecifically ``x`` contains 7 different :class:`pandas.DatetimeIndex`\nobjects, with the number being manipulated by the ``periods`` parameter. Each\nperiod begins at the start of a business quarter as denoted by BQS when\npassed to the ``periods`` parameter. The initial date is the first argument\nthat is passed to :func:`pandas.date_range` and it marks the first data point\nin the list ``x`` that will be plotted.\n\n"
      ]
    },
    {
      "cell_type": "code",
      "execution_count": null,
      "metadata": {
        "collapsed": false
      },
      "outputs": [],
      "source": [
        "x = pd.date_range(\"2018-03-01\", periods=7, freq=\"BQS\")\ny = [4, 5, 6, 8, 6, 3, 5]\n\nfig = pygmt.Figure()\nfig.plot(\n    projection=\"X10c/10c\",\n    region=[datetime.datetime(2017, 12, 31), datetime.datetime(2019, 12, 31), 0, 10],\n    frame=[\"WSen\", \"ag\"],\n    x=x,\n    y=y,\n    style=\"i0.4c\",\n    pen=\"1p\",\n    fill=\"purple\",\n)\nfig.show()"
      ]
    },
    {
      "cell_type": "markdown",
      "metadata": {},
      "source": [
        "## Using :class:`xarray.DataArray`\n\nIn this example, instead of using a :func:`pandas.date_range`, ``x`` is\ninitialized as a list of :class:`xarray.DataArray` objects. This object\nprovides a wrapper around regular PyData formats. It also allows the data to\nhave labeled dimensions while supporting operations that use various pieces\nof metadata.The following code uses :func:`pandas.date_range` object to fill\nthe DataArray with data, but this is not essential for the creation of a\nvalid DataArray.\n\n"
      ]
    },
    {
      "cell_type": "code",
      "execution_count": null,
      "metadata": {
        "collapsed": false
      },
      "outputs": [],
      "source": [
        "x = xr.DataArray(data=pd.date_range(start=\"2020-01-01\", periods=4, freq=\"Q\"))\ny = [4, 7, 5, 6]\n\nfig = pygmt.Figure()\nfig.plot(\n    projection=\"X10c/10c\",\n    region=[datetime.datetime(2020, 1, 1), datetime.datetime(2021, 4, 1), 0, 10],\n    frame=[\"WSen\", \"ag\"],\n    x=x,\n    y=y,\n    style=\"n0.4c\",\n    pen=\"1p\",\n    fill=\"red\",\n)\nfig.show()"
      ]
    },
    {
      "cell_type": "markdown",
      "metadata": {},
      "source": [
        "## Using :class:`numpy.datetime64`\nIn this example, instead of using a :func:`pd.date_range`, ``x`` is\ninitialized as an ``np.array`` object. Similar to :class:`xarray.DataArray`\nthis wraps the dataset before passing it as a parameter. However,\n``np.array`` objects use less memory and allow developers to specify\ndatatypes.\n\n"
      ]
    },
    {
      "cell_type": "code",
      "execution_count": null,
      "metadata": {
        "collapsed": false
      },
      "outputs": [],
      "source": [
        "x = np.array([\"2010-06-01\", \"2011-06-01T12\", \"2012-01-01T12:34:56\"], dtype=\"datetime64\")\ny = [2, 7, 5]\n\nfig = pygmt.Figure()\nfig.plot(\n    projection=\"X10c/10c\",\n    region=[datetime.datetime(2010, 1, 1), datetime.datetime(2012, 6, 1), 0, 10],\n    frame=[\"WS\", \"ag\"],\n    x=x,\n    y=y,\n    style=\"s0.5c\",\n    pen=\"1p\",\n    fill=\"blue\",\n)\nfig.show()"
      ]
    },
    {
      "cell_type": "markdown",
      "metadata": {},
      "source": [
        "## Generating an automatic region\n\nAnother way of creating charts involving datetime data can be done\nby automatically generating the region of the plot. This can be done\nby passing the dataframe to :func:`pygmt.info`, which will find\nmaximum and minimum values for each column and create a list\nthat could be passed as region. Additionally, the ``spacing`` argument\ncan be passed to increase the range past the maximum and minimum\ndata points.\n\n"
      ]
    },
    {
      "cell_type": "code",
      "execution_count": null,
      "metadata": {
        "collapsed": false
      },
      "outputs": [],
      "source": [
        "data = [\n    [\"20200712\", 1000],\n    [\"20200714\", 1235],\n    [\"20200716\", 1336],\n    [\"20200719\", 1176],\n    [\"20200721\", 1573],\n    [\"20200724\", 1893],\n    [\"20200729\", 1634],\n]\ndf = pd.DataFrame(data, columns=[\"Date\", \"Score\"])\ndf.Date = pd.to_datetime(df[\"Date\"], format=\"%Y%m%d\")\n\nfig = pygmt.Figure()\nregion = pygmt.info(\n    data=df[[\"Date\", \"Score\"]], per_column=True, spacing=(700, 700), coltypes=\"T\"\n)\n\nfig.plot(\n    region=region,\n    projection=\"X15c/10c\",\n    frame=[\"WSen\", \"afg\"],\n    x=df.Date,\n    y=df.Score,\n    style=\"c0.4c\",\n    pen=\"1p\",\n    fill=\"green3\",\n)\n\nfig.show()"
      ]
    },
    {
      "cell_type": "markdown",
      "metadata": {},
      "source": [
        "## Setting Primary and Secondary Time Axes\n\nThis example focuses on labeling the axes and setting intervals\nat which the labels are expected to appear. All of these modifications\nare added to the ``frame`` parameter and each item in that list modifies\na specific section of the plot.\n\nStarting off with ``WS``, adding this string means that only\nWestern/Left (**W**) and Southern/Bottom (**S**) borders of\nthe plot will be shown. For more information on this, please\nrefer to :doc:`frame instructions </tutorials/basics/frames>`.\n\nThe other important item in the ``frame`` list is\n``\"sxa1Of1D\"``. This string modifies the secondary\nlabeling (**s**) of the x-axis (**x**). Specifically,\nit sets the main annotation and major tick spacing interval\nto one month (**a1O**) (capital letter o, not zero). Additionally,\nit sets the minor tick spacing interval to 1 day (**f1D**).\nThe labeling of this axis can be modified by setting\n:gmt-term:`FORMAT_DATE_MAP` to 'o' to use the month's\nname instead of its number. More information about configuring\ndate formats can be found on the\n:gmt-term:`official GMT documentation page <FORMAT_DATE_MAP>`.\n\n"
      ]
    },
    {
      "cell_type": "code",
      "execution_count": null,
      "metadata": {
        "collapsed": false
      },
      "outputs": [],
      "source": [
        "x = pd.date_range(\"2013-05-02\", periods=10, freq=\"2D\")\ny = [4, 5, 6, 8, 9, 5, 8, 9, 4, 2]\n\nfig = pygmt.Figure()\nwith pygmt.config(FORMAT_DATE_MAP=\"o\"):\n    fig.plot(\n        projection=\"X15c/10c\",\n        region=[datetime.datetime(2013, 5, 1), datetime.datetime(2013, 5, 25), 0, 10],\n        frame=[\"WS\", \"sxa1Of1D\", \"pxa5d\", \"sy+lLength\", \"pya1+ucm\"],\n        x=x,\n        y=y,\n        style=\"c0.4c\",\n        pen=\"1p\",\n        fill=\"green3\",\n    )\n\nfig.show()"
      ]
    },
    {
      "cell_type": "markdown",
      "metadata": {},
      "source": [
        "The same concept shown above can be applied to smaller\nas well as larger intervals. In this example,\ndata are plotted for different times throughout two days.\nPrimary x-axis labels are modified to repeat every 6 hours\nand secondary x-axis label repeats every day and shows\nthe day of the week.\n\nAnother notable mention in this example is\nsetting :gmt-term:`FORMAT_CLOCK_MAP` to \"-hhAM\"\nwhich specifies the format used for time.\nIn this case, leading zeros are removed\nusing (**-**), and only hours are displayed.\nAdditionally, an AM/PM system is being used\ninstead of a 24-hour system. More information about configuring\ntime formats can be found on the\n:gmt-term:`official GMT documentation page <FORMAT_CLOCK_MAP>`.\n\n"
      ]
    },
    {
      "cell_type": "code",
      "execution_count": null,
      "metadata": {
        "collapsed": false
      },
      "outputs": [],
      "source": [
        "x = pd.date_range(\"2021-04-15\", periods=8, freq=\"6H\")\ny = [2, 5, 3, 1, 5, 7, 9, 6]\n\nfig = pygmt.Figure()\nwith pygmt.config(FORMAT_CLOCK_MAP=\"-hhAM\"):\n    fig.plot(\n        projection=\"X15c/10c\",\n        region=[\n            datetime.datetime(2021, 4, 14, 23, 0, 0),\n            datetime.datetime(2021, 4, 17),\n            0,\n            10,\n        ],\n        frame=[\"WS\", \"sxa1K\", \"pxa6H\", \"sy+lSpeed\", \"pya1+ukm/h\"],\n        x=x,\n        y=y,\n        style=\"n0.4c\",\n        pen=\"1p\",\n        fill=\"lightseagreen\",\n    )\nfig.show()"
      ]
    }
  ],
  "metadata": {
    "kernelspec": {
      "display_name": "Python 3",
      "language": "python",
      "name": "python3"
    },
    "language_info": {
      "codemirror_mode": {
        "name": "ipython",
        "version": 3
      },
      "file_extension": ".py",
      "mimetype": "text/x-python",
      "name": "python",
      "nbconvert_exporter": "python",
      "pygments_lexer": "ipython3",
      "version": "3.11.3"
    }
  },
  "nbformat": 4,
  "nbformat_minor": 0
}