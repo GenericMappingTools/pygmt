{
  "cells": [
    {
      "cell_type": "markdown",
      "metadata": {},
      "source": [
        "\n# Plotting datetime charts\n\nPyGMT accepts a variety of datetime objects to plot data and create charts.\nAside from the built-in Python ``datetime`` module, PyGMT supports inputs\ncontaining ISO formatted strings as well as objects generated with\n``numpy``, ``pandas``, and ``xarray``. These data types can be used to plot\nspecific points as well as get passed into the ``region`` parameter to\ncreate a range of the data on an axis.\n\nThe following examples will demonstrate how to create plots using these\ndifferent datetime objects.\n"
      ]
    },
    {
      "cell_type": "code",
      "execution_count": null,
      "metadata": {
        "collapsed": false
      },
      "outputs": [],
      "source": [
        "import datetime\n\nimport numpy as np\nimport pandas as pd\nimport pygmt\nimport xarray as xr"
      ]
    },
    {
      "cell_type": "markdown",
      "metadata": {},
      "source": [
        "## Using Python's ``datetime``\n\nIn this example, Python's built-in ``datetime`` module is used to create\ndata points stored in the list ``x``. Additionally, dates are passed into\nthe ``region`` parameter in the format ``[x_start, x_end, y_start, y_end]``,\nwhere the date range is plotted on the x-axis. An additional notable\nparameter is ``style``, where it's specified that data points are to be\nplotted in an **X** shape with a size of 0.3 centimeters.\n\n"
      ]
    },
    {
      "cell_type": "code",
      "execution_count": null,
      "metadata": {
        "collapsed": false
      },
      "outputs": [],
      "source": [
        "x = [\n    datetime.date(2010, 6, 1),\n    datetime.date(2011, 6, 1),\n    datetime.date(2012, 6, 1),\n    datetime.date(2013, 6, 1),\n]\ny = [1, 2, 3, 5]\n\nfig = pygmt.Figure()\nfig.plot(\n    projection=\"X10c/5c\",\n    region=[datetime.date(2010, 1, 1), datetime.date(2014, 12, 1), 0, 6],\n    frame=[\"WSen\", \"afg\"],\n    x=x,\n    y=y,\n    style=\"x0.3c\",\n    pen=\"1p\",\n)\nfig.show()"
      ]
    },
    {
      "cell_type": "markdown",
      "metadata": {},
      "source": [
        "In addition to specifying the date, ``datetime`` supports the time at\nwhich the data points were recorded. Using :meth:`datetime.datetime` the\n``region`` parameter as well as data points can be created with both date and\ntime information.\n\nSome notable differences to the previous example include:\n\n- Modifying ``frame`` to only include West (left) and South (bottom) borders,\n  and removing grid lines\n- Using circles to plot data points defined by ``c`` in the argument passed\n  through the ``style`` parameter\n\n"
      ]
    },
    {
      "cell_type": "code",
      "execution_count": null,
      "metadata": {
        "collapsed": false
      },
      "outputs": [],
      "source": [
        "x = [\n    datetime.datetime(2021, 1, 1, 3, 45, 1),\n    datetime.datetime(2021, 1, 1, 6, 15, 1),\n    datetime.datetime(2021, 1, 1, 13, 30, 1),\n    datetime.datetime(2021, 1, 1, 20, 30, 1),\n]\ny = [5, 3, 1, 2]\n\nfig = pygmt.Figure()\nfig.plot(\n    projection=\"X10c/5c\",\n    region=[\n        datetime.datetime(2021, 1, 1, 0, 0, 0),\n        datetime.datetime(2021, 1, 2, 0, 0, 0),\n        0,\n        6,\n    ],\n    frame=[\"WS\", \"af\"],\n    x=x,\n    y=y,\n    style=\"c0.4c\",\n    pen=\"1p\",\n    fill=\"blue\",\n)\nfig.show()"
      ]
    },
    {
      "cell_type": "markdown",
      "metadata": {},
      "source": [
        "## Using ISO Format\n\nIn addition to Python's ``datetime`` module, PyGMT also supports passing\ndates in ISO format. Basic ISO strings are formatted as ``YYYY-MM-DD`` with\neach ``-`` delineated section marking the four-digit year value, two-digit\nmonth value, and two-digit day value, respectively.\n\nFor including the time into an ISO string, the ``T`` character is used, as it\ncan be seen in the following example. This character is immediately followed\nby a string formatted as ``hh:mm:ss`` where each ``:`` delineated section\nmarking the two-digit hour value, two-digit minute value, and two-digit\nsecond value, respectively. The figure in the following example is plotted\nover a horizontal range of one year from 2016-01-01 to 2017-01-01.\n\n"
      ]
    },
    {
      "cell_type": "code",
      "execution_count": null,
      "metadata": {
        "collapsed": false
      },
      "outputs": [],
      "source": [
        "x = [\"2016-02-01\", \"2016-06-04T14\", \"2016-10-04T00:00:15\", \"2016-12-01T05:00:15\"]\ny = [1, 3, 5, 2]\nfig = pygmt.Figure()\nfig.plot(\n    projection=\"X10c/5c\",\n    region=[\"2016-01-01\", \"2017-01-01\", 0, 6],\n    frame=[\"WSen\", \"afg\"],\n    x=x,\n    y=y,\n    style=\"a0.45c\",\n    pen=\"1p\",\n    fill=\"dodgerblue\",\n)\nfig.show()"
      ]
    },
    {
      "cell_type": "markdown",
      "metadata": {},
      "source": [
        "<div class=\"alert alert-info\"><h4>Note</h4><p>PyGMT doesn't recognize non-ISO datetime strings like \"Jun 05, 2018\". If\n    your data contain non-ISO datetime strings, you can convert them to a\n    recognized format using :func:`pandas.to_datetime` and then pass it to\n    PyGMT.</p></div>\n\n"
      ]
    },
    {
      "cell_type": "markdown",
      "metadata": {},
      "source": [
        "## Mixing and matching Python ``datetime`` and ISO dates\n\nThe following example provides context on how both ``datetime`` and ISO date\ndata can be plotted using PyGMT. This can be helpful when dates and times are\ncoming from different sources, meaning conversions do not need to take place\nbetween ISO and datetime in order to create valid plots.\n\n"
      ]
    },
    {
      "cell_type": "code",
      "execution_count": null,
      "metadata": {
        "collapsed": false
      },
      "outputs": [],
      "source": [
        "x = [\"2020-02-01\", \"2020-06-04\", \"2020-10-04\", datetime.datetime(2021, 1, 15)]\ny = [1.3, 2.2, 4.1, 3]\nfig = pygmt.Figure()\nfig.plot(\n    projection=\"X10c/5c\",\n    region=[datetime.datetime(2020, 1, 1), datetime.datetime(2021, 3, 1), 0, 6],\n    frame=[\"WSen\", \"afg\"],\n    x=x,\n    y=y,\n    style=\"i0.4c\",\n    pen=\"1p\",\n    fill=\"yellow\",\n)\nfig.show()"
      ]
    },
    {
      "cell_type": "markdown",
      "metadata": {},
      "source": [
        "## Using :meth:`pandas.date_range`\n\nIn the following example, :func:`pandas.date_range` produces a list of\n:class:`pandas.DatetimeIndex` objects, which is used to pass date data to\nthe PyGMT figure.\nSpecifically ``x`` contains 7 different :class:`pandas.DatetimeIndex`\nobjects, with the number being manipulated by the ``periods`` parameter. Each\nperiod begins at the start of a business quarter as denoted by BQS when\npassed to the ``freq`` parameter. The initial date is the first argument\nthat is passed to :func:`pandas.date_range` and it marks the first data point\nin the list ``x`` that will be plotted.\n\n"
      ]
    },
    {
      "cell_type": "code",
      "execution_count": null,
      "metadata": {
        "collapsed": false
      },
      "outputs": [],
      "source": [
        "x = pd.date_range(\"2018-03-01\", periods=7, freq=\"BQS\")\ny = [4, 5, 6, 8, 6, 3, 5]\n\nfig = pygmt.Figure()\nfig.plot(\n    projection=\"X10c/10c\",\n    region=[datetime.datetime(2017, 12, 31), datetime.datetime(2019, 12, 31), 0, 10],\n    frame=[\"WSen\", \"ag\"],\n    x=x,\n    y=y,\n    style=\"i0.4c\",\n    pen=\"1p\",\n    fill=\"purple\",\n)\nfig.show()"
      ]
    },
    {
      "cell_type": "markdown",
      "metadata": {},
      "source": [
        "## Using :class:`xarray.DataArray`\n\nIn this example, instead of using a list of :class:`pandas.DatetimeIndex`\nobjects, ``x`` is initialized as an :class:`xarray.DataArray` object. This\nobject provides a wrapper around regular PyData formats. It also allows the\ndata to have labeled dimensions while supporting operations that use various\npieces of metadata. The following code uses :func:`pandas.date_range` to fill\nthe DataArray with data, but this is not essential for the creation of a\nvalid DataArray.\n\n"
      ]
    },
    {
      "cell_type": "code",
      "execution_count": null,
      "metadata": {
        "collapsed": false
      },
      "outputs": [],
      "source": [
        "x = xr.DataArray(data=pd.date_range(start=\"2020-01-01\", periods=4, freq=\"Q\"))\ny = [4, 7, 5, 6]\n\nfig = pygmt.Figure()\nfig.plot(\n    projection=\"X10c/10c\",\n    region=[datetime.datetime(2020, 1, 1), datetime.datetime(2021, 4, 1), 0, 10],\n    frame=[\"WSen\", \"ag\"],\n    x=x,\n    y=y,\n    style=\"n0.4c\",\n    pen=\"1p\",\n    fill=\"red\",\n)\nfig.show()"
      ]
    },
    {
      "cell_type": "markdown",
      "metadata": {},
      "source": [
        "## Using :class:`numpy.datetime64`\n\nIn this example, instead of using :func:`pd.date_range`, ``x`` is\ninitialized as an ``np.array`` object. Similar to :class:`xarray.DataArray`\nthis wraps the dataset before passing it as an argument. However,\n``np.array`` objects use less memory and allow developers to specify\ndata types.\n\n"
      ]
    },
    {
      "cell_type": "code",
      "execution_count": null,
      "metadata": {
        "collapsed": false
      },
      "outputs": [],
      "source": [
        "x = np.array([\"2010-06-01\", \"2011-06-01T12\", \"2012-01-01T12:34:56\"], dtype=\"datetime64\")\ny = [2, 7, 5]\n\nfig = pygmt.Figure()\nfig.plot(\n    projection=\"X10c/10c\",\n    region=[datetime.datetime(2010, 1, 1), datetime.datetime(2012, 6, 1), 0, 10],\n    frame=[\"WS\", \"ag\"],\n    x=x,\n    y=y,\n    style=\"s0.5c\",\n    pen=\"1p\",\n    fill=\"blue\",\n)\nfig.show()"
      ]
    },
    {
      "cell_type": "markdown",
      "metadata": {},
      "source": [
        "## Generating an automatic region\n\nAnother way of creating charts involving datetime data can be done by\nautomatically generating the region of the plot. This can be done by\npassing the DataFrame to :func:`pygmt.info`, which will find the maximum and\nminimum values for each column and create a list that could be passed as\nregion. Additionally, the ``spacing`` parameter can be used to increase the\nrange past the maximum and minimum data points.\n\n"
      ]
    },
    {
      "cell_type": "code",
      "execution_count": null,
      "metadata": {
        "collapsed": false
      },
      "outputs": [],
      "source": [
        "data = [\n    [\"20200712\", 1000],\n    [\"20200714\", 1235],\n    [\"20200716\", 1336],\n    [\"20200719\", 1176],\n    [\"20200721\", 1573],\n    [\"20200724\", 1893],\n    [\"20200729\", 1634],\n]\ndf = pd.DataFrame(data, columns=[\"Date\", \"Score\"])\ndf.Date = pd.to_datetime(df[\"Date\"], format=\"%Y%m%d\")\n\nfig = pygmt.Figure()\nregion = pygmt.info(\n    data=df[[\"Date\", \"Score\"]], per_column=True, spacing=(700, 700), coltypes=\"T\"\n)\n\nfig.plot(\n    region=region,\n    projection=\"X15c/10c\",\n    frame=[\"WSen\", \"afg\"],\n    x=df.Date,\n    y=df.Score,\n    style=\"c0.4c\",\n    pen=\"1p\",\n    fill=\"green3\",\n)\n\nfig.show()"
      ]
    },
    {
      "cell_type": "markdown",
      "metadata": {},
      "source": [
        "## Setting Primary and Secondary Time Axes\n\nThis example focuses on annotating the axes and setting the interval in which\nthe annotations should appear. All of these modifications are passed\nto the ``frame`` parameter and each item in that list modifies a specific\naspect of the frame.\n\nAdding ``\"WS\"`` means that only the Western/Left (**W**) and Southern/Bottom\n(**S**) borders of the plot are annotated. For more information on this,\nplease refer to the :doc:`Frames, ticks, titles, and labels tutorial\n</tutorials/basics/frames>`.\n\nAnother important item in the list passed to ``frame`` is ``\"sxa1Of1D\"``.\nThis string modifies the secondary annotation (**s**) of the x-axis (**x**).\nSpecifically, it sets the main annotation and major tick spacing interval\nto one month (**a1O**) (capital letter O, not zero). Additionally, it sets\nthe minor tick spacing interval to 1 day (**f1D**). To use the month's name\ninstead of its number set :gmt-term:`FORMAT_DATE_MAP` to **o**. More\ninformation on configuring date formats can be found at\n:gmt-term:`FORMAT_DATE_MAP`, :gmt-term:`FORMAT_DATE_IN`, and\n:gmt-term:`FORMAT_DATE_OUT`.\n\n"
      ]
    },
    {
      "cell_type": "code",
      "execution_count": null,
      "metadata": {
        "collapsed": false
      },
      "outputs": [],
      "source": [
        "x = pd.date_range(\"2013-05-02\", periods=10, freq=\"2D\")\ny = [4, 5, 6, 8, 9, 5, 8, 9, 4, 2]\n\nfig = pygmt.Figure()\nwith pygmt.config(FORMAT_DATE_MAP=\"o\"):\n    fig.plot(\n        projection=\"X15c/10c\",\n        region=[datetime.datetime(2013, 5, 1), datetime.datetime(2013, 5, 25), 0, 10],\n        frame=[\"WS\", \"sxa1Of1D\", \"pxa5d\", \"sy+lLength\", \"pya1+ucm\"],\n        x=x,\n        y=y,\n        style=\"c0.4c\",\n        pen=\"1p\",\n        fill=\"green3\",\n    )\n\nfig.show()"
      ]
    },
    {
      "cell_type": "markdown",
      "metadata": {},
      "source": [
        "The same concept shown above can be applied to smaller as well as larger\nintervals. In this example, data are plotted for different times throughout\ntwo days. The primary x-axis annotations are modified to repeat every 6\nhours, and the secondary x-axis annotations repeat every day and show the\nday of the week.\n\nAnother notable mention in this example is setting\n:gmt-term:`FORMAT_CLOCK_MAP` to **-hhAM** which specifies the format used\nfor time. In this case, leading zeros are removed using (**-**), and only\nhours are displayed. Additionally, an AM/PM system is used instead of a\n24-hour system. More information on configuring time formats can be found\nat :gmt-term:`FORMAT_CLOCK_MAP`, :gmt-term:`FORMAT_CLOCK_IN`, and\n:gmt-term:`FORMAT_CLOCK_OUT`.\n\n"
      ]
    },
    {
      "cell_type": "code",
      "execution_count": null,
      "metadata": {
        "collapsed": false
      },
      "outputs": [],
      "source": [
        "x = pd.date_range(\"2021-04-15\", periods=8, freq=\"6H\")\ny = [2, 5, 3, 1, 5, 7, 9, 6]\n\nfig = pygmt.Figure()\nwith pygmt.config(FORMAT_CLOCK_MAP=\"-hhAM\"):\n    fig.plot(\n        projection=\"X15c/10c\",\n        region=[\n            datetime.datetime(2021, 4, 14, 23, 0, 0),\n            datetime.datetime(2021, 4, 17),\n            0,\n            10,\n        ],\n        frame=[\"WS\", \"sxa1K\", \"pxa6H\", \"sy+lSpeed\", \"pya1+ukm/h\"],\n        x=x,\n        y=y,\n        style=\"n0.4c\",\n        pen=\"1p\",\n        fill=\"lightseagreen\",\n    )\nfig.show()"
      ]
    }
  ],
  "metadata": {
    "kernelspec": {
      "display_name": "Python 3",
      "language": "python",
      "name": "python3"
    },
    "language_info": {
      "codemirror_mode": {
        "name": "ipython",
        "version": 3
      },
      "file_extension": ".py",
      "mimetype": "text/x-python",
      "name": "python",
      "nbconvert_exporter": "python",
      "pygments_lexer": "ipython3",
      "version": "3.12.1"
    }
  },
  "nbformat": 4,
  "nbformat_minor": 0
}