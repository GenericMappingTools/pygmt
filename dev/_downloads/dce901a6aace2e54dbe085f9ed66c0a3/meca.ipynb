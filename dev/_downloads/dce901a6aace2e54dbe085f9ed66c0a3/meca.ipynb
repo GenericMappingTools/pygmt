{
  "cells": [
    {
      "cell_type": "markdown",
      "metadata": {},
      "source": [
        "\n# Focal mechanisms\n\nThe :meth:`pygmt.Figure.meca` method can plot focal mechanisms or beachballs.\nWe can specify the focal mechanism nodal planes or moment tensor components\nas a dictionary using the ``spec`` parameter (or they can be specified as a\n1-D or 2-D array, or within a file). The size of the beachballs can be set\nusing the ``scale`` parameter. The compressive and extensive quadrants can\nbe filled either with a color or a pattern via the ``compressionfill`` and\n``extensionfill`` parameters, respectively. Use the ``pen`` parameter to\nadjust the outline of the beachballs.\n"
      ]
    },
    {
      "cell_type": "code",
      "execution_count": null,
      "metadata": {
        "collapsed": false
      },
      "outputs": [],
      "source": [
        "import pygmt\n\nfig = pygmt.Figure()\n\n# Generate a map near Washington State showing land, water, and shorelines\nfig.coast(\n    region=[-125, -122, 47, 49],\n    projection=\"M6c\",\n    land=\"grey\",\n    water=\"lightblue\",\n    shorelines=True,\n    frame=\"a\",\n)\n\n# Store focal mechanism parameters in a dictionary based on the Aki & Richards\n# convention\nfocal_mechanism = dict(strike=330, dip=30, rake=90, magnitude=3)\n\n# Pass the focal mechanism data through the spec parameter. In addition provide\n# scale, event location, and event depth\nfig.meca(\n    spec=focal_mechanism,\n    scale=\"1c\",  # in centimeters\n    longitude=-124.3,\n    latitude=48.1,\n    depth=12.0,\n    # Fill compressive quadrants with color \"red\"\n    # [Default is \"black\"]\n    compressionfill=\"red\",\n    # Fill extensive quadrants with color \"cornsilk\"\n    # [Default is \"white\"]\n    extensionfill=\"cornsilk\",\n    # Draw a 0.5 points thick dark gray (\"gray30\") solid outline via\n    # the pen parameter [Default is \"0.25p,black,solid\"]\n    pen=\"0.5p,gray30,solid\",\n)\n\nfig.show()"
      ]
    }
  ],
  "metadata": {
    "kernelspec": {
      "display_name": "Python 3",
      "language": "python",
      "name": "python3"
    },
    "language_info": {
      "codemirror_mode": {
        "name": "ipython",
        "version": 3
      },
      "file_extension": ".py",
      "mimetype": "text/x-python",
      "name": "python",
      "nbconvert_exporter": "python",
      "pygments_lexer": "ipython3",
      "version": "3.11.3"
    }
  },
  "nbformat": 4,
  "nbformat_minor": 0
}