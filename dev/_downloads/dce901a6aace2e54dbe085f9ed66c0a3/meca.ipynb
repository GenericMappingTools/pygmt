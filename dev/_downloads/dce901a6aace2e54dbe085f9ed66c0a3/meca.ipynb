{
  "cells": [
    {
      "cell_type": "code",
      "execution_count": null,
      "metadata": {
        "collapsed": false
      },
      "outputs": [],
      "source": [
        "%matplotlib inline"
      ]
    },
    {
      "cell_type": "markdown",
      "metadata": {},
      "source": [
        "\n# Focal mechanisms\n\nThe :meth:`pygmt.Figure.meca` method can plot focal mechanisms, or beachballs.\nWe can specify the focal mechanism nodal planes or moment tensor components as\na dict using the ``spec`` parameter (or they can be specified as a 1d or 2d\narray, or within a specified file). The size of plotted beachballs can be\nspecified using the ``scale`` parameter.\n"
      ]
    },
    {
      "cell_type": "code",
      "execution_count": null,
      "metadata": {
        "collapsed": false
      },
      "outputs": [],
      "source": [
        "import pygmt\n\nfig = pygmt.Figure()\n\n# generate a basemap near Washington state showing coastlines, land, and water\nfig.coast(\n    region=[-125, -122, 47, 49],\n    projection=\"M6c\",\n    land=\"grey\",\n    water=\"lightblue\",\n    shorelines=True,\n    frame=\"a\",\n)\n\n# store focal mechanisms parameters in a dict\nfocal_mechanism = dict(strike=330, dip=30, rake=90, magnitude=3)\n\n# pass the focal mechanism data to meca in addition to the scale and event\n# location\nfig.meca(focal_mechanism, scale=\"1c\", longitude=-124.3, latitude=48.1, depth=12.0)\n\nfig.show()"
      ]
    }
  ],
  "metadata": {
    "kernelspec": {
      "display_name": "Python 3",
      "language": "python",
      "name": "python3"
    },
    "language_info": {
      "codemirror_mode": {
        "name": "ipython",
        "version": 3
      },
      "file_extension": ".py",
      "mimetype": "text/x-python",
      "name": "python",
      "nbconvert_exporter": "python",
      "pygments_lexer": "ipython3",
      "version": "3.10.5"
    }
  },
  "nbformat": 4,
  "nbformat_minor": 0
}