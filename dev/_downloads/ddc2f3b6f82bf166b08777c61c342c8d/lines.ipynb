{
  "cells": [
    {
      "cell_type": "markdown",
      "metadata": {},
      "source": [
        "\n# Plotting lines\n\nPlotting lines is handled by the :meth:`pygmt.Figure.plot` method.\n"
      ]
    },
    {
      "cell_type": "code",
      "execution_count": null,
      "metadata": {
        "collapsed": false
      },
      "outputs": [],
      "source": [
        "import pygmt"
      ]
    },
    {
      "cell_type": "markdown",
      "metadata": {},
      "source": [
        "## Plot lines\n\nCreate a Cartesian figure using the :meth:`pygmt.Figure.basemap` method. Pass lists\ncontaining two values to the ``x`` and ``y`` parameters of the\n:meth:`pygmt.Figure.plot` method. By default, a 0.25-points thick, black, solid\nline is drawn between these two data points.\n\n"
      ]
    },
    {
      "cell_type": "code",
      "execution_count": null,
      "metadata": {
        "collapsed": false
      },
      "outputs": [],
      "source": [
        "fig = pygmt.Figure()\nfig.basemap(region=[0, 10, 0, 10], projection=\"X15c/10c\", frame=True)\n\nfig.plot(x=[1, 5], y=[5, 9])\n\nfig.show()"
      ]
    },
    {
      "cell_type": "markdown",
      "metadata": {},
      "source": [
        "Additional line segments can be added by including more data points in the lists\npassed to ``x`` and ``y``.\n\n"
      ]
    },
    {
      "cell_type": "code",
      "execution_count": null,
      "metadata": {
        "collapsed": false
      },
      "outputs": [],
      "source": [
        "fig = pygmt.Figure()\nfig.basemap(region=[0, 10, 0, 10], projection=\"X15c/10c\", frame=True)\n\nfig.plot(x=[1, 5, 8], y=[5, 9, 4])\n\nfig.show()"
      ]
    },
    {
      "cell_type": "markdown",
      "metadata": {},
      "source": [
        "To plot multiple lines, :meth:`pygmt.Figure.plot` needs to be used for each line\nseparately.\n\n"
      ]
    },
    {
      "cell_type": "code",
      "execution_count": null,
      "metadata": {
        "collapsed": false
      },
      "outputs": [],
      "source": [
        "fig = pygmt.Figure()\nfig.basemap(region=[0, 10, 0, 10], projection=\"X15c/10c\", frame=True)\n\nfig.plot(x=[1, 5, 8], y=[5, 9, 4])\nfig.plot(x=[2, 4, 9], y=[3, 7, 5])\n\nfig.show()"
      ]
    },
    {
      "cell_type": "markdown",
      "metadata": {},
      "source": [
        "## Change line attributes\n\nThe line attributes can be set by the ``pen`` parameter which takes a string\nargument with the optional values *width*,\\ *color*,\\ *style*.\n\n"
      ]
    },
    {
      "cell_type": "code",
      "execution_count": null,
      "metadata": {
        "collapsed": false
      },
      "outputs": [],
      "source": [
        "fig = pygmt.Figure()\nfig.basemap(region=[0, 10, 0, 10], projection=\"X15c/10c\", frame=True)\n\n# Set the pen width to \"5p\" (5 points), and use the default color \"black\" and the\n# default style \"solid\"\nfig.plot(x=[1, 8], y=[3, 9], pen=\"5p\")\n\nfig.show()"
      ]
    },
    {
      "cell_type": "markdown",
      "metadata": {},
      "source": [
        "The line color can be set and is added after the line width to the ``pen``\nparameter.\n\n"
      ]
    },
    {
      "cell_type": "code",
      "execution_count": null,
      "metadata": {
        "collapsed": false
      },
      "outputs": [],
      "source": [
        "fig = pygmt.Figure()\nfig.basemap(region=[0, 10, 0, 10], projection=\"X15c/10c\", frame=True)\n\n# Set the line color to \"red\", use the default style \"solid\"\nfig.plot(x=[1, 8], y=[3, 9], pen=\"5p,red\")\n\nfig.show()"
      ]
    },
    {
      "cell_type": "markdown",
      "metadata": {},
      "source": [
        "The line style can be set and is added after the line width or color to the\n``pen`` parameter.\n\n"
      ]
    },
    {
      "cell_type": "code",
      "execution_count": null,
      "metadata": {
        "collapsed": false
      },
      "outputs": [],
      "source": [
        "fig = pygmt.Figure()\nfig.basemap(region=[0, 10, 0, 10], projection=\"X15c/10c\", frame=True)\n\n# Set the line style to \"..-\" (dot dot dash), use the default color \"black\"\nfig.plot(x=[1, 8], y=[3, 9], pen=\"5p,..-\")\n\nfig.show()"
      ]
    },
    {
      "cell_type": "markdown",
      "metadata": {},
      "source": [
        "The line width, color, and style can all be set in the same ``pen`` parameter.\nFor a gallery example showing other ``pen`` settings, see\n:doc:`/gallery/lines/linestyles`.\n\n"
      ]
    },
    {
      "cell_type": "code",
      "execution_count": null,
      "metadata": {
        "collapsed": false
      },
      "outputs": [],
      "source": [
        "fig = pygmt.Figure()\nfig.basemap(region=[0, 10, 0, 10], projection=\"X15c/10c\", frame=True)\n\n# Draw a 7-points thick, green line with style \"-.-\" (dash dot dash)\nfig.plot(x=[1, 8], y=[3, 9], pen=\"7p,green,-.-\")\n\nfig.show()"
      ]
    }
  ],
  "metadata": {
    "kernelspec": {
      "display_name": "Python 3",
      "language": "python",
      "name": "python3"
    },
    "language_info": {
      "codemirror_mode": {
        "name": "ipython",
        "version": 3
      },
      "file_extension": ".py",
      "mimetype": "text/x-python",
      "name": "python",
      "nbconvert_exporter": "python",
      "pygments_lexer": "ipython3",
      "version": "3.13.5"
    }
  },
  "nbformat": 4,
  "nbformat_minor": 0
}