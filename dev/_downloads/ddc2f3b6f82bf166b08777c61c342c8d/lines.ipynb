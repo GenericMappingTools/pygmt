{
  "cells": [
    {
      "cell_type": "markdown",
      "metadata": {},
      "source": [
        "\n# Plotting lines\n\nPlotting lines is handled by :meth:`pygmt.Figure.plot`.\n"
      ]
    },
    {
      "cell_type": "code",
      "execution_count": null,
      "metadata": {
        "collapsed": false
      },
      "outputs": [],
      "source": [
        "import pygmt"
      ]
    },
    {
      "cell_type": "markdown",
      "metadata": {},
      "source": [
        "## Plot lines\n\nCreate a Cartesian figure using ``projection`` parameter and set the axis\nscales using ``region`` (in this case, each axis is 0-10). Pass a list of\n``x`` and ``y`` values to be plotted as a line.\n\n"
      ]
    },
    {
      "cell_type": "code",
      "execution_count": null,
      "metadata": {
        "collapsed": false
      },
      "outputs": [],
      "source": [
        "fig = pygmt.Figure()\nfig.plot(\n    region=[0, 10, 0, 10],\n    projection=\"X15c/10c\",\n    frame=\"a\",\n    x=[1, 8],\n    y=[5, 9],\n    pen=\"1p,black\",\n)\nfig.show()"
      ]
    },
    {
      "cell_type": "markdown",
      "metadata": {},
      "source": [
        "Additional line segments can be added by including additional values for\n``x`` and ``y``.\n\n"
      ]
    },
    {
      "cell_type": "code",
      "execution_count": null,
      "metadata": {
        "collapsed": false
      },
      "outputs": [],
      "source": [
        "fig = pygmt.Figure()\nfig.plot(\n    region=[0, 10, 0, 10],\n    projection=\"X15c/10c\",\n    frame=\"a\",\n    x=[1, 6, 9],\n    y=[5, 7, 4],\n    pen=\"1p,black\",\n)\nfig.show()"
      ]
    },
    {
      "cell_type": "markdown",
      "metadata": {},
      "source": [
        "To plot multiple lines, :meth:`pygmt.Figure.plot` needs to be used for each\nadditional line. Parameters such as ``region``, ``projection``, and ``frame``\ndo not need to be repeated in subsequent uses.\n\n"
      ]
    },
    {
      "cell_type": "code",
      "execution_count": null,
      "metadata": {
        "collapsed": false
      },
      "outputs": [],
      "source": [
        "fig = pygmt.Figure()\nfig.plot(\n    region=[0, 10, 0, 10],\n    projection=\"X15c/10c\",\n    frame=\"a\",\n    x=[1, 6, 9],\n    y=[5, 7, 4],\n    pen=\"2p,blue\",\n)\nfig.plot(x=[2, 4, 10], y=[3, 8, 9], pen=\"2p,red\")\nfig.show()"
      ]
    },
    {
      "cell_type": "markdown",
      "metadata": {},
      "source": [
        "## Change line attributes\n\nThe line attributes can be set by the ``pen`` parameter. ``pen`` takes a\nstring argument with the optional values *width*,\\ *color*,\\ *style*.\n\nIn the example below, the pen width is set to ``5p``, and with ``black`` as\nthe default color and ``solid`` as the default style.\n\n"
      ]
    },
    {
      "cell_type": "code",
      "execution_count": null,
      "metadata": {
        "collapsed": false
      },
      "outputs": [],
      "source": [
        "fig = pygmt.Figure()\nfig.plot(\n    region=[0, 10, 0, 10],\n    projection=\"X15c/10c\",\n    frame=\"a\",\n    x=[1, 8],\n    y=[3, 9],\n    pen=\"5p\",\n)\nfig.show()"
      ]
    },
    {
      "cell_type": "markdown",
      "metadata": {},
      "source": [
        "The line color can be set and is added after the line width to the ``pen``\nparameter. In the example below, the line color is set to ``red``.\n\n"
      ]
    },
    {
      "cell_type": "code",
      "execution_count": null,
      "metadata": {
        "collapsed": false
      },
      "outputs": [],
      "source": [
        "fig = pygmt.Figure()\nfig.plot(\n    region=[0, 10, 0, 10],\n    projection=\"X15c/10c\",\n    frame=\"a\",\n    x=[1, 8],\n    y=[3, 9],\n    pen=\"5p,red\",\n)\nfig.show()"
      ]
    },
    {
      "cell_type": "markdown",
      "metadata": {},
      "source": [
        "The line style can be set and is added after the line width or color to the\n``pen`` parameter.  In the example below, the line style is set to\n``..-`` (*dot dot dash*), and the default color ``black`` is used.\n\n"
      ]
    },
    {
      "cell_type": "code",
      "execution_count": null,
      "metadata": {
        "collapsed": false
      },
      "outputs": [],
      "source": [
        "fig = pygmt.Figure()\nfig.plot(\n    region=[0, 10, 0, 10],\n    projection=\"X15c/10c\",\n    frame=\"a\",\n    x=[1, 8],\n    y=[3, 9],\n    pen=\"5p,..-\",\n)\nfig.show()"
      ]
    },
    {
      "cell_type": "markdown",
      "metadata": {},
      "source": [
        "The line width, color, and style can all be set in the same ``pen``\nparameter. In the example below, the line width is set to ``7p``, the color\nis set to ``green``, and the line style is ``-.-`` (*dash dot dash*).\n\nFor a gallery showing other ``pen`` settings, see\n:doc:`/gallery/lines/linestyles`.\n\n"
      ]
    },
    {
      "cell_type": "code",
      "execution_count": null,
      "metadata": {
        "collapsed": false
      },
      "outputs": [],
      "source": [
        "fig = pygmt.Figure()\nfig.plot(\n    region=[0, 10, 0, 10],\n    projection=\"X15c/10c\",\n    frame=\"a\",\n    x=[1, 8],\n    y=[3, 9],\n    pen=\"7p,green,-.-\",\n)\nfig.show()"
      ]
    }
  ],
  "metadata": {
    "kernelspec": {
      "display_name": "Python 3",
      "language": "python",
      "name": "python3"
    },
    "language_info": {
      "codemirror_mode": {
        "name": "ipython",
        "version": 3
      },
      "file_extension": ".py",
      "mimetype": "text/x-python",
      "name": "python",
      "nbconvert_exporter": "python",
      "pygments_lexer": "ipython3",
      "version": "3.11.3"
    }
  },
  "nbformat": 4,
  "nbformat_minor": 0
}