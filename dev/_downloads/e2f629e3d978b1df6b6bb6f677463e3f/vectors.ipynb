{
  "cells": [
    {
      "cell_type": "markdown",
      "metadata": {},
      "source": [
        "\n# Plotting vectors\n\nPlotting vectors is handled by :meth:`pygmt.Figure.plot`.\n"
      ]
    },
    {
      "cell_type": "code",
      "execution_count": null,
      "metadata": {
        "collapsed": false
      },
      "outputs": [],
      "source": [
        "import numpy as np\nimport pygmt"
      ]
    },
    {
      "cell_type": "markdown",
      "metadata": {},
      "source": [
        "## Plot Cartesian Vectors\n\nCreate a simple Cartesian vector using a starting point through\n``x``, ``y``, and ``direction`` parameters.\nOn the shown figure, the plot is projected on a 10cm X 10cm region,\nwhich is specified by the ``projection`` parameter.\nThe direction is specified\nby a list of two 1-D arrays structured as ``[[angle_in_degrees], [length]]``.\nThe angle is measured in degrees and moves counter-clockwise from the\nhorizontal.\nThe length of the vector uses centimeters by default but\ncould be changed using :class:`pygmt.config`\n(Check the next examples for unit changes).\n\nNotice that the ``v`` in the ``style`` parameter stands for\nvector; it distinguishes it from regular lines and allows for\ndifferent customization. ``0c`` is used to specify the size\nof the arrow head which explains why there is no arrow on either\nside of the vector.\n\n"
      ]
    },
    {
      "cell_type": "code",
      "execution_count": null,
      "metadata": {
        "collapsed": false
      },
      "outputs": [],
      "source": [
        "fig = pygmt.Figure()\nfig.plot(\n    region=[0, 10, 0, 10],\n    projection=\"X10c/10c\",\n    frame=\"ag\",\n    x=2,\n    y=8,\n    style=\"v0c\",\n    direction=[[-45], [6]],\n)\nfig.show()"
      ]
    },
    {
      "cell_type": "markdown",
      "metadata": {},
      "source": [
        "In this example, we apply the same concept shown previously to plot multiple\nvectors. Notice that instead of passing int/float to ``x`` and ``y``, a list\nof all x and y coordinates will be passed. Similarly, the length of direction\nlist will increase accordingly.\n\nAdditionally, we change the style of the vector to include a red\narrow head at the end (**+e**) of the vector and increase the\nthickness (``pen=\"2p\"``) of the vector stem. A list of different\nstyling attributes can be found in\n:doc:`Vector heads and tails </gallery/lines/vector_heads_tails>`.\n\n"
      ]
    },
    {
      "cell_type": "code",
      "execution_count": null,
      "metadata": {
        "collapsed": false
      },
      "outputs": [],
      "source": [
        "fig = pygmt.Figure()\nfig.plot(\n    region=[0, 10, 0, 10],\n    projection=\"X10c/10c\",\n    frame=\"ag\",\n    x=[2, 4],\n    y=[8, 1],\n    style=\"v0.6c+e\",\n    direction=[[-45, 23], [6, 3]],\n    pen=\"2p\",\n    fill=\"red3\",\n)\nfig.show()"
      ]
    },
    {
      "cell_type": "markdown",
      "metadata": {},
      "source": [
        "The default unit of vector length is centimeters,\nhowever, this can be changed to inches or points. Note that, in PyGMT,\none point is defined as 1/72 inch.\n\nIn this example, the graphed region is 5in X 5in, but\nthe length of the first vector is still graphed in centimeters.\nUsing ``pygmt.config(PROJ_LENGTH_UNIT=\"i\")``, the default unit\ncan be changed to inches in the second plotted vector.\n\n"
      ]
    },
    {
      "cell_type": "code",
      "execution_count": null,
      "metadata": {
        "collapsed": false
      },
      "outputs": [],
      "source": [
        "fig = pygmt.Figure()\n# Vector 1 with default unit as cm\nfig.plot(\n    region=[0, 10, 0, 10],\n    projection=\"X5i/5i\",\n    frame=\"ag\",\n    x=2,\n    y=8,\n    style=\"v1c+e\",\n    direction=[[0], [3]],\n    pen=\"2p\",\n    fill=\"red3\",\n)\n# Vector 2 after changing default unit to inches\nwith pygmt.config(PROJ_LENGTH_UNIT=\"i\"):\n    fig.plot(\n        x=2,\n        y=7,\n        direction=[[0], [3]],\n        style=\"v1c+e\",\n        pen=\"2p\",\n        fill=\"red3\",\n    )\nfig.show()"
      ]
    },
    {
      "cell_type": "markdown",
      "metadata": {},
      "source": [
        "Vectors can also be plotted by including all the information\nabout a vector in a single list. However, this requires creating\na 2-D list or numpy array containing all vectors.\nEach vector list contains the information structured as:\n``[x_start, y_start, direction_degrees, length]``.\n\nIf this approach is chosen, the ``data`` parameter must be\nused instead of ``x``, ``y`` and  ``direction``.\n\n"
      ]
    },
    {
      "cell_type": "code",
      "execution_count": null,
      "metadata": {
        "collapsed": false
      },
      "outputs": [],
      "source": [
        "# Create a list of lists that include each vector information\nvectors = [[2, 3, 45, 4]]\n\nfig = pygmt.Figure()\nfig.plot(\n    region=[0, 10, 0, 10],\n    projection=\"X10c/10c\",\n    frame=\"ag\",\n    data=vectors,\n    style=\"v0.6c+e\",\n    pen=\"2p\",\n    fill=\"red3\",\n)\nfig.show()"
      ]
    },
    {
      "cell_type": "markdown",
      "metadata": {},
      "source": [
        "Using the functionality mentioned in the previous example,\nmultiple vectors can be plotted at the same time. Another\nvector could be simply added to the 2-D list or numpy\narray object and passed using ``data`` parameter.\n\n"
      ]
    },
    {
      "cell_type": "code",
      "execution_count": null,
      "metadata": {
        "collapsed": false
      },
      "outputs": [],
      "source": [
        "# Vector specifications structured as:\n# [x_start, y_start, direction_degrees, length]\nvector_1 = [2, 3, 45, 4]\nvector_2 = [7.5, 8.3, -120.5, 7.2]\n# Create a list of lists that include each vector information\nvectors = [vector_1, vector_2]\n# Vectors structure: [[2, 3, 45, 4], [7.5, 8.3, -120.5, 7.2]]\n\nfig = pygmt.Figure()\nfig.plot(\n    region=[0, 10, 0, 10],\n    projection=\"X10c/10c\",\n    frame=\"ag\",\n    data=vectors,\n    style=\"v0.6c+e\",\n    pen=\"2p\",\n    fill=\"red3\",\n)\nfig.show()"
      ]
    },
    {
      "cell_type": "markdown",
      "metadata": {},
      "source": [
        "In this example, Cartesian vectors are plotted over a Mercator\nprojection of the continental US. The x values represent the\nlongitude and y values represent the latitude where the vector starts.\n\nThis example also shows some of the styles a vector supports.\nThe beginning point of the vector (**+b**)\nshould take the shape of a circle (**c**). Similarly, the end\npoint of the vector (**+e**) should have an arrow shape (**a**)\n(to draw a plain arrow, use **A** instead). Lastly, the **+a**\nspecifies the angle of the vector head apex (30 degrees in\nthis example).\n\n"
      ]
    },
    {
      "cell_type": "code",
      "execution_count": null,
      "metadata": {
        "collapsed": false
      },
      "outputs": [],
      "source": [
        "# Create a plot with coast, Mercator projection (M) over the continental US\nfig = pygmt.Figure()\nfig.coast(\n    region=[-127, -64, 24, 53],\n    projection=\"M10c\",\n    frame=\"ag\",\n    borders=1,\n    shorelines=\"0.25p,black\",\n    area_thresh=4000,\n    land=\"grey\",\n    water=\"lightblue\",\n)\n\n# Plot a vector using the x, y, direction parameters\nstyle = \"v0.4c+bc+ea+a30\"\nfig.plot(\n    x=-110,\n    y=40,\n    style=style,\n    direction=[[-25], [3]],\n    pen=\"1p\",\n    fill=\"red3\",\n)\n\n# vector specifications structured as:\n# [x_start, y_start, direction_degrees, length]\nvector_2 = [-82, 40.5, 138, 2.5]\nvector_3 = [-71.2, 45, -115.7, 4]\n# Create a list of lists that include each vector information\nvectors = [vector_2, vector_3]\n\n# Plot vectors using the data parameter.\nfig.plot(\n    data=vectors,\n    style=style,\n    pen=\"1p\",\n    fill=\"yellow\",\n)\nfig.show()"
      ]
    },
    {
      "cell_type": "markdown",
      "metadata": {},
      "source": [
        "Another example of plotting Cartesian vectors over a coast plot. This time a\nTransverse Mercator projection is used. Additionally, :func:`numpy.linspace`\nis used to create 5 vectors with equal stops.\n\n"
      ]
    },
    {
      "cell_type": "code",
      "execution_count": null,
      "metadata": {
        "collapsed": false
      },
      "outputs": [],
      "source": [
        "x = np.linspace(36, 42, 5)  # x values = [36.  37.5 39.  40.5 42. ]\ny = np.linspace(39, 39, 5)  # y values = [39. 39. 39. 39.]\ndirection = np.linspace(-90, -90, 5)  # direction values = [-90. -90. -90. -90.]\nlength = np.linspace(1.5, 1.5, 5)  # length values = [1.5 1.5 1.5 1.5]\n\n# Create a plot with coast,\n# Transverse Mercator projection (T) over Turkey and Syria\nfig = pygmt.Figure()\nfig.coast(\n    region=[20, 50, 30, 45],\n    projection=\"T35/10c\",\n    frame=True,\n    borders=1,\n    shorelines=\"0.25p,black\",\n    area_thresh=4000,\n    land=\"lightbrown\",\n    water=\"lightblue\",\n)\n\nfig.plot(\n    x=x,\n    y=y,\n    style=\"v0.4c+ea+bc\",\n    direction=[direction, length],\n    pen=\"0.6p\",\n    fill=\"red3\",\n)\n\nfig.show()"
      ]
    },
    {
      "cell_type": "markdown",
      "metadata": {},
      "source": [
        "## Plot Circular Vectors\n\nWhen plotting circular vectors, all of the information for a single vector is\nto be stored in a list. Each circular vector list is structured as:\n``[x_start, y_start, radius, degree_start, degree_stop]``. The first two\nvalues in the vector list represent the origin of the circle that will be\nplotted. The next value is the radius which is represented on the plot in cm.\n\nThe last two values in the vector list represent the degree at which the plot\nwill start and stop. These values are measured counter-clockwise from the\nhorizontal axis. In this example, the result shown is the left half of a\ncircle as the plot starts at 90 degrees and goes until 270. Notice that the\n``m`` in the ``style`` parameter stands for circular vectors.\n\n"
      ]
    },
    {
      "cell_type": "code",
      "execution_count": null,
      "metadata": {
        "collapsed": false
      },
      "outputs": [],
      "source": [
        "fig = pygmt.Figure()\n\ncircular_vector_1 = [0, 0, 2, 90, 270]\ndata = [circular_vector_1]\nfig.plot(\n    region=[-5, 5, -5, 5],\n    projection=\"X10c\",\n    frame=\"ag\",\n    data=data,\n    style=\"m0.5c+ea\",\n    pen=\"2p\",\n    fill=\"red3\",\n)\n\n# Another example using np.array()\ncircular_vector_2 = [0, 0, 4, -90, 90]\ndata = np.array([circular_vector_2])\n\nfig.plot(\n    data=data,\n    style=\"m0.5c+ea\",\n    pen=\"2p\",\n    fill=\"red3\",\n)\nfig.show()"
      ]
    },
    {
      "cell_type": "markdown",
      "metadata": {},
      "source": [
        "When plotting multiple circular vectors, a two dimensional array or numpy\narray object should be passed as the ``data`` parameter. In this example,\n:func:`numpy.column_stack` is used to generate this two dimensional array.\nOther numpy objects are used to generate linear values for the ``radius``\nparameter and random values for the ``degree_stop`` parameter discussed in\nthe previous example. This is the reason in which each vector has a different\nappearance on the projection.\n\n"
      ]
    },
    {
      "cell_type": "code",
      "execution_count": null,
      "metadata": {
        "collapsed": false
      },
      "outputs": [],
      "source": [
        "vector_num = 5\nradius = 3 - (0.5 * np.arange(0, vector_num))\nstartdir = np.full(vector_num, 90)\nstopdir = 180 + (50 * np.arange(0, vector_num))\ndata = np.column_stack(\n    [np.full(vector_num, 0), np.full(vector_num, 0), radius, startdir, stopdir]\n)\n\nfig = pygmt.Figure()\nfig.plot(\n    region=[-5, 5, -5, 5],\n    projection=\"X10c\",\n    frame=\"ag\",\n    data=data,\n    style=\"m0.5c+ea\",\n    pen=\"2p\",\n    fill=\"red3\",\n)\nfig.show()"
      ]
    },
    {
      "cell_type": "markdown",
      "metadata": {},
      "source": [
        "Much like when plotting Cartesian vectors, the default unit used is\ncentimeters. When this is changed to inches, the size of the plot appears\nlarger when the projection units do not change. Below is an example of two\ncircular vectors. One is plotted using the default unit, and the second is\nplotted using inches. Despite using the same list to plot the vectors, a\ndifferent measurement unit causes one to be larger than the other.\n\n"
      ]
    },
    {
      "cell_type": "code",
      "execution_count": null,
      "metadata": {
        "collapsed": false
      },
      "outputs": [],
      "source": [
        "circular_vector = [6, 5, 1, 90, 270]\n\nfig = pygmt.Figure()\nfig.plot(\n    region=[0, 10, 0, 10],\n    projection=\"X10c\",\n    frame=\"ag\",\n    data=[circular_vector],\n    style=\"m0.5c+ea\",\n    pen=\"2p\",\n    fill=\"red3\",\n)\n\nwith pygmt.config(PROJ_LENGTH_UNIT=\"i\"):\n    fig.plot(\n        data=[circular_vector],\n        style=\"m0.5c+ea\",\n        pen=\"2p\",\n        fill=\"red3\",\n    )\nfig.show()"
      ]
    },
    {
      "cell_type": "markdown",
      "metadata": {},
      "source": [
        "## Plot Geographic Vectors\nOn this map,\n``point_1`` and ``point_2`` are coordinate pairs used to set the\nstart and end points of the geographic vector.\nThe geographical vector is going from Idaho to\nChicago. To style geographic\nvectors, use ``=`` at the beginning of the ``style`` parameter.\nOther styling features such as vector stem thickness and head color\ncan be passed into the ``pen`` and ``fill`` parameters.\n\nNote that the **+s** is added to use a startpoint and an endpoint\nto represent the vector instead of input angle and length.\n\n"
      ]
    },
    {
      "cell_type": "code",
      "execution_count": null,
      "metadata": {
        "collapsed": false
      },
      "outputs": [],
      "source": [
        "point_1 = [-114.7420, 44.0682]\npoint_2 = [-87.6298, 41.8781]\ndata = np.array([point_1 + point_2])\n\nfig = pygmt.Figure()\nfig.coast(\n    region=[-127, -64, 24, 53],\n    projection=\"M10c\",\n    frame=True,\n    borders=1,\n    shorelines=\"0.25p,black\",\n    area_thresh=4000,\n)\nfig.plot(\n    data=data,\n    style=\"=0.5c+ea+s\",\n    pen=\"2p\",\n    fill=\"red3\",\n)\nfig.show()"
      ]
    },
    {
      "cell_type": "markdown",
      "metadata": {},
      "source": [
        "Using the same technique shown in the previous example,\nmultiple vectors can be plotted in a chain where the endpoint\nof one is the starting point of another. This can be done\nby adding the coordinate lists together to create this structure:\n``[[start_latitude, start_longitude, end_latitude, end_longitude]]``.\nEach list within the 2-D list contains the start and end information\nfor each vector.\n\n"
      ]
    },
    {
      "cell_type": "code",
      "execution_count": null,
      "metadata": {
        "collapsed": false
      },
      "outputs": [],
      "source": [
        "# Coordinate pairs for all the locations used\nME = [-69.4455, 45.2538]\nCHI = [-87.6298, 41.8781]\nSEA = [-122.3321, 47.6062]\nNO = [-90.0715, 29.9511]\nKC = [-94.5786, 39.0997]\nCA = [-119.4179, 36.7783]\n\n# Add array to piece together the vectors\ndata = [ME + CHI, CHI + SEA, SEA + KC, KC + NO, NO + CA]\n\nfig = pygmt.Figure()\nfig.coast(\n    region=[-127, -64, 24, 53],\n    projection=\"M10c\",\n    frame=True,\n    borders=1,\n    shorelines=\"0.25p,black\",\n    area_thresh=4000,\n)\nfig.plot(\n    data=data,\n    style=\"=0.5c+ea+s\",\n    pen=\"2p\",\n    fill=\"red3\",\n)\nfig.show()"
      ]
    },
    {
      "cell_type": "markdown",
      "metadata": {},
      "source": [
        "This example plots vectors over a Mercator projection. The starting points\nare located at SA which is South Africa and going to four different\nlocations.\n\n"
      ]
    },
    {
      "cell_type": "code",
      "execution_count": null,
      "metadata": {
        "collapsed": false
      },
      "outputs": [],
      "source": [
        "SA = [22.9375, -30.5595]\nEUR = [15.2551, 54.5260]\nME = [-69.4455, 45.2538]\nAS = [100.6197, 34.0479]\nNM = [-105.8701, 34.5199]\ndata = np.array([SA + EUR, SA + ME, SA + AS, SA + NM])\n\nfig = pygmt.Figure()\nfig.coast(\n    region=[-180, 180, -80, 80],\n    projection=\"M0/0/12c\",\n    frame=\"afg\",\n    land=\"lightbrown\",\n    water=\"lightblue\",\n)\nfig.plot(\n    data=data,\n    style=\"=0.5c+ea+s\",\n    pen=\"2p\",\n    fill=\"red3\",\n)\nfig.show()"
      ]
    }
  ],
  "metadata": {
    "kernelspec": {
      "display_name": "Python 3",
      "language": "python",
      "name": "python3"
    },
    "language_info": {
      "codemirror_mode": {
        "name": "ipython",
        "version": 3
      },
      "file_extension": ".py",
      "mimetype": "text/x-python",
      "name": "python",
      "nbconvert_exporter": "python",
      "pygments_lexer": "ipython3",
      "version": "3.11.3"
    }
  },
  "nbformat": 4,
  "nbformat_minor": 0
}