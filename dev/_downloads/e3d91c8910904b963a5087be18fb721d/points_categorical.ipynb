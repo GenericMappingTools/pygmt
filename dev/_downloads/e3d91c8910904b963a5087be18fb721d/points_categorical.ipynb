{
  "cells": [
    {
      "cell_type": "code",
      "execution_count": null,
      "metadata": {
        "collapsed": false
      },
      "outputs": [],
      "source": [
        "%matplotlib inline"
      ]
    },
    {
      "cell_type": "markdown",
      "metadata": {},
      "source": [
        "\n# Color points by categories\nThe :meth:`pygmt.Figure.plot` method can be used to plot symbols which are\ncolor-coded by categories. In the example below, we show how the\n`Palmer Penguins dataset <https://github.com/allisonhorst/palmerpenguins>`__\ncan be visualized. Here, we can pass the individual categories included in\nthe \"species\" column directly to the ``color`` parameter via\n``color=df.species.cat.codes.astype(int)``. Additionally, we have to set\n``cmap=True``. A desired colormap can be selected via the :meth:`pygmt.makecpt`\nmethod.\n"
      ]
    },
    {
      "cell_type": "code",
      "execution_count": null,
      "metadata": {
        "collapsed": false
      },
      "outputs": [],
      "source": [
        "import pandas as pd\nimport pygmt\n\n# Load sample penguins data\ndf = pd.read_csv(\"https://github.com/mwaskom/seaborn-data/raw/master/penguins.csv\")\n# Convert 'species' column to categorical dtype\n# By default, pandas sorts the individual categories in an alphabetical order.\n# For a non-alphabetical order, you have to manually adjust the list of\n# categories. For handling and manipulating categorical data in pandas,\n# have a look at:\n# https://pandas.pydata.org/docs/user_guide/categorical.html\ndf.species = df.species.astype(dtype=\"category\")\n# Make a list of the individual categories of the 'species' column\n# ['Adelie', 'Chinstrap', 'Gentoo']\n# They are (corresponding to the categorical number code) by default in\n# alphabetical order and later used for the colorbar labels\nlabels = list(df.species.cat.categories)\n\n# Use pygmt.info to get region bounds (xmin, xmax, ymin, ymax)\n# The below example will return a numpy array like [30.0, 60.0, 12.0, 22.0]\nregion = pygmt.info(\n    data=df[[\"bill_length_mm\", \"bill_depth_mm\"]],  # x and y columns\n    per_column=True,  # report the min/max values per column as a numpy array\n    # round the min/max values of the first two columns to the nearest multiple\n    # of 3 and 2, respectively\n    spacing=(3, 2),\n)\n\n# Make a 2D categorical scatter plot, coloring each of the 3 species\n# differently\nfig = pygmt.Figure()\n\n# Generate a basemap of 10 cm x 10 cm size\nfig.basemap(\n    region=region,\n    projection=\"X10c/10c\",\n    frame=[\n        'xafg+l\"Bill length (mm)\"',\n        'yafg+l\"Bill depth (mm)\"',\n        'WSen+t\"Penguin size at Palmer Station\"',\n    ],\n)\n\n# Define a colormap to be used for three categories, define the range of the\n# new discrete CPT using series=(lowest_value, highest_value, interval),\n# use color_model=\"+cAdelie,Chinstrap,Gentoo\" to write the discrete color\n# palette \"inferno\" in categorical format and add the species names as\n# annotations for the colorbar\npygmt.makecpt(\n    cmap=\"inferno\",\n    # Use the minimum and maximum of the categorical number code\n    # to set the lowest_value and the highest_value of the CPT\n    series=(df.species.cat.codes.min(), df.species.cat.codes.max(), 1),\n    # convert ['Adelie', 'Chinstrap', 'Gentoo'] to 'Adelie,Chinstrap,Gentoo'\n    color_model=\"+c\" + \",\".join(labels),\n)\n\nfig.plot(\n    # Use bill length and bill depth as x and y data input, respectively\n    x=df.bill_length_mm,\n    y=df.bill_depth_mm,\n    # Vary each symbol size according to another feature (body mass,\n    # scaled by 7.5*10e-5)\n    size=df.body_mass_g * 7.5e-5,\n    # Points colored by categorical number code\n    color=df.species.cat.codes.astype(int),\n    # Use colormap created by makecpt\n    cmap=True,\n    # Do not clip symbols that fall close to the map bounds\n    no_clip=True,\n    # Use circles as symbols with size in centimeter units\n    style=\"cc\",\n    # Set transparency level for all symbols to deal with overplotting\n    transparency=40,\n)\n\n# Add colorbar legend\nfig.colorbar()\n\nfig.show()"
      ]
    }
  ],
  "metadata": {
    "kernelspec": {
      "display_name": "Python 3",
      "language": "python",
      "name": "python3"
    },
    "language_info": {
      "codemirror_mode": {
        "name": "ipython",
        "version": 3
      },
      "file_extension": ".py",
      "mimetype": "text/x-python",
      "name": "python",
      "nbconvert_exporter": "python",
      "pygments_lexer": "ipython3",
      "version": "3.10.5"
    }
  },
  "nbformat": 4,
  "nbformat_minor": 0
}