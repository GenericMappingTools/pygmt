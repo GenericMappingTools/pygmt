{
  "cells": [
    {
      "cell_type": "code",
      "execution_count": null,
      "metadata": {
        "collapsed": false
      },
      "outputs": [],
      "source": [
        "%matplotlib inline"
      ]
    },
    {
      "cell_type": "markdown",
      "metadata": {},
      "source": [
        "\n# Day-night terminator line and twilights\n\nUse :meth:`pygmt.Figure.solar` to show the different transition stages between\ndaytime and nighttime. The parameter ``terminator`` is used to set the twilight\nstage, and can be either 'day-night' (brightest), 'civil', 'nautical', or\n'astronomical' (darkest). Refer to https://en.wikipedia.org/wiki/Twilight for\nmore information.\n"
      ]
    },
    {
      "cell_type": "code",
      "execution_count": null,
      "metadata": {
        "collapsed": false
      },
      "outputs": [],
      "source": [
        "import datetime\n\nimport pygmt\n\nfig = pygmt.Figure()\n# Create a figure showing the global region on a Mollweide projection\n# Land color is set to dark green and water color is set to light blue\nfig.coast(region=\"d\", projection=\"W0/15c\", land=\"darkgreen\", water=\"lightblue\")\n# Set a time for the day-night terminator and twilights, 1700 UTC on\n# January 1, 2000\nterminator_datetime = datetime.datetime(\n    year=2000, month=1, day=1, hour=17, minute=0, second=0\n)\n# Set the pen line to be 0.5p thick\n# Set the fill for the night area to be navy blue at different transparency\n# levels\nfig.solar(\n    terminator=\"day_night\",\n    terminator_datetime=terminator_datetime,\n    fill=\"navyblue@95\",\n    pen=\"0.5p\",\n)\nfig.solar(\n    terminator=\"civil\",\n    terminator_datetime=terminator_datetime,\n    fill=\"navyblue@85\",\n    pen=\"0.5p\",\n)\nfig.solar(\n    terminator=\"nautical\",\n    terminator_datetime=terminator_datetime,\n    fill=\"navyblue@80\",\n    pen=\"0.5p\",\n)\nfig.solar(\n    terminator=\"astronomical\",\n    terminator_datetime=terminator_datetime,\n    fill=\"navyblue@80\",\n    pen=\"0.5p\",\n)\nfig.show()"
      ]
    }
  ],
  "metadata": {
    "kernelspec": {
      "display_name": "Python 3",
      "language": "python",
      "name": "python3"
    },
    "language_info": {
      "codemirror_mode": {
        "name": "ipython",
        "version": 3
      },
      "file_extension": ".py",
      "mimetype": "text/x-python",
      "name": "python",
      "nbconvert_exporter": "python",
      "pygments_lexer": "ipython3",
      "version": "3.10.5"
    }
  },
  "nbformat": 4,
  "nbformat_minor": 0
}