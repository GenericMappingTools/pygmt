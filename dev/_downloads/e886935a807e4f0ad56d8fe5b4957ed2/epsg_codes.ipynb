{
  "cells": [
    {
      "cell_type": "markdown",
      "metadata": {},
      "source": [
        "\n# EPSG codes\n\nBesides one of the :doc:`31 projections supported by GMT </techref/projections>`, users\ncan pass an EPSG (European Petroleum Survey Group) code to the ``projection`` parameter.\nA commonly used EPSG code is ``EPSG:3857``, that refers to the Web Mercator projection\nWGS84. More information on the EPSG dataset can be found at https://epsg.org and\nhttps://spatialreference.org/. Please note, that not all EPSG codes are supported by\nGMT / PyGMT.\n"
      ]
    },
    {
      "cell_type": "code",
      "execution_count": null,
      "metadata": {
        "collapsed": false
      },
      "outputs": [],
      "source": [
        "import pygmt\n\nfig = pygmt.Figure()\n\n# Pass the desired EPSG code and the width of the map (separated by a slash) to the\n# projection parameter\nfig.basemap(region=[-180, 180, -60, 60], projection=\"EPSG:3857/10c\", frame=30)\nfig.coast(land=\"gray\", shorelines=\"1/0.1p,gray10\")\n\nfig.show()"
      ]
    }
  ],
  "metadata": {
    "kernelspec": {
      "display_name": "Python 3",
      "language": "python",
      "name": "python3"
    },
    "language_info": {
      "codemirror_mode": {
        "name": "ipython",
        "version": 3
      },
      "file_extension": ".py",
      "mimetype": "text/x-python",
      "name": "python",
      "nbconvert_exporter": "python",
      "pygments_lexer": "ipython3",
      "version": "3.13.7"
    }
  },
  "nbformat": 4,
  "nbformat_minor": 0
}