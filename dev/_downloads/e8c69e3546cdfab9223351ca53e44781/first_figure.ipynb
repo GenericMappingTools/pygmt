{
  "cells": [
    {
      "cell_type": "code",
      "execution_count": null,
      "metadata": {
        "collapsed": false
      },
      "outputs": [],
      "source": [
        "%matplotlib inline"
      ]
    },
    {
      "cell_type": "markdown",
      "metadata": {},
      "source": [
        "\n# Making your first figure\n\nWelcome to PyGMT! Here we'll cover some of basic concepts, like creating simple\nfigures and naming conventions.\n"
      ]
    },
    {
      "cell_type": "markdown",
      "metadata": {},
      "source": [
        "## Loading the library\n\nAll modules and figure generation is accessible from the :mod:`pygmt` top\nlevel package:\n\n"
      ]
    },
    {
      "cell_type": "code",
      "execution_count": null,
      "metadata": {
        "collapsed": false
      },
      "outputs": [],
      "source": [
        "import pygmt"
      ]
    },
    {
      "cell_type": "markdown",
      "metadata": {},
      "source": [
        "## Creating figures\n\nAll figure generation in PyGMT is handled by the :class:`pygmt.Figure` class.\nStart a new figure by creating an instance of this class:\n\n"
      ]
    },
    {
      "cell_type": "code",
      "execution_count": null,
      "metadata": {
        "collapsed": false
      },
      "outputs": [],
      "source": [
        "fig = pygmt.Figure()"
      ]
    },
    {
      "cell_type": "markdown",
      "metadata": {},
      "source": [
        "Add elements to the figure using its methods. For example, let's use\n:meth:`pygmt.Figure.basemap` to start the creation of a map. We'll use the\n``region`` parameter to provide the longitude and latitude bounds, the\n``projection`` parameter to set the projection to Mercator (**M**) and the\nmap width to 15 cm, and the ``frame`` parameter to generate a frame with\nautomatic tick and annotation spacings.\n\n"
      ]
    },
    {
      "cell_type": "code",
      "execution_count": null,
      "metadata": {
        "collapsed": false
      },
      "outputs": [],
      "source": [
        "fig.basemap(region=[-90, -70, 0, 20], projection=\"M15c\", frame=True)"
      ]
    },
    {
      "cell_type": "markdown",
      "metadata": {},
      "source": [
        "Now we can add coastlines using :meth:`pygmt.Figure.coast` to this map using\nthe default resolution, line width, and color:\n\n"
      ]
    },
    {
      "cell_type": "code",
      "execution_count": null,
      "metadata": {
        "collapsed": false
      },
      "outputs": [],
      "source": [
        "fig.coast(shorelines=True)"
      ]
    },
    {
      "cell_type": "markdown",
      "metadata": {},
      "source": [
        "To see the figure, call :meth:`pygmt.Figure.show`:\n\n"
      ]
    },
    {
      "cell_type": "code",
      "execution_count": null,
      "metadata": {
        "collapsed": false
      },
      "outputs": [],
      "source": [
        "fig.show()"
      ]
    },
    {
      "cell_type": "markdown",
      "metadata": {},
      "source": [
        "You can also set the map region, projection, and frame type directly in other\nmethods without calling :meth:`gmt.Figure.basemap`:\n\n"
      ]
    },
    {
      "cell_type": "code",
      "execution_count": null,
      "metadata": {
        "collapsed": false
      },
      "outputs": [],
      "source": [
        "fig = pygmt.Figure()\nfig.coast(shorelines=True, region=[-90, -70, 0, 20], projection=\"M15c\", frame=True)\nfig.show()"
      ]
    },
    {
      "cell_type": "markdown",
      "metadata": {},
      "source": [
        "## Saving figures\n\nUse the method :meth:`pygmt.Figure.savefig` to save your figure to a file.\nThe figure format is inferred from the extension.\n\n.. code:: python\n\n    fig.savefig(\"central-america-shorelines.png\")\n\n## Note for experienced GMT users\n\nYou have probably noticed several things that are different from classic\ncommand-line GMT. Many of these changes reflect the new GMT modern execution\nmode that is part of GMT 6.\n\n1. As a general rule, the ``ps`` prefix has been removed from all ``ps*``\n   modules (PyGMT methods). For example, the name of the GMT 5 module\n   ``pscoast`` is ``coast`` in GMT 6 and PyGMT. The exceptions are: ``psxy``\n   which is now ``plot``, ``psxyz`` which is now ``plot3d``, and ``psscale``\n   which is now ``colorbar``.\n\n2. More details can be found in the :gmt-docs:`GMT cookbook introduction to\n   modern mode </cookbook/introduction.html#modern-and-classic-mode>`.\n\nA few are PyGMT exclusive (like the ``savefig`` method).\n\n1. The PyGMT parameters (called options or arguments in GMT) don't use the\n   GMT 1-letter syntax (**R**, **J**, **B**, etc). We use longer aliases for\n   these parameters and have some Python exclusive names. The mapping between\n   the GMT parameters and their PyGMT aliases should be straightforward.\n   For some modules, these aliases are still being developed.\n2. Parameters like ``region`` can take :class:`lists <list>` as well as\n   strings like ``1/2/3/4``.\n3. If a GMT option has no arguments (like ``-B`` instead of ``-Baf``), use a\n   ``True`` in Python. An empty string would also be acceptable. For repeated\n   parameters, such as ``-B+Loleron -Bxaf -By+lm``, provide a\n   :class:`list`: ``frame=[\"+Loleron\", \"xaf\", \"y+lm\"]``.\n4. There is no output redirecting to a PostScript file. The figure is\n   generated in the background and will only be shown or saved when you ask\n   for it.\n\n"
      ]
    }
  ],
  "metadata": {
    "kernelspec": {
      "display_name": "Python 3",
      "language": "python",
      "name": "python3"
    },
    "language_info": {
      "codemirror_mode": {
        "name": "ipython",
        "version": 3
      },
      "file_extension": ".py",
      "mimetype": "text/x-python",
      "name": "python",
      "nbconvert_exporter": "python",
      "pygments_lexer": "ipython3",
      "version": "3.9.7"
    }
  },
  "nbformat": 4,
  "nbformat_minor": 0
}