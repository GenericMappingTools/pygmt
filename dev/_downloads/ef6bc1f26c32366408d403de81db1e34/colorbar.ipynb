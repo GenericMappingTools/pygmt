{
  "cells": [
    {
      "cell_type": "markdown",
      "metadata": {},
      "source": [
        "\n# Colorbar\n\nThe :meth:`pygmt.Figure.colorbar` method creates a color scalebar. We must\nspecify the colormap via the ``cmap`` parameter, and optionally set the\nplacement via the ``position`` parameter. The full list of color palette tables\ncan be found at :gmt-docs:`cookbook/cpts.html`. You can set the ``position`` of\nthe colorbar using the following options:\n\n- **j/J**: placed inside/outside the plot bounding box using any 2-character\n  combination of vertical (**T**\\ op, **M**\\ iddle, **B**\\ ottom) and\n  horizontal (**L**\\ eft, **C**\\ enter, **R**\\ ight) alignment codes, e.g.\n  ``position=\"jTR\"`` for Top Right.\n- **g**: using map coordinates, e.g. ``position=\"g170/-45\"`` for longitude\n  170E, latitude 45S.\n- **x**: using paper coordinates, e.g. ``position=\"x5c/7c\"`` for 5 cm, 7 cm\n  from anchor point.\n- **n**: using normalized (0-1) coordinates, e.g. ``position=\"n0.4/0.8\"``.\n\nNote that the anchor point defaults to the bottom left (**BL**). Append ``+h``\nto ``position`` to get a horizontal colorbar instead of a vertical one.\n"
      ]
    },
    {
      "cell_type": "code",
      "execution_count": null,
      "metadata": {
        "collapsed": false
      },
      "outputs": [],
      "source": [
        "import pygmt\n\nfig = pygmt.Figure()\nfig.basemap(region=[0, 3, 6, 9], projection=\"x3c\", frame=[\"af\", \"WSne+tColorbars\"])\n\n# ============\n# Create a colorbar designed for seismic tomography - roma\n# Colorbar is placed at bottom center (BC) by default if no position is given\nfig.colorbar(cmap=\"roma\", frame=[\"x+lVelocity\", \"y+lm/s\"])\n\n# ============\n# Create a colorbar showing the scientific rainbow - batlow\nfig.colorbar(\n    cmap=\"batlow\",\n    # Colorbar positioned at map coordinates (g) longitude/latitude 0.3/8.7,\n    # with a length/width (+w) of 4 cm by 0.5 cm, and plotted horizontally (+h)\n    position=\"g0.3/8.7+w4c/0.5c+h\",\n    box=True,\n    frame=[\"x+lTemperature\", \"y+l\u00b0C\"],\n    scale=100,\n)\n\n# ============\n# Create a colorbar suitable for surface topography - oleron\nfig.colorbar(\n    cmap=\"oleron\",\n    # Colorbar placed outside the plot bounding box (J) at Middle Right (MR),\n    # offset (+o) by 1 cm horizontally and 0 cm vertically from anchor point,\n    # with a length/width (+w) of 7 cm by 0.5 cm and a box for NaN values (+n)\n    position=\"JMR+o1c/0c+w7c/0.5c+n+mc\",\n    # Note that the label 'Elevation' is moved to the opposite side and plotted\n    # vertically as a column of text using '+mc' in the position parameter\n    # above\n    frame=[\"x+lElevation\", \"y+lm\"],\n    scale=10,\n)\n\n# ============\n# Create a colorbar suitable for categorical data - hawaii\n# Set up the colormap\npygmt.makecpt(\n    cmap=\"hawaii\",\n    series=[0, 3, 1],\n    # Comma-separated string for the annotations of the colorbar\n    color_model=\"+cA,B,C,D\",\n)\n# Plot the colorbar\nfig.colorbar(\n    cmap=True,  # Use colormap set up above\n    # Colorbar placed inside the plot bounding box (j) at Bottom Left (BL),\n    # offset (+o) by 0.5 cm horizontally and 0.8 cm vertically from anchor\n    # point, and plotted horizontally (+h)\n    position=\"jBL+o0.5c/0.8c+h\",\n    box=True,\n    # Divide colorbar into equal-sized rectangles\n    equalsize=0.5,\n)\n\nfig.show()"
      ]
    }
  ],
  "metadata": {
    "kernelspec": {
      "display_name": "Python 3",
      "language": "python",
      "name": "python3"
    },
    "language_info": {
      "codemirror_mode": {
        "name": "ipython",
        "version": 3
      },
      "file_extension": ".py",
      "mimetype": "text/x-python",
      "name": "python",
      "nbconvert_exporter": "python",
      "pygments_lexer": "ipython3",
      "version": "3.11.3"
    }
  },
  "nbformat": 4,
  "nbformat_minor": 0
}