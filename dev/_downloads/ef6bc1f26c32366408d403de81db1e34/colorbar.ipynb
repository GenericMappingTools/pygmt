{
  "cells": [
    {
      "cell_type": "code",
      "execution_count": null,
      "metadata": {
        "collapsed": false
      },
      "outputs": [],
      "source": [
        "%matplotlib inline"
      ]
    },
    {
      "cell_type": "markdown",
      "metadata": {},
      "source": [
        "\n# Colorbar\n\nThe :meth:`pygmt.Figure.colorbar` method creates a color scalebar. We must\nspecify the colormap via the ``cmap`` parameter, and optionally set the\nplacement via the ``position`` parameter. The full list of color palette tables\ncan be found at :gmt-docs:`cookbook/cpts.html`. You can set the ``position`` of\nthe colorbar using the following options:\n\n- **j/J**: justified inside/outside the map frame using any 2 character\n  combination of vertical (**T**\\ op, **M**\\ iddle, **B**\\ ottom) and\n  horizontal (**L**\\ eft, **C**\\ enter, **R**\\ ight) alignment codes, e.g.\n  ``position=\"jTR\"`` for top right.\n- **g**: using map coordinates, e.g. ``position=\"g170/-45\"`` for longitude\n  170E, latitude 45S.\n- **x**: using paper coordinates, e.g. ``position=\"x5c/7c\"`` for 5 cm,7 cm from\n  anchor point.\n- **n**: using normalized (0-1) coordinates, e.g. ``position=\"n0.4/0.8\"``.\n\nNote that the anchor point defaults to the bottom left (**BL**). Append ``+h``\nto ``position`` to get a horizontal colorbar instead of a vertical one.\n"
      ]
    },
    {
      "cell_type": "code",
      "execution_count": null,
      "metadata": {
        "collapsed": false
      },
      "outputs": [],
      "source": [
        "import pygmt\n\nfig = pygmt.Figure()\nfig.basemap(region=[0, 3, 6, 9], projection=\"x3c\", frame=[\"af\", 'WSne+t\"Colorbars\"'])\n\n## Create a colorbar designed for seismic tomography - roma\n# Colorbar is placed at bottom center (BC) by default if no position is given\nfig.colorbar(cmap=\"roma\", frame=[\"x+lVelocity\", \"y+lm/s\"])\n\n## Create a colorbar showing the scientific rainbow - batlow\nfig.colorbar(\n    cmap=\"batlow\",\n    # Colorbar positioned at map coordinates (g) longitude/latitude 0.3/8.7,\n    # with a length/width (+w) of 4 cm by 0.5 cm, and plotted horizontally (+h)\n    position=\"g0.3/8.7+w4c/0.5c+h\",\n    box=True,\n    frame=[\"x+lTemperature\", r\"y+l\\260C\"],\n    scale=100,\n)\n\n## Create a colorbar suitable for surface topography - oleron\nfig.colorbar(\n    cmap=\"oleron\",\n    # Colorbar position justified outside map frame (J) at Middle Right (MR),\n    # offset (+o) by 1 cm horizontally and 0 cm vertically from anchor point,\n    # with a length/width (+w) of 7 cm by 0.5 cm and a box for NaN values (+n)\n    position=\"JMR+o1c/0c+w7c/0.5c+n+mc\",\n    # Note that the label 'Elevation' is moved to the opposite side and plotted\n    # vertically as a column of text using '+mc' in the position parameter\n    # above\n    frame=[\"x+lElevation\", \"y+lm\"],\n    scale=10,\n)\n\nfig.show()"
      ]
    }
  ],
  "metadata": {
    "kernelspec": {
      "display_name": "Python 3",
      "language": "python",
      "name": "python3"
    },
    "language_info": {
      "codemirror_mode": {
        "name": "ipython",
        "version": 3
      },
      "file_extension": ".py",
      "mimetype": "text/x-python",
      "name": "python",
      "nbconvert_exporter": "python",
      "pygments_lexer": "ipython3",
      "version": "3.10.5"
    }
  },
  "nbformat": 4,
  "nbformat_minor": 0
}