{
  "cells": [
    {
      "cell_type": "markdown",
      "metadata": {},
      "source": [
        "\n# Bit and hachure patterns\n\nIn addition to colors, PyGMT also allows using bit and hachure patterns to fill symbols,\npolygons, and other areas, via the ``fill`` parameter or similar parameters.\n\nExample method parameters that support bit and hachure patterns include:\n\n- :meth:`pygmt.Figure.coast`: Land and water masses via ``land`` and ``water``\n- :meth:`pygmt.Figure.histogram`: Histogram bars via ``fill``\n- :meth:`pygmt.Figure.meca`: Focal mechanisms via ``compressionfill`` and\n  ``extensionfill``\n- :meth:`pygmt.Figure.plot`: Symbols and polygons via ``fill``\n- :meth:`pygmt.Figure.rose`: Histogram sectors via ``fill``\n- :meth:`pygmt.Figure.solar`: Day-light terminators via ``fill``\n- :meth:`pygmt.Figure.ternary`: Symbols via ``fill``\n- :meth:`pygmt.Figure.velo`: Uncertainty wedges and velocity error ellipses via\n  ``uncertaintyfill``\n- :meth:`pygmt.Figure.wiggle`: Anomalies via ``fillpositive`` and ``fillnegative``\n\nGMT provides 90 predefined 1-bit patterns, which are numbered from 1 to 90. In addition,\ncustom 1-, 8-, or 24-bit image raster files can also be used as patterns.\n\nThese patterns can be specified via the :class:`pygmt.params.Pattern` class. The\npatterns can be customized with different resolution and different foreground and\nbackground colors. The foreground and background colors can also be inverted.\n"
      ]
    },
    {
      "cell_type": "code",
      "execution_count": null,
      "metadata": {
        "collapsed": false
      },
      "outputs": [],
      "source": [
        "import pygmt\nfrom pygmt.params import Pattern\n\n# A list of patterns that will be demonstrated.\n# By default, a pattern is plotted in black and white with a resolution of 300 dpi.\npatterns = [\n    # Predefined 1-bit pattern 8.\n    Pattern(8),\n    # Predefined 1-bit pattern 19.\n    Pattern(19),\n    # Pattern 19 with custom background (\"red3\") and foreground (\"lightbrown\").\n    Pattern(19, bgcolor=\"red3\", fgcolor=\"lightbrown\"),\n    # Invert the background and foreground.\n    Pattern(19, invert=True, bgcolor=\"red3\", fgcolor=\"lightbrown\"),\n    # Same as above, but with a 100 dpi resolution.\n    Pattern(19, bgcolor=\"red3\", fgcolor=\"lightbrown\", dpi=100),\n    # Same as above, but with a transparent background by setting bgcolor to \"\".\n    Pattern(19, bgcolor=\"\", fgcolor=\"lightbrown\", dpi=100),\n]\n\nfig = pygmt.Figure()\nfig.basemap(\n    region=[0, 10, 0, 12],\n    projection=\"X18c/10c\",\n    frame=\"rlbt+glightgray+tBit and Hachure Patterns\",\n)\ny = 11\nfor pattern in patterns:\n    # Plot a square with the pattern as fill.\n    # The square has a size of 2 centimeters with a 1 point thick, black outline.\n    fig.plot(x=1, y=y, style=\"s2c\", pen=\"1p,black\", fill=pattern)\n    # Add a description of the pattern.\n    fig.text(x=2, y=y, text=str(repr(pattern)), font=\"Courier-Bold\", justify=\"ML\")\n    y -= 2\nfig.show()"
      ]
    }
  ],
  "metadata": {
    "kernelspec": {
      "display_name": "Python 3",
      "language": "python",
      "name": "python3"
    },
    "language_info": {
      "codemirror_mode": {
        "name": "ipython",
        "version": 3
      },
      "file_extension": ".py",
      "mimetype": "text/x-python",
      "name": "python",
      "nbconvert_exporter": "python",
      "pygments_lexer": "ipython3",
      "version": "3.13.9"
    }
  },
  "nbformat": 4,
  "nbformat_minor": 0
}