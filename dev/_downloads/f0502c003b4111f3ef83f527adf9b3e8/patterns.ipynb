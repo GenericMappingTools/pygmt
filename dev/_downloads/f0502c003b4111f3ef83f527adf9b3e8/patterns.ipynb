{
  "cells": [
    {
      "cell_type": "markdown",
      "metadata": {},
      "source": [
        "\n# Bit and hachure patterns\n\nIn addition to colors, PyGMT also allows using bit and hachure patterns to fill\nsymbols, polygons, and other areas, via the ``fill`` parameter or similar parameters.\n\nExample method parameters that support bit and hachure patterns include:\n\n- :meth:`pygmt.Figure.coast`: Land and water masses via ``land`` and ``water``\n- :meth:`pygmt.Figure.histogram`: Histogram bars via ``fill``\n- :meth:`pygmt.Figure.meca`: Focal mechanisms via ``compressionfill`` and\n  ``extensionfill``\n- :meth:`pygmt.Figure.plot`: Symbols and polygons via ``fill``\n- :meth:`pygmt.Figure.rose`: Histogram sectors via ``fill``\n- :meth:`pygmt.Figure.solar`: Day-light terminators via ``fill``\n- :meth:`pygmt.Figure.ternary`: Symbols via ``fill``\n- :meth:`pygmt.Figure.velo`: Uncertainty wedges and velocity error ellipses via\n  ``uncertaintyfill``\n- :meth:`pygmt.Figure.wiggle`: Anomalies via ``fillpositive`` and ``fillnegative``\n\nGMT provides 90 predefined patterns that can be used in PyGMT. The patterns are numbered\nfrom 1 to 90, and can be colored and inverted. The resolution of the pattern\ncan be changed, and the background and foreground colors can be set. For a complete list\nof available patterns and the full syntax to specify a pattern, refer to the\n:doc:`/techref/patterns`.\n"
      ]
    },
    {
      "cell_type": "code",
      "execution_count": null,
      "metadata": {
        "collapsed": false
      },
      "outputs": [],
      "source": [
        "import pygmt\n\n# A list of patterns that will be demonstrated.\n# To use a pattern as fill append \"p\" and the number of the desired pattern.\n# By default, the pattern is plotted in black and white with a resolution of 300 dpi.\npatterns = [\n    # Plot a hachted pattern via pattern number 8\n    \"p8\",\n    # Plot a dotted pattern via pattern number 19\n    \"p19\",\n    # Set the background color (\"+b\") to \"red3\" and the foreground color (\"+f\") to\n    # \"lightgray\"\n    \"p19+bred3+flightbrown\",\n    # Invert the pattern by using a capitalized \"P\"\n    \"P19+bred3+flightbrown\",\n    # Change the resolution (\"+r\") to 100 dpi\n    \"p19+bred3+flightbrown+r100\",\n    # Make the background transparent by not giving a color after \"+b\";\n    # works analogous for the foreground\n    \"p19+b+flightbrown+r100\",\n]\n\nfig = pygmt.Figure()\nfig.basemap(\n    region=[0, 10, 0, 12],\n    projection=\"X10c\",\n    frame=\"rlbt+glightgray+tBit and Hachure Patterns\",\n)\n\ny = 11\nfor pattern in patterns:\n    # Plot a square with the pattern as fill.\n    # The square has a size of 2 centimeters with a 1 point thick, black outline.\n    fig.plot(x=2, y=y, style=\"s2c\", pen=\"1p,black\", fill=pattern)\n    # Add a description of the pattern.\n    fig.text(x=4, y=y, text=pattern, font=\"Courier-Bold\", justify=\"ML\")\n    y -= 2\nfig.show()"
      ]
    }
  ],
  "metadata": {
    "kernelspec": {
      "display_name": "Python 3",
      "language": "python",
      "name": "python3"
    },
    "language_info": {
      "codemirror_mode": {
        "name": "ipython",
        "version": 3
      },
      "file_extension": ".py",
      "mimetype": "text/x-python",
      "name": "python",
      "nbconvert_exporter": "python",
      "pygments_lexer": "ipython3",
      "version": "3.13.2"
    }
  },
  "nbformat": 4,
  "nbformat_minor": 0
}