{
  "cells": [
    {
      "cell_type": "markdown",
      "metadata": {},
      "source": [
        "\n# Velocity arrows and confidence ellipses\n\nThe :meth:`pygmt.Figure.velo` method can be used to plot mean velocity arrows and\nconfidence ellipses. The example below plots red velocity arrows with lightblue\nconfidence ellipses outlined in red with the east_velocity x north_velocity used for\nthe station names. Note that the velocity arrows are scaled by 0.2 and the 39%\nconfidence limit will give an ellipse which fits inside a rectangle of dimension\neast_sigma by north_sigma.\n"
      ]
    },
    {
      "cell_type": "code",
      "execution_count": null,
      "metadata": {
        "collapsed": false
      },
      "outputs": [],
      "source": [
        "import pandas as pd\nimport pygmt\n\nfig = pygmt.Figure()\ndf = pd.DataFrame(\n    data={\n        \"x\": [0, -8, 0, -5, 5, 0],\n        \"y\": [-8, 5, 0, -5, 0, -5],\n        \"east_velocity\": [0, 3, 4, 6, -6, 6],\n        \"north_velocity\": [0, 3, 6, 4, 4, -4],\n        \"east_sigma\": [4, 0, 4, 6, 6, 6],\n        \"north_sigma\": [6, 0, 6, 4, 4, 4],\n        \"correlation_EN\": [0.5, 0.5, 0.5, 0.5, -0.5, -0.5],\n        \"SITE\": [\"0x0\", \"3x3\", \"4x6\", \"6x4\", \"-6x4\", \"6x-4\"],\n    }\n)\nfig.velo(\n    data=df,\n    region=[-10, 8, -10, 6],\n    projection=\"x0.8c\",\n    frame=[\"WSne\", \"2g2f\"],\n    spec=\"e0.2/0.39+f18\",\n    uncertaintyfill=\"lightblue1\",\n    pen=\"0.6p,red\",\n    line=True,\n    vector=\"0.3c+p1p+e+gred\",\n)\n\nfig.show()"
      ]
    }
  ],
  "metadata": {
    "kernelspec": {
      "display_name": "Python 3",
      "language": "python",
      "name": "python3"
    },
    "language_info": {
      "codemirror_mode": {
        "name": "ipython",
        "version": 3
      },
      "file_extension": ".py",
      "mimetype": "text/x-python",
      "name": "python",
      "nbconvert_exporter": "python",
      "pygments_lexer": "ipython3",
      "version": "3.13.5"
    }
  },
  "nbformat": 4,
  "nbformat_minor": 0
}