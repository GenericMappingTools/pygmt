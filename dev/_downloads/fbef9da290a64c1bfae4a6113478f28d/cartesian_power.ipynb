{
  "cells": [
    {
      "cell_type": "markdown",
      "metadata": {},
      "source": [
        "\n# Cartesian power\n\n**X**\\ *width*\\ [**p**\\ *pvalue*][/*height*\\ [**p**\\ *pvalue*]] or\n**x**\\ *x-scale*\\ [**p**\\ *pvalue*][/*y-scale*\\ [**p**\\ *pvalue*]]\n\nGive the *width* of the figure and the optional argument *height*.\nThe lowercase version **x** is similar to **X** but expects\nan *x-scale* and an optional *y-scale*.\nEach axis with a power transformation requires **p** and the exponent\nfor that axis after its size argument.\n"
      ]
    },
    {
      "cell_type": "code",
      "execution_count": null,
      "metadata": {
        "collapsed": false
      },
      "outputs": [],
      "source": [
        "import numpy as np\nimport pygmt\n\n# Create a list of y-values 0-10\nyvalues = np.arange(0, 11)\n# Create a list of x-values that are the square of the y-values\nxvalues = yvalues**2\n\nfig = pygmt.Figure()\nfig.basemap(\n    region=[0, 100, 0, 10],\n    # Set the power transformation of the x-axis, with a power of 0.5\n    projection=\"X15cp0.5/10c\",\n    # Set the figures frame as well as annotations and ticks\n    # The \"p\" forces to show only square numbers as annotations of the x-axis\n    frame=[\"WSne+gbisque\", \"xfga1p\", \"ya2f1g\"],\n)\n\n# Set the line thickness to \"thick\" (equals \"1p\", i.e. 1 point)\n# Use as color \"black\" (default) and as style \"solid\" (default)\nfig.plot(x=xvalues, y=yvalues, pen=\"thick,black,solid\")\n\n# Plot the data points on top of the line\n# Use circles with 0.3 centimeters diameter, with an \"orange\" fill and a \"black\" outline\n# Symbols are not clipped if they go off the figure\nfig.plot(x=xvalues, y=yvalues, style=\"c0.3c\", fill=\"orange\", pen=\"black\", no_clip=True)\nfig.show()"
      ]
    }
  ],
  "metadata": {
    "kernelspec": {
      "display_name": "Python 3",
      "language": "python",
      "name": "python3"
    },
    "language_info": {
      "codemirror_mode": {
        "name": "ipython",
        "version": 3
      },
      "file_extension": ".py",
      "mimetype": "text/x-python",
      "name": "python",
      "nbconvert_exporter": "python",
      "pygments_lexer": "ipython3",
      "version": "3.13.9"
    }
  },
  "nbformat": 4,
  "nbformat_minor": 0
}