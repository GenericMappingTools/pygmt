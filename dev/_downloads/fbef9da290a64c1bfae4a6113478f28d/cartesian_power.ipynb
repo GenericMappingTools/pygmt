{
  "cells": [
    {
      "cell_type": "code",
      "execution_count": null,
      "metadata": {
        "collapsed": false
      },
      "outputs": [],
      "source": [
        "%matplotlib inline"
      ]
    },
    {
      "cell_type": "markdown",
      "metadata": {},
      "source": [
        "\n# Cartesian power\n\n**X**\\ *width*\\ [**p**\\ *pvalue*]/[*height*\\ [**p**\\ *pvalue*]]: Give the\n*width* of the figure and the optional argument *height*. The axis or axes with\na logarithmic transformation requires **p** and the power transformation for\nthat axis.\n"
      ]
    },
    {
      "cell_type": "code",
      "execution_count": null,
      "metadata": {
        "collapsed": false
      },
      "outputs": [],
      "source": [
        "import numpy as np\nimport pygmt\n\n# Create a list of y values 0-10\nyvalues = np.arange(0, 11)\n# Create a list of x-values that are the square of the y-values\nxvalues = yvalues**2\n\nfig = pygmt.Figure()\nfig.plot(\n    region=[0, 100, 0, 10],\n    # Set the power transformation of the x-axis, with a power of 0.5\n    projection=\"X15cp0.5/10c\",\n    # Set the figures frame, color, and gridlines\n    frame=[\"WSne+givory\", \"xa1p\", \"ya2f1\"],\n    # Set the line thickness to *thick*\n    # Use the default color *black* and the default style *solid*\n    pen=\"thick\",\n    x=xvalues,\n    y=yvalues,\n)\n# Plot x,y values as points on the line\n# Style of points is 0.2 cm circles, color is *green* with a *black* outline\n# Points are not clipped if they go off the figure\nfig.plot(x=xvalues, y=yvalues, style=\"c0.2c\", color=\"green\", no_clip=True, pen=\"black\")\nfig.show()"
      ]
    }
  ],
  "metadata": {
    "kernelspec": {
      "display_name": "Python 3",
      "language": "python",
      "name": "python3"
    },
    "language_info": {
      "codemirror_mode": {
        "name": "ipython",
        "version": 3
      },
      "file_extension": ".py",
      "mimetype": "text/x-python",
      "name": "python",
      "nbconvert_exporter": "python",
      "pygments_lexer": "ipython3",
      "version": "3.10.5"
    }
  },
  "nbformat": 4,
  "nbformat_minor": 0
}