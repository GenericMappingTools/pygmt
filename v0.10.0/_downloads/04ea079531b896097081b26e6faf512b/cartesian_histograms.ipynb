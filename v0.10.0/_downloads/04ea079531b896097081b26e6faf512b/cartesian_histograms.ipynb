{
  "cells": [
    {
      "cell_type": "markdown",
      "metadata": {},
      "source": [
        "\n# Cartesian histograms\n\nCartesian histograms can be generated using the :meth:`pygmt.Figure.histogram`\nmethod. In this tutorial, different histogram related aspects are addressed:\n\n- Using vertical and horizontal bars\n- Using stair-steps\n- Showing counts and frequency percent\n- Adding annotations to the bars\n- Showing cumulative values\n- Using color and pattern as fill for the bars\n- Using overlaid, stacked, and grouped bars\n"
      ]
    },
    {
      "cell_type": "code",
      "execution_count": null,
      "metadata": {
        "collapsed": false
      },
      "outputs": [],
      "source": [
        "# Import the required packages\nimport numpy as np\nimport pygmt"
      ]
    },
    {
      "cell_type": "markdown",
      "metadata": {},
      "source": [
        "Generate random data from a normal distribution:\n\n"
      ]
    },
    {
      "cell_type": "code",
      "execution_count": null,
      "metadata": {
        "collapsed": false
      },
      "outputs": [],
      "source": [
        "np.random.seed(100)\n\n# Mean of distribution\nmean = 100\n# Standard deviation of distribution\nstddev = 20\n\n# Create two data sets\ndata01 = np.random.normal(mean, stddev, 42)\ndata02 = np.random.normal(mean, stddev * 2, 42)"
      ]
    },
    {
      "cell_type": "markdown",
      "metadata": {},
      "source": [
        "## Vertical and horizontal bars\nTo define the width of the bins, the ``series`` parameter has to be\nspecified. The bars can be filled via the ``fill`` parameter with either a\ncolor or a pattern (see later in this tutorial). Use the ``pen`` parameter\nto adjust width, color, and style of the outlines. By default, a histogram\nwith vertical bars is created. Horizontal bars can be achieved via\n``horizontal=True``.\n\n"
      ]
    },
    {
      "cell_type": "code",
      "execution_count": null,
      "metadata": {
        "collapsed": false
      },
      "outputs": [],
      "source": [
        "# Create new figure instance\nfig = pygmt.Figure()\n\n# Create histogram for data01 with vertical bars\nfig.histogram(\n    # Define the plot range as a list of xmin, xmax, ymin, ymax\n    # Let ymin and ymax determined automatically by setting both to the same\n    # value\n    region=[0, 200, 0, 0],\n    projection=\"X10c\",  # Cartesian projection with a width of 10 centimeters\n    # Add frame, annotations (a), ticks (f), and y-axis label (+l) \"Counts\"\n    # The numbers give the steps of annotations and ticks\n    frame=[\"WStr\", \"xaf10\", \"ya1f1+lCounts\"],\n    data=data01,\n    # Set the bin width via the \"series\" parameter\n    series=10,\n    # Fill the bars with color \"red3\"\n    fill=\"red3\",\n    # Draw a 1-point thick solid outline in \"darkgray\" around the bars\n    pen=\"1p,darkgray,solid\",\n    # Choose counts via the \"histtype\" parameter\n    histtype=0,\n)\n\n# Shift plot origin 12 centimeters to the right\nfig.shift_origin(xshift=\"12c\")\n\n# Create histogram for data01 with horizontal bars\nfig.histogram(\n    region=[0, 200, 0, 0],\n    projection=\"X10c\",\n    frame=[\"WStr\", \"xaf10\", \"ya1f1+lCounts\"],\n    data=data01,\n    series=10,\n    fill=\"red3\",\n    pen=\"1p,darkgray,solid\",\n    histtype=0,\n    # Use horizontal bars\n    # Please note the flip of the x and y axes regarding annotations, ticks,\n    # gridlines, and axis labels\n    horizontal=True,\n)\n\nfig.show()"
      ]
    },
    {
      "cell_type": "markdown",
      "metadata": {},
      "source": [
        "## Stair-steps\nA stair-step diagram can be created by setting ``stairs=True``. Then only\nthe outer outlines of the bars are drawn, and no internal bars are visible.\n\n"
      ]
    },
    {
      "cell_type": "code",
      "execution_count": null,
      "metadata": {
        "collapsed": false
      },
      "outputs": [],
      "source": [
        "# Create new figure instance\nfig = pygmt.Figure()\n\n# Create histogram for data01\nfig.histogram(\n    region=[0, 200, 0, 0],\n    projection=\"X10c\",\n    frame=[\"WSne\", \"xaf10\", \"ya1f1+lCounts\"],\n    data=data01,\n    series=10,\n    # Draw a 1-point thick dotted outline in \"red3\"\n    pen=\"1p,red3,dotted\",\n    histtype=0,\n    # Draw stair-steps in stead of bars\n    stairs=True,\n)\n\n# Shift plot origin 12 centimeters to the right\nfig.shift_origin(xshift=\"12c\")\n\n# Create histogram for data02\nfig.histogram(\n    region=[0, 200, 0, 0],\n    projection=\"X10c\",\n    frame=[\"WSne\", \"xaf10\", \"ya1f1+lCounts\"],\n    data=data02,\n    series=10,\n    # Draw a 1.5-point thick dashed outline in \"orange\"\n    pen=\"1.5p,orange,dashed\",\n    histtype=0,\n    stairs=True,\n)\n\nfig.show()"
      ]
    },
    {
      "cell_type": "markdown",
      "metadata": {},
      "source": [
        "## Counts and frequency percent\nBy default, a histogram showing the counts in each bin is created\n(``histtype=0``). To show the frequency percent set the ``histtpye``\nparameter to ``1``. For further options please have a look at the\ndocumentation of :meth:`pygmt.Figure.histogram`.\n\n"
      ]
    },
    {
      "cell_type": "code",
      "execution_count": null,
      "metadata": {
        "collapsed": false
      },
      "outputs": [],
      "source": [
        "# Create new figure instance\nfig = pygmt.Figure()\n\n# Create histogram for data02 showing counts\nfig.histogram(\n    region=[0, 200, 0, 0],\n    projection=\"X10c\",\n    frame=[\"WSnr\", \"xaf10\", \"ya1f1+lCounts\"],\n    data=data02,\n    series=10,\n    fill=\"orange\",\n    pen=\"1p,darkgray,solid\",\n    # Choose counts via the \"histtype\" parameter\n    histtype=0,\n)\n\n# Shift plot origin 11 centimeters to the right\nfig.shift_origin(xshift=\"11c\")\n\n# Create histogram for data02 showing frequency percent\nfig.histogram(\n    region=[0, 200, 0, 0],\n    projection=\"X10c\",\n    # Add suffix % (+u)\n    frame=[\"lSnE\", \"xaf10\", \"ya2f1+u%+lFrequency percent\"],\n    data=data02,\n    series=10,\n    fill=\"orange\",\n    pen=\"1p,darkgray,solid\",\n    # Choose frequency percent via the \"histtype\" parameter\n    histtype=1,\n)\n\nfig.show()"
      ]
    },
    {
      "cell_type": "markdown",
      "metadata": {},
      "source": [
        "## Cumulative values\nTo create a histogram showing the cumulative values set ``cumulative=True``.\nHere, the bars of the cumulative histogram are filled with a pattern via\nthe ``fill`` parameter. Annotate each bar with the counts it represents\nusing the ``annotate`` parameter.\n\n"
      ]
    },
    {
      "cell_type": "code",
      "execution_count": null,
      "metadata": {
        "collapsed": false
      },
      "outputs": [],
      "source": [
        "# Create new figure instance\nfig = pygmt.Figure()\n\n# Create histogram for data01 showing the counts per bin\nfig.histogram(\n    region=[0, 200, 0, len(data01) + 1],\n    projection=\"X10c\",\n    frame=[\"WSne\", \"xaf10\", \"ya5f1+lCounts\"],\n    data=data01,\n    series=10,\n    fill=\"red3\",\n    pen=\"1p,darkgray,solid\",\n    histtype=0,\n    # Annotate each bar with the counts it represents\n    annotate=True,\n)\n\n# Shift plot origin 11 centimeters to the right\nfig.shift_origin(xshift=\"11c\")\n\n# Create histogram for data01 showing the cumulative counts\nfig.histogram(\n    region=[0, 200, 0, len(data01) + 1],\n    projection=\"X10c\",\n    frame=[\"wSnE\", \"xaf10\", \"ya5f1+lCumulative counts\"],\n    data=data01,\n    series=10,\n    # Use pattern (p) number 8 as fill for the bars\n    # Set the background (+b) to white [Default]\n    # Set the foreground (+f) to black [Default]\n    fill=\"p8+bwhite+fblack\",\n    pen=\"1p,darkgray,solid\",\n    histtype=0,\n    # Show cumulative counts\n    cumulative=True,\n    # Offset (+o) the label by 10 points in negative y-direction\n    annotate=\"+o-10p\",\n)\n\nfig.show()"
      ]
    },
    {
      "cell_type": "markdown",
      "metadata": {},
      "source": [
        "## Overlaid bars\nOverlaid or overlapping bars can be achieved by plotting two or serveral\nhistograms, each for one data set, on top of each other. The legend entry\ncan be specified via the ``label`` parameter.\n\nLimitations of histograms with overlaid bars are:\n\n- Mixing of colors or/and patterns\n- Visually more colors or/and patterns than data sets\n- Visually a \"third histogram\" (or more in case of more than two data sets)\n\n"
      ]
    },
    {
      "cell_type": "code",
      "execution_count": null,
      "metadata": {
        "collapsed": false
      },
      "outputs": [],
      "source": [
        "# Create new figure instance\nfig = pygmt.Figure()\n\n# Create histogram for data01\nfig.histogram(\n    region=[0, 200, 0, 0],\n    projection=\"X10c\",\n    frame=[\"WSne\", \"xaf10\", \"ya1f1+lCounts\"],\n    data=data01,\n    series=10,\n    fill=\"red3\",\n    pen=\"1p,darkgray,solid\",\n    histtype=0,\n    # Set legend entry\n    label=\"data01\",\n)\n\n# Create histogram for data02\n# It is plotted on top of the histogram for data01\nfig.histogram(\n    data=data02,\n    series=10,\n    # Fill bars with color \"orange\", use a transparency of 50% (\"@50\")\n    fill=\"orange@50\",\n    pen=\"1p,darkgray,solid\",\n    histtype=0,\n    label=\"data02\",\n)\n\n# Add legend\nfig.legend()\n\nfig.show()"
      ]
    },
    {
      "cell_type": "markdown",
      "metadata": {},
      "source": [
        "## Stacked bars\nHistograms with stacked bars are not directly supported by PyGMT. Thus,\nbefore plotting, combined data sets have to be created from the single data\nsets. Then, stacked bars can be achieved similar to overlaid bars via\nplotting two or several histograms on top of each other.\n\nLimitations of histograms with stacked bars are:\n\n- No common baseline\n- Partly not directly clear whether overlaid or stacked bars\n\n"
      ]
    },
    {
      "cell_type": "code",
      "execution_count": null,
      "metadata": {
        "collapsed": false
      },
      "outputs": [],
      "source": [
        "# Combine the two data sets to one data set\ndata_merge = np.concatenate((data01, data02), axis=None)\n\n# Create new figure instance\nfig = pygmt.Figure()\n\n# Create histogram for data02 by using the combined data set\nfig.histogram(\n    region=[0, 200, 0, 0],\n    projection=\"X10c\",\n    frame=[\"WSne\", \"xaf10\", \"ya1f1+lCounts\"],\n    data=data_merge,\n    series=10,\n    fill=\"orange\",\n    pen=\"1p,darkgray,solid\",\n    histtype=0,\n    # The combined data set appears in the final histogram visually\n    # as data set data02\n    label=\"data02\",\n)\n\n# Create histogram for data01\n# It is plotted on top of the histogram for data02\nfig.histogram(\n    data=data01,\n    series=10,\n    fill=\"red3\",\n    pen=\"1p,darkgray,solid\",\n    histtype=0,\n    label=\"data01\",\n)\n\n# Add legend\nfig.legend()\n\nfig.show()"
      ]
    },
    {
      "cell_type": "markdown",
      "metadata": {},
      "source": [
        "## Grouped bars\nBy setting the ``barwidth`` parameter in respect to the values passed to the\n``series`` parameter histograms with grouped bars can be created.\n\nLimitations of histograms with grouped bars are:\n\n- Careful setting width and position of the bars in respect to the bin width\n- Difficult to see the variations of the single data sets\n\n"
      ]
    },
    {
      "cell_type": "code",
      "execution_count": null,
      "metadata": {
        "collapsed": false
      },
      "outputs": [],
      "source": [
        "# Width used for binning the data\nbinwidth = 10\n\n# Create new figure instance\nfig = pygmt.Figure()\n\n# Create histogram for data01\nfig.histogram(\n    region=[0, 200, 0, 0],\n    projection=\"X10c\",\n    frame=[\"WSne\", \"xaf10g10\", \"ya1f1+lCounts\"],\n    data=data01,\n    series=binwidth,\n    fill=\"red3\",\n    pen=\"1p,darkgray,solid\",\n    histtype=0,\n    # Calculate the bar width in respect to the bin width, here for two\n    # data sets half of the bin width\n    # Offset (+o) the bars to align each bar with the left limit of the\n    # corresponding bin\n    barwidth=f\"{binwidth/2}+o-{binwidth/4}\",\n    label=\"data01\",\n)\n\n# Create histogram for data02\nfig.histogram(\n    data=data02,\n    series=binwidth,\n    fill=\"orange\",\n    pen=\"1p,darkgray,solid\",\n    histtype=0,\n    barwidth=f\"{binwidth/2}+o{binwidth/4}\",\n    label=\"data02\",\n)\n\n# Add legend\nfig.legend()\n\nfig.show()"
      ]
    }
  ],
  "metadata": {
    "kernelspec": {
      "display_name": "Python 3",
      "language": "python",
      "name": "python3"
    },
    "language_info": {
      "codemirror_mode": {
        "name": "ipython",
        "version": 3
      },
      "file_extension": ".py",
      "mimetype": "text/x-python",
      "name": "python",
      "nbconvert_exporter": "python",
      "pygments_lexer": "ipython3",
      "version": "3.11.3"
    }
  },
  "nbformat": 4,
  "nbformat_minor": 0
}