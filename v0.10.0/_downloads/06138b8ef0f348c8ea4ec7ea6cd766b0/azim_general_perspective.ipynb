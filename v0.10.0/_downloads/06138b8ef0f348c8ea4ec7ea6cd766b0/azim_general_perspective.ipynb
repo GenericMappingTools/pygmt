{
  "cells": [
    {
      "cell_type": "markdown",
      "metadata": {},
      "source": [
        "\n# General Perspective\n\nThe general perspective projection imitates the view of the Earth from a finite\npoint in space. In a full view of the earth one third of its surface area can\nbe seen.\n\n**g**\\ *lon0/lat0*\\ */scale*\\ [**+a**\\ *azimuth*]\\\n[**+t**\\ *tilt*]\\ [**+v**\\ *vwidth/vheight*]\\ [**+w**\\ *twist*]\\\n[**+z**\\ *altitude*] or **G**\\ *lon0/lat0*\\ */width*\\\n[**+a**\\ *azimuth*]\\ [**+t**\\ *tilt*]\\ [**+v**\\ *vwidth/vheight*]\\\n[**+w**\\ *twist*]\\ [**+z**\\ *altitude*]\n\nThe projection type is set with **g** or **G**. *lon0/lat0* specifies the\nprojection center and *scale* or *width* determine the size of the figure.\nWith **+a**\\ *azimuth* the direction (in degrees) in which you are looking is\nspecified, measured clockwise from north. **+t**\\ *tilt* is given in degrees\nand is the viewing angle relative to zenith. A tilt of 0\u00b0 is looking straight\ndown, 60\u00b0 is looking 30\u00b0 above horizon. The viewport angle in degrees is\ndescribed via **+v**\\ *vwidth/vheight* and **+w**\\ *twist* is the clockwise\nrotation of the image (in degrees). **+z**\\ *altitude* sets the height in km\nof the viewpoint above local sea level (If altitude is less than 10, then it is\nthe distance from the center of the earth to the viewpoint in earth radii).\n\nThe example shows the coast of Northern Europe viewed from 250 km above sea\nlevel looking 30\u00b0 from north at a tilt of 45\u00b0. The height and width of the\nviewing angle is both 60\u00b0, which imitates viewing with naked eye.\n"
      ]
    },
    {
      "cell_type": "code",
      "execution_count": null,
      "metadata": {
        "collapsed": false
      },
      "outputs": [],
      "source": [
        "import pygmt\n\nfig = pygmt.Figure()\nfig.coast(\n    projection=\"G4/52/12c+a30+t45+v60/60+w0+z250\",\n    region=\"g\",\n    frame=[\"x10g10\", \"y5g5\"],\n    land=\"gray\",\n)\nfig.show()"
      ]
    }
  ],
  "metadata": {
    "kernelspec": {
      "display_name": "Python 3",
      "language": "python",
      "name": "python3"
    },
    "language_info": {
      "codemirror_mode": {
        "name": "ipython",
        "version": 3
      },
      "file_extension": ".py",
      "mimetype": "text/x-python",
      "name": "python",
      "nbconvert_exporter": "python",
      "pygments_lexer": "ipython3",
      "version": "3.11.3"
    }
  },
  "nbformat": 4,
  "nbformat_minor": 0
}