{
  "cells": [
    {
      "cell_type": "markdown",
      "metadata": {},
      "source": [
        "\n# Cartesian logarithmic\n\n**X**\\ *width*\\ [**l**][/*height*\\ [**l**]] or\n**x**\\ *x-scale*\\ [**l**][/*y-scale*\\ [**l**]]\n\nGive the *width* of the figure and the optional *height*.\nThe lower-case version **x** is similar to **X** but expects\nan *x-scale* and an optional *y-scale*.\nEach axis with a logarithmic transformation requires **l** after\nits size argument.\n"
      ]
    },
    {
      "cell_type": "code",
      "execution_count": null,
      "metadata": {
        "collapsed": false
      },
      "outputs": [],
      "source": [
        "import numpy as np\nimport pygmt\n\n# Create a list of x-values 0-100\nxline = np.arange(0, 101)\n# Create a list of y-values that are the square root of the x-values\nyline = xline**0.5\n# Create a list of x-values for every 10 in 0-100\nxpoints = np.arange(0, 101, 10)\n# Create a list of y-values that are the square root of the x-values\nypoints = xpoints**0.5\n\nfig = pygmt.Figure()\nfig.plot(\n    region=[1, 100, 0, 10],\n    # Set a logarithmic transformation on the x-axis\n    projection=\"X15cl/10c\",\n    # Set the figures frame and color as well as\n    # annotations, ticks, and gridlines\n    frame=[\"WSne+gbisque\", \"xa2g3\", \"ya2f1g2\"],\n    x=xline,\n    y=yline,\n    # Set the line thickness to \"1p\", the color to \"blue\",\n    # and the style to \"-\", i.e. \"dashed\"\n    pen=\"1p,blue,-\",\n)\n# Plot square root values as points on the line\n# Style of points is 0.3 cm squares, color fill is \"red\" with a \"black\" outline\n# Points are not clipped if they go off the figure\nfig.plot(x=xpoints, y=ypoints, style=\"s0.3c\", fill=\"red\", no_clip=True, pen=\"black\")\nfig.show()"
      ]
    }
  ],
  "metadata": {
    "kernelspec": {
      "display_name": "Python 3",
      "language": "python",
      "name": "python3"
    },
    "language_info": {
      "codemirror_mode": {
        "name": "ipython",
        "version": 3
      },
      "file_extension": ".py",
      "mimetype": "text/x-python",
      "name": "python",
      "nbconvert_exporter": "python",
      "pygments_lexer": "ipython3",
      "version": "3.11.3"
    }
  },
  "nbformat": 4,
  "nbformat_minor": 0
}