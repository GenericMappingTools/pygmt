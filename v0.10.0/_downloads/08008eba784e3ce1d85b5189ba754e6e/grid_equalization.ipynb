{
  "cells": [
    {
      "cell_type": "markdown",
      "metadata": {},
      "source": [
        "\n# Performing grid histogram equalization\nThe :meth:`pygmt.grdhisteq.equalize_grid` method creates a grid using\nstatistics based on a cumulative distribution function.\n"
      ]
    },
    {
      "cell_type": "code",
      "execution_count": null,
      "metadata": {
        "collapsed": false
      },
      "outputs": [],
      "source": [
        "import pygmt"
      ]
    },
    {
      "cell_type": "markdown",
      "metadata": {},
      "source": [
        "## Load sample data\nLoad the sample Earth relief data for a region around Yosemite valley\nand use :func:`pygmt.grd2xyz` to create a :class:`pandas.Series` with the\nz-values.\n\n"
      ]
    },
    {
      "cell_type": "code",
      "execution_count": null,
      "metadata": {
        "collapsed": false
      },
      "outputs": [],
      "source": [
        "grid = pygmt.datasets.load_earth_relief(\n    resolution=\"03s\", region=[-119.825, -119.4, 37.6, 37.825]\n)\ngrid_dist = pygmt.grd2xyz(grid=grid, output_type=\"pandas\")[\"elevation\"]"
      ]
    },
    {
      "cell_type": "markdown",
      "metadata": {},
      "source": [
        "## Plot the original digital elevation model and data distribution\nFor comparison, we will create a map of the original digital elevation\nmodel and a histogram showing the distribution of elevation data values.\n\n"
      ]
    },
    {
      "cell_type": "code",
      "execution_count": null,
      "metadata": {
        "collapsed": false
      },
      "outputs": [],
      "source": [
        "# Create an instance of the Figure class\nfig = pygmt.Figure()\n# Define figure configuration\npygmt.config(FORMAT_GEO_MAP=\"ddd.x\", MAP_FRAME_TYPE=\"plain\")\n# Define the colormap for the figure\npygmt.makecpt(series=[500, 3540], cmap=\"turku\")\n# Setup subplots with two panels\nwith fig.subplot(\n    nrows=1, ncols=2, figsize=(\"13.5c\", \"4c\"), title=\"Digital Elevation Model\"\n):\n    # Plot the original digital elevation model in the first panel\n    with fig.set_panel(panel=0):\n        fig.grdimage(grid=grid, projection=\"M?\", frame=\"WSne\", cmap=True)\n    # Plot a histogram showing the z-value distribution in the original digital\n    # elevation model\n    with fig.set_panel(panel=1):\n        fig.histogram(\n            data=grid_dist,\n            projection=\"X?\",\n            region=[500, 3600, 0, 20],\n            series=[500, 3600, 100],\n            frame=[\"wnSE\", \"xaf+lElevation (m)\", \"yaf+lPercent frequency\"],\n            cmap=True,\n            histtype=1,\n            pen=\"1p,black\",\n        )\n        fig.colorbar(position=\"JMR+o1.5c/0c+w3c/0.3c\", frame=True)\nfig.show()"
      ]
    },
    {
      "cell_type": "markdown",
      "metadata": {},
      "source": [
        "## Equalize grid based on a linear distribution\nThe :meth:`pygmt.grdhisteq.equalize_grid` method creates a new grid with the\nz-values representing the position of the original z-values in a given\ncumulative distribution. By default, it computes the position in a linear\ndistribution. Here, we equalize the grid into nine divisions based on a\nlinear distribution and produce a :class:`pandas.Series` with the z-values\nfor the new grid.\n\n"
      ]
    },
    {
      "cell_type": "code",
      "execution_count": null,
      "metadata": {
        "collapsed": false
      },
      "outputs": [],
      "source": [
        "divisions = 9\nlinear = pygmt.grdhisteq.equalize_grid(grid=grid, divisions=divisions)\nlinear_dist = pygmt.grd2xyz(grid=linear, output_type=\"pandas\")[\"z\"]"
      ]
    },
    {
      "cell_type": "markdown",
      "metadata": {},
      "source": [
        "## Calculate the bins used for data transformation\nThe :meth:`pygmt.grdhisteq.compute_bins` method reports statistics about the\ngrid equalization. Here, we report the bins that would linearly divide the\noriginal data into 9 divisions with equal area. In our new grid produced by\n:meth:`pygmt.grdhisteq.equalize_grid`, all the grid cells with values between\n``start`` and ``stop`` of ``bin_id=0`` are assigned the value 0, all grid\ncells with values between ``start`` and ``stop`` of ``bin_id=1`` are assigned\nthe value 1, and so on.\n\n"
      ]
    },
    {
      "cell_type": "code",
      "execution_count": null,
      "metadata": {
        "collapsed": false
      },
      "outputs": [],
      "source": [
        "pygmt.grdhisteq.compute_bins(grid=grid, divisions=divisions)"
      ]
    },
    {
      "cell_type": "markdown",
      "metadata": {},
      "source": [
        "## Plot the equally distributed data\nHere we create a map showing the grid that has been transformed to\nhave a linear distribution with nine divisions and a histogram of the data\nvalues.\n\n"
      ]
    },
    {
      "cell_type": "code",
      "execution_count": null,
      "metadata": {
        "collapsed": false
      },
      "outputs": [],
      "source": [
        "# Create an instance of the Figure class\nfig = pygmt.Figure()\n# Define figure configuration\npygmt.config(FORMAT_GEO_MAP=\"ddd.x\", MAP_FRAME_TYPE=\"plain\")\n# Define the colormap for the figure\npygmt.makecpt(series=[0, divisions, 1], cmap=\"lajolla\")\n# Setup subplots with two panels\nwith fig.subplot(\n    nrows=1, ncols=2, figsize=(\"13.5c\", \"4c\"), title=\"Linear distribution\"\n):\n    # Plot the grid with a linear distribution in the first panel\n    with fig.set_panel(panel=0):\n        fig.grdimage(grid=linear, projection=\"M?\", frame=\"WSne\", cmap=True)\n    # Plot a histogram showing the linear z-value distribution\n    with fig.set_panel(panel=1):\n        fig.histogram(\n            data=linear_dist,\n            projection=\"X?\",\n            region=[-1, divisions, 0, 40],\n            series=[0, divisions, 1],\n            frame=[\"wnSE\", \"xaf+lRelative elevation\", \"yaf+lPercent frequency\"],\n            cmap=True,\n            histtype=1,\n            pen=\"1p,black\",\n            center=True,\n        )\n        fig.colorbar(position=\"JMR+o1.5c/0c+w3c/0.3c\", frame=True)\nfig.show()"
      ]
    },
    {
      "cell_type": "markdown",
      "metadata": {},
      "source": [
        "## Transform grid based on a normal distribution\nThe ``gaussian`` parameter of :meth:`pygmt.grdhisteq.equalize_grid` can be\nused to transform the z-values relative to their position in a normal\ndistribution rather than a linear distribution. In this case, the output\ndata are continuous rather than discrete.\n\n"
      ]
    },
    {
      "cell_type": "code",
      "execution_count": null,
      "metadata": {
        "collapsed": false
      },
      "outputs": [],
      "source": [
        "normal = pygmt.grdhisteq.equalize_grid(grid=grid, gaussian=True)\nnormal_dist = pygmt.grd2xyz(grid=normal, output_type=\"pandas\")[\"z\"]"
      ]
    },
    {
      "cell_type": "markdown",
      "metadata": {},
      "source": [
        "## Plot the normally distributed data\nHere we create a map showing the grid that has been transformed to have\na normal distribution and a histogram of the data values.\n\n"
      ]
    },
    {
      "cell_type": "code",
      "execution_count": null,
      "metadata": {
        "collapsed": false
      },
      "outputs": [],
      "source": [
        "# Create an instance of the Figure class\nfig = pygmt.Figure()\n# Define figure configuration\npygmt.config(FORMAT_GEO_MAP=\"ddd.x\", MAP_FRAME_TYPE=\"plain\")\n# Define the colormap for the figure\npygmt.makecpt(series=[-4.5, 4.5], cmap=\"vik\")\n# Setup subplots with two panels\nwith fig.subplot(\n    nrows=1, ncols=2, figsize=(\"13.5c\", \"4c\"), title=\"Normal distribution\"\n):\n    # Plot the grid with a normal distribution in the first panel\n    with fig.set_panel(panel=0):\n        fig.grdimage(grid=normal, projection=\"M?\", frame=\"WSne\", cmap=True)\n    # Plot a histogram showing the normal z-value distribution\n    with fig.set_panel(panel=1):\n        fig.histogram(\n            data=normal_dist,\n            projection=\"X?\",\n            region=[-4.5, 4.5, 0, 20],\n            series=[-4.5, 4.5, 0.2],\n            frame=[\"wnSE\", \"xaf+lRelative elevation\", \"yaf+lPercent frequency\"],\n            cmap=True,\n            histtype=1,\n            pen=\"1p,black\",\n        )\n        fig.colorbar(position=\"JMR+o1.5c/0c+w3c/0.3c\", frame=True)\nfig.show()"
      ]
    },
    {
      "cell_type": "markdown",
      "metadata": {},
      "source": [
        "## Equalize grid based on a quadratic distribution\nThe ``quadratic`` parameter of :meth:`pygmt.grdhisteq.equalize_grid` can be\nused to transform the z-values relative to their position in a quadratic\ndistribution rather than a linear distribution. Here, we equalize the grid\ninto nine divisions based on a quadratic distribution and produce a\n:class:`pandas.Series` with the z-values for the new grid.\n\n"
      ]
    },
    {
      "cell_type": "code",
      "execution_count": null,
      "metadata": {
        "collapsed": false
      },
      "outputs": [],
      "source": [
        "quadratic = pygmt.grdhisteq.equalize_grid(\n    grid=grid, quadratic=True, divisions=divisions\n)\nquadratic_dist = pygmt.grd2xyz(grid=quadratic, output_type=\"pandas\")[\"z\"]"
      ]
    },
    {
      "cell_type": "markdown",
      "metadata": {},
      "source": [
        "## Calculate the bins used for data transformation\nWe can also use the ``quadratic`` parameter of\n:meth:`pygmt.grdhisteq.compute_bins` to report the bins used for dividing\nthe grid into 9 divisions based on their position in a quadratic\ndistribution.\n\n"
      ]
    },
    {
      "cell_type": "code",
      "execution_count": null,
      "metadata": {
        "collapsed": false
      },
      "outputs": [],
      "source": [
        "pygmt.grdhisteq.compute_bins(grid=grid, divisions=divisions, quadratic=True)"
      ]
    },
    {
      "cell_type": "markdown",
      "metadata": {},
      "source": [
        "## Plot the quadratic distribution of data\nHere we create a map showing the grid that has been transformed to have\na quadratic distribution and a histogram of the data values.\n\n"
      ]
    },
    {
      "cell_type": "code",
      "execution_count": null,
      "metadata": {
        "collapsed": false
      },
      "outputs": [],
      "source": [
        "# Create an instance of the Figure class\nfig = pygmt.Figure()\n# Define figure configuration\npygmt.config(FORMAT_GEO_MAP=\"ddd.x\", MAP_FRAME_TYPE=\"plain\")\n# Define the colormap for the figure\npygmt.makecpt(series=[0, divisions, 1], cmap=\"lajolla\")\n# Setup subplots with two panels\nwith fig.subplot(\n    nrows=1, ncols=2, figsize=(\"13.5c\", \"4c\"), title=\"Quadratic distribution\"\n):\n    # Plot the grid with a quadratic distribution in the first panel\n    with fig.set_panel(panel=0):\n        fig.grdimage(grid=quadratic, projection=\"M?\", frame=\"WSne\", cmap=True)\n    # Plot a histogram showing the quadratic z-value distribution\n    with fig.set_panel(panel=1):\n        fig.histogram(\n            data=quadratic_dist,\n            projection=\"X?\",\n            region=[-1, divisions, 0, 40],\n            series=[0, divisions, 1],\n            frame=[\"wnSE\", \"xaf+lRelative elevation\", \"yaf+lPercent frequency\"],\n            cmap=True,\n            histtype=1,\n            pen=\"1p,black\",\n            center=True,\n        )\n        fig.colorbar(position=\"JMR+o1.5c/0c+w3c/0.3c\", frame=True)\nfig.show()"
      ]
    }
  ],
  "metadata": {
    "kernelspec": {
      "display_name": "Python 3",
      "language": "python",
      "name": "python3"
    },
    "language_info": {
      "codemirror_mode": {
        "name": "ipython",
        "version": 3
      },
      "file_extension": ".py",
      "mimetype": "text/x-python",
      "name": "python",
      "nbconvert_exporter": "python",
      "pygments_lexer": "ipython3",
      "version": "3.11.3"
    }
  },
  "nbformat": 4,
  "nbformat_minor": 0
}