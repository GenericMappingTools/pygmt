{
  "cells": [
    {
      "cell_type": "markdown",
      "metadata": {},
      "source": [
        "\n# Envelope\nThe ``close`` parameter of the :meth:`pygmt.Figure.plot` method can be\nused to build a symmetrical or an asymmetrical envelope. The user can\ngive either the deviations or the bounds in y-direction. For the first\ncase append ``\"+d\"`` or ``\"+D\"`` and for the latter case ``\"+b\"``.\n"
      ]
    },
    {
      "cell_type": "code",
      "execution_count": null,
      "metadata": {
        "collapsed": false
      },
      "outputs": [],
      "source": [
        "import pandas as pd\nimport pygmt\n\n# Define a pandas DataFrame with columns for x and y as well as the\n# lower and upper deviations\ndf_devi = pd.DataFrame(\n    data={\n        \"x\": [1, 3, 5, 7, 9],\n        \"y\": [0.5, -0.7, 0.8, -0.3, 0.1],\n        \"y_deviation_low\": [0.2, 0.2, 0.3, 0.4, 0.2],\n        \"y_deviation_upp\": [0.1, 0.3, 0.2, 0.4, 0.1],\n    }\n)\n\n# Define the same pandas DataFrame but with lower and upper bounds\ndf_bound = pd.DataFrame(\n    data={\n        \"x\": [1, 3, 5, 7, 9],\n        \"y\": [0.5, -0.7, 0.8, -0.3, 0.1],\n        \"y_bound_low\": [0.3, -0.9, 0.5, -0.7, -0.1],\n        \"y_bound_upp\": [0.6, -0.4, 1.1, 0.1, 0.2],\n    }\n)\n\n\n# Create Figure instance\nfig = pygmt.Figure()\n\n# -----------------------------------------------------------------------------\n# Left\nfig.basemap(\n    region=[0, 10, -1.5, 1.5],\n    projection=\"X10c\",\n    frame=[\"WSne+tsymmetric deviations +d\", \"xa2f1\", \"ya1f0.1\"],\n)\n\n# Plot a symmetrical envelope based on the deviations (\"+d\")\nfig.plot(\n    data=df_devi,\n    close=\"+d\",\n    # Fill the envelope in gray color with a transparency of 50 %\n    fill=\"gray@50\",\n    pen=\"1p,gray30\",\n)\n\n# Plot the data points on top\nfig.plot(\n    data=df_devi,\n    style=\"c0.2c\",  # Use circles with a diameter of 0.2 centimeters\n    pen=\"1p,gray30\",\n    fill=\"darkgray\",\n)\n\n# Shift plot origin 11 centimeters in x direction\nfig.shift_origin(xshift=\"11c\")\n\n# -----------------------------------------------------------------------------\n# Middle\nfig.basemap(\n    region=[0, 10, -1.5, 1.5],\n    projection=\"X10c\",\n    frame=[\"WSne+tasymmetric deviations +D\", \"xa2f1\", \"yf0.1\"],\n)\n\n# Plot an asymmetrical envelope based on the deviations (\"+D\")\nfig.plot(\n    data=df_devi,\n    fill=\"gray@50\",\n    # Add an outline around the envelope\n    # Here, a dashed pen (\"+p\") with 0.5-points thickness and\n    # \"gray30\" color is used\n    close=\"+D+p0.5p,gray30,dashed\",\n    pen=\"1p,gray30\",\n)\n\n# Plot the data points on top\nfig.plot(data=df_devi, style=\"c0.2c\", pen=\"1p,gray30\", fill=\"darkgray\")\n\n# Shift plot origin 11 centimeters in x-direction\nfig.shift_origin(xshift=\"11c\")\n\n# -----------------------------------------------------------------------------\n# Right\nfig.basemap(\n    region=[0, 10, -1.5, 1.5],\n    projection=\"X10c\",\n    # Use \"\\\\053\" to handle \"+b\" as a string not as a modifier\n    frame=[\"wSnE+tbounds \\\\053b\", \"xa2f1\", \"ya1f0.1\"],\n)\n\n# Plot an envelope based on the bounds (\"+b\")\nfig.plot(data=df_bound, close=\"+b+p0.5p,gray30,dashed\", pen=\"1p,gray30\")\n\n# Plot the data points on top\nfig.plot(data=df_bound, style=\"c0.2c\", pen=\"1p,gray30\", fill=\"darkgray\")\n\nfig.show()"
      ]
    }
  ],
  "metadata": {
    "kernelspec": {
      "display_name": "Python 3",
      "language": "python",
      "name": "python3"
    },
    "language_info": {
      "codemirror_mode": {
        "name": "ipython",
        "version": 3
      },
      "file_extension": ".py",
      "mimetype": "text/x-python",
      "name": "python",
      "nbconvert_exporter": "python",
      "pygments_lexer": "ipython3",
      "version": "3.11.3"
    }
  },
  "nbformat": 4,
  "nbformat_minor": 0
}