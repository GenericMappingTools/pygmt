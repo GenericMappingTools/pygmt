{
  "cells": [
    {
      "cell_type": "markdown",
      "metadata": {},
      "source": [
        "\n# Vector heads and tails\n\nMany methods in PyGMT allow plotting vectors with individual\nheads and tails. For this purpose, several modifiers may be appended to\nthe corresponding vector-producing parameters for specifying the placement\nof vector heads and tails, their shapes, and the justification of the vector.\n\nTo place a vector head at the beginning of the vector path\nsimply append **+b** to the vector-producing option (use **+e** to place\none at the end). Optionally, append **t** for a terminal line, **c** for a\ncircle, **a** for arrow (default), **i** for tail, **A** for plain open\narrow, and **I** for plain open tail. Further append **l** or **r** (e.g.\n``\"+bar\"``) to only draw the left or right half-sides of the selected head/tail\n(default is both sides) or use **+l** or **+r** to apply simultaneously to both\nbeginning and end. In this context left and right refer to the side of the\nvector line when viewed from the beginning point to the end point of a line\nsegment. The angle of the vector head apex can be set using **+a**\\ *angle*\n(default is 30). The shape of the vector head can be adjusted using\n**+h**\\ *shape* (e.g. ``\"+h0.5\"``).\n\nFor further modifiers see :gmt-docs:`plot.html#vector-attributes`.\n\nIn the following we use the :meth:`pygmt.Figure.plot` method to plot vectors\nwith individual heads and tails. We must specify the modifiers (together with\nthe vector type, here ``\"v\"`` for Cartesian vector, see also\n:doc:`Vector types example </gallery/lines/vector_styles>`)\nby passing the corresponding shortcuts to the ``style`` parameter.\n"
      ]
    },
    {
      "cell_type": "code",
      "execution_count": null,
      "metadata": {
        "collapsed": false
      },
      "outputs": [],
      "source": [
        "import pygmt\n\nfig = pygmt.Figure()\nfig.basemap(\n    region=[0, 10, 0, 15], projection=\"X15c/10c\", frame=\"+tVector heads and tails\"\n)\n\nx = 1\ny = 14\nangle = 0  # in degrees, measured counter-clockwise from horizontal\nlength = 7\n\nfor vecstyle in [\n    # vector without head and tail (line)\n    \"v0c\",\n    # plain open arrow at beginning and end, angle of the vector head apex is\n    # set to 50\n    \"v0.6c+bA+eA+a50\",\n    # plain open tail at beginning and end\n    \"v0.4c+bI+eI\",\n    # terminal line at beginning and end, angle of vector head apex is set\n    # to 80\n    \"v0.3c+bt+et+a80\",\n    # arrow head at end\n    \"v0.6c+e\",\n    # circle at beginning and arrow head at end\n    \"v0.6c+bc+ea\",\n    # terminal line at beginning and arrow head at end\n    \"v0.6c+bt+ea\",\n    # arrow head at end, shape of vector head is set to 0.5\n    \"v1c+e+h0.5\",\n    # modified arrow heads at beginning and end\n    \"v1c+b+e+h0.5\",\n    # tail at beginning and arrow with modified vector head at end\n    \"v1c+bi+ea+h0.5\",\n    # half-sided arrow head (right side) at beginning and arrow at the end\n    \"v1c+bar+ea+h0.8\",\n    # half-sided arrow heads at beginning (right side) and end (left side)\n    \"v1c+bar+eal+h0.5\",\n    # half-sided tail at beginning and arrow at end (right side for both)\n    \"v1c+bi+ea+r+h0.5+a45\",\n]:\n    fig.plot(\n        x=x, y=y, style=vecstyle, direction=([angle], [length]), pen=\"2p\", fill=\"red3\"\n    )\n    fig.text(\n        x=6, y=y, text=vecstyle, font=\"Courier-Bold\", justify=\"ML\", offset=\"0.2c/0c\"\n    )\n    y -= 1  # move the next vector down\n\nfig.show()"
      ]
    }
  ],
  "metadata": {
    "kernelspec": {
      "display_name": "Python 3",
      "language": "python",
      "name": "python3"
    },
    "language_info": {
      "codemirror_mode": {
        "name": "ipython",
        "version": 3
      },
      "file_extension": ".py",
      "mimetype": "text/x-python",
      "name": "python",
      "nbconvert_exporter": "python",
      "pygments_lexer": "ipython3",
      "version": "3.11.3"
    }
  },
  "nbformat": 4,
  "nbformat_minor": 0
}