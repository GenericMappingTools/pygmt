{
  "cells": [
    {
      "cell_type": "markdown",
      "metadata": {},
      "source": [
        "\n# Mollweide\n\nThis pseudo-cylindrical, equal-area projection was developed by the German\nmathematician and astronomer Karl Brandan Mollweide in 1805. Parallels are\nunequally spaced straight lines with the meridians being equally spaced\nelliptical arcs. The scale is only true along latitudes 40\u00b044\u2019 north and south.\nThe projection is used mainly for global maps showing data distributions. It is\noccasionally referenced under the name homalographic projection.\n\n**w**\\ [*lon0/*]\\ *scale* or **W**\\ [*lon0/*]\\ *width*\n\nThe projection is set with **w** or **W**. The central meridian is set with the\noptional *lon0*, and the figure size is set with *scale* or *width*.\n"
      ]
    },
    {
      "cell_type": "code",
      "execution_count": null,
      "metadata": {
        "collapsed": false
      },
      "outputs": [],
      "source": [
        "import pygmt\n\nfig = pygmt.Figure()\n# Use region \"d\" to specify global region (-180/180/-90/90)\nfig.coast(region=\"d\", projection=\"W12c\", land=\"tomato1\", water=\"skyblue\", frame=\"ag\")\nfig.show()"
      ]
    }
  ],
  "metadata": {
    "kernelspec": {
      "display_name": "Python 3",
      "language": "python",
      "name": "python3"
    },
    "language_info": {
      "codemirror_mode": {
        "name": "ipython",
        "version": 3
      },
      "file_extension": ".py",
      "mimetype": "text/x-python",
      "name": "python",
      "nbconvert_exporter": "python",
      "pygments_lexer": "ipython3",
      "version": "3.11.3"
    }
  },
  "nbformat": 4,
  "nbformat_minor": 0
}