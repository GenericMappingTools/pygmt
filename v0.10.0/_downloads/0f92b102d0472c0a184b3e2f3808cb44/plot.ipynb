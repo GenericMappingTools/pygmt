{
  "cells": [
    {
      "cell_type": "markdown",
      "metadata": {},
      "source": [
        "\n# Plotting data points\n\nGMT shines when it comes to plotting data on a map. We can use some sample data\nthat is packaged with GMT to try this out. PyGMT provides access to these\ndatasets through the :mod:`pygmt.datasets` package. If you don't have the data\nfiles already, they are automatically downloaded and saved to a cache directory\nthe first time you use them (usually ``~/.gmt/cache``).\n"
      ]
    },
    {
      "cell_type": "code",
      "execution_count": null,
      "metadata": {
        "collapsed": false
      },
      "outputs": [],
      "source": [
        "import pygmt"
      ]
    },
    {
      "cell_type": "markdown",
      "metadata": {},
      "source": [
        "For example, let's load the sample dataset of tsunami generating earthquakes\naround Japan using :func:`pygmt.datasets.load_sample_data`.\nThe data are loaded as a :class:`pandas.DataFrame`.\n\n"
      ]
    },
    {
      "cell_type": "code",
      "execution_count": null,
      "metadata": {
        "collapsed": false
      },
      "outputs": [],
      "source": [
        "data = pygmt.datasets.load_sample_data(name=\"japan_quakes\")\n\n# Set the region for the plot to be slightly larger than the data bounds.\nregion = [\n    data.longitude.min() - 1,\n    data.longitude.max() + 1,\n    data.latitude.min() - 1,\n    data.latitude.max() + 1,\n]\n\nprint(region)\nprint(data.head())"
      ]
    },
    {
      "cell_type": "markdown",
      "metadata": {},
      "source": [
        "We'll use the :meth:`pygmt.Figure.plot` method to plot circles on the\nearthquake epicenters.\n\n"
      ]
    },
    {
      "cell_type": "code",
      "execution_count": null,
      "metadata": {
        "collapsed": false
      },
      "outputs": [],
      "source": [
        "fig = pygmt.Figure()\nfig.basemap(region=region, projection=\"M15c\", frame=True)\nfig.coast(land=\"black\", water=\"skyblue\")\nfig.plot(x=data.longitude, y=data.latitude, style=\"c0.3c\", fill=\"white\", pen=\"black\")\nfig.show()"
      ]
    },
    {
      "cell_type": "markdown",
      "metadata": {},
      "source": [
        "We used the style ``c0.3c`` which means \"circles of 0.3 centimeters size\".\nThe ``pen`` parameter controls the outline of the symbols and the ``fill``\nparameter controls the fill.\n\nWe can map the size of the circles to the earthquake magnitude by passing an\narray to the ``size`` parameter. Because the magnitude is on a logarithmic\nscale, it helps to show the differences by scaling the values using a power\nlaw.\n\n"
      ]
    },
    {
      "cell_type": "code",
      "execution_count": null,
      "metadata": {
        "collapsed": false
      },
      "outputs": [],
      "source": [
        "fig = pygmt.Figure()\nfig.basemap(region=region, projection=\"M15c\", frame=True)\nfig.coast(land=\"black\", water=\"skyblue\")\nfig.plot(\n    x=data.longitude,\n    y=data.latitude,\n    size=0.02 * (2**data.magnitude),\n    style=\"cc\",\n    fill=\"white\",\n    pen=\"black\",\n)\nfig.show()"
      ]
    },
    {
      "cell_type": "markdown",
      "metadata": {},
      "source": [
        "Notice that we didn't include the size in the ``style`` parameter this time,\njust the symbol ``c`` (circles) and the unit ``c`` (centimeters). So in\nthis case, the size will be interpreted as being in centimeters.\n\nWe can also map the colors of the markers to the depths by passing an array\nto the ``fill`` parameter and providing a colormap name (``cmap``). We can\neven use the new matplotlib colormap \"viridis\". Here, we first create a\ncontinuous colormap ranging from the minimum depth to the maximum depth of\nthe earthquakes using :func:`pygmt.makecpt`, then set ``cmap=True`` in\n:meth:`pygmt.Figure.plot` to use the colormap. At the end of the plot, we\nalso plot a colorbar showing the colormap used in the plot.\n\n\n"
      ]
    },
    {
      "cell_type": "code",
      "execution_count": null,
      "metadata": {
        "collapsed": false
      },
      "outputs": [],
      "source": [
        "fig = pygmt.Figure()\nfig.basemap(region=region, projection=\"M15c\", frame=True)\nfig.coast(land=\"black\", water=\"skyblue\")\npygmt.makecpt(cmap=\"viridis\", series=[data.depth_km.min(), data.depth_km.max()])\nfig.plot(\n    x=data.longitude,\n    y=data.latitude,\n    size=0.02 * 2**data.magnitude,\n    fill=data.depth_km,\n    cmap=True,\n    style=\"cc\",\n    pen=\"black\",\n)\nfig.colorbar(frame=\"af+lDepth (km)\")\nfig.show()"
      ]
    }
  ],
  "metadata": {
    "kernelspec": {
      "display_name": "Python 3",
      "language": "python",
      "name": "python3"
    },
    "language_info": {
      "codemirror_mode": {
        "name": "ipython",
        "version": 3
      },
      "file_extension": ".py",
      "mimetype": "text/x-python",
      "name": "python",
      "nbconvert_exporter": "python",
      "pygments_lexer": "ipython3",
      "version": "3.11.3"
    }
  },
  "nbformat": 4,
  "nbformat_minor": 0
}