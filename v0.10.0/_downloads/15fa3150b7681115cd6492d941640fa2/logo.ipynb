{
  "cells": [
    {
      "cell_type": "markdown",
      "metadata": {},
      "source": [
        "\n# Logo\n\nThe :meth:`pygmt.Figure.logo` method allows to place the GMT logo on a map.\n"
      ]
    },
    {
      "cell_type": "code",
      "execution_count": null,
      "metadata": {
        "collapsed": false
      },
      "outputs": [],
      "source": [
        "import pygmt\n\nfig = pygmt.Figure()\nfig.basemap(region=[0, 10, 0, 2], projection=\"X6c\", frame=True)\n\n# add the GMT logo in the Top Right corner of the current map,\n# scaled up to be 3 cm wide and offset by 0.3 cm in X direction\n# and 0.6 cm in Y direction.\nfig.logo(position=\"jTR+o0.3c/0.6c+w3c\")\n\nfig.show()"
      ]
    }
  ],
  "metadata": {
    "kernelspec": {
      "display_name": "Python 3",
      "language": "python",
      "name": "python3"
    },
    "language_info": {
      "codemirror_mode": {
        "name": "ipython",
        "version": 3
      },
      "file_extension": ".py",
      "mimetype": "text/x-python",
      "name": "python",
      "nbconvert_exporter": "python",
      "pygments_lexer": "ipython3",
      "version": "3.11.3"
    }
  },
  "nbformat": 4,
  "nbformat_minor": 0
}