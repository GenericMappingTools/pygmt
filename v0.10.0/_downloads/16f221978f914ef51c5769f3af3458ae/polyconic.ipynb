{
  "cells": [
    {
      "cell_type": "markdown",
      "metadata": {},
      "source": [
        "\n# Polyconic Projection\n\nThe polyconic projection, in Europe usually referred to as the American\npolyconic projection, was introduced shortly before 1820 by the Swiss-American\ncartographer Ferdinand Rodulph Hassler (1770\u20131843). As head of the Survey of\nthe Coast, he was looking for a projection that would give the least distortion\nfor mapping the coast of the United States. The projection acquired its name\nfrom the construction of each parallel, which is achieved by projecting the\nparallel onto the cone while it is rolled around the globe, along the central\nmeridian, tangent to that parallel. As a consequence, the projection involves\nmany cones rather than a single one used in regular conic projections.\n\nThe polyconic projection is neither equal-area, nor conformal. It is true to\nscale without distortion along the central meridian. Each parallel is true to\nscale as well, but the meridians are not as they get further away from the\ncentral meridian. As a consequence, no parallel is standard because conformity\nis lost with the lengthening of the meridians.\n\n**poly**/\\ [*lon0*/\\ [*lat0*/]]\\ *scale* or\n**Poly**/\\ [*lon0*/\\ [*lat0*/]]\\ *width*\n\nThe projection is set with **poly** or **Poly**. The figure size is set\nwith *scale* or *width*.\n"
      ]
    },
    {
      "cell_type": "code",
      "execution_count": null,
      "metadata": {
        "collapsed": false
      },
      "outputs": [],
      "source": [
        "import pygmt\n\nfig = pygmt.Figure()\nfig.coast(\n    shorelines=\"1/0.5p\",\n    region=[-180, -20, 0, 90],\n    projection=\"Poly/12c\",\n    land=\"gray\",\n    borders=\"1/thick,black\",\n    frame=\"afg10\",\n)\n\nfig.show()"
      ]
    }
  ],
  "metadata": {
    "kernelspec": {
      "display_name": "Python 3",
      "language": "python",
      "name": "python3"
    },
    "language_info": {
      "codemirror_mode": {
        "name": "ipython",
        "version": 3
      },
      "file_extension": ".py",
      "mimetype": "text/x-python",
      "name": "python",
      "nbconvert_exporter": "python",
      "pygments_lexer": "ipython3",
      "version": "3.11.3"
    }
  },
  "nbformat": 4,
  "nbformat_minor": 0
}