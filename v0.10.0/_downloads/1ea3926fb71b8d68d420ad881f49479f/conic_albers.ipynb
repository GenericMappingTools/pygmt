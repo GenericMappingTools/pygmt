{
  "cells": [
    {
      "cell_type": "markdown",
      "metadata": {},
      "source": [
        "\n# Albers Conic Equal Area\n\nThis projection, developed by Heinrich C. Albers in 1805, is predominantly used\nto map regions of large east-west extent, in particular the United States. It\nis a conic, equal-area projection, in which parallels are unequally spaced arcs\nof concentric circles, more closely spaced at the north and south edges of the\nmap. Meridians, on the other hand, are equally spaced radii about a common\ncenter, and cut the parallels at right angles. Distortion in scale and shape\nvanishes along the two standard parallels. Between them, the scale along\nparallels is too small; beyond them it is too large. The opposite is true for\nthe scale along meridians.\n\n**b**\\ *lon0/lat0*\\ /\\ *lat1/lat2*\\ */scale*\nor **B**\\ *lon0/lat0*\\ /\\ *lat1/lat2*\\ */width*\n\nThe projection is set with **b** or **B**. The projection center is set by\n*lon0/lat0* and two standard parallels for the map are set with *lat1/lat2*.\nThe figure size is set with *scale* or *width*.\n"
      ]
    },
    {
      "cell_type": "code",
      "execution_count": null,
      "metadata": {
        "collapsed": false
      },
      "outputs": [],
      "source": [
        "import pygmt\n\nfig = pygmt.Figure()\n# Use the ISO country code for Brazil and add a padding of 2 degrees (+R2)\nfig.coast(\n    projection=\"B-55/-15/-25/0/12c\", region=\"BR+R2\", frame=\"afg\", land=\"gray\", borders=1\n)\nfig.show()"
      ]
    }
  ],
  "metadata": {
    "kernelspec": {
      "display_name": "Python 3",
      "language": "python",
      "name": "python3"
    },
    "language_info": {
      "codemirror_mode": {
        "name": "ipython",
        "version": 3
      },
      "file_extension": ".py",
      "mimetype": "text/x-python",
      "name": "python",
      "nbconvert_exporter": "python",
      "pygments_lexer": "ipython3",
      "version": "3.11.3"
    }
  },
  "nbformat": 4,
  "nbformat_minor": 0
}