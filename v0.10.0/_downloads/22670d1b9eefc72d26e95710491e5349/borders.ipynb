{
  "cells": [
    {
      "cell_type": "markdown",
      "metadata": {},
      "source": [
        "\n# Political Boundaries\n\nThe ``borders`` parameter of :meth:`pygmt.Figure.coast` specifies levels of\npolitical boundaries to plot and the pen used to draw them. Choose from the\nlist of boundaries below:\n\n* **1** = National boundaries\n* **2** = State boundaries within the Americas\n* **3** = Marine boundaries\n* **a** = All boundaries (1-3)\n\nFor example, to draw national boundaries with a line thickness of 1p and black\nline color use ``borders=\"1/1p,black\"``. You can draw multiple boundaries by\npassing in a list to ``borders``.\n"
      ]
    },
    {
      "cell_type": "code",
      "execution_count": null,
      "metadata": {
        "collapsed": false
      },
      "outputs": [],
      "source": [
        "import pygmt\n\nfig = pygmt.Figure()\n# Make a Sinusoidal projection map of the Americas with automatic annotations,\n# ticks and gridlines\nfig.basemap(region=[-150, -30, -60, 60], projection=\"I-90/15c\", frame=\"afg\")\n# Plot each level of the boundaries dataset with a different color.\nfig.coast(borders=[\"1/0.5p,black\", \"2/0.5p,red\", \"3/0.5p,blue\"], land=\"gray\")\nfig.show()"
      ]
    }
  ],
  "metadata": {
    "kernelspec": {
      "display_name": "Python 3",
      "language": "python",
      "name": "python3"
    },
    "language_info": {
      "codemirror_mode": {
        "name": "ipython",
        "version": 3
      },
      "file_extension": ".py",
      "mimetype": "text/x-python",
      "name": "python",
      "nbconvert_exporter": "python",
      "pygments_lexer": "ipython3",
      "version": "3.11.3"
    }
  },
  "nbformat": 4,
  "nbformat_minor": 0
}