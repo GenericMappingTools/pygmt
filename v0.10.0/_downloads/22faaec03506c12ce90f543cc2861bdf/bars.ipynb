{
  "cells": [
    {
      "cell_type": "markdown",
      "metadata": {},
      "source": [
        "\n# Vertical or horizontal bars\nThe :meth:`pygmt.Figure.plot` method can plot vertical (**b**) or\nhorizontal (**B**) bars by passing the corresponding shortcut to\nthe ``style`` parameter. By default, *base* = 0 meaning that the\nbar is starting from 0. Append **+b**\\[*base*] to change this\nvalue. To plot multi-band bars, please append\n**+v**\\|\\ **i**\\ *ny* (for verticals bars) or **+v**\\|\\ **i**\\ *nx*\n(for horizontal ones), where *ny* or *nx* indicate the total\nnumber of bands in the bar (and hence the number of values required\nto follow the *x,y* coordinate pair in the input). Here, **+i**\nmeans we must accumulate the bar values from the increments\n*dy* or *dx*, while **+v** means we get the complete values relative\nto base. Normally, the bands are plotted as sections of a final\nsingle bar. Use **+s** to instead split the bar into *ny* or *nx*\nside-by-side, individual and thinner bars. Multi-band bars require\n``cmap=True`` with one color per band.\n"
      ]
    },
    {
      "cell_type": "code",
      "execution_count": null,
      "metadata": {
        "collapsed": false
      },
      "outputs": [],
      "source": [
        "import pygmt\n\nfig = pygmt.Figure()\n\npygmt.makecpt(cmap=\"roma\", series=[0, 4, 1])\n\nwith fig.subplot(\n    nrows=2,\n    ncols=2,\n    subsize=(\"8c\", \"4c\"),\n    frame=\"ag\",\n    sharey=True,\n    sharex=True,\n    margins=[\"0.5c\", \"0.75c\"],\n):\n    pen = \"1.5p\"\n    with fig.set_panel(panel=0):\n        fill = \"skyblue\"\n        fig.basemap(region=[0, 4, 0, 3], frame=\"+tvertical bars\")\n        fig.plot(x=1, y=2, style=\"b0.5c\", fill=fill, pen=pen)\n        fig.plot(x=2, y=2.5, style=\"b1c\", fill=fill, pen=pen)\n        # +b1 means that the bar is starting from y=1 here\n        fig.plot(x=3, y=2.5, style=\"b0.75c+b1\", fill=fill, pen=pen)\n\n    with fig.set_panel(panel=1):\n        fill = \"tomato\"\n        fig.basemap(region=[0, 4, 0, 3], frame=\"+thorizontal bars\")\n        fig.plot(x=1.5, y=0.5, style=\"B0.75c\", fill=fill, pen=pen)\n        fig.plot(x=3, y=1.5, style=\"B1c\", fill=fill, pen=pen)\n        # +b2 means that the bar is starting from x=2 here\n        fig.plot(x=3.5, y=2.5, style=\"B0.5c+b2\", fill=fill, pen=pen)\n\n    # generate dictionary for plotting multi-band bars\n    data = {\n        \"x1\": [0.25, 1.25],\n        \"y\": [1, 2],\n        \"x2\": [0.65, 0.5],\n        \"x3\": [0.4, 1.25],\n        \"x4\": [2.25, 0.75],\n    }\n\n    with fig.set_panel(panel=2):\n        fig.basemap(region=[0, 4, 0, 3], frame=\"+tstacked bars\")\n        fig.plot(data=data, style=\"B0.75c+i4\", cmap=True, pen=pen)\n\n    with fig.set_panel(panel=3):\n        fig.basemap(region=[0, 4, 0, 3], frame=\"+tsplit bars\")\n        fig.plot(data=data, style=\"B1c+v4+s\", cmap=True, pen=pen)\n\nfig.show()"
      ]
    }
  ],
  "metadata": {
    "kernelspec": {
      "display_name": "Python 3",
      "language": "python",
      "name": "python3"
    },
    "language_info": {
      "codemirror_mode": {
        "name": "ipython",
        "version": 3
      },
      "file_extension": ".py",
      "mimetype": "text/x-python",
      "name": "python",
      "nbconvert_exporter": "python",
      "pygments_lexer": "ipython3",
      "version": "3.11.3"
    }
  },
  "nbformat": 4,
  "nbformat_minor": 0
}