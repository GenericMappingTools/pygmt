{
  "cells": [
    {
      "cell_type": "markdown",
      "metadata": {},
      "source": [
        "\n# Datetime inputs\n\nDatetime inputs of the following types are supported in PyGMT:\n\n- :class:`numpy.datetime64`\n- :class:`pandas.DatetimeIndex`\n- :class:`xarray.DataArray`: datetimes included in a *xarray.DataArray*\n- raw datetime strings in\n  [ISO 8601 format](https://en.wikipedia.org/wiki/ISO_8601)_ (e.g.\n  ``\"YYYY-MM-DD\"``, ``\"YYYY-MM-DDTHH\"``, and ``\"YYYY-MM-DDTHH:MM:SS\"``)\n- Python built-in :class:`datetime.datetime` and :class:`datetime.date`\n\nWe can pass datetime inputs based on one of the types listed above directly to\nthe ``x`` and ``y`` parameters of e.g. the :meth:`pygmt.Figure.plot` method.\n\nThe ``region`` parameter has to include the $x$ and $y$ axis limits\nin the form [*date_min*, *date_max*, *ymin*, *ymax*]. Here *date_min* and\n*date_max* can be directly defined as datetime input.\n"
      ]
    },
    {
      "cell_type": "code",
      "execution_count": null,
      "metadata": {
        "collapsed": false
      },
      "outputs": [],
      "source": [
        "import datetime\n\nimport numpy as np\nimport pandas as pd\nimport pygmt\nimport xarray as xr\n\nfig = pygmt.Figure()\n\n# create a basemap with limits of 2010-01-01 to 2020-06-01 on the x axis and\n# 0 to 10 on the y axis\nfig.basemap(\n    projection=\"X15c/5c\",\n    region=[datetime.date(2010, 1, 1), datetime.date(2020, 6, 1), 0, 10],\n    frame=[\"WSen\", \"af\"],\n)\n\n# numpy.datetime64 types\nx = np.array([\"2010-06-01\", \"2011-06-01T12\", \"2012-01-01T12:34:56\"], dtype=\"datetime64\")\ny = [1, 2, 3]\nfig.plot(x=x, y=y, style=\"c0.4c\", pen=\"1p\", fill=\"red3\")\n\n# pandas.DatetimeIndex\nx = pd.date_range(\"2013\", periods=3, freq=\"YS\")\ny = [4, 5, 6]\nfig.plot(x=x, y=y, style=\"t0.4c\", pen=\"1p\", fill=\"gold\")\n\n# xarray.DataArray\nx = xr.DataArray(data=pd.date_range(start=\"2015-03\", periods=3, freq=\"QS\"))\ny = [7.5, 6, 4.5]\nfig.plot(x=x, y=y, style=\"s0.4c\", pen=\"1p\")\n\n# raw datetime strings\nx = [\"2016-02-01\", \"2016-06-04T14\", \"2016-10-04T00:00:15\"]\ny = [7, 8, 9]\nfig.plot(x=x, y=y, style=\"a0.4c\", pen=\"1p\", fill=\"dodgerblue\")\n\n# the Python built-in datetime and date\nx = [datetime.date(2018, 1, 1), datetime.datetime(2019, 6, 1, 20, 5, 45)]\ny = [6.5, 4.5]\nfig.plot(x=x, y=y, style=\"i0.4c\", pen=\"1p\", fill=\"seagreen\")\n\nfig.show()"
      ]
    }
  ],
  "metadata": {
    "kernelspec": {
      "display_name": "Python 3",
      "language": "python",
      "name": "python3"
    },
    "language_info": {
      "codemirror_mode": {
        "name": "ipython",
        "version": 3
      },
      "file_extension": ".py",
      "mimetype": "text/x-python",
      "name": "python",
      "nbconvert_exporter": "python",
      "pygments_lexer": "ipython3",
      "version": "3.11.3"
    }
  },
  "nbformat": 4,
  "nbformat_minor": 0
}