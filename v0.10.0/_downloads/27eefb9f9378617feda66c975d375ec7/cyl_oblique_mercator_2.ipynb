{
  "cells": [
    {
      "cell_type": "markdown",
      "metadata": {},
      "source": [
        "\n# Oblique Mercator, 2: two points\n\nOblique configurations of the cylinder give rise to the oblique Mercator\nprojection. It is particularly useful when mapping regions of large lateral\nextent in an oblique direction. Both parallels and meridians are complex\ncurves. The projection was developed in the early 1900s by several workers.\n\n**ob**\\|\\ **oB**\\ *lon0/lat0/lon1/lat1/scale*\\ [**+v**] or\n**Ob**\\|\\ **OB**\\ *lon0/lat0/lon1/lat1/width*\\ [**+v**]\n\nThe projection is set with **o** or **O**. The pole is set in the\nnorthern hemisphere with **b** or the southern hemisphere\nwith **B**. The central meridian is set by *lon0/lat0*. The oblique\nequator is set by *lon1/lat1*. Align the y-axis\nwith the optional **+v**. The figure size is set with *scale* or *width*.\n"
      ]
    },
    {
      "cell_type": "code",
      "execution_count": null,
      "metadata": {
        "collapsed": false
      },
      "outputs": [],
      "source": [
        "import pygmt\n\nfig = pygmt.Figure()\n# Using the origin and two points\nfig.coast(\n    projection=\"Ob130/35/25/35/6c\",\n    # Set bottom left and top right coordinates of the figure with \"+r\"\n    region=\"130/35/145/40+r\",\n    frame=\"afg\",\n    land=\"gray\",\n    shorelines=\"1/thin\",\n    water=\"lightblue\",\n)\nfig.show()"
      ]
    }
  ],
  "metadata": {
    "kernelspec": {
      "display_name": "Python 3",
      "language": "python",
      "name": "python3"
    },
    "language_info": {
      "codemirror_mode": {
        "name": "ipython",
        "version": 3
      },
      "file_extension": ".py",
      "mimetype": "text/x-python",
      "name": "python",
      "nbconvert_exporter": "python",
      "pygments_lexer": "ipython3",
      "version": "3.11.3"
    }
  },
  "nbformat": 4,
  "nbformat_minor": 0
}