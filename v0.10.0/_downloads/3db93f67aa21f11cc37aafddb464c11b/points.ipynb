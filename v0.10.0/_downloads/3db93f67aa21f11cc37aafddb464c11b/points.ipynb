{
  "cells": [
    {
      "cell_type": "markdown",
      "metadata": {},
      "source": [
        "\n# Points\n\nThe :meth:`pygmt.Figure.plot` method can plot points. The plot symbol and size\nis set with the ``style`` parameter.\n"
      ]
    },
    {
      "cell_type": "code",
      "execution_count": null,
      "metadata": {
        "collapsed": false
      },
      "outputs": [],
      "source": [
        "import numpy as np\nimport pygmt\n\n# Generate a random set of points to plot\nnp.random.seed(42)\nregion = [150, 240, -10, 60]\nx = np.random.uniform(region[0], region[1], 100)\ny = np.random.uniform(region[2], region[3], 100)\n\nfig = pygmt.Figure()\n# Create a 15 cm x 15 cm basemap with a Cartesian projection (X) using the\n# data region\nfig.basemap(region=region, projection=\"X15c\", frame=True)\n# Plot using inverted triangles (i) of 0.5 cm size\nfig.plot(x=x, y=y, style=\"i0.5c\", fill=\"black\")\nfig.show()"
      ]
    }
  ],
  "metadata": {
    "kernelspec": {
      "display_name": "Python 3",
      "language": "python",
      "name": "python3"
    },
    "language_info": {
      "codemirror_mode": {
        "name": "ipython",
        "version": 3
      },
      "file_extension": ".py",
      "mimetype": "text/x-python",
      "name": "python",
      "nbconvert_exporter": "python",
      "pygments_lexer": "ipython3",
      "version": "3.11.3"
    }
  },
  "nbformat": 4,
  "nbformat_minor": 0
}