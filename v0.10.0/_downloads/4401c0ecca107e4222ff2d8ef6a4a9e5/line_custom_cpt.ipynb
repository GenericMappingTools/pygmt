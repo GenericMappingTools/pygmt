{
  "cells": [
    {
      "cell_type": "markdown",
      "metadata": {},
      "source": [
        "\n# Line colors with a custom CPT\n\nThe color of the lines made by :meth:`pygmt.Figure.plot` can be set according\nto a custom CPT and assigned with the ``pen`` parameter.\n\nThe custom CPT can be used by setting the plot command's ``cmap`` parameter to\n``True``. The ``zvalue`` parameter sets the z-value (color) to be used from the\ncustom CPT, and the line color is set as the z-value by using **+z** when\nsetting the ``pen`` color.\n"
      ]
    },
    {
      "cell_type": "code",
      "execution_count": null,
      "metadata": {
        "collapsed": false
      },
      "outputs": [],
      "source": [
        "import numpy as np\nimport pygmt\n\n# Create a list of values between 20 and 30 with 0.2 intervals\nx = np.arange(start=20, stop=30, step=0.2)\n\nfig = pygmt.Figure()\nfig.basemap(frame=[\"WSne\", \"af\"], region=[20, 30, -10, 10])\n\n# Create a custom CPT with the batlow CPT and 10 discrete z-values (colors),\n# use color_model=\"+c0-9\" to write the color palette in categorical format and\n# add labels (0) to (9) for the colorbar legend\npygmt.makecpt(cmap=\"batlow\", series=[0, 9, 1], color_model=\"+c0-9\")\n\n# Plot 10 lines and set a different z-value for each line\nfor zvalue in range(0, 10):\n    y = zvalue * np.sin(x)\n    fig.plot(x=x, y=y, cmap=True, zvalue=zvalue, pen=\"thick,+z,-\")\n\n# Color bar to show the custom CPT and the associated z-values\nfig.colorbar()\nfig.show()"
      ]
    }
  ],
  "metadata": {
    "kernelspec": {
      "display_name": "Python 3",
      "language": "python",
      "name": "python3"
    },
    "language_info": {
      "codemirror_mode": {
        "name": "ipython",
        "version": 3
      },
      "file_extension": ".py",
      "mimetype": "text/x-python",
      "name": "python",
      "nbconvert_exporter": "python",
      "pygments_lexer": "ipython3",
      "version": "3.11.3"
    }
  },
  "nbformat": 4,
  "nbformat_minor": 0
}