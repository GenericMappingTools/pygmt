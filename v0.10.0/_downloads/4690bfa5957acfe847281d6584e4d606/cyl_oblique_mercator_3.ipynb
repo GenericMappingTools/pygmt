{
  "cells": [
    {
      "cell_type": "markdown",
      "metadata": {},
      "source": [
        "\n# Oblique Mercator, 3: origin and pole\n\nOblique configurations of the cylinder give rise to the oblique Mercator\nprojection. It is particularly useful when mapping regions of large lateral\nextent in an oblique direction. Both parallels and meridians are complex\ncurves. The projection was developed in the early 1900s by several workers.\n\n**oc**\\|\\ **oC**\\ *lon0/lat0/lonp/latp/scale*\\ [**+v**] or\n**Oc**\\|\\ **OC**\\ *lon0/lat0/lonp/latp/width*\\ [**+v**]\n\nThe projection is set with **o** or **O**. The central meridian is set\nby *lon0/lat0*. The projection pole is set by *lonp/latp* in option three.\nAlign the y-axis with the optional **+v**. The figure size is set\nwith *scale* or *width*.\n"
      ]
    },
    {
      "cell_type": "code",
      "execution_count": null,
      "metadata": {
        "collapsed": false
      },
      "outputs": [],
      "source": [
        "import pygmt\n\nfig = pygmt.Figure()\n# Using the origin and projection pole\nfig.coast(\n    projection=\"Oc280/25.5/22/69/12c\",\n    # Set bottom left and top right coordinates of the figure with \"+r\"\n    region=\"270/20/305/25+r\",\n    frame=\"afg\",\n    land=\"gray\",\n    shorelines=\"1/thin\",\n    water=\"lightblue\",\n)\nfig.show()"
      ]
    }
  ],
  "metadata": {
    "kernelspec": {
      "display_name": "Python 3",
      "language": "python",
      "name": "python3"
    },
    "language_info": {
      "codemirror_mode": {
        "name": "ipython",
        "version": 3
      },
      "file_extension": ".py",
      "mimetype": "text/x-python",
      "name": "python",
      "nbconvert_exporter": "python",
      "pygments_lexer": "ipython3",
      "version": "3.11.3"
    }
  },
  "nbformat": 4,
  "nbformat_minor": 0
}