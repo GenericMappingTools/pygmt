{
  "cells": [
    {
      "cell_type": "markdown",
      "metadata": {},
      "source": [
        "\n# Van der Grinten\n\nThe Van der Grinten projection, presented by Alphons J. van der Grinten in\n1904, is neither equal-area nor conformal. Central meridian and Equator are\nstraight lines; other meridians are arcs of circles. The scale is true along\nthe Equator only. Its main use is to show the entire world enclosed in a\ncircle.\n\n**v**\\ [*lon0/*]\\ *scale* or **V**\\ [*lon0/*]\\ *width*\n\nThe projection is set with **v** or **V**. The central meridian is set with the\noptional *lon0*, and the figure size is set with *scale* or *width*.\n"
      ]
    },
    {
      "cell_type": "code",
      "execution_count": null,
      "metadata": {
        "collapsed": false
      },
      "outputs": [],
      "source": [
        "import pygmt\n\nfig = pygmt.Figure()\n# Use region \"d\" to specify global region (-180/180/-90/90)\nfig.coast(region=\"d\", projection=\"V12c\", land=\"gray\", water=\"cornsilk\", frame=\"afg\")\nfig.show()"
      ]
    }
  ],
  "metadata": {
    "kernelspec": {
      "display_name": "Python 3",
      "language": "python",
      "name": "python3"
    },
    "language_info": {
      "codemirror_mode": {
        "name": "ipython",
        "version": 3
      },
      "file_extension": ".py",
      "mimetype": "text/x-python",
      "name": "python",
      "nbconvert_exporter": "python",
      "pygments_lexer": "ipython3",
      "version": "3.11.3"
    }
  },
  "nbformat": 4,
  "nbformat_minor": 0
}