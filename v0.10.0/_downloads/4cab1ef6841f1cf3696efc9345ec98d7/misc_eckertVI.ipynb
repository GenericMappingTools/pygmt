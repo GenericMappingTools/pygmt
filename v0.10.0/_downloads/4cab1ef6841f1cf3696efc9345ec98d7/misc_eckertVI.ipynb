{
  "cells": [
    {
      "cell_type": "markdown",
      "metadata": {},
      "source": [
        "\n# Eckert VI\n\nThe Eckert VI projections, presented by the German cartographer Max\nEckert-Greiffendorff in 1906, is a pseudo-cylindrical equal-area projection.\nCentral meridian and all parallels are straight lines; other meridians are\nequally spaced sinusoids. The scale is true along latitude 49\u00b016\u2019.\n\n\n**ks**\\ [*lon0/*]\\ *scale* or **Ks**\\ [*lon0/*]\\ *width*\n\nThe projection is set with **ks** or **Ks**. The central meridian is set with\nthe optional *lon0*, and the figure size is set with *scale* or *width*.\n"
      ]
    },
    {
      "cell_type": "code",
      "execution_count": null,
      "metadata": {
        "collapsed": false
      },
      "outputs": [],
      "source": [
        "import pygmt\n\nfig = pygmt.Figure()\n# Use region \"d\" to specify global region (-180/180/-90/90)\nfig.coast(region=\"d\", projection=\"Ks12c\", land=\"ivory\", water=\"bisque4\", frame=\"afg\")\nfig.show()"
      ]
    }
  ],
  "metadata": {
    "kernelspec": {
      "display_name": "Python 3",
      "language": "python",
      "name": "python3"
    },
    "language_info": {
      "codemirror_mode": {
        "name": "ipython",
        "version": 3
      },
      "file_extension": ".py",
      "mimetype": "text/x-python",
      "name": "python",
      "nbconvert_exporter": "python",
      "pygments_lexer": "ipython3",
      "version": "3.11.3"
    }
  },
  "nbformat": 4,
  "nbformat_minor": 0
}