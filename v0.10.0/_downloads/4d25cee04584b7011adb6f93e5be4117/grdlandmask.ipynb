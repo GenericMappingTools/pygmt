{
  "cells": [
    {
      "cell_type": "markdown",
      "metadata": {},
      "source": [
        "\n# Create 'wet-dry' mask grid\nThe :func:`pygmt.grdlandmask` function allows setting\nall nodes on land or water to a specified value using\nthe ``maskvalues`` parameter.\n"
      ]
    },
    {
      "cell_type": "code",
      "execution_count": null,
      "metadata": {
        "collapsed": false
      },
      "outputs": [],
      "source": [
        "import pygmt\n\nfig = pygmt.Figure()\n\n# Define region of interest\nregion = [-65, -40, -40, -20]\n\n# Assign a value of 0 for all water masses and a value of 1 for all land\n# masses.\n# Use shoreline data with (l)ow resolution and set the grid spacing to\n# 5 arc-minutes in x and y direction.\ngrid = pygmt.grdlandmask(region=region, spacing=\"5m\", maskvalues=[0, 1], resolution=\"l\")\n\n# Plot clipped grid\nfig.basemap(region=region, projection=\"M12c\", frame=True)\n\n# Define a colormap to be used for two categories, define the range of the\n# new discrete CPT using series=(lowest_value, highest_value, interval),\n# use color_model=\"+cwater,land\" to write the discrete color palette\n# \"batlow\" in categorical format and add water/land as annotations for the\n# colorbar.\npygmt.makecpt(cmap=\"batlow\", series=(0, 1, 1), color_model=\"+cwater,land\")\n\nfig.grdimage(grid=grid, cmap=True)\nfig.colorbar(position=\"JMR+o0.5c/0c+w8c\")\n\nfig.show()"
      ]
    }
  ],
  "metadata": {
    "kernelspec": {
      "display_name": "Python 3",
      "language": "python",
      "name": "python3"
    },
    "language_info": {
      "codemirror_mode": {
        "name": "ipython",
        "version": 3
      },
      "file_extension": ".py",
      "mimetype": "text/x-python",
      "name": "python",
      "nbconvert_exporter": "python",
      "pygments_lexer": "ipython3",
      "version": "3.11.3"
    }
  },
  "nbformat": 4,
  "nbformat_minor": 0
}