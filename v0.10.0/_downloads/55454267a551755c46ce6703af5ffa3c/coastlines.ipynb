{
  "cells": [
    {
      "cell_type": "markdown",
      "metadata": {},
      "source": [
        "\n# Coastlines and borders\n\nPlotting coastlines and borders is handled by :meth:`pygmt.Figure.coast`.\n"
      ]
    },
    {
      "cell_type": "code",
      "execution_count": null,
      "metadata": {
        "collapsed": false
      },
      "outputs": [],
      "source": [
        "import pygmt"
      ]
    },
    {
      "cell_type": "markdown",
      "metadata": {},
      "source": [
        "## Shorelines\n\nUse the ``shorelines`` parameter to plot only the shorelines:\n\n"
      ]
    },
    {
      "cell_type": "code",
      "execution_count": null,
      "metadata": {
        "collapsed": false
      },
      "outputs": [],
      "source": [
        "fig = pygmt.Figure()\nfig.basemap(region=\"g\", projection=\"W15c\", frame=True)\nfig.coast(shorelines=True)\nfig.show()"
      ]
    },
    {
      "cell_type": "markdown",
      "metadata": {},
      "source": [
        "The shorelines are divided in 4 levels:\n\n1. coastline\n2. lakeshore\n3. island-in-lake shore\n4. lake-in-island-in-lake shore\n\nYou can specify which level you want to plot by passing the level number and\na GMT pen configuration. For example, to plot just the coastlines with 0.5p\nthickness and black lines:\n\n"
      ]
    },
    {
      "cell_type": "code",
      "execution_count": null,
      "metadata": {
        "collapsed": false
      },
      "outputs": [],
      "source": [
        "fig = pygmt.Figure()\nfig.basemap(region=\"g\", projection=\"W15c\", frame=True)\nfig.coast(shorelines=\"1/0.5p,black\")\nfig.show()"
      ]
    },
    {
      "cell_type": "markdown",
      "metadata": {},
      "source": [
        "You can specify multiple levels (with their own pens) by passing a list to\n``shorelines``:\n\n"
      ]
    },
    {
      "cell_type": "code",
      "execution_count": null,
      "metadata": {
        "collapsed": false
      },
      "outputs": [],
      "source": [
        "fig = pygmt.Figure()\nfig.basemap(region=\"g\", projection=\"W15c\", frame=True)\nfig.coast(shorelines=[\"1/1p,black\", \"2/0.5p,red\"])\nfig.show()"
      ]
    },
    {
      "cell_type": "markdown",
      "metadata": {},
      "source": [
        "## Resolutions\n\nThe coastline database comes with 5 resolutions. The resolution drops by 80%\nbetween levels:\n\n1. ``\"c\"``: crude\n2. ``\"l\"``: low (default)\n3. ``\"i\"``: intermediate\n4. ``\"h\"``: high\n5. ``\"f\"``: full\n\n"
      ]
    },
    {
      "cell_type": "code",
      "execution_count": null,
      "metadata": {
        "collapsed": false
      },
      "outputs": [],
      "source": [
        "oahu = [-158.3, -157.6, 21.2, 21.8]\nfig = pygmt.Figure()\nfor res in [\"c\", \"l\", \"i\", \"h\", \"f\"]:\n    fig.coast(resolution=res, shorelines=\"1p\", region=oahu, projection=\"M5c\")\n    fig.shift_origin(xshift=\"5c\")\nfig.show()"
      ]
    },
    {
      "cell_type": "markdown",
      "metadata": {},
      "source": [
        "## Land and water\n\nUse the ``land`` and ``water`` parameters to specify a fill color for land\nand water bodies. The colors can be given by name or hex codes (like the ones\nused in HTML and CSS):\n\n"
      ]
    },
    {
      "cell_type": "code",
      "execution_count": null,
      "metadata": {
        "collapsed": false
      },
      "outputs": [],
      "source": [
        "fig = pygmt.Figure()\nfig.basemap(region=\"g\", projection=\"W15c\", frame=True)\nfig.coast(land=\"#666666\", water=\"skyblue\")\nfig.show()"
      ]
    }
  ],
  "metadata": {
    "kernelspec": {
      "display_name": "Python 3",
      "language": "python",
      "name": "python3"
    },
    "language_info": {
      "codemirror_mode": {
        "name": "ipython",
        "version": 3
      },
      "file_extension": ".py",
      "mimetype": "text/x-python",
      "name": "python",
      "nbconvert_exporter": "python",
      "pygments_lexer": "ipython3",
      "version": "3.11.3"
    }
  },
  "nbformat": 4,
  "nbformat_minor": 0
}