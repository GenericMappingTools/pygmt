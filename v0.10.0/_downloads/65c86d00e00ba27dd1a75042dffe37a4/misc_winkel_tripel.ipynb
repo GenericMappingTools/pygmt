{
  "cells": [
    {
      "cell_type": "markdown",
      "metadata": {},
      "source": [
        "\n# Winkel Tripel\n\nIn 1921, the German mathematician Oswald Winkel made a projection that was to\nstrike a compromise between the properties of three elements (area, angle and\ndistance). The German word \"tripel\" refers to this junction of where each of\nthese elements are least distorted when plotting global maps. The projection\nwas popularized when Bartholomew and Son started to use it in its\nworld-renowned \"The Times Atlas of the World\" in the mid-20th century. In 1998,\nthe National Geographic Society made the Winkel Tripel as its map projection of\nchoice for global maps.\n\nNaturally, this projection is neither conformal, nor equal-area. Central\nmeridian and equator are straight lines; other parallels and meridians are\ncurved. The projection is obtained by averaging the coordinates of the\nEquidistant Cylindrical and Aitoff (not Hammer-Aitoff) projections. The poles\nmap into straight lines 0.4 times the length of equator.\n\n**r**\\ [*lon0/*]\\ *scale* or **R**\\ [*lon0/*]\\ *width*\n\nThe projection is set with **r** or **R**. The central meridian is set with the\noptional *lon0*, and the figure size is set with *scale* or *width*.\n"
      ]
    },
    {
      "cell_type": "code",
      "execution_count": null,
      "metadata": {
        "collapsed": false
      },
      "outputs": [],
      "source": [
        "import pygmt\n\nfig = pygmt.Figure()\n# Use region \"d\" to specify global region (-180/180/-90/90)\nfig.coast(region=\"d\", projection=\"R12c\", land=\"burlywood4\", water=\"wheat1\", frame=\"afg\")\nfig.show()"
      ]
    }
  ],
  "metadata": {
    "kernelspec": {
      "display_name": "Python 3",
      "language": "python",
      "name": "python3"
    },
    "language_info": {
      "codemirror_mode": {
        "name": "ipython",
        "version": 3
      },
      "file_extension": ".py",
      "mimetype": "text/x-python",
      "name": "python",
      "nbconvert_exporter": "python",
      "pygments_lexer": "ipython3",
      "version": "3.11.3"
    }
  },
  "nbformat": 4,
  "nbformat_minor": 0
}