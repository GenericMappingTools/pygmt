{
  "cells": [
    {
      "cell_type": "markdown",
      "metadata": {},
      "source": [
        "\n# Cylindrical Stereographic\n\nThe cylindrical stereographic projections are certainly not as notable as other\ncylindrical projections, but are still used because of their relative\nsimplicity and their ability to overcome some of the downsides of other\ncylindrical projections, like extreme distortions of the higher latitudes. The\nstereographic projections are perspective projections, projecting the sphere\nonto a cylinder in the direction of the antipodal point on the equator. The\ncylinder crosses the sphere at two standard parallels, equidistant from the\nequator.\n\n**cyl_stere**/\\ [*lon0*/\\ [*lat0*/]]\\ *scale* or\n**Cyl_stere**/\\ [*lon0*/\\ [*lat0*/]]\\ *width*\n\nThe projection is set with **cyl_stere** or **Cyl_stere**. The central meridian\nis set by the optional *lon0*, and the figure size is set with *scale* or\n*width*.\n\nThe standard parallel is typically one of these (but can be any value):\n\n* 66.159467 - Miller's modified Gall\n* 55 - Kamenetskiy's First\n* 45 - Gall's Stereographic\n* 30 - Bolshoi Sovietskii Atlas Mira or Kamenetskiy's Second\n* 0 - Braun's Cylindrical\n"
      ]
    },
    {
      "cell_type": "code",
      "execution_count": null,
      "metadata": {
        "collapsed": false
      },
      "outputs": [],
      "source": [
        "import pygmt\n\nfig = pygmt.Figure()\nfig.coast(region=\"g\", frame=\"afg\", land=\"gray\", projection=\"Cyl_stere/30/-20/12c\")\nfig.show()"
      ]
    }
  ],
  "metadata": {
    "kernelspec": {
      "display_name": "Python 3",
      "language": "python",
      "name": "python3"
    },
    "language_info": {
      "codemirror_mode": {
        "name": "ipython",
        "version": 3
      },
      "file_extension": ".py",
      "mimetype": "text/x-python",
      "name": "python",
      "nbconvert_exporter": "python",
      "pygments_lexer": "ipython3",
      "version": "3.11.3"
    }
  },
  "nbformat": 4,
  "nbformat_minor": 0
}