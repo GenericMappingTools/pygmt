{
  "cells": [
    {
      "cell_type": "markdown",
      "metadata": {},
      "source": [
        "\n# Multi-parameter symbols\n\nThe :meth:`pygmt.Figure.plot` method can plot individual multi-parameter\nsymbols by passing the corresponding shortcuts (**e**, **j**, **r**, **R**,\n**w**) to the ``style`` parameter:\n\n- **e**: ellipse\n- **j**: rotated rectangle\n- **r**: rectangle\n- **R**: rounded rectangle\n- **w**: pie wedge\n"
      ]
    },
    {
      "cell_type": "code",
      "execution_count": null,
      "metadata": {
        "collapsed": false
      },
      "outputs": [],
      "source": [
        "import pygmt"
      ]
    },
    {
      "cell_type": "markdown",
      "metadata": {},
      "source": [
        "We can plot multi-parameter symbols using the same symbol style. We need to\ndefine locations (lon, lat) via the ``x`` and ``y`` parameters (scalar for\na single symbol or 1-D list for several ones) and two or three symbol\nparameters after those shortcuts via the ``style`` parameter.\n\nThe multi-parameter symbols in the ``style`` parameter are defined as:\n\n- **e**: ellipse, ``direction/major_axis/minor_axis``\n- **j**: rotated rectangle, ``direction/width/height``\n- **r**: rectangle, ``width/height``\n- **R**: rounded rectangle, ``width/height/radius``\n- **w**: pie wedge, ``diameter/startdir/stopdir``, the last two arguments are\n  directions given in degrees counter-clockwise from horizontal\n\nUpper-case versions **E**, **J**, and **W** are similar to **e**, **j**, and\n**w** but expect geographic azimuths and distances.\n\n"
      ]
    },
    {
      "cell_type": "code",
      "execution_count": null,
      "metadata": {
        "collapsed": false
      },
      "outputs": [],
      "source": [
        "fig = pygmt.Figure()\nfig.basemap(region=[0, 6, 0, 2], projection=\"x3c\", frame=True)\n\n# Ellipse\nfig.plot(x=0.5, y=1, style=\"e45/3/1\", fill=\"orange\", pen=\"2p,black\")\n# Rotated rectangle\nfig.plot(x=1.5, y=1, style=\"j120/5/0.5\", fill=\"red3\", pen=\"2p,black\")\n# Rectangle\nfig.plot(x=3, y=1, style=\"r4/1.5\", fill=\"dodgerblue\", pen=\"2p,black\")\n# Rounded rectangle\nfig.plot(x=4.5, y=1, style=\"R1.25/4/0.5\", fill=\"seagreen\", pen=\"2p,black\")\n# Pie wedge\nfig.plot(x=5.5, y=1, style=\"w2.5/45/330\", fill=\"lightgray\", pen=\"2p,black\")\n\nfig.show()"
      ]
    },
    {
      "cell_type": "markdown",
      "metadata": {},
      "source": [
        "We can also plot symbols with varying parameters via defining those values in\na 2-D list or numpy array (``[[parameters]]`` for a single symbol or\n``[[parameters_1],[parameters_2],[parameters_i]]`` for several ones) or using\nan appropriately formatted input file and passing it to ``data``.\n\nThe symbol parameters in the 2-D list or numpy array are defined as:\n\n- **e**: ellipse, ``[[lon, lat, direction, major_axis, minor_axis]]``\n- **j**: rotated rectangle, ``[[lon, lat, direction, width, height]]``\n- **r**: rectangle, ``[[lon, lat, width, height]]``\n- **R**: rounded rectangle, ``[[lon, lat, width, height, radius]]``\n- **w**: pie wedge, ``[[lon, lat, diameter, startdir, stopdir]]``, the last\n  two arguments are directions given in degrees counter-clockwise from\n  horizontal\n\n"
      ]
    },
    {
      "cell_type": "code",
      "execution_count": null,
      "metadata": {
        "collapsed": false
      },
      "outputs": [],
      "source": [
        "fig = pygmt.Figure()\nfig.basemap(region=[0, 6, 0, 4], projection=\"x3c\", frame=[\"xa1f0.2\", \"ya0.5f0.1\"])\n\n# Ellipse\ndata = [[0.5, 1, 45, 3, 1], [0.5, 3, 135, 2, 1]]\nfig.plot(data=data, style=\"e\", fill=\"orange\", pen=\"2p,black\")\n# Rotated rectangle\ndata = [[1.5, 1, 120, 5, 0.5], [1.5, 3, 50, 3, 0.5]]\nfig.plot(data=data, style=\"j\", fill=\"red3\", pen=\"2p,black\")\n# Rectangle\ndata = [[3, 1, 4, 1.5], [3, 3, 3, 1.5]]\nfig.plot(data=data, style=\"r\", fill=\"dodgerblue\", pen=\"2p,black\")\n# Rounded rectangle\ndata = [[4.5, 1, 1.25, 4, 0.5], [4.5, 3, 1.25, 2.0, 0.2]]\nfig.plot(data=data, style=\"R\", fill=\"seagreen\", pen=\"2p,black\")\n# Pie wedge\ndata = [[5.5, 1, 2.5, 45, 330], [5.5, 3, 1.5, 60, 300]]\nfig.plot(data=data, style=\"w\", fill=\"lightgray\", pen=\"2p,black\")\n\nfig.show()"
      ]
    }
  ],
  "metadata": {
    "kernelspec": {
      "display_name": "Python 3",
      "language": "python",
      "name": "python3"
    },
    "language_info": {
      "codemirror_mode": {
        "name": "ipython",
        "version": 3
      },
      "file_extension": ".py",
      "mimetype": "text/x-python",
      "name": "python",
      "nbconvert_exporter": "python",
      "pygments_lexer": "ipython3",
      "version": "3.11.3"
    }
  },
  "nbformat": 4,
  "nbformat_minor": 0
}