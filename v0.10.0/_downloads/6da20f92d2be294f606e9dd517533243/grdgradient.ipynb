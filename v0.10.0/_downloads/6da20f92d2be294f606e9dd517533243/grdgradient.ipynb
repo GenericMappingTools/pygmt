{
  "cells": [
    {
      "cell_type": "markdown",
      "metadata": {},
      "source": [
        "\n# Calculating grid gradient and radiance\nThe :func:`pygmt.grdgradient` function calculates the gradient of a grid file.\nIn the example shown below we will see how to calculate a hillshade map based\non a Data Elevation Model (DEM). As input :func:`pygmt.grdgradient` gets\na :class:`xarray.DataArray` object or a path string to a grid file, calculates\nthe respective gradient and returns it as an :class:`xarray.DataArray` object.\nWe will use the ``radiance`` parameter in order to set the illumination source\ndirection and altitude.\n"
      ]
    },
    {
      "cell_type": "code",
      "execution_count": null,
      "metadata": {
        "collapsed": false
      },
      "outputs": [],
      "source": [
        "import pygmt\n\n# Define region of interest around Yosemite valley\nregion = [-119.825, -119.4, 37.6, 37.825]\n\n# Load sample grid (3 arc-seconds global relief) in target area\ngrid = pygmt.datasets.load_earth_relief(resolution=\"03s\", region=region)\n\n# calculate the reflection of a light source projecting from west to east\n# (azimuth of 270 degrees) and at a latitude of 30 degrees from the horizon\ndgrid = pygmt.grdgradient(grid=grid, radiance=[270, 30])\n\nfig = pygmt.Figure()\n# define figure configuration\npygmt.config(FORMAT_GEO_MAP=\"ddd.x\", MAP_FRAME_TYPE=\"plain\")\n\n# --------------- plotting the original Data Elevation Model -----------\n\npygmt.makecpt(cmap=\"gray\", series=[200, 4000, 10])\nfig.grdimage(\n    grid=grid,\n    projection=\"M12c\",\n    frame=[\"WSrt+tOriginal Data Elevation Model\", \"xa0.1\", \"ya0.1\"],\n    cmap=True,\n)\n\nfig.colorbar(position=\"JML+o1.4c/0c+w7c/0.5c\", frame=[\"xa1000f500+lElevation\", \"y+lm\"])\n\n# --------------- plotting the hillshade map -----------\n\n# Shift plot origin of the second map by 12.5 cm in x direction\nfig.shift_origin(xshift=\"12.5c\")\n\npygmt.makecpt(cmap=\"gray\", series=[-1.5, 0.3, 0.01])\nfig.grdimage(\n    grid=dgrid,\n    projection=\"M12c\",\n    frame=[\"lSEt+tHillshade Map\", \"xa0.1\", \"ya0.1\"],\n    cmap=True,\n)\n\nfig.show()"
      ]
    }
  ],
  "metadata": {
    "kernelspec": {
      "display_name": "Python 3",
      "language": "python",
      "name": "python3"
    },
    "language_info": {
      "codemirror_mode": {
        "name": "ipython",
        "version": 3
      },
      "file_extension": ".py",
      "mimetype": "text/x-python",
      "name": "python",
      "nbconvert_exporter": "python",
      "pygments_lexer": "ipython3",
      "version": "3.11.3"
    }
  },
  "nbformat": 4,
  "nbformat_minor": 0
}