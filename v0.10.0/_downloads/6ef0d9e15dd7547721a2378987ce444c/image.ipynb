{
  "cells": [
    {
      "cell_type": "markdown",
      "metadata": {},
      "source": [
        "\n# Images on figures\nThe :meth:`pygmt.Figure.image` method can be used to read and place an image\nfile in many formats (e.g., png, jpg, eps, pdf) on a figure. We must specify\nthe filename via the ``imagefile`` parameter or simply use the filename as\nthe first argument. You can also use a full URL pointing to your desired image.\nThe ``position`` parameter allows us to set a reference point on the map for\nthe image.\n"
      ]
    },
    {
      "cell_type": "code",
      "execution_count": null,
      "metadata": {
        "collapsed": false
      },
      "outputs": [],
      "source": [
        "import os\n\nimport pygmt\n\nfig = pygmt.Figure()\nfig.basemap(region=[0, 2, 0, 2], projection=\"X10c\", frame=True)\n\n# place and center the GMT logo from the GMT website to the position 1/1\n# on a basemap, scaled up to be 3 cm wide and draw a rectangular border\n# around the image\nfig.image(\n    imagefile=\"https://www.generic-mapping-tools.org/_static/gmt-logo.png\",\n    position=\"g1/1+w3c+jCM\",\n    box=True,\n)\n\n# clean up the downloaded image in the current directory\nos.remove(\"gmt-logo.png\")\n\nfig.show()"
      ]
    }
  ],
  "metadata": {
    "kernelspec": {
      "display_name": "Python 3",
      "language": "python",
      "name": "python3"
    },
    "language_info": {
      "codemirror_mode": {
        "name": "ipython",
        "version": 3
      },
      "file_extension": ".py",
      "mimetype": "text/x-python",
      "name": "python",
      "nbconvert_exporter": "python",
      "pygments_lexer": "ipython3",
      "version": "3.11.3"
    }
  },
  "nbformat": 4,
  "nbformat_minor": 0
}