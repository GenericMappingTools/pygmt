{
  "cells": [
    {
      "cell_type": "markdown",
      "metadata": {},
      "source": [
        "\n# Mercator\n\nThe Mercator projection takes its name from the Flemish cartographer Gheert\nCremer, better known as Gerardus Mercator, who presented it in 1569. The\nprojection is a cylindrical and conformal, with no distortion along the\nequator. A major navigational feature of the projection is that a line of\nconstant azimuth is straight. Such a line is called a rhumb line or loxodrome.\nThus, to sail from one point to another one only had to connect the points with\na straight line, determine the azimuth of the line, and keep this constant\ncourse for the entire voyage. The Mercator projection has been used extensively\nfor world maps in which the distortion towards the polar regions grows\nrather large.\n\n**m**\\ [*lon0*/\\ [*lat0*/]]\\ *scale* or **M**\\ [*lon0*/\\ [*lat0*/]]\\ *width*\n\nThe projection is set with **m** or **M**. The central meridian is set with the\noptional *lon0* and the standard parallel is set with the optional *lat0*.\nThe figure size is set with *scale* or *width*.\n"
      ]
    },
    {
      "cell_type": "code",
      "execution_count": null,
      "metadata": {
        "collapsed": false
      },
      "outputs": [],
      "source": [
        "import pygmt\n\nfig = pygmt.Figure()\nfig.coast(region=[0, 360, -80, 80], frame=\"afg\", land=\"red\", projection=\"M0/0/12c\")\nfig.show()"
      ]
    }
  ],
  "metadata": {
    "kernelspec": {
      "display_name": "Python 3",
      "language": "python",
      "name": "python3"
    },
    "language_info": {
      "codemirror_mode": {
        "name": "ipython",
        "version": 3
      },
      "file_extension": ".py",
      "mimetype": "text/x-python",
      "name": "python",
      "nbconvert_exporter": "python",
      "pygments_lexer": "ipython3",
      "version": "3.11.3"
    }
  },
  "nbformat": 4,
  "nbformat_minor": 0
}