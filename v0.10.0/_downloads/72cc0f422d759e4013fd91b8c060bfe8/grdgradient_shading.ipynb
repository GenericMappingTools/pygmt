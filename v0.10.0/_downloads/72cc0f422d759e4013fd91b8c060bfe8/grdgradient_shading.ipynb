{
  "cells": [
    {
      "cell_type": "markdown",
      "metadata": {},
      "source": [
        "\n# Calculating grid gradient with custom ``azimuth`` and ``normalize`` parameters\nThe :func:`pygmt.grdgradient` function calculates the gradient of a grid file.\nAs input, :func:`pygmt.grdgradient` gets a :class:`xarray.DataArray` object or\na path string to a grid file. It then calculates the respective gradient and\nreturns an :class:`xarray.DataArray` object. The example below sets two main\nparameters:\n\n- ``azimuth``: to set the illumination light source direction (0\u00b0 is North,\n  90\u00b0 is East, 180\u00b0 is South, 270\u00b0 is West).\n- ``normalize`` to enhance the three-dimensional sense of the topography.\n\nThe ``normalize`` parameter calculates the azimuthal gradient of each point\nalong a certain azimuth angle, then adjusts the brightness value of the color\naccording to the positive/negative of the azimuthal gradient and the amplitude\nof each point.\n"
      ]
    },
    {
      "cell_type": "code",
      "execution_count": null,
      "metadata": {
        "collapsed": false
      },
      "outputs": [],
      "source": [
        "import pygmt\n\n# Load the 3 arc-minutes global relief grid in the target area around Caucasus\ngrid = pygmt.datasets.load_earth_relief(resolution=\"03m\", region=[35, 50, 35, 45])\n\nfig = pygmt.Figure()\n\n# Define a colormap to be used for topography\npygmt.makecpt(cmap=\"terra\", series=[-7000, 7000])\n\n# Define figure configuration\npygmt.config(FONT_TITLE=\"10p,5\", MAP_TITLE_OFFSET=\"1p\", MAP_FRAME_TYPE=\"plain\")\n\n# Setup subplot panels with three rows and four columns\nwith fig.subplot(\n    nrows=3,\n    ncols=4,\n    figsize=(\"28c\", \"21c\"),\n    sharex=\"b\",\n    sharey=\"l\",\n):\n    # E.g. \"0/90\" illuminates light source from the North (top) and East\n    # (right), and so on\n    for azi in [\"0/90\", \"0/300\", \"180/225\"]:\n        # \"e\" and \"t\" are cumulative Laplace distribution and cumulative\n        # Cauchy distribution, respectively\n        # \"amp\" (e.g. 1 or 10) controls the brightness value of the color\n        for nor in [\"t1\", \"e1\", \"t10\", \"e10\"]:\n            # Making an intensity DataArray using azimuth and normalize\n            # parameters\n            shade = pygmt.grdgradient(grid=grid, azimuth=azi, normalize=nor)\n            fig.grdimage(\n                grid=grid,\n                shading=shade,\n                projection=\"M?\",\n                frame=[\"a4f2\", f\"+tazimuth={azi}, normalize={nor}\"],\n                cmap=True,\n                panel=True,\n            )\n\nfig.colorbar(position=\"JBC+w10c/0.25c+h\", frame=\"a2000f500+lElevation (m)\")\n\nfig.show()"
      ]
    }
  ],
  "metadata": {
    "kernelspec": {
      "display_name": "Python 3",
      "language": "python",
      "name": "python3"
    },
    "language_info": {
      "codemirror_mode": {
        "name": "ipython",
        "version": 3
      },
      "file_extension": ".py",
      "mimetype": "text/x-python",
      "name": "python",
      "nbconvert_exporter": "python",
      "pygments_lexer": "ipython3",
      "version": "3.11.3"
    }
  },
  "nbformat": 4,
  "nbformat_minor": 0
}