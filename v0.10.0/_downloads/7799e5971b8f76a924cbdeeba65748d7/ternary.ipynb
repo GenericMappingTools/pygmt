{
  "cells": [
    {
      "cell_type": "markdown",
      "metadata": {},
      "source": [
        "\n# Ternary diagram\nThe :meth:`pygmt.Figure.ternary` method can draw ternary diagrams. The example\nshows how to plot circles with a diameter of 0.1 centimeters\n(``style=\"c0.1c\"``) on a 10-centimeter-wide (``width=\"10c\"``) ternary diagram\nat the positions listed in the first three columns of the sample dataset\n``rock_compositions``, with default annotations and gridline spacings, using\nthe specified labeling defined via ``alabel``, ``blabel``, and ``clabel``.\nPoints are colored based on the values given in the fourth columns of the\nsample dataset via ``cmap=True``.\n"
      ]
    },
    {
      "cell_type": "code",
      "execution_count": null,
      "metadata": {
        "collapsed": false
      },
      "outputs": [],
      "source": [
        "import pygmt\n\nfig = pygmt.Figure()\n\n# Load sample data\ndata = pygmt.datasets.load_sample_data(name=\"rock_compositions\")\n\n# Define a colormap to be used for the values given in the fourth column\n# of the input dataset\npygmt.makecpt(cmap=\"batlow\", series=[0, 80, 10])\n\nfig.ternary(\n    data,\n    region=[0, 100, 0, 100, 0, 100],\n    width=\"10c\",\n    style=\"c0.1c\",\n    alabel=\"Limestone\",\n    blabel=\"Water\",\n    clabel=\"Air\",\n    cmap=True,\n    frame=[\n        \"aafg+lLimestone component+u %\",\n        \"bafg+lWater component+u %\",\n        \"cagf+lAir component+u %\",\n    ],\n)\n\n# Add a colorbar indicating the values given in the fourth column of\n# the input dataset\nfig.colorbar(position=\"JBC+o0c/1.5c\", frame=[\"x+lPermittivity\"])\nfig.show()"
      ]
    }
  ],
  "metadata": {
    "kernelspec": {
      "display_name": "Python 3",
      "language": "python",
      "name": "python3"
    },
    "language_info": {
      "codemirror_mode": {
        "name": "ipython",
        "version": 3
      },
      "file_extension": ".py",
      "mimetype": "text/x-python",
      "name": "python",
      "nbconvert_exporter": "python",
      "pygments_lexer": "ipython3",
      "version": "3.11.3"
    }
  },
  "nbformat": 4,
  "nbformat_minor": 0
}