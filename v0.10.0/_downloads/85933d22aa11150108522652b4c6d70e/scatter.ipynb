{
  "cells": [
    {
      "cell_type": "markdown",
      "metadata": {},
      "source": [
        "\n# Scatter plots with a legend\n\nTo create a scatter plot with a legend one may use a loop and create one\nscatter plot per item to appear in the legend and set the label accordingly.\n\nModified from the matplotlib example:\nhttps://matplotlib.org/stable/gallery/lines_bars_and_markers/scatter_with_legend.html\n"
      ]
    },
    {
      "cell_type": "code",
      "execution_count": null,
      "metadata": {
        "collapsed": false
      },
      "outputs": [],
      "source": [
        "import numpy as np\nimport pygmt\n\nnp.random.seed(19680801)\nn = 200  # number of random data points\n\nfig = pygmt.Figure()\nfig.basemap(\n    region=[-0.1, 1.1, -0.1, 1.1],\n    projection=\"X10c/10c\",\n    frame=[\"xa0.2fg\", \"ya0.2fg\", \"WSrt\"],\n)\nfor fill in [\"gray73\", \"darkorange\", \"slateblue\"]:\n    x, y = np.random.rand(2, n)  # random X and Y data in [0,1]\n    size = np.random.rand(n) * 0.5  # random size [0,0.5], in cm\n    # plot data points as circles (style=\"c\"), with different sizes\n    fig.plot(\n        x=x,\n        y=y,\n        style=\"c\",\n        size=size,\n        fill=fill,\n        # Set the legend label,\n        # and set the symbol size to be 0.25 cm (+S0.25c) in legend\n        label=f\"{fill}+S0.25c\",\n        transparency=50,  # set transparency level for all symbols\n    )\n\nfig.legend(transparency=30)  # set transparency level for legends\nfig.show()"
      ]
    }
  ],
  "metadata": {
    "kernelspec": {
      "display_name": "Python 3",
      "language": "python",
      "name": "python3"
    },
    "language_info": {
      "codemirror_mode": {
        "name": "ipython",
        "version": 3
      },
      "file_extension": ".py",
      "mimetype": "text/x-python",
      "name": "python",
      "nbconvert_exporter": "python",
      "pygments_lexer": "ipython3",
      "version": "3.11.3"
    }
  },
  "nbformat": 4,
  "nbformat_minor": 0
}