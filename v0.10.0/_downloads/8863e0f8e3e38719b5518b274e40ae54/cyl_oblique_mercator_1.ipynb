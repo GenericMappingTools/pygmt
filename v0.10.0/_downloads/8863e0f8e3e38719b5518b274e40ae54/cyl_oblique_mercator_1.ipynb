{
  "cells": [
    {
      "cell_type": "markdown",
      "metadata": {},
      "source": [
        "\n# Oblique Mercator, 1: origin and azimuth\n\nOblique configurations of the cylinder give rise to the oblique Mercator\nprojection. It is particularly useful when mapping regions of large lateral\nextent in an oblique direction. Both parallels and meridians are complex\ncurves. The projection was developed in the early 1900s by several workers.\n\n**oa**\\|\\ **oA**\\ *lon0/lat0/azimuth/scale*\\[**+v**] or\n**Oa**\\|\\ **OA**\\ *lon0/lat0/azimuth/width*\\[**+v**]\n\nThe projection is set with **o** or **O**. The pole is set in the\nnorthern hemisphere with **a** or the southern hemisphere\nwith **A**. The central meridian is set by *lon0/lat0*. The oblique equator\nis set by *azimuth*. Align the y-axis\nwith the optional **+v**. The figure size is set with *scale* or *width*.\n"
      ]
    },
    {
      "cell_type": "code",
      "execution_count": null,
      "metadata": {
        "collapsed": false
      },
      "outputs": [],
      "source": [
        "import pygmt\n\nfig = pygmt.Figure()\n# Using the origin and azimuth\nfig.coast(\n    projection=\"Oa-120/25/-30/6c+v\",\n    # Set bottom left and top right coordinates of the figure with \"+r\"\n    region=\"-122/35/-107/22+r\",\n    frame=\"afg\",\n    land=\"gray\",\n    shorelines=\"1/thin\",\n    water=\"lightblue\",\n)\nfig.show()"
      ]
    }
  ],
  "metadata": {
    "kernelspec": {
      "display_name": "Python 3",
      "language": "python",
      "name": "python3"
    },
    "language_info": {
      "codemirror_mode": {
        "name": "ipython",
        "version": 3
      },
      "file_extension": ".py",
      "mimetype": "text/x-python",
      "name": "python",
      "nbconvert_exporter": "python",
      "pygments_lexer": "ipython3",
      "version": "3.11.3"
    }
  },
  "nbformat": 4,
  "nbformat_minor": 0
}