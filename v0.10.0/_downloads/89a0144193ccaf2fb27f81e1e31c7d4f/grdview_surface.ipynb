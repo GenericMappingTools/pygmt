{
  "cells": [
    {
      "cell_type": "markdown",
      "metadata": {},
      "source": [
        "\n# Plotting a surface\n\nThe :meth:`pygmt.Figure.grdview()` method can plot 3-D surfaces with\n``surftype=\"s\"``. Here, we supply the data as an :class:`xarray.DataArray` with\nthe coordinate vectors ``x`` and ``y`` defined. Note that the ``perspective``\nparameter here controls the azimuth and elevation angle of the view. We provide\na list of two arguments to ``frame`` - the first argument specifies the\n$x$- and $y$-axes frame attributes and the second argument,\nprepended with ``\"z\"``, specifies the $z$-axis frame attributes.\nSpecifying the same scale for the ``projection`` and ``zscale`` parameters\nensures equal axis scaling. The ``shading`` parameter specifies illumination;\nhere we choose an azimuth of 45\u00b0 with ``shading=\"+a45\"``.\n"
      ]
    },
    {
      "cell_type": "code",
      "execution_count": null,
      "metadata": {
        "collapsed": false
      },
      "outputs": [],
      "source": [
        "import numpy as np\nimport pygmt\nimport xarray as xr\n\n\n# Define an interesting function of two variables, see:\n# https://en.wikipedia.org/wiki/Ackley_function\ndef ackley(x, y):\n    return (\n        -20 * np.exp(-0.2 * np.sqrt(0.5 * (x**2 + y**2)))\n        - np.exp(0.5 * (np.cos(2 * np.pi * x) + np.cos(2 * np.pi * y)))\n        + np.exp(1)\n        + 20\n    )\n\n\n# Create gridded data\nINC = 0.05\nx = np.arange(-5, 5 + INC, INC)\ny = np.arange(-5, 5 + INC, INC)\ndata = xr.DataArray(ackley(*np.meshgrid(x, y)), coords=(x, y))\n\nfig = pygmt.Figure()\n\n# Plot grid as a 3-D surface\nSCALE = 0.5  # in centimeters\nfig.grdview(\n    data,\n    # Set annotations and gridlines in steps of five, and\n    # tick marks in steps of one\n    frame=[\"a5f1g5\", \"za5f1g5\"],\n    projection=f\"x{SCALE}c\",\n    zscale=f\"{SCALE}c\",\n    surftype=\"s\",\n    cmap=\"roma\",\n    perspective=[135, 30],  # Azimuth southeast (135\u00b0), at elevation 30\u00b0\n    shading=\"+a45\",\n)\n\n# Add colorbar for gridded data\nfig.colorbar(\n    frame=\"a2f1\",  # Set annotations in steps of two, tick marks in steps of one\n    position=\"JRM\",  # Place colorbar at position Right Middle\n)\n\nfig.show()"
      ]
    }
  ],
  "metadata": {
    "kernelspec": {
      "display_name": "Python 3",
      "language": "python",
      "name": "python3"
    },
    "language_info": {
      "codemirror_mode": {
        "name": "ipython",
        "version": 3
      },
      "file_extension": ".py",
      "mimetype": "text/x-python",
      "name": "python",
      "nbconvert_exporter": "python",
      "pygments_lexer": "ipython3",
      "version": "3.11.3"
    }
  },
  "nbformat": 4,
  "nbformat_minor": 0
}