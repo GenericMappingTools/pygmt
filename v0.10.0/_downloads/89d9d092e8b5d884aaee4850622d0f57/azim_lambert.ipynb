{
  "cells": [
    {
      "cell_type": "markdown",
      "metadata": {},
      "source": [
        "\n# Lambert Azimuthal Equal Area\n\nThis projection was developed by Johann Heinrich Lambert in 1772 and is\ntypically used for mapping large regions like continents and hemispheres. It is\nan azimuthal, equal-area projection, but is not perspective. Distortion is zero\nat the center of the projection, and increases radially away from this point.\n\n**a**\\ *lon0/lat0*\\ [*/horizon*\\ ]\\ */scale*\nor **A**\\ *lon0/lat0*\\ [*/horizon*\\ ]\\ */width*\n\n**a** or **A** specifies the projection type, and *lon0/lat0* specifies the\nprojection center, *horizon* specifies the maximum distance from projection\ncenter (in degrees, <= 180, default 90), and *scale* or *width* sets the size\nof the figure.\n"
      ]
    },
    {
      "cell_type": "code",
      "execution_count": null,
      "metadata": {
        "collapsed": false
      },
      "outputs": [],
      "source": [
        "import pygmt\n\nfig = pygmt.Figure()\nfig.coast(region=\"g\", frame=\"afg\", land=\"gray\", projection=\"A30/-20/60/12c\")\nfig.show()"
      ]
    }
  ],
  "metadata": {
    "kernelspec": {
      "display_name": "Python 3",
      "language": "python",
      "name": "python3"
    },
    "language_info": {
      "codemirror_mode": {
        "name": "ipython",
        "version": 3
      },
      "file_extension": ".py",
      "mimetype": "text/x-python",
      "name": "python",
      "nbconvert_exporter": "python",
      "pygments_lexer": "ipython3",
      "version": "3.11.3"
    }
  },
  "nbformat": 4,
  "nbformat_minor": 0
}