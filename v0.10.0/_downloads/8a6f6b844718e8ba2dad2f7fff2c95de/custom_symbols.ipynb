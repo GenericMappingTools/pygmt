{
  "cells": [
    {
      "cell_type": "markdown",
      "metadata": {},
      "source": [
        "\n# Custom symbols\n\nThe :meth:`pygmt.Figure.plot` method can plot individual custom symbols\nby passing the corresponding symbol name together with the **k** shortcut to\nthe ``style`` parameter. In total 41 custom symbols are already included of\nwhich the following plot shows five exemplary ones. The symbols are shown\nunderneath their corresponding names. For the remaining symbols see the GMT\ncookbook :gmt-docs:`cookbook/custom-symbols.html`.\n"
      ]
    },
    {
      "cell_type": "code",
      "execution_count": null,
      "metadata": {
        "collapsed": false
      },
      "outputs": [],
      "source": [
        "import pygmt\n\nfig = pygmt.Figure()\nfig.basemap(region=[0, 8, 0, 3], projection=\"X12c/4c\", frame=True)\n\n# define pen and fontstyle for annotations\npen = \"1p,black\"\nfont = \"15p,Helvetica-Bold\"\n\n# use the volcano symbol with a size of 1.5c,\n# fill color is set to \"seagreen\"\nfig.plot(x=1, y=1.25, style=\"kvolcano/1.5c\", pen=pen, fill=\"seagreen\")\nfig.text(x=1, y=2.5, text=\"volcano\", font=font)\n\n# use the astroid symbol with a size of 1.5c,\n# fill color is set to \"red3\"\nfig.plot(x=2.5, y=1.25, style=\"kastroid/1.5c\", pen=pen, fill=\"red3\")\nfig.text(x=2.5, y=2.5, text=\"astroid\", font=font)\n\n# use the flash symbol with a size of 1.5c,\n# fill color is set to \"darkorange\"\nfig.plot(x=4, y=1.25, style=\"kflash/1.5c\", pen=pen, fill=\"darkorange\")\nfig.text(x=4, y=2.5, text=\"flash\", font=font)\n\n# use the star4 symbol with a size of 1.5c,\n# fill color is set to \"dodgerblue4\"\nfig.plot(x=5.5, y=1.25, style=\"kstar4/1.5c\", pen=pen, fill=\"dodgerblue4\")\nfig.text(x=5.5, y=2.5, text=\"star4\", font=font)\n\n# use the hurricane symbol with a size of 1.5c,\n# fill color is set to \"magenta4\"\nfig.plot(x=7, y=1.25, style=\"khurricane/1.5c\", pen=pen, fill=\"magenta4\")\nfig.text(x=7, y=2.5, text=\"hurricane\", font=font)\n\nfig.show()"
      ]
    }
  ],
  "metadata": {
    "kernelspec": {
      "display_name": "Python 3",
      "language": "python",
      "name": "python3"
    },
    "language_info": {
      "codemirror_mode": {
        "name": "ipython",
        "version": 3
      },
      "file_extension": ".py",
      "mimetype": "text/x-python",
      "name": "python",
      "nbconvert_exporter": "python",
      "pygments_lexer": "ipython3",
      "version": "3.11.3"
    }
  },
  "nbformat": 4,
  "nbformat_minor": 0
}