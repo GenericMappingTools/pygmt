{
  "cells": [
    {
      "cell_type": "markdown",
      "metadata": {},
      "source": [
        "\n# Histogram\nThe :meth:`pygmt.Figure.histogram` method can plot regular histograms.\nUsing the ``series`` parameter allows to set the interval for the width of\neach bar. The type of the histogram (frequency count or percentage) can be\nselected via the ``histtype`` parameter.\n"
      ]
    },
    {
      "cell_type": "code",
      "execution_count": null,
      "metadata": {
        "collapsed": false
      },
      "outputs": [],
      "source": [
        "import numpy as np\nimport pygmt\n\nnp.random.seed(100)\n\n# Generate random elevation data from a normal distribution\nmean = 100  # mean of distribution\nstddev = 25  # standard deviation of distribution\ndata = mean + stddev * np.random.randn(521)\n\nfig = pygmt.Figure()\n\nfig.histogram(\n    data=data,\n    # Define the frame, add a title, and set the background color to\n    # \"lightgray\". Add labels to the x-axis and y-axis\n    frame=[\"WSne+tHistogram+glightgray\", \"x+lElevation (m)\", \"y+lCounts\"],\n    # Generate evenly spaced bins by increments of 5\n    series=5,\n    # Use \"red3\" as color fill for the bars\n    fill=\"red3\",\n    # Use the pen parameter to draw the outlines with a width of 1 point\n    pen=\"1p\",\n    # Choose histogram type 0, i.e., counts [Default]\n    histtype=0,\n)\n\nfig.show()"
      ]
    }
  ],
  "metadata": {
    "kernelspec": {
      "display_name": "Python 3",
      "language": "python",
      "name": "python3"
    },
    "language_info": {
      "codemirror_mode": {
        "name": "ipython",
        "version": 3
      },
      "file_extension": ".py",
      "mimetype": "text/x-python",
      "name": "python",
      "nbconvert_exporter": "python",
      "pygments_lexer": "ipython3",
      "version": "3.11.3"
    }
  },
  "nbformat": 4,
  "nbformat_minor": 0
}