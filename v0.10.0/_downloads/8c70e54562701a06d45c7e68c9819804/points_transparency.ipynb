{
  "cells": [
    {
      "cell_type": "markdown",
      "metadata": {},
      "source": [
        "\n# Points with varying transparency\n\nPoints can be plotted with different transparency levels by passing in an array\nargument to the ``transparency`` parameter of :meth:`pygmt.Figure.plot`.\n"
      ]
    },
    {
      "cell_type": "code",
      "execution_count": null,
      "metadata": {
        "collapsed": false
      },
      "outputs": [],
      "source": [
        "import numpy as np\nimport pygmt\n\n# prepare the input x and y data\nx = np.arange(0, 105, 5)\ny = np.ones(x.size)\n# transparency level in percentage from 0 (i.e., opaque) to 100\ntransparency = x\n\nfig = pygmt.Figure()\nfig.basemap(\n    region=[-5, 105, 0, 2],\n    frame=[\"xaf+lTransparency level+u%\", \"WSrt\"],\n    projection=\"X15c/6c\",\n)\nfig.plot(x=x, y=y, style=\"c0.6c\", fill=\"blue\", pen=\"1p,red\", transparency=transparency)\nfig.show()"
      ]
    }
  ],
  "metadata": {
    "kernelspec": {
      "display_name": "Python 3",
      "language": "python",
      "name": "python3"
    },
    "language_info": {
      "codemirror_mode": {
        "name": "ipython",
        "version": 3
      },
      "file_extension": ".py",
      "mimetype": "text/x-python",
      "name": "python",
      "nbconvert_exporter": "python",
      "pygments_lexer": "ipython3",
      "version": "3.11.3"
    }
  },
  "nbformat": 4,
  "nbformat_minor": 0
}