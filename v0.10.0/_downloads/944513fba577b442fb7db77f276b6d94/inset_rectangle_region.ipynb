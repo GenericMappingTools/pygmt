{
  "cells": [
    {
      "cell_type": "markdown",
      "metadata": {},
      "source": [
        "\n# Inset map showing a rectangular region\n\nThe :meth:`pygmt.Figure.inset` method adds an inset figure inside a larger\nfigure. The method is called using a ``with`` statement, and its\n``position``, ``box``, ``offset``, and ``margin`` can be customized. Plotting\nmethods called within the ``with`` statement plot into the inset figure.\n"
      ]
    },
    {
      "cell_type": "code",
      "execution_count": null,
      "metadata": {
        "collapsed": false
      },
      "outputs": [],
      "source": [
        "import pygmt\n\n# Set the region of the main figure\nregion = [137.5, 141, 34, 37]\n\nfig = pygmt.Figure()\n\n# Plot the base map of the main figure. Universal Transverse Mercator (UTM)\n# projection is used and the UTM zone is set to be \"54S\".\nfig.basemap(region=region, projection=\"U54S/12c\", frame=[\"WSne\", \"af\"])\n\n# Set the land color to \"lightbrown\", the water color to \"azure1\", the\n# shoreline width to \"2p\", and the area threshold to 1000 km^2 for the main\n# figure\nfig.coast(land=\"lightbrown\", water=\"azure1\", shorelines=\"2p\", area_thresh=1000)\n\n# Create an inset map, setting the position to bottom right, and the x- and\n# y-offsets to 0.1 cm, respectively.\n# The inset map contains the Japan main land. \"U54S/3c\" means UTM projection\n# with a map width of 3 cm. The inset width and height are automatically\n# calculated from the specified ``region`` and ``projection`` parameters.\n# Draws a rectangular box around the inset with a fill color of \"white\" and\n# a pen of \"1p\".\nwith fig.inset(\n    position=\"jBR+o0.1c\",\n    box=\"+gwhite+p1p\",\n    region=[129, 146, 30, 46],\n    projection=\"U54S/3c\",\n):\n    # Highlight the Japan area in \"lightbrown\"\n    # and draw its outline with a pen of \"0.2p\".\n    fig.coast(\n        dcw=\"JP+glightbrown+p0.2p\",\n        area_thresh=10000,\n    )\n    # Plot a rectangle (\"r\") in the inset map to show the area of the main\n    # figure. \"+s\" means that the first two columns are the longitude and\n    # latitude of the bottom left corner of the rectangle, and the last two\n    # columns the longitude and latitude of the uppper right corner.\n    rectangle = [[region[0], region[2], region[1], region[3]]]\n    fig.plot(data=rectangle, style=\"r+s\", pen=\"2p,blue\")\n\nfig.show()"
      ]
    }
  ],
  "metadata": {
    "kernelspec": {
      "display_name": "Python 3",
      "language": "python",
      "name": "python3"
    },
    "language_info": {
      "codemirror_mode": {
        "name": "ipython",
        "version": 3
      },
      "file_extension": ".py",
      "mimetype": "text/x-python",
      "name": "python",
      "nbconvert_exporter": "python",
      "pygments_lexer": "ipython3",
      "version": "3.11.3"
    }
  },
  "nbformat": 4,
  "nbformat_minor": 0
}