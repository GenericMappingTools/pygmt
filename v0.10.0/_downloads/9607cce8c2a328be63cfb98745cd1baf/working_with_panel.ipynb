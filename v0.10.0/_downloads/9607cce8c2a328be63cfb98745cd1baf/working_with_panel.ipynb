{
  "cells": [
    {
      "cell_type": "markdown",
      "metadata": {},
      "source": [
        "\n# Interactive data visualization using ``Panel``\n\n<div class=\"alert alert-info\"><h4>Note</h4><p>Please run the following code examples in a notebook environment\n    otherwise the interactive parts of this tutorial will not work. You can\n    use the button \"Download Jupyter notebook\" at the bottom of this page\n    to download this script as a Jupyter notebook.</p></div>\n\nThe library [Panel](https://panel.holoviz.org/index.html)_ can be used to\ncreate interactive dashboards by connecting user-defined widgets to plots.\n``Panel`` can be used as an extension to Jupyter notebook/lab.\n\nThis tutorial is split into three parts:\n\n- Make a static map\n- Make an interactive map\n- Add a grid for Earth relief\n"
      ]
    },
    {
      "cell_type": "code",
      "execution_count": null,
      "metadata": {
        "collapsed": false
      },
      "outputs": [],
      "source": [
        "# Import the required packages\nimport numpy as np\nimport panel as pn\nimport pygmt\n\npn.extension()"
      ]
    },
    {
      "cell_type": "markdown",
      "metadata": {},
      "source": [
        "## Make a static map\nThe [Orthographic projection](https://www.pygmt.org/dev/projections/azim/azim_orthographic.html)_\ncan be used to show the Earth as a globe. Land and water masses are\nfilled with colors via the ``land`` and  ``water`` parameters of\n:meth:`pygmt.Figure.coast`, respectively. Coastlines are added using the\n``shorelines`` parameter.\n\n"
      ]
    },
    {
      "cell_type": "code",
      "execution_count": null,
      "metadata": {
        "collapsed": false
      },
      "outputs": [],
      "source": [
        "# Create a new instance or object of the pygmt.Figure() class\nfig = pygmt.Figure()\nfig.coast(\n    # Orthographic projection (G) with projection center at 0\u00b0 East and\n    # 15\u00b0 North and a width of 12 centimeters\n    projection=\"G0/15/12c\",\n    region=\"g\",  # global\n    frame=\"g30\",  # Add frame and gridlines in steps of 30 degrees on top\n    land=\"gray\",  # Color land masses in \"gray\"\n    water=\"lightblue\",  # Color water masses in \"lightblue\"\n    # Add coastlines with a 0.25 points thick pen in \"gray50\"\n    shorelines=\"1/0.25p,gray50\",\n)\nfig.show()"
      ]
    },
    {
      "cell_type": "markdown",
      "metadata": {},
      "source": [
        "## Make an interactive map\nTo generate a rotation of the Earth around the vertical axis, the central\nlongitude of the Orthographic projection is varied iteratively in steps of\n10 degrees. The library ``Panel`` is used to create an interactive dashboard\nwith a slider (works only in a notebook environment, e.g. Jupyter notebook).\n\n"
      ]
    },
    {
      "cell_type": "code",
      "execution_count": null,
      "metadata": {
        "collapsed": false
      },
      "outputs": [],
      "source": [
        "# Create a slider\nslider_lon = pn.widgets.DiscreteSlider(\n    name=\"Central longitude\",  # Give name for quantity shown at the slider\n    options=list(np.arange(0, 361, 10)),  # Range corresponding to longitude\n    value=0,  # Set start value\n)\n\n\n# Define a function for plotting the single slices\n@pn.depends(central_lon=slider_lon)\ndef view(central_lon):\n    # Create a new instance or object of the pygmt.Figure() class\n    fig = pygmt.Figure()\n    fig.coast(\n        # Vary the central longitude used for the Orthographic projection\n        projection=f\"G{central_lon}/15/12c\",\n        region=\"g\",\n        frame=\"g30\",\n        land=\"gray\",\n        water=\"lightblue\",\n        shorelines=\"1/0.25p,gray50\",\n    )\n    return fig\n\n\n# Make an interactive dashboard\npn.Column(slider_lon, view)"
      ]
    },
    {
      "cell_type": "markdown",
      "metadata": {},
      "source": [
        "## Add a grid for Earth relief\nInstead of using colors as fill for the land and water masses a grid can be\ndisplayed. Here, the Earth relief is shown by color-coding the elevation.\n\n"
      ]
    },
    {
      "cell_type": "code",
      "execution_count": null,
      "metadata": {
        "collapsed": false
      },
      "outputs": [],
      "source": [
        "# Download a grid for Earth relief with a resolution of 10 arc-minutes\ngrd_relief = pygmt.datasets.load_earth_relief(resolution=\"10m\")\n\n# Create a slider\nslider_lon = pn.widgets.DiscreteSlider(\n    name=\"Central longitude\",\n    options=list(np.arange(0, 361, 10)),\n    value=0,\n)\n\n\n# Define a function for plotting the single slices\n@pn.depends(central_lon=slider_lon)\ndef view(central_lon):\n    # Create a new instance or object of the pygmt.Figure() class\n    fig = pygmt.Figure()\n    # Set up a colormap for the elevation in meters\n    pygmt.makecpt(\n        cmap=\"oleron\",\n        # minimum, maximum, step\n        series=[int(grd_relief.data.min()) - 1, int(grd_relief.data.max()) + 1, 100],\n    )\n    # Plot the grid for the elevation\n    fig.grdimage(\n        projection=f\"G{central_lon}/15/12c\",\n        region=\"g\",\n        grid=grd_relief,  # Use grid downloaded above\n        cmap=True,  # Use colormap defined above\n        frame=\"g30\",\n    )\n    # Add a horizontal colorbar for the elevation\n    # with annotations (a) in steps of 2000 and ticks (f) in steps of 1000\n    # and labels (+l) at the x-axis \"Elevation\" and y-axis \"m\" (meters)\n    fig.colorbar(frame=[\"a2000f1000\", \"x+lElevation\", \"y+lm\"])\n    return fig\n\n\n# Make an interactive dashboard\npn.Column(slider_lon, view)"
      ]
    }
  ],
  "metadata": {
    "kernelspec": {
      "display_name": "Python 3",
      "language": "python",
      "name": "python3"
    },
    "language_info": {
      "codemirror_mode": {
        "name": "ipython",
        "version": 3
      },
      "file_extension": ".py",
      "mimetype": "text/x-python",
      "name": "python",
      "nbconvert_exporter": "python",
      "pygments_lexer": "ipython3",
      "version": "3.11.3"
    }
  },
  "nbformat": 4,
  "nbformat_minor": 0
}