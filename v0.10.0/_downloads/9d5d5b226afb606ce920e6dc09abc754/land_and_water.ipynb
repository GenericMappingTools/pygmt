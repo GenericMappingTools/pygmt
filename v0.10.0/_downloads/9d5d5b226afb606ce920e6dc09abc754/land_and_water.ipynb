{
  "cells": [
    {
      "cell_type": "markdown",
      "metadata": {},
      "source": [
        "\n# Color land and water\n\nThe ``land`` and ``water`` parameters of :meth:`pygmt.Figure.coast` specify\na color to fill in the land and water masses, respectively. There are many\n:gmt-docs:`color codes in GMT <gmtcolors.html>`, including standard GMT color\nnames (like ``\"skyblue\"``), R/G/B levels (like ``\"0/0/255\"``), a hex value\n(like ``\"#333333\"``), and a gray level (like ``\"gray50\"``).\n"
      ]
    },
    {
      "cell_type": "code",
      "execution_count": null,
      "metadata": {
        "collapsed": false
      },
      "outputs": [],
      "source": [
        "import pygmt\n\nfig = pygmt.Figure()\n# Make a global Mollweide map with automatic ticks\nfig.basemap(region=\"g\", projection=\"W15c\", frame=True)\n# Plot the land as light gray, and the water as sky blue\nfig.coast(land=\"#666666\", water=\"skyblue\")\nfig.show()"
      ]
    }
  ],
  "metadata": {
    "kernelspec": {
      "display_name": "Python 3",
      "language": "python",
      "name": "python3"
    },
    "language_info": {
      "codemirror_mode": {
        "name": "ipython",
        "version": 3
      },
      "file_extension": ".py",
      "mimetype": "text/x-python",
      "name": "python",
      "nbconvert_exporter": "python",
      "pygments_lexer": "ipython3",
      "version": "3.11.3"
    }
  },
  "nbformat": 4,
  "nbformat_minor": 0
}