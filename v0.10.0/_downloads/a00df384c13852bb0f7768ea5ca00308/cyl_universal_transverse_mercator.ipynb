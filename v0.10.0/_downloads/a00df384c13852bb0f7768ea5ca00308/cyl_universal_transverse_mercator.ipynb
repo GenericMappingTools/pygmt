{
  "cells": [
    {
      "cell_type": "markdown",
      "metadata": {},
      "source": [
        "\n# Universal Transverse Mercator\n\nA particular subset of the\n:doc:`transverse Merctor </projections/cyl/cyl_transverse_mercator>`\nis the Universal Transverse Mercator (UTM) which was adopted by the US Army\nfor large-scale military maps. Here, the globe is divided into 60 zones\nbetween 84\u00b0S and 84\u00b0N, most of which are 6\u00b0 (in longitude) wide.\nEach of these UTM zones have their unique central meridian.\nFurthermore, each zone is divided into latitude bands but these are\nnot needed to specify the projection for most cases. See Figure\n`Universal Transverse Mercator <GMT_utm_zones>` for all zone designations.\n\n\n.. figure:: https://docs.generic-mapping-tools.org/latest/_images/GMT_utm_zones.png # noqa: W505\n   :width: 700 px\n   :align: center\n\n   Universal Transverse Mercator zone layout.\n\nIn order to minimize the distortion in any given zone, a scale factor of 0.9996\nhas been factored into the formulae (although a standard, you can change this\nwith :gmt-term:`PROJ_SCALE_FACTOR`). This makes the UTM projection a *secant*\nprojection and not a *tangent* projection like the\n:doc:`transverse Merctor </projections/cyl/cyl_transverse_mercator>`.\nThe scale only varies by 1 part in 1,000 from true scale at equator. The\nellipsoidal projection expressions are accurate for map areas that extend\nless than 10\u00b0 away from the central meridian. For larger regions we use the\nconformal latitude in the general spherical formulae instead.\n\n**u**\\ *zone/scale* or **U**\\ *zone/width*\n\nThe projection is set with **u** or **U**. *zone* sets the zone for the figure,\nand the figure size is set with *scale* or *width*.\n"
      ]
    },
    {
      "cell_type": "code",
      "execution_count": null,
      "metadata": {
        "collapsed": false
      },
      "outputs": [],
      "source": [
        "import pygmt\n\nfig = pygmt.Figure()\n# UTM Zone is set to 52R\nfig.coast(\n    region=[127.5, 128.5, 26, 27],\n    projection=\"U52R/12c\",\n    land=\"lightgreen\",\n    water=\"lightblue\",\n    shorelines=\"thinnest\",\n    frame=\"afg\",\n)\nfig.show()"
      ]
    }
  ],
  "metadata": {
    "kernelspec": {
      "display_name": "Python 3",
      "language": "python",
      "name": "python3"
    },
    "language_info": {
      "codemirror_mode": {
        "name": "ipython",
        "version": 3
      },
      "file_extension": ".py",
      "mimetype": "text/x-python",
      "name": "python",
      "nbconvert_exporter": "python",
      "pygments_lexer": "ipython3",
      "version": "3.11.3"
    }
  },
  "nbformat": 4,
  "nbformat_minor": 0
}