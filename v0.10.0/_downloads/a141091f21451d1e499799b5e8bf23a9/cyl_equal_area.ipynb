{
  "cells": [
    {
      "cell_type": "markdown",
      "metadata": {},
      "source": [
        "\n# Cylindrical equal-area\n\nThis cylindrical projection is actually several projections, depending on what\nlatitude is selected as the standard parallel. However, they are all equal area\nand hence non-conformal. All meridians and parallels are straight lines.\n\n**y**\\ *lon0/lat0*\\ */scale* or **Y**\\ *lon0/lat0*\\ */width*\n\nThe projection is set with **y** or **Y**. The projection center is set by\n*lon0/lat0*, and the figure size is set with *scale* or *width*.\n"
      ]
    },
    {
      "cell_type": "code",
      "execution_count": null,
      "metadata": {
        "collapsed": false
      },
      "outputs": [],
      "source": [
        "import pygmt\n\nfig = pygmt.Figure()\n# Use region \"d\" to specify global region (-180/180/-90/90)\nfig.coast(\n    region=\"d\",\n    projection=\"Y35/30/12c\",\n    water=\"dodgerblue\",\n    shorelines=\"thinnest\",\n    frame=\"afg\",\n)\nfig.show()"
      ]
    }
  ],
  "metadata": {
    "kernelspec": {
      "display_name": "Python 3",
      "language": "python",
      "name": "python3"
    },
    "language_info": {
      "codemirror_mode": {
        "name": "ipython",
        "version": 3
      },
      "file_extension": ".py",
      "mimetype": "text/x-python",
      "name": "python",
      "nbconvert_exporter": "python",
      "pygments_lexer": "ipython3",
      "version": "3.11.3"
    }
  },
  "nbformat": 4,
  "nbformat_minor": 0
}