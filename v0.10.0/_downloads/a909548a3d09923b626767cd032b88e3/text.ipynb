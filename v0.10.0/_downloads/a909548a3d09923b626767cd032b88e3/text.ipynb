{
  "cells": [
    {
      "cell_type": "markdown",
      "metadata": {},
      "source": [
        "\n# Plotting text\n\nIt is often useful to add annotations to a plot. This is handled by\n:meth:`pygmt.Figure.text`.\n"
      ]
    },
    {
      "cell_type": "code",
      "execution_count": null,
      "metadata": {
        "collapsed": false
      },
      "outputs": [],
      "source": [
        "import os\n\nimport pygmt"
      ]
    },
    {
      "cell_type": "markdown",
      "metadata": {},
      "source": [
        "## Basic map annotation\n\nText annotations can be added to a map using the :meth:`pygmt.Figure.text`\nmethod of the :class:`pygmt.Figure` class.\n\nHere we create a simple map and add an annotation using the ``text``, ``x``,\nand ``y`` parameters to specify the annotation text and position in the\nprojection frame. ``text`` accepts *str* types, while ``x`` and ``y``\naccept either *int* or *float* numbers, or a list/array of numbers.\n\n"
      ]
    },
    {
      "cell_type": "code",
      "execution_count": null,
      "metadata": {
        "collapsed": false
      },
      "outputs": [],
      "source": [
        "fig = pygmt.Figure()\nwith pygmt.config(MAP_FRAME_TYPE=\"plain\"):\n    fig.basemap(region=[108, 120, -5, 8], projection=\"M20c\", frame=\"a\")\nfig.coast(land=\"black\", water=\"skyblue\")\n\n# Plot text annotations using single arguments\nfig.text(text=\"SOUTH CHINA SEA\", x=112, y=6)\n\n# Plot text annotations using lists of arguments\nfig.text(text=[\"CELEBES SEA\", \"JAVA SEA\"], x=[119, 112], y=[3.25, -4.6])\n\nfig.show()"
      ]
    },
    {
      "cell_type": "markdown",
      "metadata": {},
      "source": [
        "## Changing font style\nThe size, family/weight, and color of an annotation can be specified using\nthe ``font`` parameter.\n\nA list of all recognized fonts can be found at\n:gmt-docs:`PostScript Fonts Used by GMT <cookbook/postscript-fonts.html>`,\nincluding details of how to use non-default fonts.\n\n"
      ]
    },
    {
      "cell_type": "code",
      "execution_count": null,
      "metadata": {
        "collapsed": false
      },
      "outputs": [],
      "source": [
        "fig = pygmt.Figure()\nwith pygmt.config(MAP_FRAME_TYPE=\"plain\"):\n    fig.basemap(region=[108, 120, -5, 8], projection=\"M20c\", frame=\"a\")\nfig.coast(land=\"black\", water=\"skyblue\")\n\n# Customize the font style\nfig.text(text=\"BORNEO\", x=114.0, y=0.5, font=\"22p,Helvetica-Bold,white\")\n\nfig.show()"
      ]
    },
    {
      "cell_type": "markdown",
      "metadata": {},
      "source": [
        "## Plotting from a text file\n\nIt is also possible to add annotations from a file containing ``x``, ``y``,\nand ``text`` columns. Here we give a complete example.\n\n"
      ]
    },
    {
      "cell_type": "code",
      "execution_count": null,
      "metadata": {
        "collapsed": false
      },
      "outputs": [],
      "source": [
        "fig = pygmt.Figure()\nwith pygmt.config(MAP_FRAME_TYPE=\"plain\"):\n    fig.basemap(region=[108, 120, -5, 8], projection=\"M20c\", frame=\"a\")\nfig.coast(land=\"black\", water=\"skyblue\")\n\n# Create space-delimited file\nwith open(\"examples.txt\", \"w\") as f:\n    f.write(\"114 0.5 0 22p,Helvetica-Bold,white CM BORNEO\\n\")\n    f.write(\"119 3.25 0 12p,Helvetica-Bold,black CM CELEBES SEA\\n\")\n    f.write(\"112 -4.6 0 12p,Helvetica-Bold,black CM JAVA SEA\\n\")\n    f.write(\"112 6 40 12p,Helvetica-Bold,black CM SOUTH CHINA SEA\\n\")\n    f.write(\"119.12 7.25 -40 12p,Helvetica-Bold,black CM SULU SEA\\n\")\n    f.write(\"118.4 -1 65 12p,Helvetica-Bold,black CM MAKASSAR STRAIT\\n\")\n\n# Plot region names / sea names from a text file, where\n# the longitude (x) and latitude (y) coordinates are in the first two columns.\n# Setting angle/font/justify to True will indicate that those columns are\n# present in the text file too (Note: must be in that order!).\n# Finally, the text to be printed will be in the last column\nfig.text(textfiles=\"examples.txt\", angle=True, font=True, justify=True)\n\n# Cleanups\nos.remove(\"examples.txt\")\n\nfig.show()"
      ]
    },
    {
      "cell_type": "markdown",
      "metadata": {},
      "source": [
        "## ``justify`` parameter\n\n``justify`` is used to define the anchor point for the bounding box for text\nbeing added to a plot. The following code segment demonstrates the\npositioning of the anchor point relative to the text.\n\nThe anchor point is specified with a two-letter (order independent) code,\nchosen from:\n\n* Vertical anchor: **T**\\(op), **M**\\(iddle), **B**\\(ottom)\n* Horizontal anchor: **L**\\(eft), **C**\\(entre), **R**\\(ight)\n\n"
      ]
    },
    {
      "cell_type": "code",
      "execution_count": null,
      "metadata": {
        "collapsed": false
      },
      "outputs": [],
      "source": [
        "fig = pygmt.Figure()\nfig.basemap(region=[0, 3, 0, 3], projection=\"X10c\", frame=[\"WSne\", \"af0.5g\"])\nfor position in (\"TL\", \"TC\", \"TR\", \"ML\", \"MC\", \"MR\", \"BL\", \"BC\", \"BR\"):\n    fig.text(\n        text=position,\n        position=position,\n        font=\"28p,Helvetica-Bold,black\",\n        justify=position,\n    )\nfig.show()"
      ]
    },
    {
      "cell_type": "markdown",
      "metadata": {},
      "source": [
        "## ``angle`` parameter\n``angle`` is an optional parameter used to specify the counter-clockwise\nrotation in degrees of the text from the horizontal.\n\n"
      ]
    },
    {
      "cell_type": "code",
      "execution_count": null,
      "metadata": {
        "collapsed": false
      },
      "outputs": [],
      "source": [
        "fig = pygmt.Figure()\nfig.basemap(region=[0, 4, 0, 4], projection=\"X5c\", frame=\"WSen\")\nfor i in range(0, 360, 30):\n    fig.text(text=f\"`          {i}@.\", x=2, y=2, justify=\"LM\", angle=i)\nfig.show()"
      ]
    },
    {
      "cell_type": "markdown",
      "metadata": {},
      "source": [
        "## ``fill`` parameter\n\n``fill`` is used to set the fill color of the area surrounding the text.\n\n"
      ]
    },
    {
      "cell_type": "code",
      "execution_count": null,
      "metadata": {
        "collapsed": false
      },
      "outputs": [],
      "source": [
        "fig = pygmt.Figure()\nfig.basemap(region=[0, 1, 0, 1], projection=\"X5c\", frame=\"WSen\")\nfig.text(text=\"Green\", x=0.5, y=0.5, fill=\"green\")\nfig.show()"
      ]
    },
    {
      "cell_type": "markdown",
      "metadata": {},
      "source": [
        "## Advanced configuration\n\nFor crafting more advanced styles, including using special symbols and\nother character sets, be sure to check out the GMT documentation\nat :gmt-docs:`text.html` and also the cookbook at\n:gmt-docs:`cookbook/features.html#placement-of-text`. Good luck!\n\n"
      ]
    }
  ],
  "metadata": {
    "kernelspec": {
      "display_name": "Python 3",
      "language": "python",
      "name": "python3"
    },
    "language_info": {
      "codemirror_mode": {
        "name": "ipython",
        "version": 3
      },
      "file_extension": ".py",
      "mimetype": "text/x-python",
      "name": "python",
      "nbconvert_exporter": "python",
      "pygments_lexer": "ipython3",
      "version": "3.11.3"
    }
  },
  "nbformat": 4,
  "nbformat_minor": 0
}