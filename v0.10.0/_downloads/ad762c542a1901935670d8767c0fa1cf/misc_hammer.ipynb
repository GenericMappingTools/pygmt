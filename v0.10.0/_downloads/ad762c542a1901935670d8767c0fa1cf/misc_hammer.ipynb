{
  "cells": [
    {
      "cell_type": "markdown",
      "metadata": {},
      "source": [
        "\n# Hammer\n\nThe equal-area Hammer projection, first presented by the German mathematician\nErnst von Hammer in 1892, is also known as Hammer-Aitoff (the Aitoff projection\nlooks similar, but is not equal-area). The border is an ellipse, equator and\ncentral meridian are straight lines, while other parallels and meridians are\ncomplex curves.\n\n**h**\\ [*lon0/*]\\ *scale* or **H**\\ [*lon0/*]\\ *width*\n\nThe projection is set with **h** or **H**. The central meridian is set with the\noptional *lon0*, and the figure size is set with *scale* or *width*.\n"
      ]
    },
    {
      "cell_type": "code",
      "execution_count": null,
      "metadata": {
        "collapsed": false
      },
      "outputs": [],
      "source": [
        "import pygmt\n\nfig = pygmt.Figure()\n# Use region \"d\" to specify global region (-180/180/-90/90)\nfig.coast(region=\"d\", projection=\"H12c\", land=\"black\", water=\"cornsilk\", frame=\"afg\")\nfig.show()"
      ]
    }
  ],
  "metadata": {
    "kernelspec": {
      "display_name": "Python 3",
      "language": "python",
      "name": "python3"
    },
    "language_info": {
      "codemirror_mode": {
        "name": "ipython",
        "version": 3
      },
      "file_extension": ".py",
      "mimetype": "text/x-python",
      "name": "python",
      "nbconvert_exporter": "python",
      "pygments_lexer": "ipython3",
      "version": "3.11.3"
    }
  },
  "nbformat": 4,
  "nbformat_minor": 0
}