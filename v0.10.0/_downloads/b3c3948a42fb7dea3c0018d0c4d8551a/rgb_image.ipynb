{
  "cells": [
    {
      "cell_type": "markdown",
      "metadata": {},
      "source": [
        "\n# RGB Image\nThe :meth:`pygmt.Figure.grdimage` method can be used to plot Red, Green, Blue\n(RGB) images, or any 3-band false color combination. Here, we'll use\n:py:func:`rioxarray.open_rasterio` to read a GeoTIFF file into an\n:class:`xarray.DataArray` format, and plot it on a map.\n\nThe example below shows a Worldview 2 satellite image over\n[L\u0101hain\u0101, Hawai\u02bbi during the August 2023 wildfires](https://en.wikipedia.org/wiki/2023_Hawaii_wildfires#L%C4%81hain%C4%81).\nData is sourced from a Cloud-Optimized GeoTIFF (COG) file hosted on\n[OpenAerialMap](https://map.openaerialmap.org) under a\n[CC BY-NC 4.0](https://creativecommons.org/licenses/by-nc/4.0/) license.\n"
      ]
    },
    {
      "cell_type": "code",
      "execution_count": null,
      "metadata": {
        "collapsed": false
      },
      "outputs": [],
      "source": [
        "import pygmt\nimport rioxarray"
      ]
    },
    {
      "cell_type": "markdown",
      "metadata": {},
      "source": [
        "Read 3-band data from GeoTIFF into an xarray.DataArray object:\n\n"
      ]
    },
    {
      "cell_type": "code",
      "execution_count": null,
      "metadata": {
        "collapsed": false
      },
      "outputs": [],
      "source": [
        "with rioxarray.open_rasterio(\n    filename=\"https://oin-hotosm.s3.us-east-1.amazonaws.com/64d6a49a19cb3a000147a65b/0/64d6a49a19cb3a000147a65c.tif\",\n    overview_level=5,\n) as img:\n    # Subset to area of L\u0101hain\u0101 in EPSG:32604 coordinates\n    image = img.rio.clip_box(minx=738000, maxx=755000, miny=2300000, maxy=2318000)\n    image = image.load()  # Force loading the DataArray into memory\nimage"
      ]
    },
    {
      "cell_type": "markdown",
      "metadata": {},
      "source": [
        "Plot the RGB imagery:\n\n"
      ]
    },
    {
      "cell_type": "code",
      "execution_count": null,
      "metadata": {
        "collapsed": false
      },
      "outputs": [],
      "source": [
        "fig = pygmt.Figure()\nwith pygmt.config(FONT_TITLE=\"Times-Roman\"):  # Set title font to Times-Roman\n    fig.grdimage(\n        grid=image,\n        # Use a map scale where 1 cm on the map equals 1 km on the ground\n        projection=\"x1:100000\",\n        frame=[r\"WSne+tL@!a\u00afhain@!a\u00af, Hawai`i on 9 Aug 2023\", \"af\"],\n    )\nfig.show()"
      ]
    }
  ],
  "metadata": {
    "kernelspec": {
      "display_name": "Python 3",
      "language": "python",
      "name": "python3"
    },
    "language_info": {
      "codemirror_mode": {
        "name": "ipython",
        "version": 3
      },
      "file_extension": ".py",
      "mimetype": "text/x-python",
      "name": "python",
      "nbconvert_exporter": "python",
      "pygments_lexer": "ipython3",
      "version": "3.11.3"
    }
  },
  "nbformat": 4,
  "nbformat_minor": 0
}