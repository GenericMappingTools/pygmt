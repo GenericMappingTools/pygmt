{
  "cells": [
    {
      "cell_type": "markdown",
      "metadata": {},
      "source": [
        "\n# Decorated lines\nTo draw a so-called *decorated line*, i.e., symbols along a line\nor curve, use the ``style`` parameter of the\n:meth:`pygmt.Figure.plot` method with the argument ``\"~\"`` and the\ndesired modifiers. A colon (``\":\"``) is used to separate the\nalgorithm settings from the symbol information.\nThis example shows how to adjust the symbols.\nBeside the built-in symbols also custom symbols can be used.\nFor modifying the main decorated line via the ``pen`` parameter,\nsee the :doc:`Line styles example </gallery/lines/linestyles>`.\nFor details on the input data see the upstream GMT documentation\nat https://docs.generic-mapping-tools.org/latest/plot.html#s.\nFurthermore, there are so-called *line fronts*, which are often\nused to plot fault lines, subduction zones, or weather fronts;\nfor details see the\n:doc:`Line fronts example </gallery/lines/linefronts>`.\n"
      ]
    },
    {
      "cell_type": "code",
      "execution_count": null,
      "metadata": {
        "collapsed": false
      },
      "outputs": [],
      "source": [
        "import numpy as np\nimport pygmt\n\n# Generate a two-point line for plotting\nx = np.array([1, 4])\ny = np.array([24, 24])\n\nfig = pygmt.Figure()\nfig.basemap(region=[0, 10, 0, 24], projection=\"X15c\", frame=\"+tDecorated Lines\")\n\n# Plot different decorated lines\nfor decoline in [\n    # Line with circles (\"c\") of 0.5 centimeters radius in distance of\n    # 1 centimeter\n    \"~d1c:+sc0.5c\",\n    # Adjust thickness, color, and style of the outline via \"+p\"\n    # Here, we plot a 1-point thick, blue, dashed outline\n    \"~d1c:+sc0.5c+p1p,blue,dashed\",\n    # Add a fill color using \"+g\" with the desired color\n    \"~d1c:+sc0.5c+glightblue\",\n    # To use a pattern as fill append \"p\" and give the pattern number\n    \"~d1c:+sc0.5c+gp8+p1p,blue\",\n    # Line with triangles (\"t\")\n    \"~d1c:+st0.5c+gtan+p1p,black\",\n    # Line with inverse triangles with a size of 0.3 centimeters in a\n    # distance of 0.4 centimeters\n    \"~d0.4c:+si0.3c+gtan+p1p,black\",\n    # Line with squares (\"s\") with a size of 0.7 centimeters in a distance of\n    # 1 centimeter\n    \"~d1c:+ss0.7c+gtan+p1p,black\",\n    # Shift symbols using \"+n\" in x and y directions relative to the main\n    # decorated line\n    \"~d1c:+sd0.5c+gtan+p1p,black+n-0.2c/0.1c\",\n    # Give the number of equally spaced symbols by using \"n\" instead of \"d\"\n    \"~n6:+sn0.5c+gtan+p1p,black\",\n    # Use upper-case \"N\" to have symbols at the start and end of the line\n    \"~N6:+sh0.5c+gtan+p1p,black\",\n    # Suppress the main decorated line by appending \"+i\"\n    \"~d1c:+sg0.5c+gtan+p1p,black+i\",\n    # To only plot a symbol at the start of the line use \"N-1\"\n    \"~N-1:+sp0.2c+gblack\",\n    # To only plot a symbol at the end of the line use \"N+1\"\n    \"~N+1:+sp0.2c+gblack\",\n    # Line with stars (\"a\")\n    \"~d1c:+sa0.5c+ggold+p1p,black\",\n    # Line with crosses (\"x\")\n    \"~d1c:+sx0.5c+p2p,red\",\n    # Line with (vertical) lines or bars (\"y\")\n    \"~d0.5c:+sy0.5c+p5p,brown\",\n    # Use custom symbol (\"k\") \"squaroid\" with a size of 0.5 centimeters\n    \"~d1c:+sksquaroid/0.5c+ggray+p1p,black\",\n]:\n    y = y - 1.2  # Move current line down\n    fig.plot(x=x, y=y, style=decoline, pen=\"1.25p,black\")\n    fig.text(\n        x=x[-1],\n        y=y[-1],\n        text=decoline,\n        font=\"Courier-Bold\",\n        justify=\"ML\",\n        offset=\"0.75c/0c\",\n    )\n\nfig.show()"
      ]
    }
  ],
  "metadata": {
    "kernelspec": {
      "display_name": "Python 3",
      "language": "python",
      "name": "python3"
    },
    "language_info": {
      "codemirror_mode": {
        "name": "ipython",
        "version": 3
      },
      "file_extension": ".py",
      "mimetype": "text/x-python",
      "name": "python",
      "nbconvert_exporter": "python",
      "pygments_lexer": "ipython3",
      "version": "3.11.3"
    }
  },
  "nbformat": 4,
  "nbformat_minor": 0
}