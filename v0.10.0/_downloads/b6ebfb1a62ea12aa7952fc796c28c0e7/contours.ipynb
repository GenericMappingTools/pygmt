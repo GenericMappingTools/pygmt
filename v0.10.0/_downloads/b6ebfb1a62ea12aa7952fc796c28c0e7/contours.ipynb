{
  "cells": [
    {
      "cell_type": "markdown",
      "metadata": {},
      "source": [
        "\n# Contours\nThe :meth:`pygmt.Figure.contour` method can plot contour lines from a table of\npoints by direct triangulation. The data for the triangulation can be provided\nusing one of three methods:\n\n#. ``x``, ``y``, ``z`` 1-D :class:`numpy.ndarray` data columns.\n#. ``data`` 2-D :class:`numpy.ndarray` data matrix with 3 columns corresponding\n   to ``x``, ``y``, ``z``.\n#. ``data`` path string to a file containing the ``x``, ``y``, ``z`` in a\n   tabular format.\n\nThe parameters ``levels`` and ``annotation`` set the intervals of the contours\nand the annotation on the contours respectively.\n\nIn this example we supply the data as  1-D :class:`numpy.ndarray` with the\n``x``, ``y``, and ``z`` parameters and draw the contours using a 0.5p pen with\ncontours every 10 ``z`` values and annotations every 20 ``z`` values.\n"
      ]
    },
    {
      "cell_type": "code",
      "execution_count": null,
      "metadata": {
        "collapsed": false
      },
      "outputs": [],
      "source": [
        "import numpy as np\nimport pygmt\n\n# build the contours underlying data with the function z = x^2 + y^2\nX, Y = np.meshgrid(np.linspace(-10, 10, 50), np.linspace(-10, 10, 50))\nZ = X**2 + Y**2\nx, y, z = X.flatten(), Y.flatten(), Z.flatten()\n\n\nfig = pygmt.Figure()\nfig.contour(\n    region=[-10, 10, -10, 10],\n    projection=\"X10c/10c\",\n    frame=\"ag\",\n    pen=\"0.5p\",\n    # pass the data as 3 1-D data columns\n    x=x,\n    y=y,\n    z=z,\n    # set the contours z values intervals to 10\n    levels=10,\n    # set the contours annotation intervals to 20\n    annotation=20,\n)\nfig.show()"
      ]
    }
  ],
  "metadata": {
    "kernelspec": {
      "display_name": "Python 3",
      "language": "python",
      "name": "python3"
    },
    "language_info": {
      "codemirror_mode": {
        "name": "ipython",
        "version": 3
      },
      "file_extension": ".py",
      "mimetype": "text/x-python",
      "name": "python",
      "nbconvert_exporter": "python",
      "pygments_lexer": "ipython3",
      "version": "3.11.3"
    }
  },
  "nbformat": 4,
  "nbformat_minor": 0
}