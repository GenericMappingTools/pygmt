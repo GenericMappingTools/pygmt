{
  "cells": [
    {
      "cell_type": "markdown",
      "metadata": {},
      "source": [
        "\n# Wiggle along tracks\n\nThe :meth:`pygmt.Figure.wiggle` method can plot z = f(x,y) anomalies along\ntracks. ``x``, ``y``, ``z`` can be specified as 1-D arrays or within a\nspecified file. The ``scale`` parameter can be used to set the scale of the\nanomaly in data/distance units. The positive and/or negative areas can be\nfilled with color by setting the ``fillpositive`` and/or ``fillnegative``\nparameters.\n"
      ]
    },
    {
      "cell_type": "code",
      "execution_count": null,
      "metadata": {
        "collapsed": false
      },
      "outputs": [],
      "source": [
        "import numpy as np\nimport pygmt\n\n# Create (x, y, z) triplets\nx = np.arange(-7, 7, 0.1)\ny = np.zeros(x.size)\nz = 50 * np.exp(-((x / 3) ** 2)) * np.cos(2 * np.pi * x)\n\nfig = pygmt.Figure()\nfig.basemap(region=[-8, 12, -1, 1], projection=\"X10c\", frame=[\"Snlr\", \"xa2f1\"])\nfig.wiggle(\n    x=x,\n    y=y,\n    z=z,\n    # Set anomaly scale to 20 centimeters\n    scale=\"20c\",\n    # Fill positive areas red\n    fillpositive=\"red\",\n    # Fill negative areas gray\n    fillnegative=\"gray\",\n    # Set the outline width to 1.0 point\n    pen=\"1.0p\",\n    # Draw a blue track with a width of 0.5 points\n    track=\"0.5p,blue\",\n    # Plot a vertical scale bar at the right middle. The bar length is 100 in\n    # data (z) units. Set the z unit label to \"nT\".\n    position=\"jRM+w100+lnT\",\n)\nfig.show()"
      ]
    }
  ],
  "metadata": {
    "kernelspec": {
      "display_name": "Python 3",
      "language": "python",
      "name": "python3"
    },
    "language_info": {
      "codemirror_mode": {
        "name": "ipython",
        "version": 3
      },
      "file_extension": ".py",
      "mimetype": "text/x-python",
      "name": "python",
      "nbconvert_exporter": "python",
      "pygments_lexer": "ipython3",
      "version": "3.11.3"
    }
  },
  "nbformat": 4,
  "nbformat_minor": 0
}