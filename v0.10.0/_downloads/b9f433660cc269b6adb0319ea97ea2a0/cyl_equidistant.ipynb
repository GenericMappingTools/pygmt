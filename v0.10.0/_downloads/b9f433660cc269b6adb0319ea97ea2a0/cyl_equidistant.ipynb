{
  "cells": [
    {
      "cell_type": "markdown",
      "metadata": {},
      "source": [
        "\n# Cylindrical equidistant\n\nThis simple cylindrical projection is really a linear scaling of longitudes and\nlatitudes. The most common form is the Plate Carr\u00e9e projection, where the\nscaling of longitudes and latitudes is the same. All meridians and parallels\nare straight lines.\n\n**q**\\ [*lon0*/\\ [*lat0*/]]\\ *scale* or **Q**\\ [*lon0*/\\ [*lat0*/]]\\ *width*\n\nThe projection is set with **q** or **Q**, and the figure size is set with\n*scale* or *width*. Optionally, the central meridian can be set with *lon0*\n[Default is the middle of the map]. Optionally, the standard parallel can\nbe set with *lat0* [Default is the equator]. When supplied, the central\nmeridian must be supplied as well.\n"
      ]
    },
    {
      "cell_type": "code",
      "execution_count": null,
      "metadata": {
        "collapsed": false
      },
      "outputs": [],
      "source": [
        "import pygmt\n\nfig = pygmt.Figure()\n# Use region \"d\" to specify global region (-180/180/-90/90)\nfig.coast(\n    region=\"d\",\n    projection=\"Q12c\",\n    land=\"tan4\",\n    water=\"lightcyan\",\n    frame=\"afg\",\n)\nfig.show()"
      ]
    }
  ],
  "metadata": {
    "kernelspec": {
      "display_name": "Python 3",
      "language": "python",
      "name": "python3"
    },
    "language_info": {
      "codemirror_mode": {
        "name": "ipython",
        "version": 3
      },
      "file_extension": ".py",
      "mimetype": "text/x-python",
      "name": "python",
      "nbconvert_exporter": "python",
      "pygments_lexer": "ipython3",
      "version": "3.11.3"
    }
  },
  "nbformat": 4,
  "nbformat_minor": 0
}