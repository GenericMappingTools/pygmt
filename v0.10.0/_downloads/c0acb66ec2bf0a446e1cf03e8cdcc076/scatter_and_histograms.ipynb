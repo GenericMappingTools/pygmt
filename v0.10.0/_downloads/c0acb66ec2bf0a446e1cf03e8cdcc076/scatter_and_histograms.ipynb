{
  "cells": [
    {
      "cell_type": "markdown",
      "metadata": {},
      "source": [
        "\n# Scatter plot with histograms\nTo create a scatter plot with histograms at the sides of the plot one\ncan use :meth:`pygmt.Figure.plot` in combination with\n:meth:`pygmt.Figure.histogram`. The positions of the histograms are plotted\nby offseting them from the main scatter plot figure using\n:meth:`pygmt.Figure.shift_origin`.\n"
      ]
    },
    {
      "cell_type": "code",
      "execution_count": null,
      "metadata": {
        "collapsed": false
      },
      "outputs": [],
      "source": [
        "import numpy as np\nimport pygmt\n\nnp.random.seed(19680801)\n\n# Generate random data from a standard normal distribution centered on 0\nx = np.random.randn(1000)\ny = np.random.randn(1000)\n\n# Get axis limits\nxymax = max(np.max(np.abs(x)), np.max(np.abs(y)))\n\nfig = pygmt.Figure()\nfig.basemap(\n    region=[-xymax - 0.5, xymax + 0.5, -xymax - 0.5, xymax + 0.5],\n    projection=\"X10c/10c\",\n    frame=[\"WSrt\", \"a1\"],\n)\n\nfillcol = \"seagreen\"\n\n# Plot data points as circles with a diameter of 0.15 centimeters\nfig.plot(x=x, y=y, style=\"c0.15c\", fill=fillcol, transparency=50)\n\n# Shift the plot origin and add top margin histogram\nfig.shift_origin(yshift=\"10.25c\")\n\nfig.histogram(\n    projection=\"X10c/2c\",\n    frame=[\"Wsrt\", \"xf1\", \"y+lCounts\"],\n    # Give the same value for ymin and ymax to have ymin and ymax\n    # calculated automatically\n    region=[-xymax - 0.5, xymax + 0.5, 0, 0],\n    data=x,\n    fill=fillcol,\n    pen=\"0.1p,white\",\n    histtype=0,\n    series=0.1,\n)\n\n# Shift the plot origin and add right margin histogram\nfig.shift_origin(yshift=\"-10.25c\", xshift=\"10.25c\")\n\nfig.histogram(\n    horizontal=True,\n    projection=\"X2c/10c\",\n    # Note that the y-axis annotation \"Counts\" is shown in x-axis direction\n    # due to the rotation caused by horizontal=True\n    frame=[\"wSrt\", \"xf1\", \"y+lCounts\"],\n    region=[-xymax - 0.5, xymax + 0.5, 0, 0],\n    data=y,\n    fill=fillcol,\n    pen=\"0.1p,white\",\n    histtype=0,\n    series=0.1,\n)\n\nfig.show()"
      ]
    }
  ],
  "metadata": {
    "kernelspec": {
      "display_name": "Python 3",
      "language": "python",
      "name": "python3"
    },
    "language_info": {
      "codemirror_mode": {
        "name": "ipython",
        "version": 3
      },
      "file_extension": ".py",
      "mimetype": "text/x-python",
      "name": "python",
      "nbconvert_exporter": "python",
      "pygments_lexer": "ipython3",
      "version": "3.11.3"
    }
  },
  "nbformat": 4,
  "nbformat_minor": 0
}