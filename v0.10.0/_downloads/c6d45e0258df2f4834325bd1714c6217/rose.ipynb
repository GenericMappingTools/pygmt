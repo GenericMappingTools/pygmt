{
  "cells": [
    {
      "cell_type": "markdown",
      "metadata": {},
      "source": [
        "\n# Rose diagram\n\nThe :meth:`pygmt.Figure.rose` method can plot windrose diagrams or polar\nhistograms.\n"
      ]
    },
    {
      "cell_type": "code",
      "execution_count": null,
      "metadata": {
        "collapsed": false
      },
      "outputs": [],
      "source": [
        "import pygmt\n\n# Load sample compilation of fracture lengths and azimuth as\n# hypothetically digitized from geological maps\ndata = pygmt.datasets.load_sample_data(name=\"fractures\")\n\nfig = pygmt.Figure()\n\nfig.rose(\n    # use columns of the sample dataset as input for the length and azimuth\n    # parameters\n    length=data.length,\n    azimuth=data.azimuth,\n    # specify the \"region\" of interest in the (r,azimuth) space\n    # [r0, r1, az0, az1], here, r0 is 0 and r1 is 1, for azimuth, az0 is 0 and\n    # az1 is 360 which means we plot a full circle between 0 and 360 degrees\n    region=[0, 1, 0, 360],\n    # set the diameter of the rose diagram to 7.5 cm\n    diameter=\"7.5c\",\n    # define the sector width in degrees, we append +r here to draw a rose\n    # diagram instead of a sector diagram\n    sector=\"10+r\",\n    # normalize bin counts by the largest value so all bin counts range from\n    # 0 to 1\n    norm=True,\n    # use red3 as color fill for the sectors\n    fill=\"red3\",\n    # define the frame with ticks and gridlines every 0.2\n    # length unit in radial direction and every 30 degrees\n    # in azimuthal direction, set background color to\n    # lightgray\n    frame=[\"x0.2g0.2\", \"y30g30\", \"+glightgray\"],\n    # use a pen size of 1p to draw the outlines\n    pen=\"1p\",\n)\n\nfig.show()"
      ]
    }
  ],
  "metadata": {
    "kernelspec": {
      "display_name": "Python 3",
      "language": "python",
      "name": "python3"
    },
    "language_info": {
      "codemirror_mode": {
        "name": "ipython",
        "version": 3
      },
      "file_extension": ".py",
      "mimetype": "text/x-python",
      "name": "python",
      "nbconvert_exporter": "python",
      "pygments_lexer": "ipython3",
      "version": "3.11.3"
    }
  },
  "nbformat": 4,
  "nbformat_minor": 0
}