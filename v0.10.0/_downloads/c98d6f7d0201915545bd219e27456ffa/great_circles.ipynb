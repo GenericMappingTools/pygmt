{
  "cells": [
    {
      "cell_type": "markdown",
      "metadata": {},
      "source": [
        "\n# Generate points along great circles\n\nThe :func:`pygmt.project` function can generate points along a great circle\nwhose center and end points can be defined via the ``center`` and ``endpoint``\nparameters, respectively. Using the ``generate`` parameter allows to generate\n(*r*, *s*, *p*) points every *dist* units of *p* along a profile as\noutput. By default all units (*r*, *s* and *p*) are set to degrees while\n``unit=True`` allows to set the unit for *p* to km.\n"
      ]
    },
    {
      "cell_type": "code",
      "execution_count": null,
      "metadata": {
        "collapsed": false
      },
      "outputs": [],
      "source": [
        "import pygmt\n\nfig = pygmt.Figure()\n\n# generate points every 10 degrees along a great circle from 10N,50W to 30N,5W\npoints1 = pygmt.project(center=[-50, 10], endpoint=[-5, 30], generate=10)\n# generate points every 750 km along a great circle from 10N,50W to 57.5N,90W\npoints2 = pygmt.project(center=[-50, 10], endpoint=[-90, 57.5], generate=750, unit=True)\n# generate points every 350 km along a great circle from 10N,50W to 68N,5W\npoints3 = pygmt.project(center=[-50, 10], endpoint=[-5, 68], generate=350, unit=True)\n\n# create a plot with coast and Mercator projection (M)\nfig.basemap(region=[-100, 0, 0, 70], projection=\"M12c\", frame=True)\nfig.coast(shorelines=True, area_thresh=5000)\n\n# plot individual points of first great circle as seagreen line\nfig.plot(x=points1.r, y=points1.s, pen=\"2p,seagreen\")\n# plot individual points as seagreen squares atop\nfig.plot(x=points1.r, y=points1.s, style=\"s.45c\", fill=\"seagreen\", pen=\"1p\")\n\n# plot individual points of second great circle as orange line\nfig.plot(x=points2.r, y=points2.s, pen=\"2p,orange\")\n# plot individual points as orange inverted triangles atop\nfig.plot(x=points2.r, y=points2.s, style=\"i.6c\", fill=\"orange\", pen=\"1p\")\n\n# plot individual points of third great circle as red3 line\nfig.plot(x=points3.r, y=points3.s, pen=\"2p,red3\")\n# plot individual points as red3 circles atop\nfig.plot(x=points3.r, y=points3.s, style=\"c.3c\", fill=\"red3\", pen=\"1p\")\n\nfig.show()"
      ]
    }
  ],
  "metadata": {
    "kernelspec": {
      "display_name": "Python 3",
      "language": "python",
      "name": "python3"
    },
    "language_info": {
      "codemirror_mode": {
        "name": "ipython",
        "version": 3
      },
      "file_extension": ".py",
      "mimetype": "text/x-python",
      "name": "python",
      "nbconvert_exporter": "python",
      "pygments_lexer": "ipython3",
      "version": "3.11.3"
    }
  },
  "nbformat": 4,
  "nbformat_minor": 0
}