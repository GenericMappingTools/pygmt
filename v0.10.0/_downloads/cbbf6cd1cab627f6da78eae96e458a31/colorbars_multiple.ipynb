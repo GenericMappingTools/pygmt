{
  "cells": [
    {
      "cell_type": "markdown",
      "metadata": {},
      "source": [
        "\n# Multiple colormaps\nThis gallery example shows how to create multiple colormaps for different\nsubplots. To better understand how GMT modern mode maintains several levels of\ncolormaps, please refer to\n:gmt-docs:`cookbook/features.html#gmt-modern-mode-hierarchical-levels` for\ndetails.\n"
      ]
    },
    {
      "cell_type": "code",
      "execution_count": null,
      "metadata": {
        "collapsed": false
      },
      "outputs": [],
      "source": [
        "import pygmt\n\nfig = pygmt.Figure()\n\n# Load Earth relief data for the entire globe and a subset region\ngrid_globe = pygmt.datasets.load_earth_relief(resolution=\"01d\")\nsubset_region = [-14, 30, 35, 60]\ngrid_subset = pygmt.datasets.load_earth_relief(resolution=\"10m\", region=subset_region)\n\n# Define a 1-row, 2-column subplot layout. The overall figure dimensions is set\n# to be 15 cm wide and 8 cm high. Each subplot is automatically labelled.\n# The space between the subplots is set to be 0.5 cm.\nwith fig.subplot(\n    nrows=1, ncols=2, figsize=(\"15c\", \"8c\"), autolabel=True, margins=\"0.5c\"\n):\n    # Activate the first panel so that the colormap created by the makecpt\n    # function is a panel-level CPT\n    with fig.set_panel(panel=0):\n        pygmt.makecpt(cmap=\"geo\", series=[-8000, 8000])\n        # \"R?\" means Winkel Tripel projection with map width automatically\n        # determined from the subplot width.\n        fig.grdimage(grid=grid_globe, projection=\"R?\", region=\"g\", frame=\"a\")\n        fig.colorbar(frame=[\"a4000f2000\", \"x+lElevation\", \"y+lm\"])\n    # Activate the second panel so that the colormap created by the makecpt\n    # function is a panel-level CPT\n    with fig.set_panel(panel=1):\n        pygmt.makecpt(cmap=\"globe\", series=[-6000, 3000])\n        # \"M?\" means Mercator projection with map width also automatically\n        # determined from the subplot width.\n        fig.grdimage(grid=grid_subset, projection=\"M?\", region=subset_region, frame=\"a\")\n        fig.colorbar(frame=[\"a2000f1000\", \"x+lElevation\", \"y+lm\"])\n\nfig.show()"
      ]
    }
  ],
  "metadata": {
    "kernelspec": {
      "display_name": "Python 3",
      "language": "python",
      "name": "python3"
    },
    "language_info": {
      "codemirror_mode": {
        "name": "ipython",
        "version": 3
      },
      "file_extension": ".py",
      "mimetype": "text/x-python",
      "name": "python",
      "nbconvert_exporter": "python",
      "pygments_lexer": "ipython3",
      "version": "3.11.3"
    }
  },
  "nbformat": 4,
  "nbformat_minor": 0
}