{
  "cells": [
    {
      "cell_type": "markdown",
      "metadata": {},
      "source": [
        "\n# General Stereographic\n\nThis map projection is a conformal, azimuthal projection. It is mainly used\nwith a projection center in one of the poles. Then meridians appear as straight\nlines and cross latitudes at a right angle. Unlike the azimuthal equidistant\nprojection, the distances in this projection are not displayed in correct\nproportions. It is often used as a hemisphere map like the Lambert Azimuthal\nEqual Area projection.\n\n**s**\\ *lon0/lat0*\\ [*/horizon*]\\ */scale*\nor **S**\\ *lon0/lat0*\\ [*/horizon*\\]\\ */width*\n\nThe projection type is set with **s** or **S**. *lon0/lat0* specifies the\nprojection center, the optional *horizon* parameter specifies the maximum\ndistance from projection center (in degrees, < 180, default 90), and the\n*scale* or *width* sets the size of the figure.\n"
      ]
    },
    {
      "cell_type": "code",
      "execution_count": null,
      "metadata": {
        "collapsed": false
      },
      "outputs": [],
      "source": [
        "import pygmt\n\nfig = pygmt.Figure()\nfig.coast(region=[4, 14, 52, 57], projection=\"S0/90/12c\", frame=\"ag\", land=\"gray\")\nfig.show()"
      ]
    }
  ],
  "metadata": {
    "kernelspec": {
      "display_name": "Python 3",
      "language": "python",
      "name": "python3"
    },
    "language_info": {
      "codemirror_mode": {
        "name": "ipython",
        "version": 3
      },
      "file_extension": ".py",
      "mimetype": "text/x-python",
      "name": "python",
      "nbconvert_exporter": "python",
      "pygments_lexer": "ipython3",
      "version": "3.11.3"
    }
  },
  "nbformat": 4,
  "nbformat_minor": 0
}