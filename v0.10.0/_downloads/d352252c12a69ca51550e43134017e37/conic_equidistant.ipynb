{
  "cells": [
    {
      "cell_type": "markdown",
      "metadata": {},
      "source": [
        "\n# Equidistant conic\n\nThe equidistant conic projection was described by the Greek philosopher\nClaudius Ptolemy about A.D. 150. It is neither conformal or equal-area, but\nserves as a compromise between them. The scale is true along all meridians and\nthe standard parallels.\n\n**d**\\ *lon0/lat0*\\ /\\ *lat1/lat2*\\ */scale*\nor **D**\\ *lon0/lat0*\\ /\\ *lat1/lat2*\\ */width*\n\nThe projection is set with **d** or **D**. The projection center is set by\n*lon0/lat0* and two standard parallels for the map are set with *lat1/lat2*.\nThe figure size is set with *scale* or *width*.\n"
      ]
    },
    {
      "cell_type": "code",
      "execution_count": null,
      "metadata": {
        "collapsed": false
      },
      "outputs": [],
      "source": [
        "import pygmt\n\nfig = pygmt.Figure()\nfig.coast(\n    shorelines=\"1/0.5p\",\n    region=[-88, -70, 18, 24],\n    projection=\"D-79/21/19/23/12c\",\n    land=\"lightgreen\",\n    water=\"lightblue\",\n    frame=\"afg\",\n)\nfig.show()"
      ]
    }
  ],
  "metadata": {
    "kernelspec": {
      "display_name": "Python 3",
      "language": "python",
      "name": "python3"
    },
    "language_info": {
      "codemirror_mode": {
        "name": "ipython",
        "version": 3
      },
      "file_extension": ".py",
      "mimetype": "text/x-python",
      "name": "python",
      "nbconvert_exporter": "python",
      "pygments_lexer": "ipython3",
      "version": "3.11.3"
    }
  },
  "nbformat": 4,
  "nbformat_minor": 0
}