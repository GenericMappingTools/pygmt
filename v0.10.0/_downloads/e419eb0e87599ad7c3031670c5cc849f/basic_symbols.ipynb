{
  "cells": [
    {
      "cell_type": "markdown",
      "metadata": {},
      "source": [
        "\n# Basic geometric symbols\n\nThe :meth:`pygmt.Figure.plot` method can plot individual geometric symbols\nby passing the corresponding shortcuts to the ``style`` parameter. The 14 basic\ngeometric symbols are shown underneath their corresponding shortcut codes.\nFour symbols (**-**, **+**, **x** and **y**) are line-symbols only for which we\ncan adjust the linewidth via the ``pen`` parameter. The point symbol (**p**)\nonly takes a color fill which we can define via the ``fill`` parameter. For\nthe remaining symbols we may define a linewidth as well as a color fill.\n"
      ]
    },
    {
      "cell_type": "code",
      "execution_count": null,
      "metadata": {
        "collapsed": false
      },
      "outputs": [],
      "source": [
        "import pygmt\n\nfig = pygmt.Figure()\nfig.basemap(region=[0, 8, 0, 3], projection=\"X12c/4c\", frame=True)\n\n# define fontstlye for annotations\nfont = \"15p,Helvetica-Bold\"\n\n# upper row\ny = 2\n\n# use a dash in x direction (-) with a size of 0.9 cm,\n# linewidth is set to 2p and the linecolor to \"gray40\"\nfig.plot(x=1, y=y, style=\"-0.9c\", pen=\"2p,gray40\")\nfig.text(x=1, y=y + 0.6, text=\"-\", font=font)\n\n# use a plus (+) with a size of 0.9 cm,\n# linewidth is set to 2p and the linecolor to \"gray40\"\nfig.plot(x=2, y=y, style=\"+0.9c\", pen=\"2p,gray40\")\nfig.text(x=2, y=y + 0.6, text=\"+\", font=font)\n\n# use a star (a) with a size of 0.9 cm,\n# linewidth is set to 1p, the linecolor to \"black\" (default) and the\n# color fill to \"darkorange\"\nfig.plot(x=3, y=y, style=\"a0.9c\", pen=\"1p,black\", fill=\"darkorange\")\nfig.text(x=3, y=y + 0.6, text=\"a\", font=font)\n\n# use a circle (c) with a size of 0.9 cm,\n# linewidth is set to 1p, the linecolor to \"black\" and the\n# color fill to \"darkred\"\nfig.plot(x=4, y=y, style=\"c0.9c\", pen=\"1p,black\", fill=\"darkred\")\nfig.text(x=4, y=y + 0.6, text=\"c\", font=font)\n\n# use a diamond (d) with a size of 0.9 cm,\n# linewidth is set to 1p, the linecolor to \"black\" and the\n# color fill to \"seagreen\"\nfig.plot(x=5, y=y, style=\"d0.9c\", pen=\"1p,black\", fill=\"seagreen\")\nfig.text(x=5, y=y + 0.6, text=\"d\", font=font)\n\n# use a octagon (g) with a size of 0.9 cm,\n# linewidth is set to 1p, the linecolor to \"black\" and the\n# color fill to \"dodgerblue4\"\nfig.plot(x=6, y=y, style=\"g0.9c\", pen=\"1p,black\", fill=\"dodgerblue4\")\nfig.text(x=6, y=y + 0.6, text=\"g\", font=font)\n\n# use a hexagon (h) with a size of 0.9 cm,\n# linewidth is set to 1p, the linecolor to \"black\" and the\n# color fill to \"lightgray\"\nfig.plot(x=7, y=y, style=\"h0.9c\", pen=\"1p,black\", fill=\"lightgray\")\nfig.text(x=7, y=y + 0.6, text=\"h\", font=font)\n\n# lower row\ny = 0.5\n\n# use an inverted triangle (i) with a size of 0.9 cm,\n# linewidth is set to 1p, the linecolor to \"black\" and the\n# color fill to \"tomato\"\nfig.plot(x=1, y=y, style=\"i0.9c\", pen=\"1p,black\", fill=\"tomato\")\nfig.text(x=1, y=y + 0.6, text=\"i\", font=font)\n\n# use pentagon (n) with a size of 0.9 cm,\n# linewidth is set to 1p, the linecolor to \"black\" and the\n# color fill to \"lightseagreen\"\nfig.plot(x=2, y=y, style=\"n0.9c\", pen=\"1p,black\", fill=\"lightseagreen\")\nfig.text(x=2, y=y + 0.6, text=\"n\", font=font)\n\n# use a point (p) with a size of 0.9 cm,\n# color fill is set to \"lightseagreen\"\nfig.plot(x=3, y=y, style=\"p0.9c\", fill=\"slateblue\")\nfig.text(x=3, y=y + 0.6, text=\"p\", font=font)\n\n# use square (s) with a size of 0.9 cm,\n# linewidth is set to 1p, the linecolor to \"black\" and the\n# color fill to \"gold2\"\nfig.plot(x=4, y=y, style=\"s0.9c\", pen=\"1p,black\", fill=\"gold2\")\nfig.text(x=4, y=y + 0.6, text=\"s\", font=font)\n\n# use triangle (t) with a size of 0.9 cm,\n# linewidth is set to 1p, the linecolor to \"black\" and the\n# color fill to \"magenta4\"\nfig.plot(x=5, y=y, style=\"t0.9c\", pen=\"1p,black\", fill=\"magenta4\")\nfig.text(x=5, y=y + 0.6, text=\"t\", font=font)\n\n# use cross (x) with a size of 0.9 cm,\n# linewidth is set to 2p and the linecolor to \"gray40\"\nfig.plot(x=6, y=y, style=\"x0.9c\", pen=\"2p,gray40\")\nfig.text(x=6, y=y + 0.6, text=\"x\", font=font)\n\n# use a dash in y direction (y) with a size of 0.9 cm,\n# linewidth is set to 2p and the linecolor to \"gray40\"\nfig.plot(x=7, y=y, style=\"y0.9c\", pen=\"2p,gray40\")\nfig.text(x=7, y=y + 0.6, text=\"y\", font=font)\n\nfig.show()"
      ]
    }
  ],
  "metadata": {
    "kernelspec": {
      "display_name": "Python 3",
      "language": "python",
      "name": "python3"
    },
    "language_info": {
      "codemirror_mode": {
        "name": "ipython",
        "version": 3
      },
      "file_extension": ".py",
      "mimetype": "text/x-python",
      "name": "python",
      "nbconvert_exporter": "python",
      "pygments_lexer": "ipython3",
      "version": "3.11.3"
    }
  },
  "nbformat": 4,
  "nbformat_minor": 0
}