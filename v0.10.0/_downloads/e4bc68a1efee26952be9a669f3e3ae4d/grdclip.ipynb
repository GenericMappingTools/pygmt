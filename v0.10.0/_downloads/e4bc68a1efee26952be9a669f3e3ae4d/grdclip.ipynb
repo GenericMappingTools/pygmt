{
  "cells": [
    {
      "cell_type": "markdown",
      "metadata": {},
      "source": [
        "\n# Clipping grid values\nThe :func:`pygmt.grdclip` function allows to clip defined ranges of grid\nvalues. In the example shown below we set all elevation values (grid points)\nsmaller than 0 m (in general the bathymetric part of the grid) to a common\nvalue of -2000 m via the ``below`` parameter.\n"
      ]
    },
    {
      "cell_type": "code",
      "execution_count": null,
      "metadata": {
        "collapsed": false
      },
      "outputs": [],
      "source": [
        "import pygmt\n\nfig = pygmt.Figure()\n\n# Define region of interest around Iceland\nregion = [-28, -10, 62, 68]\n\n# Load sample grid (3 arc-minutes global relief) in target area\ngrid = pygmt.datasets.load_earth_relief(resolution=\"03m\", region=region)\n\n# Plot original grid\nfig.basemap(region=region, projection=\"M12c\", frame=[\"f\", \"+toriginal grid\"])\nfig.grdimage(grid=grid, cmap=\"oleron\")\n\n# Shift plot origin of the second map by \"width of the first map + 0.5 cm\"\n# in x direction\nfig.shift_origin(xshift=\"w+0.5c\")\n\n# Set all grid points < 0 m to a value of -2000 m.\ngrid = pygmt.grdclip(grid, below=[0, -2000])\n\n# Plot clipped grid\nfig.basemap(region=region, projection=\"M12c\", frame=[\"f\", \"+tclipped grid\"])\nfig.grdimage(grid=grid)\nfig.colorbar(frame=[\"x+lElevation\", \"y+lm\"], position=\"JMR+o0.5c/0c+w8c\")\n\nfig.show()"
      ]
    }
  ],
  "metadata": {
    "kernelspec": {
      "display_name": "Python 3",
      "language": "python",
      "name": "python3"
    },
    "language_info": {
      "codemirror_mode": {
        "name": "ipython",
        "version": 3
      },
      "file_extension": ".py",
      "mimetype": "text/x-python",
      "name": "python",
      "nbconvert_exporter": "python",
      "pygments_lexer": "ipython3",
      "version": "3.11.3"
    }
  },
  "nbformat": 4,
  "nbformat_minor": 0
}