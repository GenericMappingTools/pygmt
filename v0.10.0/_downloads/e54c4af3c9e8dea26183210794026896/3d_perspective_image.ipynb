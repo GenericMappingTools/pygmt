{
  "cells": [
    {
      "cell_type": "markdown",
      "metadata": {},
      "source": [
        "\n# Creating a 3-D perspective image\n\nCreate 3-D perspective image or surface mesh from a grid\nusing :meth:`pygmt.Figure.grdview`.\n"
      ]
    },
    {
      "cell_type": "code",
      "execution_count": null,
      "metadata": {
        "collapsed": false
      },
      "outputs": [],
      "source": [
        "import pygmt\n\n# Load sample earth relief data\ngrid = pygmt.datasets.load_earth_relief(resolution=\"10m\", region=[-108, -103, 35, 40])"
      ]
    },
    {
      "cell_type": "markdown",
      "metadata": {},
      "source": [
        "The :meth:`pygmt.Figure.grdview` method takes the ``grid`` input.\nThe ``perspective`` parameter changes the azimuth and elevation of the\nviewpoint; the default is [180, 90], which is looking directly down on the\nfigure and north is \"up\". The ``zsize`` parameter sets how tall the\nthree-dimensional portion appears.\n\nThe default grid surface type is *mesh plot*.\n\n"
      ]
    },
    {
      "cell_type": "code",
      "execution_count": null,
      "metadata": {
        "collapsed": false
      },
      "outputs": [],
      "source": [
        "fig = pygmt.Figure()\nfig.grdview(\n    grid=grid,\n    # Sets the view azimuth as 130 degrees, and the view elevation as 30\n    # degrees\n    perspective=[130, 30],\n    # Sets the x- and y-axis labels, and annotates the west, south, and east\n    # axes\n    frame=[\"xa\", \"ya\", \"WSnE\"],\n    # Sets a Mercator projection on a 15-centimeter figure\n    projection=\"M15c\",\n    # Sets the height of the three-dimensional relief at 1.5 centimeters\n    zsize=\"1.5c\",\n)\nfig.show()"
      ]
    },
    {
      "cell_type": "markdown",
      "metadata": {},
      "source": [
        "The grid surface type can be set with the ``surftype`` parameter.\nThe default CPT is *turbo* and can be customized with the ``cmap`` parameter.\n\n"
      ]
    },
    {
      "cell_type": "code",
      "execution_count": null,
      "metadata": {
        "collapsed": false
      },
      "outputs": [],
      "source": [
        "fig = pygmt.Figure()\nfig.grdview(\n    grid=grid,\n    perspective=[130, 30],\n    frame=[\"xa\", \"yaf\", \"WSnE\"],\n    projection=\"M15c\",\n    zsize=\"1.5c\",\n    # Set the surftype to \"surface\"\n    surftype=\"s\",\n    # Set the CPT to \"geo\"\n    cmap=\"geo\",\n)\nfig.show()"
      ]
    },
    {
      "cell_type": "markdown",
      "metadata": {},
      "source": [
        "The ``plane`` parameter sets the elevation and color of a plane that provides\na fill below the surface relief.\n\n"
      ]
    },
    {
      "cell_type": "code",
      "execution_count": null,
      "metadata": {
        "collapsed": false
      },
      "outputs": [],
      "source": [
        "fig = pygmt.Figure()\nfig.grdview(\n    grid=grid,\n    perspective=[130, 30],\n    frame=[\"xa\", \"yaf\", \"WSnE\"],\n    projection=\"M15c\",\n    zsize=\"1.5c\",\n    surftype=\"s\",\n    cmap=\"geo\",\n    # Set the plane elevation to 1,000 meters and make the fill \"gray\"\n    plane=\"1000+ggray\",\n)\nfig.show()"
      ]
    },
    {
      "cell_type": "markdown",
      "metadata": {},
      "source": [
        "The ``perspective`` azimuth can be changed to set the direction that is \"up\"\nin the figure. The ``contourpen`` parameter sets the pen used to draw contour\nlines on the surface. :meth:`pygmt.Figure.colorbar` can be used to add a\ncolor bar to the figure. The ``cmap`` parameter does not need to be passed\nagain. To keep the color bar's alignment similar to the figure, use ``True``\nas the ``perspective`` parameter.\n\n"
      ]
    },
    {
      "cell_type": "code",
      "execution_count": null,
      "metadata": {
        "collapsed": false
      },
      "outputs": [],
      "source": [
        "fig = pygmt.Figure()\nfig.grdview(\n    grid=grid,\n    # Set the azimuth to -130 (230) degrees and the elevation to 30 degrees\n    perspective=[-130, 30],\n    frame=[\"xaf\", \"yaf\", \"WSnE\"],\n    projection=\"M15c\",\n    zsize=\"1.5c\",\n    surftype=\"s\",\n    cmap=\"geo\",\n    plane=\"1000+ggrey\",\n    # Set the contour pen thickness to \"0.1p\"\n    contourpen=\"0.1p\",\n)\nfig.colorbar(perspective=True, frame=[\"a500\", \"x+lElevation\", \"y+lm\"])\nfig.show()"
      ]
    }
  ],
  "metadata": {
    "kernelspec": {
      "display_name": "Python 3",
      "language": "python",
      "name": "python3"
    },
    "language_info": {
      "codemirror_mode": {
        "name": "ipython",
        "version": 3
      },
      "file_extension": ".py",
      "mimetype": "text/x-python",
      "name": "python",
      "nbconvert_exporter": "python",
      "pygments_lexer": "ipython3",
      "version": "3.11.3"
    }
  },
  "nbformat": 4,
  "nbformat_minor": 0
}