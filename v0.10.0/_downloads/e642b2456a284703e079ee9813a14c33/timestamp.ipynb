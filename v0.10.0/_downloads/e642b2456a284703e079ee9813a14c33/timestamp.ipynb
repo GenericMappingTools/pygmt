{
  "cells": [
    {
      "cell_type": "markdown",
      "metadata": {},
      "source": [
        "\n# Timestamp\nThe :meth:`pygmt.Figure.timestamp` method can draw the GMT timestamp logo on\nthe plot. The timestamp will always be shown relative to the bottom-left corner\nof the plot. By default, the ``offset`` and ``justification`` parameters are\nset to ``(\"-54p\", \"-54p\")`` (x, y directions) and ``\"BL\"`` (bottom-left),\nrespectively.\n"
      ]
    },
    {
      "cell_type": "code",
      "execution_count": null,
      "metadata": {
        "collapsed": false
      },
      "outputs": [],
      "source": [
        "import os\n\nimport pygmt\n\nfig = pygmt.Figure()\nfig.basemap(region=[20, 30, -10, 10], projection=\"X10c/5c\", frame=True)\nfig.timestamp()\nfig.show()"
      ]
    },
    {
      "cell_type": "markdown",
      "metadata": {},
      "source": [
        "Additionally, a custom label can be added via the ``label`` parameter. The\nfont can be defined via the ``font`` parameter and the timestamp string\nformat via ``timefmt``.\n\n"
      ]
    },
    {
      "cell_type": "code",
      "execution_count": null,
      "metadata": {
        "collapsed": false
      },
      "outputs": [],
      "source": [
        "os.environ[\"TZ\"] = \"Pacific/Honolulu\"  # optionally set the time zone\n\nfig = pygmt.Figure()\nfig.coast(region=\"d\", projection=\"H10c\", land=\"black\", water=\"cornsilk\", frame=\"afg\")\nfig.timestamp(\n    label=\"Powered by PyGMT\",\n    justification=\"TL\",\n    font=\"Times-Bold\",\n    timefmt=\"%Y-%m-%dT%H:%M:%S%z\",\n)\nfig.show()"
      ]
    }
  ],
  "metadata": {
    "kernelspec": {
      "display_name": "Python 3",
      "language": "python",
      "name": "python3"
    },
    "language_info": {
      "codemirror_mode": {
        "name": "ipython",
        "version": 3
      },
      "file_extension": ".py",
      "mimetype": "text/x-python",
      "name": "python",
      "nbconvert_exporter": "python",
      "pygments_lexer": "ipython3",
      "version": "3.11.3"
    }
  },
  "nbformat": 4,
  "nbformat_minor": 0
}