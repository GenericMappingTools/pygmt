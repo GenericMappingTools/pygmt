{
  "cells": [
    {
      "cell_type": "markdown",
      "metadata": {},
      "source": [
        "\n# Text symbols\nThe :meth:`pygmt.Figure.plot` method allows to plot text symbols. Text is\nnormally placed with the :meth:`pygmt.Figure.text` method but there are times\nwe wish to treat a character or even a string as a plottable symbol.\nA text symbol can be drawn by passing **l**\\ *size*\\ **+t**\\ *string* to\nthe ``style`` parameter where *size* defines the size of the text symbol\n(note: the size is only approximate; no individual scaling is done for\ndifferent characters) and *string* can be a letter or a text string\n(less than 256 characters). Optionally, you can append\n**+f**\\ *font,outlinecolor* to select a particular font [Default is\n:gmt-term:`FONT_ANNOT_PRIMARY`] and outline color [Default is black] as well\nas **+j**\\ *justify* to change the justification [Default is CM]. The fill\ncolor of the text symbols can be set with the ``fill`` parameter, and the\noutline width can be customized with the ``pen`` parameter.\nFor all supported octal codes and fonts see the GMT cookbook\n:gmt-docs:`cookbook/octal-codes.html` and\n:gmt-docs:`cookbook/postscript-fonts.html`.\n"
      ]
    },
    {
      "cell_type": "code",
      "execution_count": null,
      "metadata": {
        "collapsed": false
      },
      "outputs": [],
      "source": [
        "import pygmt\n\nfig = pygmt.Figure()\n\nfig.basemap(region=[0, 8, 0, 3], projection=\"X12c/4c\", frame=True)\n\npen = \"1.5p\"\n# plot an uppercase \"A\" of size 3.5c, color fill is set to \"dodgerblue3\"\nfig.plot(x=1, y=1.5, style=\"l3.5c+tA\", fill=\"dodgerblue3\", pen=pen)\n# plot an \"asterisk\" of size 3.5c, color fill is set to \"red3\"\nfig.plot(x=2.5, y=1, style=\"l3.5c+t*\", fill=\"red3\", pen=pen)\n# plot an uppercase \"Z\" of size 3.5c and use the \"Courier-Bold\" font,\n# color fill is set to \"seagreen\"\nfig.plot(x=4, y=1.5, style=\"l3.5c+tZ+fCourier-Bold\", fill=\"seagreen\", pen=pen)\n# plot a lowercase \"s\" of size 3.5c and use the \"Times-Italic\" font,\n# color fill is set to \"gold\"\nfig.plot(x=5.5, y=1.5, style=\"l3.5c+ts+fTimes-Italic\", fill=\"gold\", pen=pen)\n# plot the pi symbol of size 3.5c, the outline color of the symbol is set to\n# \"darkorange\", the color fill is set to \"magenta4\"\nfig.plot(x=7, y=1.5, style=\"l3.5c+t\u03c0+fdarkorange\", fill=\"magenta4\", pen=pen)\n\nfig.show()"
      ]
    }
  ],
  "metadata": {
    "kernelspec": {
      "display_name": "Python 3",
      "language": "python",
      "name": "python3"
    },
    "language_info": {
      "codemirror_mode": {
        "name": "ipython",
        "version": 3
      },
      "file_extension": ".py",
      "mimetype": "text/x-python",
      "name": "python",
      "nbconvert_exporter": "python",
      "pygments_lexer": "ipython3",
      "version": "3.11.3"
    }
  },
  "nbformat": 4,
  "nbformat_minor": 0
}