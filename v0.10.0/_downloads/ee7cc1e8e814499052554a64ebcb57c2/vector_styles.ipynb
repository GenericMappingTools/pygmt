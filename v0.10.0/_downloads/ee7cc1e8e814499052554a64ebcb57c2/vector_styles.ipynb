{
  "cells": [
    {
      "cell_type": "markdown",
      "metadata": {},
      "source": [
        "\n# Cartesian, circular, and geographic vectors\n\nThe :meth:`pygmt.Figure.plot` method can plot Cartesian, circular, and\ngeographic vectors. The ``style`` parameter controls vector attributes.\nSee also\n:doc:`Vector attributes example </gallery/lines/vector_heads_tails>`.\n"
      ]
    },
    {
      "cell_type": "code",
      "execution_count": null,
      "metadata": {
        "collapsed": false
      },
      "outputs": [],
      "source": [
        "import numpy as np\nimport pygmt\n\n# create a plot with coast, Mercator projection (M) over the continental US\nfig = pygmt.Figure()\nfig.coast(\n    region=[-127, -64, 24, 53],\n    projection=\"M15c\",\n    frame=True,\n    borders=1,\n    area_thresh=4000,\n    shorelines=\"0.25p,black\",\n)\n\n\n# Left: plot 12 Cartesian vectors with different lengths\nx = np.linspace(-116, -116, 12)  # x vector coordinates\ny = np.linspace(33.5, 42.5, 12)  # y vector coordinates\ndirection = np.zeros(x.shape)  # direction of vectors\nlength = np.linspace(0.5, 2.4, 12)  # length of vectors\n# Cartesian vectors (v) with red fill and pen (+g, +p), vector head at\n# end (+e), and 40 degree angle (+a) with no indentation for vector head (+h)\nstyle = \"v0.2c+e+a40+gred+h0+p1p,red\"\nfig.plot(x=x, y=y, style=style, pen=\"1p,red\", direction=[direction, length])\nfig.text(text=\"CARTESIAN\", x=-112, y=44.2, font=\"13p,Helvetica-Bold,red\", fill=\"white\")\n\n\n# Middle: plot 7 math angle arcs with different radii\nnum = 7\nx = np.full(num, -95)  # x coordinates of the center\ny = np.full(num, 37)  # y coordinates of the center\nradius = 1.8 - 0.2 * np.arange(0, num)  # radius\nstartdir = np.full(num, 90)  # start direction in degrees\nstopdir = 180 + 40 * np.arange(0, num)  # stop direction in degrees\n# data for circular vectors\ndata = np.column_stack([x, y, radius, startdir, stopdir])\narcstyle = \"m0.5c+ea\"  # Circular vector (m) with an arrow at end\nfig.plot(data=data, style=arcstyle, fill=\"red3\", pen=\"1.5p,black\")\nfig.text(text=\"CIRCULAR\", x=-95, y=44.2, font=\"13p,Helvetica-Bold,black\", fill=\"white\")\n\n\n# Right: plot geographic vectors using endpoints\nNYC = [-74.0060, 40.7128]\nCHI = [-87.6298, 41.8781]\nSEA = [-122.3321, 47.6062]\nNO = [-90.0715, 29.9511]\n# `=` means geographic vectors.\n# With the modifier '+s', the input data should contain coordinates of start\n# and end points\nstyle = \"=0.5c+s+e+a30+gblue+h0.5+p1p,blue\"\ndata = np.array([NYC + CHI, NYC + SEA, NYC + NO])\nfig.plot(data=data, style=style, pen=\"1.0p,blue\")\nfig.text(\n    text=\"GEOGRAPHIC\", x=-74.5, y=44.2, font=\"13p,Helvetica-Bold,blue\", fill=\"white\"\n)\nfig.show()"
      ]
    }
  ],
  "metadata": {
    "kernelspec": {
      "display_name": "Python 3",
      "language": "python",
      "name": "python3"
    },
    "language_info": {
      "codemirror_mode": {
        "name": "ipython",
        "version": 3
      },
      "file_extension": ".py",
      "mimetype": "text/x-python",
      "name": "python",
      "nbconvert_exporter": "python",
      "pygments_lexer": "ipython3",
      "version": "3.11.3"
    }
  },
  "nbformat": 4,
  "nbformat_minor": 0
}