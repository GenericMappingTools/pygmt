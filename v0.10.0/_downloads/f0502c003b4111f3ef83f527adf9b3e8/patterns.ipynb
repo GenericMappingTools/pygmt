{
  "cells": [
    {
      "cell_type": "markdown",
      "metadata": {},
      "source": [
        "\n# Bit and Hachure Patterns\n\nPyGMT allows using bit or hachure patterns via the ``fill`` parameter\nor similar parameters:\n\n- :meth:`pygmt.Figure.coast`: Land and water masses via ``land`` and\n  ``water``, respectively\n- :meth:`pygmt.Figure.histogram`: Histogram bars via ``fill``\n- :meth:`pygmt.Figure.meca`: Focal mechanisms via ``compressionfill``\n  and ``extensionfill``\n- :meth:`pygmt.Figure.plot`: Symbols and polygons via ``fill``\n- :meth:`pygmt.Figure.rose`: Histogram sectors via ``fill``\n- :meth:`pygmt.Figure.solar`: Day-light terminators via ``fill``\n- :meth:`pygmt.Figure.ternary`: Symbols via ``fill``\n- :meth:`pygmt.Figure.velo`: Uncertainty wedges and velocity error\n  ellipses via ``uncertaintyfill``\n- :meth:`pygmt.Figure.wiggle`: Anomalies via ``fillpositive``\n  and ``fillnegative``\n\nThe required argument has the following form:\n\n**P**\\|\\ **p**\\ *pattern*\\ [**+b**\\ *color*][**+f**\\ *color*][**+r**\\ *dpi*]\n\n*pattern* can either be a number in the range 1-90 or the name of a\n1-, 8-, or 24-bit image raster file. The former will result in one of the 90\npredefined 64 x 64 bit-patterns provided by GMT; an overview can by found at\nhttps://docs.generic-mapping-tools.org/latest/cookbook/predefined-patterns.html.\nThe latter allows the user to create customized, repeating images using image\nraster files.\nBy specifying upper case **P** instead of **p** the image will be\nbit-reversed, i.e., white and black areas will be interchanged (only applies\nto 1-bit images or predefined bit-image patterns).\nFor these patterns and other 1-bit images one may specify alternative\n**b**\\ ackground and **f**\\ oreground colors (by appending **+b**\\ *color*\nand/or **+f**\\ *color*) that will replace the default white and black pixels,\nrespectively. Excluding *color* from a fore- or background specification yields\na transparent image where only the back- or foreground pixels will be painted.\nThe **+r**\\ *dpi* modifier sets the resolution in dpi.\n"
      ]
    },
    {
      "cell_type": "code",
      "execution_count": null,
      "metadata": {
        "collapsed": false
      },
      "outputs": [],
      "source": [
        "import pygmt\n\ny = 11\n\nfig = pygmt.Figure()\nfig.basemap(\n    region=[0, 10, 0, 12],\n    projection=\"X10c\",\n    frame=\"rlbt+glightgray+tBit and Hachure Patterns\",\n)\n\n# To use a pattern as fill append \"p\" and the number of the desired\n# pattern. By default, the pattern is plotted in black and white\n# with a resolution of 300 dpi\nfor pattern in [\n    # Plot a hachted pattern via pattern number 8\n    \"p8\",\n    # Plot a dotted pattern via pattern number 19\n    \"p19\",\n    # Set the background color (\"+b\") to \"red3\"\n    # and the foreground color (\"+f\") to \"lightgray\"\n    \"p19+bred3+flightbrown\",\n    # Invert the pattern by using a capitalized \"P\"\n    \"P19+bred3+flightbrown\",\n    # Change the resolution (\"+r\") to 100 dpi\n    \"p19+bred3+flightbrown+r100\",\n    # Make the background transparent by not giving a color after \"+b\";\n    # works analogous for the foreground\n    \"p19+b+flightbrown+r100\",\n]:\n    # Plot a square with the pattern as fill\n    fig.plot(\n        x=2,\n        y=y,\n        style=\"s2c\",  # square with a width of 2 centimeters\n        pen=\"1p,black\",  # 1 point thick, black outline\n        fill=pattern,\n    )\n    # Add a description of the pattern\n    fig.text(\n        x=4,\n        y=y,\n        text=pattern,\n        font=\"Courier-Bold\",\n        justify=\"ML\",  # justification of the text is Middle Left\n    )\n    y -= 2\n\nfig.show()"
      ]
    }
  ],
  "metadata": {
    "kernelspec": {
      "display_name": "Python 3",
      "language": "python",
      "name": "python3"
    },
    "language_info": {
      "codemirror_mode": {
        "name": "ipython",
        "version": 3
      },
      "file_extension": ".py",
      "mimetype": "text/x-python",
      "name": "python",
      "nbconvert_exporter": "python",
      "pygments_lexer": "ipython3",
      "version": "3.11.3"
    }
  },
  "nbformat": 4,
  "nbformat_minor": 0
}