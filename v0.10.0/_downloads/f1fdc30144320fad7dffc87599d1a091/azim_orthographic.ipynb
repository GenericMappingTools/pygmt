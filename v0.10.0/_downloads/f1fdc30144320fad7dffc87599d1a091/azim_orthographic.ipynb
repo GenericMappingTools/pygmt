{
  "cells": [
    {
      "cell_type": "markdown",
      "metadata": {},
      "source": [
        "\n# Orthographic\n\nThis is a perspective projection like the general perspective, but with the\ndifference that the point of perspective lies in infinite distance.\nIt is therefore often used to give the appearance of a globe viewed from outer\nspace, were one hemisphere can be seen as a whole. It is neither conformal nor\nequal-area and the distortion increases near the edges.\n\n**g**\\ *lon0/lat0*\\ [*/horizon*\\ ]\\ */scale*\nor **G**\\ *lon0/lat0*\\ [*/horizon*\\ ]\\ */width*\n\n**g** or **G** specifies the projection type, *lon0/lat0* specifies the\nprojection center, the optional parameter *horizon* specifies the maximum\ndistance from projection center (in degrees, <= 90, default 90), and *scale*\nand *width* set the figure size.\n"
      ]
    },
    {
      "cell_type": "code",
      "execution_count": null,
      "metadata": {
        "collapsed": false
      },
      "outputs": [],
      "source": [
        "import pygmt\n\nfig = pygmt.Figure()\nfig.coast(projection=\"G10/52/12c\", region=\"g\", frame=\"g\", land=\"gray\")\nfig.show()"
      ]
    }
  ],
  "metadata": {
    "kernelspec": {
      "display_name": "Python 3",
      "language": "python",
      "name": "python3"
    },
    "language_info": {
      "codemirror_mode": {
        "name": "ipython",
        "version": 3
      },
      "file_extension": ".py",
      "mimetype": "text/x-python",
      "name": "python",
      "nbconvert_exporter": "python",
      "pygments_lexer": "ipython3",
      "version": "3.11.3"
    }
  },
  "nbformat": 4,
  "nbformat_minor": 0
}