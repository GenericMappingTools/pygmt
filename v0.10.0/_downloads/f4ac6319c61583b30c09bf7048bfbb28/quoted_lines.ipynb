{
  "cells": [
    {
      "cell_type": "markdown",
      "metadata": {},
      "source": [
        "\n# Quoted lines\nTo plot a so-called *quoted line*, i.e., labels along a line\nor curve, use the ``style`` parameter of the\n:meth:`pygmt.Figure.plot` method with the argument ``\"q\"`` and the\ndesired modifiers. A colon (``\":\"``) is used to separate the\nalgorithm settings from the label information.\nThis example shows how to adjust the labels.\nFor modifying the main quoted line via the ``pen`` parameter,\nsee the :doc:`Line styles example </gallery/lines/linestyles>`.\nFor details on the input data see the upstream GMT documentation\nat https://docs.generic-mapping-tools.org/latest/plot.html#s.\n"
      ]
    },
    {
      "cell_type": "code",
      "execution_count": null,
      "metadata": {
        "collapsed": false
      },
      "outputs": [],
      "source": [
        "import numpy as np\nimport pygmt\n\n# Generate a two-point line for plotting\nx = np.array([1, 4])\ny = np.array([20, 20])\n\nfig = pygmt.Figure()\nfig.basemap(region=[0, 10, 0, 20], projection=\"X15c/15c\", frame=\"+tQuoted Lines\")\n\n# Plot different quoted lines\nfor quotedline in [\n    # Line with labels (\"+l\") \"text\" in distance (\"d\") of 1 centimeter\n    \"qd1c:+ltext\",\n    # Suppress the main quoted line by appending \"+i\"\n    \"qd1c:+ltext+i\",\n    # Give the number of equally spaced labels by using \"n\" instead of \"d\"\n    \"qn5:+ltext\",\n    # Use upper-case \"N\" to have labels at the start and end of the line\n    \"qN5:+ltext\",\n    # To only plot a label at the start of the line use \"N-1\"\n    \"qN-1:+ltext\",\n    # To only plot a label at the end of the line use \"N+1\"\n    \"qN+1:+ltext\",\n    # Adjust the justification of the labels via \"+j\", here Top Center\n    \"qd1c:+ltext+jTC\",\n    # Shift labels using \"+n\" in x and y directions relative to the main\n    # quoted line\n    \"qd1c:+ltext+n-0.5c/0.1c\",\n    # Rotate labels via \"+a\" (counter-clockwise from horizontal)\n    \"qd1c:+ltext+a20\",\n    # Adjust size, type, and color of the font via \"+f\"\n    \"qd1c:+ltext+f12p,Times-Bold,red\",\n    # Add a box around the label via \"+p\"\n    \"qd1c:+ltext+p\",\n    # Adjust thickness, color, and style of the outline\n    \"qd1c:+ltext+p0.5p,blue,dashed\",\n    # Append \"+o\" to get a box with rounded edges\n    \"qd1c:+ltext+p0.5p,blue+o\",\n    # Adjust the space between label and box in x and y directions via \"+c\"\n    \"qd1c:+ltext+p0.5p,blue+o+c0.1c/0.1c\",\n    # Give a fill of the box via \"+g\" together with the desired color\n    \"qd1c:+ltext+gdodgerblue\",\n]:\n    y -= 1  # Move current line down\n    fig.plot(x=x, y=y, pen=\"1.25p\", style=quotedline)\n    fig.text(\n        x=x[-1],\n        y=y[-1],\n        text=quotedline,\n        font=\"Courier-Bold\",\n        justify=\"ML\",\n        offset=\"0.75c/0c\",\n    )\n\nfig.show()"
      ]
    },
    {
      "cell_type": "markdown",
      "metadata": {},
      "source": [
        "For curved labels following the line, append ``\"+v\"`` to the argument passed\nto the ``style`` parameter.\n\n"
      ]
    },
    {
      "cell_type": "code",
      "execution_count": null,
      "metadata": {
        "collapsed": false
      },
      "outputs": [],
      "source": [
        "# Generate sinus curve\nx = np.arange(0, 10 * np.pi, 0.1)\ny = np.sin(0.8 * x)\n\nfig = pygmt.Figure()\n\nfig.basemap(region=[0, 30, -4, 4], projection=\"X10c/5c\", frame=True)\n\nfig.plot(x=x, y=y + 2, style=\"qd1.2c:+lstraight text+f5p\", pen=\"1p,blue\")\n\nfig.plot(\n    x=x,\n    y=y - 2,\n    # Append \"+v\" to force curved labels\n    style=\"qd1.2c:+lcurved text+f5p+v\",\n    pen=\"1p,blue\",\n)\n\nfig.show()"
      ]
    }
  ],
  "metadata": {
    "kernelspec": {
      "display_name": "Python 3",
      "language": "python",
      "name": "python3"
    },
    "language_info": {
      "codemirror_mode": {
        "name": "ipython",
        "version": 3
      },
      "file_extension": ".py",
      "mimetype": "text/x-python",
      "name": "python",
      "nbconvert_exporter": "python",
      "pygments_lexer": "ipython3",
      "version": "3.11.3"
    }
  },
  "nbformat": 4,
  "nbformat_minor": 0
}