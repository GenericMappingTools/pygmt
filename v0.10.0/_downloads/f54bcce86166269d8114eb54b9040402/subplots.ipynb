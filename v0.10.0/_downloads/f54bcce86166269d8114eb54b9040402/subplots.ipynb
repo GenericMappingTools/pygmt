{
  "cells": [
    {
      "cell_type": "markdown",
      "metadata": {},
      "source": [
        "\n# Making subplots\n\nWhen you're preparing a figure for a paper, there will often be times when\nyou'll need to put many individual plots into one large figure, and label them\n'abcd'. These individual plots are called subplots.\n\nThere are two main ways to create subplots in GMT:\n\n- Use :meth:`pygmt.Figure.shift_origin` to manually move each individual plot\n  to the right position.\n- Use :meth:`pygmt.Figure.subplot` to define the layout of the subplots.\n\nThe first method is easier to use and should handle simple cases involving a\ncouple of subplots. For more advanced subplot layouts, however, we recommend\nthe use of :meth:`pygmt.Figure.subplot` which offers finer grained control, and\nthis is what the tutorial below will cover.\n"
      ]
    },
    {
      "cell_type": "code",
      "execution_count": null,
      "metadata": {
        "collapsed": false
      },
      "outputs": [],
      "source": [
        "import pygmt"
      ]
    },
    {
      "cell_type": "markdown",
      "metadata": {},
      "source": [
        "Let's start by initializing a :class:`pygmt.Figure` instance.\n\n"
      ]
    },
    {
      "cell_type": "code",
      "execution_count": null,
      "metadata": {
        "collapsed": false
      },
      "outputs": [],
      "source": [
        "fig = pygmt.Figure()"
      ]
    },
    {
      "cell_type": "markdown",
      "metadata": {},
      "source": [
        "## Define subplot layout\n\nThe :meth:`pygmt.Figure.subplot` method is used to set up the layout, size,\nand other attributes of the figure. It divides the whole canvas into regular\ngrid areas with *n* rows and *m* columns. Each grid area can contain an\nindividual subplot. For example:\n\n"
      ]
    },
    {
      "cell_type": "markdown",
      "metadata": {},
      "source": [
        "```default\nwith fig.subplot(nrows=2, ncols=3, figsize=(\"15c\", \"6c\"), frame=\"lrtb\"):\n    ...\n```\n"
      ]
    },
    {
      "cell_type": "markdown",
      "metadata": {},
      "source": [
        "will define our figure to have a 2 row and 3 column grid layout.\n``figsize=(\"15c\", \"6c\")`` defines the overall size of the figure to be 15 cm\nwide by 6 cm high. Using ``frame=\"lrtb\"`` allows us to customize the map\nframe for all subplots instead of setting them individually. The figure\nlayout will look like the following:\n\n"
      ]
    },
    {
      "cell_type": "code",
      "execution_count": null,
      "metadata": {
        "collapsed": false
      },
      "outputs": [],
      "source": [
        "with fig.subplot(nrows=2, ncols=3, figsize=(\"15c\", \"6c\"), frame=\"lrtb\"):\n    for i in range(2):  # row number starting from 0\n        for j in range(3):  # column number starting from 0\n            index = i * 3 + j  # index number starting from 0\n            with fig.set_panel(panel=index):  # sets the current panel\n                fig.text(\n                    position=\"MC\",\n                    text=f\"index: {index}; row: {i}, col: {j}\",\n                    region=[0, 1, 0, 1],\n                )\nfig.show()"
      ]
    },
    {
      "cell_type": "markdown",
      "metadata": {},
      "source": [
        "The :meth:`pygmt.Figure.set_panel` method activates a specified subplot,\nand all subsequent plotting methods will take place in that subplot panel.\nThis is similar to matplotlib's ``plt.sca`` method. In order to specify a\nsubplot, you will need to provide the identifier for that subplot via the\n``panel`` parameter. Pass in either the *index* number, or a tuple/list like\n(*row*, *col*) to ``panel``.\n\n"
      ]
    },
    {
      "cell_type": "markdown",
      "metadata": {},
      "source": [
        "<div class=\"alert alert-info\"><h4>Note</h4><p>The row and column numbering starts from 0. So for a subplot layout with\n    N rows and M columns, row numbers will go from 0 to N-1, and column\n    numbers will go from 0 to M-1.</p></div>\n\n"
      ]
    },
    {
      "cell_type": "markdown",
      "metadata": {},
      "source": [
        "For example, to activate the subplot on the top right corner (index: 2) at\n*row*\\=0 and *col*\\=2, so that all subsequent plotting commands happen\nthere, you can use the following command:\n\n"
      ]
    },
    {
      "cell_type": "markdown",
      "metadata": {},
      "source": [
        "```default\nwith fig.set_panel(panel=[0, 2]):\n    ...\n```\n"
      ]
    },
    {
      "cell_type": "markdown",
      "metadata": {},
      "source": [
        "## Making your first subplot\nNext, let's use what we learned above to make a 2 row by 2 column subplot\nfigure. We'll also pick up on some new parameters to configure our subplot.\n\n"
      ]
    },
    {
      "cell_type": "code",
      "execution_count": null,
      "metadata": {
        "collapsed": false
      },
      "outputs": [],
      "source": [
        "fig = pygmt.Figure()\nwith fig.subplot(\n    nrows=2,\n    ncols=2,\n    figsize=(\"15c\", \"6c\"),\n    autolabel=True,\n    frame=[\"af\", \"WSne\"],\n    margins=[\"0.1c\", \"0.2c\"],\n    title=\"My Subplot Heading\",\n):\n    fig.basemap(region=[0, 10, 0, 10], projection=\"X?\", panel=[0, 0])\n    fig.basemap(region=[0, 20, 0, 10], projection=\"X?\", panel=[0, 1])\n    fig.basemap(region=[0, 10, 0, 20], projection=\"X?\", panel=[1, 0])\n    fig.basemap(region=[0, 20, 0, 20], projection=\"X?\", panel=[1, 1])\nfig.show()"
      ]
    },
    {
      "cell_type": "markdown",
      "metadata": {},
      "source": [
        "In this example, we define a 2-row, 2-column (2x2) subplot layout using\n:meth:`pygmt.Figure.subplot`. The overall figure dimensions is set to be\n15 cm wide and 6 cm high (``figsize=[\"15c\", \"6c\"]``). In addition, we use\nsome optional parameters to fine-tune some details of the figure creation:\n\n- ``autolabel=True``: Each subplot is automatically labelled 'abcd'.\n- ``margins=[\"0.1c\", \"0.2c\"]``: Adjusts the space between adjacent subplots.\n  In this case, it is set as 0.1 cm in the x-direction and 0.2 cm in the\n  y-direction.\n- ``title=\"My Subplot Heading\"``: Adds a title on top of the whole figure.\n\nNotice that each subplot was set to use a linear projection ``\"X?\"``.\nUsually, we need to specify the width and height of the map frame, but it is\nalso possible to use a question mark ``\"?\"`` to let GMT decide automatically\non what is the most appropriate width/height for the each subplot's map\nframe.\n\n"
      ]
    },
    {
      "cell_type": "markdown",
      "metadata": {},
      "source": [
        ".. tip::\n\n    In the above example, we used the following commands to activate the\n    four subplots explicitly one after another::\n\n        fig.basemap(..., panel=[0, 0])\n        fig.basemap(..., panel=[0, 1])\n        fig.basemap(..., panel=[1, 0])\n        fig.basemap(..., panel=[1, 1])\n\n    In fact, we can just use ``fig.basemap(..., panel=True)`` without\n    specifying any subplot index number, and GMT will automatically activate\n    the next subplot panel.\n\n"
      ]
    },
    {
      "cell_type": "markdown",
      "metadata": {},
      "source": [
        "<div class=\"alert alert-info\"><h4>Note</h4><p>All plotting methods (e.g. :meth:`pygmt.Figure.coast`,\n    :meth:`pygmt.Figure.text`, etc) are able to use ``panel`` parameter when\n    in subplot mode. Once a panel is activated using ``panel`` or\n    :meth:`pygmt.Figure.set_panel`, subsequent plotting commands that don't\n    set a ``panel`` will have their elements added to the same panel as\n    before.</p></div>\n\n"
      ]
    },
    {
      "cell_type": "markdown",
      "metadata": {},
      "source": [
        "## Shared x- and y-axes\nIn the example above with the four subplots, the two subplots for each row\nhave the same y-axis range, and the two subplots for each column have the\nsame x-axis range. You can use the ``sharex``/``sharey`` parameters to set a\ncommon x- and/or y-axis between subplots.\n\n"
      ]
    },
    {
      "cell_type": "code",
      "execution_count": null,
      "metadata": {
        "collapsed": false
      },
      "outputs": [],
      "source": [
        "fig = pygmt.Figure()\nwith fig.subplot(\n    nrows=2,\n    ncols=2,\n    figsize=(\"15c\", \"6c\"),  # width of 15 cm, height of 6 cm\n    autolabel=True,\n    margins=[\"0.3c\", \"0.2c\"],  # horizontal 0.3 cm and vertical 0.2 cm margins\n    title=\"My Subplot Heading\",\n    sharex=\"b\",  # shared x-axis on the bottom side\n    sharey=\"l\",  # shared y-axis on the left side\n    frame=\"WSrt\",\n):\n    fig.basemap(region=[0, 10, 0, 10], projection=\"X?\", panel=True)\n    fig.basemap(region=[0, 20, 0, 10], projection=\"X?\", panel=True)\n    fig.basemap(region=[0, 10, 0, 20], projection=\"X?\", panel=True)\n    fig.basemap(region=[0, 20, 0, 20], projection=\"X?\", panel=True)\nfig.show()"
      ]
    },
    {
      "cell_type": "markdown",
      "metadata": {},
      "source": [
        "``sharex=\"b\"`` indicates that subplots in a column will share the x-axis, and\nonly the **b**\\ ottom axis is displayed. ``sharey=\"l\"`` indicates that\nsubplots within a row will share the y-axis, and only the **l**\\ eft axis is\ndisplayed.\n\nOf course, instead of using the ``sharex``/``sharey`` parameters, you can\nalso set a different ``frame`` for each subplot to control the axis\nproperties individually for each subplot.\n\n"
      ]
    },
    {
      "cell_type": "markdown",
      "metadata": {},
      "source": [
        "## Advanced subplot layouts\n\nNested subplot are currently not supported. If you want to create more\ncomplex subplot layouts, some manual adjustments are needed.\n\nThe following example draws three subplots in a 2-row, 2-column layout, with\nthe first subplot occupying the first row.\n\n"
      ]
    },
    {
      "cell_type": "code",
      "execution_count": null,
      "metadata": {
        "collapsed": false
      },
      "outputs": [],
      "source": [
        "fig = pygmt.Figure()\n# Bottom row, two subplots\nwith fig.subplot(nrows=1, ncols=2, figsize=(\"15c\", \"3c\"), autolabel=\"b)\"):\n    fig.basemap(\n        region=[0, 5, 0, 5], projection=\"X?\", frame=[\"af\", \"WSne\"], panel=[0, 0]\n    )\n    fig.basemap(\n        region=[0, 5, 0, 5], projection=\"X?\", frame=[\"af\", \"WSne\"], panel=[0, 1]\n    )\n# Move plot origin by 1 cm above the height of the entire figure\nfig.shift_origin(yshift=\"h+1c\")\n# Top row, one subplot\nwith fig.subplot(nrows=1, ncols=1, figsize=(\"15c\", \"3c\"), autolabel=\"a)\"):\n    fig.basemap(\n        region=[0, 10, 0, 10], projection=\"X?\", frame=[\"af\", \"WSne\"], panel=[0, 0]\n    )\n    fig.text(text=\"TEXT\", x=5, y=5)\n\nfig.show()"
      ]
    },
    {
      "cell_type": "markdown",
      "metadata": {},
      "source": [
        "We start by drawing the bottom two subplots, setting ``autolabel=\"b)\"`` so\nthat the subplots are labelled 'b)' and 'c)'. Next, we use\n:meth:`pygmt.Figure.shift_origin` to move the plot origin 1 cm above the\n**h**\\ eight of the entire figure that is currently plotted (i.e. the bottom\nrow subplots). A single subplot is then plotted on the top row. You may need\nto adjust the ``yshift`` parameter to make your plot look nice. This top row\nuses ``autolabel=\"a)\"``, and we also plotted some text inside. Note that\n``projection=\"X?\"`` was used to let GMT automatically determine the size of\nthe subplot according to the size of the subplot area.\n\n"
      ]
    },
    {
      "cell_type": "markdown",
      "metadata": {},
      "source": [
        "You can also manually override the ``autolabel`` for each subplot using for\nexample, ``fig.set_panel(..., fixedlabel=\"b) Panel 2\")`` which would allow\nyou to manually label a single subplot as you wish. This can be useful for\nadding a more descriptive subtitle to individual subplots.\n\n"
      ]
    }
  ],
  "metadata": {
    "kernelspec": {
      "display_name": "Python 3",
      "language": "python",
      "name": "python3"
    },
    "language_info": {
      "codemirror_mode": {
        "name": "ipython",
        "version": 3
      },
      "file_extension": ".py",
      "mimetype": "text/x-python",
      "name": "python",
      "nbconvert_exporter": "python",
      "pygments_lexer": "ipython3",
      "version": "3.11.3"
    }
  },
  "nbformat": 4,
  "nbformat_minor": 0
}