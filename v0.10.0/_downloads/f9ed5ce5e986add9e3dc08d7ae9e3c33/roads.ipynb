{
  "cells": [
    {
      "cell_type": "markdown",
      "metadata": {},
      "source": [
        "\n# Roads\nThe :meth:`pygmt.Figure.plot` method allows us to plot geographical data such\nas lines which are stored in a :class:`geopandas.GeoDataFrame` object. Use\n:func:`geopandas.read_file` to load data from any supported OGR format such as\na shapefile (.shp), GeoJSON (.geojson), geopackage (.gpkg), etc. Then, pass the\n:class:`geopandas.GeoDataFrame` as an argument to the ``data`` parameter in\n:meth:`pygmt.Figure.plot`, and style the geometry using the ``pen`` parameter.\n"
      ]
    },
    {
      "cell_type": "code",
      "execution_count": null,
      "metadata": {
        "collapsed": false
      },
      "outputs": [],
      "source": [
        "import geopandas as gpd\nimport pygmt\n\n# Read shapefile data using geopandas\ngdf = gpd.read_file(\n    \"http://www2.census.gov/geo/tiger/TIGER2015/PRISECROADS/tl_2015_15_prisecroads.zip\"\n)\n# The dataset contains different road types listed in the RTTYP column,\n# here we select the following ones to plot:\nroads_common = gdf[gdf.RTTYP == \"M\"]  # Common name roads\nroads_state = gdf[gdf.RTTYP == \"S\"]  # State recognized roads\nroads_interstate = gdf[gdf.RTTYP == \"I\"]  # Interstate roads\n\nfig = pygmt.Figure()\n\n# Define target region around O\u02bbahu (Hawai\u02bbi)\nregion = [-158.3, -157.6, 21.2, 21.75]  # xmin, xmax, ymin, ymax\n\ntitle = \"Main roads of O`ahu (Hawai`i)\"  # Approximating the Okina letter \u02bb with `\nfig.basemap(region=region, projection=\"M12c\", frame=[\"af\", f\"WSne+t{title}\"])\nfig.coast(land=\"gray\", water=\"dodgerblue4\", shorelines=\"1p,black\")\n\n# Plot the individual road types with different pen settings and assign labels\n# which are displayed in the legend\nfig.plot(data=roads_common, pen=\"5p,dodgerblue\", label=\"CommonName\")\nfig.plot(data=roads_state, pen=\"2p,gold\", label=\"StateRecognized\")\nfig.plot(data=roads_interstate, pen=\"2p,red\", label=\"Interstate\")\n\n# Add legend\nfig.legend()\n\nfig.show()"
      ]
    }
  ],
  "metadata": {
    "kernelspec": {
      "display_name": "Python 3",
      "language": "python",
      "name": "python3"
    },
    "language_info": {
      "codemirror_mode": {
        "name": "ipython",
        "version": 3
      },
      "file_extension": ".py",
      "mimetype": "text/x-python",
      "name": "python",
      "nbconvert_exporter": "python",
      "pygments_lexer": "ipython3",
      "version": "3.11.3"
    }
  },
  "nbformat": 4,
  "nbformat_minor": 0
}