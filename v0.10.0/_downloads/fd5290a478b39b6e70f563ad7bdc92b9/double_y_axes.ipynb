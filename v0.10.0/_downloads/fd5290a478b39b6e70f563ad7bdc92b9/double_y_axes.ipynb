{
  "cells": [
    {
      "cell_type": "markdown",
      "metadata": {},
      "source": [
        "\n# Double Y axes graph\n\nThe ``frame`` parameter of the plotting methods of the :class:`pygmt.Figure`\nclass can control which axes should be plotted and optionally show annotations,\ntick marks, and gridlines. By default, all 4 axes are plotted, along with\nannotations and tick marks (denoted **W**, **S**, **E**, **N**). Lower case\nversions (**w**, **s**, **e**, **n**) can be used to denote to only plot the\naxes with tick marks. We can also only plot the axes without annotations and\ntick marks using **l** (left axis), **r** (right axis), **t** (top axis),\n**b** (bottom axis). When ``frame`` is used to change the frame settings, any\naxes that are not defined using one of these three options are not drawn.\n\nTo plot a double Y-axes graph using PyGMT, we need to plot at least two base\nmaps separately. The base maps should share the same projection parameter and\nx-axis limits, but different y-axis limits.\n"
      ]
    },
    {
      "cell_type": "code",
      "execution_count": null,
      "metadata": {
        "collapsed": false
      },
      "outputs": [],
      "source": [
        "import numpy as np\nimport pygmt\n\n# Generate two sample Y data from one common X data\nx = np.linspace(1.0, 9.0, num=9)\ny1 = x\ny2 = x**2 + 110\n\nfig = pygmt.Figure()\n\n# Plot the common X axes\n# The bottom axis (S) is plotted with annotations and tick marks\n# The top axis (t) is plotted without annotations and tick marks\n# The left and right axes are not drawn\nfig.basemap(region=[0, 10, 0, 10], projection=\"X15c/15c\", frame=[\"St\", \"xaf+lx\"])\n\n# Plot the Y axis for y1 data\n# The left axis (W) is plotted with blue annotations, ticks, and label\nwith pygmt.config(\n    MAP_FRAME_PEN=\"blue\",\n    MAP_TICK_PEN=\"blue\",\n    FONT_ANNOT_PRIMARY=\"blue\",\n    FONT_LABEL=\"blue\",\n):\n    fig.basemap(frame=[\"W\", \"yaf+ly1\"])\n\n# Plot the line for y1 data\nfig.plot(x=x, y=y1, pen=\"1p,blue\")\n# Plot points for y1 data\nfig.plot(x=x, y=y1, style=\"c0.2c\", fill=\"blue\", label=\"y1\")\n\n# Plot the Y axis for y2 data\n# The right axis (E) is plotted with red annotations, ticks, and label\nwith pygmt.config(\n    MAP_FRAME_PEN=\"red\",\n    MAP_TICK_PEN=\"red\",\n    FONT_ANNOT_PRIMARY=\"red\",\n    FONT_LABEL=\"red\",\n):\n    fig.basemap(region=[0, 10, 100, 200], frame=[\"E\", \"yaf+ly2\"])\n# Plot the line for y2 data\nfig.plot(x=x, y=y2, pen=\"1p,red\")\n# Plot points for y2 data\nfig.plot(x=x, y=y2, style=\"s0.28c\", fill=\"red\", label=\"y2\")\n\n# Create a legend in the top-left corner of the plot\nfig.legend(position=\"jTL+o0.1c\", box=True)\n\nfig.show()"
      ]
    }
  ],
  "metadata": {
    "kernelspec": {
      "display_name": "Python 3",
      "language": "python",
      "name": "python3"
    },
    "language_info": {
      "codemirror_mode": {
        "name": "ipython",
        "version": 3
      },
      "file_extension": ".py",
      "mimetype": "text/x-python",
      "name": "python",
      "nbconvert_exporter": "python",
      "pygments_lexer": "ipython3",
      "version": "3.11.3"
    }
  },
  "nbformat": 4,
  "nbformat_minor": 0
}