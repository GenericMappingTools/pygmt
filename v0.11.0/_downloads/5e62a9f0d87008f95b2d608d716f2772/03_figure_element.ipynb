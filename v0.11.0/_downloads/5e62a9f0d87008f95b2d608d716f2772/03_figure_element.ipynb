{
  "cells": [
    {
      "cell_type": "markdown",
      "metadata": {},
      "source": [
        "\n# 3. Figure elements\n\nThe figure below shows the naming of figure elements in PyGMT.\n\n- :meth:`pygmt.Figure()`: having a number of plotting methods. Every new\n  figure must start with the creation of a :meth:`pygmt.Figure()` instance\n- ``frame``: setting plot or map boundaries (a combination of the single\n  letters of **WSNE**, **wsne**, or **lbtr**), adding annotations, ticks,\n  gridlines (**afg**), axis labels (**+l**), and title (**+t**), e.g.,\n  in :meth:`pygmt.Figure.basemap`. Detailed examples can be found at\n  :doc:`frame and axes attributes </tutorials/basics/frames>`\n- :meth:`pygmt.Figure.plot`: plotting lines or symbols based on ``pen``\n  or ``style`` parameters, respectively\n- :meth:`pygmt.Figure.text`: plotting text strings whereby the ``font``\n  parameter adjusts fontsize, fontstyle, and color\n- :meth:`pygmt.Figure.legend`: showing the naming of lines or symbols while\n  the ``label`` is given in :meth:`pygmt.Figure.plot`\n- :meth:`pygmt.Figure.show`: previewing the content added to the current\n  figure instance\n"
      ]
    },
    {
      "cell_type": "code",
      "execution_count": null,
      "metadata": {
        "collapsed": false
      },
      "outputs": [],
      "source": [
        "import pygmt\n\nfig = pygmt.Figure()\n\nx = range(0, 11, 2)\ny_1 = [10, 11, 15, 8, 9, 13]\ny_2 = [4, 5, 6, 3, 5, 5]\n\nfig.basemap(\n    region=[0, 10, 0, 20],\n    projection=\"X10c/8c\",\n    frame=[\"WStr+tTitle\", \"xa2f1g2+lxlabel\", \"ya5f1g5+lylabel\"],\n)\nfig.plot(x=x, y=y_1, style=\"t0.3c\", label=\"fig.plot (style)\")\nfig.plot(x=x, y=y_2, pen=\"1.5p,red\", label=\"fig.plot (pen)\")\n\nmainexplain = {\"font\": \"12p,2,darkblue\", \"justify\": \"TC\", \"no_clip\": True}\nminorexplain = {\"font\": \"10p,8\", \"justify\": \"TC\", \"no_clip\": True}\n# ============ Figure\nfig.text(x=12, y=22, text=\"Figure\", **mainexplain)\nfig.text(x=12, y=20.8, text=\"pygmt.Figure()\", **minorexplain)\n# ============ Title\nfig.text(x=7.5, y=22, text='frame=\"+tTitle\"', **minorexplain)\n# ============ xlabel\nfig.text(x=5, y=-3, text='frame=\"x+lxlabel\"', **minorexplain)\n# ============ ylabel\nfig.text(x=-1.7, y=10, text='frame=\"y+lylabel\"', angle=90, **minorexplain)\n# ============ x-majorticks\nfig.plot(x=10, y=-0.2, style=\"c1c\", pen=\"2p,darkblue\", no_clip=True)\nfig.text(x=10, y=-1.6, text=\"Annotation\", **mainexplain)\nfig.text(x=10, y=-2.8, text='frame=\"xa2\"', **minorexplain)\n# ============ y-majorticks\nfig.plot(x=-0.2, y=20, style=\"c1c\", pen=\"2p,darkblue\", no_clip=True)\nfig.text(x=0, y=23.4, text=\"Annotation\", **mainexplain)\nfig.text(x=0, y=22.2, text='frame=\"ya5\"', **minorexplain)\n# ============ x-minorticks\nfig.plot(x=1, y=-0.2, style=\"c0.7c\", pen=\"2p,darkblue\", no_clip=True)\nfig.text(x=1, y=-1.4, text=\"Frame\", **mainexplain)\nfig.text(x=1, y=-2.6, text='frame=\"xf1\"', **minorexplain)\n# ============ y-minorticks\nfig.plot(x=0, y=2, style=\"c0.7c\", pen=\"2p,darkblue\", no_clip=True)\nfig.text(x=-1.5, y=1, text='frame=\"yf1\"', **minorexplain)\n# ============ Grid\nfig.plot(x=2, y=15, style=\"c0.5c\", pen=\"2p,darkblue\")\nfig.text(x=2, y=17, text=\"Grid\", **mainexplain)\nfig.text(x=2.4, y=18, text='frame=[\"xg2\", \"yg5\"]', **minorexplain)\n# ============ Map Boundaries\nfig.plot(x=10, y=9, style=\"c0.5c\", pen=\"2p,darkblue\", no_clip=True)\nfig.text(x=11.5, y=8, text=\"Map Boundary\", **mainexplain)\nfig.text(x=11.5, y=6.8, text='frame=\"WStr\"', **minorexplain)\n# ============ fig.plot (style)\nfig.plot(x=6, y=8, style=\"c0.7c\", pen=\"2p,darkblue\")\nfig.text(x=7, y=6.5, text=\"fig.plot(style)\", **minorexplain)\n# ============ fig.plot (pen)\nfig.plot(x=4, y=6, style=\"c0.7c\", pen=\"2p,darkblue\")\nfig.text(x=3, y=4.5, text=\"fig.plot(pen)\", **minorexplain)\n# ============ Legend\nfig.legend()\nfig.text(x=8, y=16.9, text=\"Legend\", **mainexplain)\nfig.text(x=8, y=15.8, text=\"fig.legend()\", **minorexplain)\n\nfig.show()"
      ]
    }
  ],
  "metadata": {
    "kernelspec": {
      "display_name": "Python 3",
      "language": "python",
      "name": "python3"
    },
    "language_info": {
      "codemirror_mode": {
        "name": "ipython",
        "version": 3
      },
      "file_extension": ".py",
      "mimetype": "text/x-python",
      "name": "python",
      "nbconvert_exporter": "python",
      "pygments_lexer": "ipython3",
      "version": "3.12.1"
    }
  },
  "nbformat": 4,
  "nbformat_minor": 0
}