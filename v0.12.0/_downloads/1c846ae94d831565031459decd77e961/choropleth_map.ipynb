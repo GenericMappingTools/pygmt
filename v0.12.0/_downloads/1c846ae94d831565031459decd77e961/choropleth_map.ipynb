{
  "cells": [
    {
      "cell_type": "markdown",
      "metadata": {},
      "source": [
        "\n# Choropleth map\n\nThe :meth:`pygmt.Figure.plot` method allows us to plot geographical data such\nas polygons which are stored in a :class:`geopandas.GeoDataFrame` object. Use\n:func:`geopandas.read_file` to load data from any supported OGR format such as\na shapefile (.shp), GeoJSON (.geojson), geopackage (.gpkg), etc. You can also\nuse a full URL pointing to your desired data source. Then, pass the\n:class:`geopandas.GeoDataFrame` as an argument to the ``data`` parameter of\n:meth:`pygmt.Figure.plot`, and style the geometry using the ``pen`` parameter.\nTo fill the polygons based on a corresponding column you need to set\n``fill=\"+z\"`` as well as select the appropriate column using the ``aspatial``\nparameter as shown in the example below.\n"
      ]
    },
    {
      "cell_type": "code",
      "execution_count": null,
      "metadata": {
        "collapsed": false
      },
      "outputs": [],
      "source": [
        "import geopandas as gpd\nimport pygmt\n\n# Read polygon data using geopandas\ngdf = gpd.read_file(\"https://geodacenter.github.io/data-and-lab/data/airbnb.zip\")\n\nfig = pygmt.Figure()\n\nfig.basemap(\n    region=gdf.total_bounds[[0, 2, 1, 3]],\n    projection=\"M6c\",\n    frame=\"+tPopulation of Chicago\",\n)\n\n# The dataset contains different attributes, here we select\n# the \"population\" column to plot.\n\n# First, we define the colormap to fill the polygons based on\n# the \"population\" column.\npygmt.makecpt(\n    cmap=\"acton\",\n    series=[gdf[\"population\"].min(), gdf[\"population\"].max(), 10],\n    continuous=True,\n    reverse=True,\n)\n\n# Next, we plot the polygons and fill them using the defined colormap.\n# The target column is defined by the aspatial parameter.\nfig.plot(\n    data=gdf,\n    pen=\"0.3p,gray10\",\n    fill=\"+z\",\n    cmap=True,\n    aspatial=\"Z=population\",\n)\n\n# Add colorbar legend\nfig.colorbar(frame=\"x+lPopulation\", position=\"jML+o-0.5c+w3.5c/0.2c\")\n\nfig.show()"
      ]
    }
  ],
  "metadata": {
    "kernelspec": {
      "display_name": "Python 3",
      "language": "python",
      "name": "python3"
    },
    "language_info": {
      "codemirror_mode": {
        "name": "ipython",
        "version": 3
      },
      "file_extension": ".py",
      "mimetype": "text/x-python",
      "name": "python",
      "nbconvert_exporter": "python",
      "pygments_lexer": "ipython3",
      "version": "3.12.2"
    }
  },
  "nbformat": 4,
  "nbformat_minor": 0
}