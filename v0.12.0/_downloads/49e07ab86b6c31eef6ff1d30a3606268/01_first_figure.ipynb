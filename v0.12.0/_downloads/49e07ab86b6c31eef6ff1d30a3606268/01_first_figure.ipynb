{
  "cells": [
    {
      "cell_type": "markdown",
      "metadata": {},
      "source": [
        "\n# 1. Making your first figure\n\nThis tutorial covers the basics of creating a figure using PyGMT - a\nPython wrapper for the Generic Mapping Tools (GMT). It will only use\nthe :meth:`pygmt.Figure.coast` method for plotting. Later tutorials will\naddress other PyGMT methods.\n"
      ]
    },
    {
      "cell_type": "markdown",
      "metadata": {},
      "source": [
        "## Loading the library\n\nThe first step is to import :mod:`pygmt`. All methods and figure generation\nare accessible from the :mod:`pygmt` top level package.\n\n"
      ]
    },
    {
      "cell_type": "code",
      "execution_count": null,
      "metadata": {
        "collapsed": false
      },
      "outputs": [],
      "source": [
        "import pygmt"
      ]
    },
    {
      "cell_type": "markdown",
      "metadata": {},
      "source": [
        "## Creating a figure\n\nAll figure generation in PyGMT is handled by the :class:`pygmt.Figure` class.\nStart a new figure by creating an instance of this class:\n\n"
      ]
    },
    {
      "cell_type": "code",
      "execution_count": null,
      "metadata": {
        "collapsed": false
      },
      "outputs": [],
      "source": [
        "fig = pygmt.Figure()"
      ]
    },
    {
      "cell_type": "markdown",
      "metadata": {},
      "source": [
        "To add elements to the figure instance or object (``fig`` in this example)\ndifferent methods can be called on it. This example will use the\n:meth:`pygmt.Figure.coast` method, which can be used to create a map without\nany other methods or external data. The :meth:`pygmt.Figure.coast`\nmethod plots the coastlines, borders, and bodies of water using a database\nthat is included in GMT.\n\nFirst, a region for the figure must be selected. This example will plot some\nof the coast of Maine in the northeastern US. A Python list can be passed to\nthe ``region`` parameter with the minimum and maximum X-values (longitude)\nand the minimum and maximum Y-values (latitude). For this example, the\nminimum (bottom left) coordinates are (N43.75, W69) and the maximum (top\nright) coordinates are (N44.75, W68). Negative values can be passed for\nlatitudes in the southern hemisphere or longitudes in the western hemisphere.\n\nIn addition to the region, an argument needs to be passed to\n:meth:`pygmt.Figure.coast` to tell it what to plot. In this example,\n:meth:`pygmt.Figure.coast` will be told to plot the shorelines by passing the\nBoolean value ``True`` to the ``shorelines`` parameter. The ``shorelines``\nparameter has other options for finer control, but setting it to ``True``\nuses the default values.\n\n"
      ]
    },
    {
      "cell_type": "code",
      "execution_count": null,
      "metadata": {
        "collapsed": false
      },
      "outputs": [],
      "source": [
        "fig.coast(region=[-69, -68, 43.75, 44.75], shorelines=True)"
      ]
    },
    {
      "cell_type": "markdown",
      "metadata": {},
      "source": [
        "To see the figure, call :meth:`pygmt.Figure.show`.\n\n"
      ]
    },
    {
      "cell_type": "code",
      "execution_count": null,
      "metadata": {
        "collapsed": false
      },
      "outputs": [],
      "source": [
        "fig.show()"
      ]
    },
    {
      "cell_type": "markdown",
      "metadata": {},
      "source": [
        "## Color the land and water\n\nThis figure plots all of the coastlines in the given region, but it does not\nindicate where the land and water are. Color values can be passed to ``land``\nand ``water`` to set the colors on the figure.\n\nWhen plotting colors in PyGMT, there are multiple\n:gmt-docs:`color codes <gmtcolors.html>`, that can be used. This includes\nstandard GMT color names (like ``\"skyblue\"``), R/G/B levels (like\n``\"0/0/255\"``), a hex value (like ``\"#333333\"``), or a gray level (like\n``\"gray50\"``). For this example, GMT color names are used.\n\n"
      ]
    },
    {
      "cell_type": "code",
      "execution_count": null,
      "metadata": {
        "collapsed": false
      },
      "outputs": [],
      "source": [
        "fig = pygmt.Figure()\nfig.coast(\n    region=[-69, -68, 43.75, 44.75],\n    shorelines=True,\n    land=\"lightgreen\",\n    water=\"lightblue\",\n)\nfig.show()"
      ]
    },
    {
      "cell_type": "markdown",
      "metadata": {},
      "source": [
        "## Set the projection\n\nThis figure now has its colors set. By default the projection and size\nof the map is set to ``\"Q15c+du\"``. Here, ``\"Q\"`` defines a\ncylindrical equidistant map projection, ``\"15c+du\"`` means setting\nthe maximum (upper) map dimension to 15 cm. However, both of\nthese values can be customized according to the requirements using\nthe ``projection`` parameter.\n\nThe appropriate projection varies for the type of map. The available\nprojections are explained in the :doc:`projection </projections/index>`\ngallery. For this example, the Mercator projection is set using ``\"M\"``.\nThe width of the figure will be 10 centimeters, as set by ``\"10c\"``.\nThe map size can also be set in inches using \"i\" (e.g. a 5-inch wide\nMercator projection would use ``\"M5i\"``).\n\n"
      ]
    },
    {
      "cell_type": "code",
      "execution_count": null,
      "metadata": {
        "collapsed": false
      },
      "outputs": [],
      "source": [
        "fig = pygmt.Figure()\nfig.coast(\n    region=[-69, -68, 43.75, 44.75],\n    shorelines=True,\n    land=\"lightgreen\",\n    water=\"lightblue\",\n    projection=\"M10c\",\n)\nfig.show()"
      ]
    },
    {
      "cell_type": "markdown",
      "metadata": {},
      "source": [
        "## Add a frame\n\nWhile the map's colors, projection, and size have been set, the region\nthat is being displayed is not apparent. A frame can be added to\nannotate the latitude and longitude of the region.\n\nThe ``frame`` parameter is used to add a frame to the figure. For now, it\nwill be set to ``\"a\"`` to **a**\\ nnotate the axes automatically.\n\n"
      ]
    },
    {
      "cell_type": "code",
      "execution_count": null,
      "metadata": {
        "collapsed": false
      },
      "outputs": [],
      "source": [
        "fig = pygmt.Figure()\nfig.coast(\n    region=[-69, -68, 43.75, 44.75],\n    shorelines=True,\n    land=\"lightgreen\",\n    water=\"lightblue\",\n    projection=\"M10c\",\n    frame=\"a\",\n)\nfig.show()"
      ]
    },
    {
      "cell_type": "markdown",
      "metadata": {},
      "source": [
        "## Add a title\n\nThe ``frame`` parameter can be used to add a title to the figure. The title\nis set by passing ``\"+t\"`` followed by the title (e.g. setting the map\ntitle to \"Title\" would be ``\"+tTitle\"``).\n\nTo pass multiple arguments to ``frame``, a list can be used, as shown in the\nexample below. This format uses ``frame`` to set both the axes annotations\nand the figure title.\n\n"
      ]
    },
    {
      "cell_type": "code",
      "execution_count": null,
      "metadata": {
        "collapsed": false
      },
      "outputs": [],
      "source": [
        "fig = pygmt.Figure()\nfig.coast(\n    region=[-69, -68, 43.75, 44.75],\n    shorelines=True,\n    land=\"lightgreen\",\n    water=\"lightblue\",\n    projection=\"M10c\",\n    frame=[\"a\", \"+tMaine\"],\n)\nfig.show()"
      ]
    },
    {
      "cell_type": "markdown",
      "metadata": {},
      "source": [
        "## Additional exercises\n\nThis is the end of the first tutorial. Here are some additional exercises\nfor the concepts that were discussed:\n\n1. Make a map of Germany using its ISO country code (\"DE\"). Pass the ISO\n   code as a Python string to the ``region`` parameter.\n\n2. Change the color of the landmass to \"khaki\" and the water to \"azure\".\n\n3. Change the color of the lakes (using the ``lakes`` parameter) to \"red\".\n\n4. Create a global map. Set the region to \"d\" to center the map at the Prime\n   Meridian or \"g\" to center the map at the International Date Line. When the\n   region is set without using a list full of integers or floating numbers,\n   the argument needs to be passed as a Python string. Create a map with a\n   width of 15 centimeters using the Mollweide (\"W\") projection.\n\n"
      ]
    }
  ],
  "metadata": {
    "kernelspec": {
      "display_name": "Python 3",
      "language": "python",
      "name": "python3"
    },
    "language_info": {
      "codemirror_mode": {
        "name": "ipython",
        "version": 3
      },
      "file_extension": ".py",
      "mimetype": "text/x-python",
      "name": "python",
      "nbconvert_exporter": "python",
      "pygments_lexer": "ipython3",
      "version": "3.12.2"
    }
  },
  "nbformat": 4,
  "nbformat_minor": 0
}