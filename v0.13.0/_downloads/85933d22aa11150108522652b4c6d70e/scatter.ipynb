{
  "cells": [
    {
      "cell_type": "markdown",
      "metadata": {},
      "source": [
        "\n# Scatter plots with a legend\n\nTo create a scatter plot with a legend one may use a loop and create one\nscatter plot per item to appear in the legend and set the label accordingly.\n\nModified from the matplotlib example:\nhttps://matplotlib.org/stable/gallery/lines_bars_and_markers/scatter_with_legend.html\n"
      ]
    },
    {
      "cell_type": "code",
      "execution_count": null,
      "metadata": {
        "collapsed": false
      },
      "outputs": [],
      "source": [
        "import numpy as np\nimport pygmt\n\nrng = np.random.default_rng(seed=19680801)\nn = 200  # number of random data points\n\nfig = pygmt.Figure()\nfig.basemap(\n    region=[-1, 1, -1, 1],\n    projection=\"X10c/10c\",\n    frame=[\"xa0.5fg\", \"ya0.5fg\", \"WSrt\"],\n)\nfor fill in [\"gray73\", \"darkorange\", \"slateblue\"]:\n    # Generate standard normal distributions centered on 0\n    # with standard deviations of 1\n    x = rng.normal(loc=0, scale=0.5, size=n)  # random x data\n    y = rng.normal(loc=0, scale=0.5, size=n)  # random y data\n    size = rng.normal(loc=0, scale=0.5, size=n) * 0.5  # random size, in cm\n\n    # plot data points as circles (style=\"c\"), with different sizes\n    fig.plot(\n        x=x,\n        y=y,\n        style=\"c\",\n        size=size,\n        fill=fill,\n        # Set the legend label,\n        # and set the symbol size to be 0.25 cm (+S0.25c) in legend\n        label=f\"{fill}+S0.25c\",\n        transparency=50,  # set transparency level for all symbols\n    )\n\nfig.legend(transparency=30)  # set transparency level for legends\nfig.show()"
      ]
    }
  ],
  "metadata": {
    "kernelspec": {
      "display_name": "Python 3",
      "language": "python",
      "name": "python3"
    },
    "language_info": {
      "codemirror_mode": {
        "name": "ipython",
        "version": 3
      },
      "file_extension": ".py",
      "mimetype": "text/x-python",
      "name": "python",
      "nbconvert_exporter": "python",
      "pygments_lexer": "ipython3",
      "version": "3.12.5"
    }
  },
  "nbformat": 4,
  "nbformat_minor": 0
}