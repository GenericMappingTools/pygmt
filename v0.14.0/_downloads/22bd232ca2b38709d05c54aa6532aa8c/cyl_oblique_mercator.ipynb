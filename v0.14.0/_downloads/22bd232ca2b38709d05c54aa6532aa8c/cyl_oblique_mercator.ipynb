{
  "cells": [
    {
      "cell_type": "markdown",
      "metadata": {},
      "source": [
        "\n# Oblique Mercator projection\n\nOblique configurations of the cylinder give rise to the oblique Mercator projection.\nIt is particularly useful when mapping regions of large lateral extent in an oblique\ndirection. Both parallels and meridians are complex curves. The projection was\ndeveloped in the early 1900s by several workers.\n\nThe projection is set with **o** or **O**. There are three different specification\nways (**a**\\|\\ **A**, **b**\\|\\ **B**, **c**\\|\\ **C**) available. For all three\ndefinitions, the upper case letter mean the projection pole is set in the southern\nhemisphere [Default is northern hemisphere]. Align the y-axis with the optional\nmodifier **+v**. The figure size is set with *scale* or *width*.\n"
      ]
    },
    {
      "cell_type": "markdown",
      "metadata": {},
      "source": [
        "## 1. Using the origin and azimuth\n\n**oa**\\|\\ **oA**\\ *lon0/lat0/azimuth/scale*\\[**+v**] or\n**Oa**\\|\\ **OA**\\ *lon0/lat0/azimuth/width*\\[**+v**]\n\nThe central meridian is set by *lon0/lat0*. The oblique equator is set by *azimuth*.\n\n"
      ]
    },
    {
      "cell_type": "code",
      "execution_count": null,
      "metadata": {
        "collapsed": false
      },
      "outputs": [],
      "source": [
        "import pygmt\n\nfig = pygmt.Figure()\nfig.coast(\n    projection=\"Oa-120/25/-30/3c+v\",\n    # Set bottom left and top right coordinates of the figure with \"+r\"\n    region=\"-122/35/-107/22+r\",\n    frame=\"afg\",\n    land=\"gray80\",\n    water=\"steelblue\",\n)\nfig.show()"
      ]
    },
    {
      "cell_type": "markdown",
      "metadata": {},
      "source": [
        "## 2. Using two points\n\n**ob**\\|\\ **oB**\\ *lon0/lat0/lon1/lat1/scale*\\ [**+v**] or\n**Ob**\\|\\ **OB**\\ *lon0/lat0/lon1/lat1/width*\\ [**+v**]\n\nThe central meridian is set by *lon0/lat0*. The oblique equator is set by *lon1/lat1*.\n\n"
      ]
    },
    {
      "cell_type": "code",
      "execution_count": null,
      "metadata": {
        "collapsed": false
      },
      "outputs": [],
      "source": [
        "fig = pygmt.Figure()\nfig.coast(\n    projection=\"Ob130/35/25/35/3c\",\n    region=\"130/35/145/40+r\",\n    frame=\"afg\",\n    land=\"gray80\",\n    water=\"steelblue\",\n)\nfig.show()"
      ]
    },
    {
      "cell_type": "markdown",
      "metadata": {},
      "source": [
        "## 3. Using the origin and projection pole\n\n**oc**\\|\\ **oC**\\ *lon0/lat0/lonp/latp/scale*\\ [**+v**] or\n**Oc**\\|\\ **OC**\\ *lon0/lat0/lonp/latp/width*\\ [**+v**]\n\nThe central meridian is set by *lon0/lat0*. The projection pole is set by *lonp/latp*.\n\n"
      ]
    },
    {
      "cell_type": "code",
      "execution_count": null,
      "metadata": {
        "collapsed": false
      },
      "outputs": [],
      "source": [
        "fig = pygmt.Figure()\nfig.coast(\n    projection=\"Oc280/25.5/22/69/4c\",\n    region=\"270/20/305/25+r\",\n    frame=\"afg\",\n    land=\"gray80\",\n    water=\"steelblue\",\n)\nfig.show()"
      ]
    }
  ],
  "metadata": {
    "kernelspec": {
      "display_name": "Python 3",
      "language": "python",
      "name": "python3"
    },
    "language_info": {
      "codemirror_mode": {
        "name": "ipython",
        "version": 3
      },
      "file_extension": ".py",
      "mimetype": "text/x-python",
      "name": "python",
      "nbconvert_exporter": "python",
      "pygments_lexer": "ipython3",
      "version": "3.13.1"
    }
  },
  "nbformat": 4,
  "nbformat_minor": 0
}