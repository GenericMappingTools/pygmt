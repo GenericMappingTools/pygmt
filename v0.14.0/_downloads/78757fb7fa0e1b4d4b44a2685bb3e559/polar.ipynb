{
  "cells": [
    {
      "cell_type": "markdown",
      "metadata": {},
      "source": [
        "\n# Polar\n\nPolar projections allow plotting polar coordinate data (e.g. angle $\\theta$ and\nradius *r*).\n\nThe full syntax for polar projections is:\n\n**P**\\ *width*\\ [**+a**]\\ [**+f**\\ [**e**\\|\\ **p**\\|\\ *radius*]]\\\n[**+r**\\ *offset*][**+t**\\ *origin*][**+z**\\ [**p**\\|\\ *radius*]]\n\nLimits are set via the ``region`` parameter\n([*theta_min*, *theta_max*, *radius_min*, *radius_max*]). When using **P**\\ *width* you\nhave to give the *width* of the figure. The lower-case version **p** is similar to **P**\nbut expects a *scale* instead of a width (**p**\\ *scale*).\n\nThe following customizing modifiers are available:\n\n- **+a**: by default, $\\theta$ refers to the angle that is equivalent to a\n  counterclockwise rotation with respect to the east direction (standard definition);\n  **+a** indicates that the input data are rotated clockwise relative to the north\n  direction (geographical azimuth angle).\n\n- **+r**\\ *offset*: represents the offset of the r-axis. This modifier allows you to\n  offset the center of the circle from r=0.\n\n- **+t**\\ *origin*: sets the angle corresponding to the east direction which is\n  equivalent to rotating the entire coordinate axis clockwise; if the **+a** modifier\n  is used, setting the angle corresponding to the north direction is equivalent to\n  rotating the entire coordinate axis counterclockwise.\n\n- **+f**: reverses the radial direction.\n\n  - Append **e** to indicate that the r-axis is an elevation angle, and the range of the\n    r-axis should be between 0\u00b0 and 90\u00b0.\n  - Appending **p** sets the current Earth radius (determined by\n    :gmt-term:`PROJ_ELLIPSOID`) to the maximum value of the r-axis when the r-axis is\n    reversed.\n  - Append *radius* to set the maximum value of the r-axis.\n\n- **+z**: indicates that the r-axis is marked as depth instead of radius (e.g.,\n  *r = radius - z*).\n\n  - Append **p** to set radius to the current Earth radius.\n  - Append *radius* to set the value of the radius.\n"
      ]
    },
    {
      "cell_type": "code",
      "execution_count": null,
      "metadata": {
        "collapsed": false
      },
      "outputs": [],
      "source": [
        "import pygmt\n\nfig = pygmt.Figure()\n\npygmt.config(FONT_TITLE=\"14p,Courier,black\", FORMAT_GEO_MAP=\"+D\")\n\n# ============\n# Top left\nfig.basemap(\n    # Set map limits to theta_min = 0, theta_max = 360, radius_min = 0, radius_max = 1\n    region=[0, 360, 0, 1],\n    # Set map width to 5 cm\n    projection=\"P5c\",\n    # Set the frame and title; @^ allows for a line break within the title\n    frame=[\"xa45f\", \"+gbisque+tprojection='P5c' @^ region=[0, 360, 0, 1]\"],\n)\n\nfig.shift_origin(xshift=\"w+3c\")\n\n# ============\n# Top middle\nfig.basemap(\n    # Set map limits to theta_min = 0, theta_max = 360, radius_min = 0, radius_max = 1\n    region=[0, 360, 0, 1],\n    # Set map width to 5 cm and interpret input data as geographic azimuth instead of\n    # standard angle\n    projection=\"P5c+a\",\n    # Set the frame and title; @^ allows for a line break within the title\n    frame=[\"xa45f\", \"+gbisque+tprojection='P5c+a' @^ region=[0, 360, 0, 1]\"],\n)\n\nfig.shift_origin(xshift=\"w+3c\")\n\n# ============\n# Top right\nfig.basemap(\n    # Set map limits to theta_min = 0, theta_max = 90, radius_min = 0, radius_max = 1\n    region=[0, 90, 0, 1],\n    # Set map width to 5 cm and interpret input data as geographic azimuth instead of\n    # standard angle\n    projection=\"P5c+a\",\n    # Set the frame and title; @^ allows for a line break within the title\n    frame=[\"xa45f\", \"ya0.2\", \"WNe+gbisque+tprojection='P5c+a' @^ region=[0, 90, 0, 1]\"],\n)\n\nfig.shift_origin(xshift=\"-2w-6c\", yshift=\"-h-2c\")\n\n# ============\n# Bottom left\nfig.basemap(\n    # Set map limits to theta_min = 0, theta_max = 90, radius_min = 0, radius_max = 1\n    region=[0, 90, 0, 1],\n    # Set map width to 5 cm and interpret input data as geographic azimuth instead of\n    # standard angle, rotate coordinate system counterclockwise by 45 degrees\n    projection=\"P5c+a+t45\",\n    # Set the frame and title; @^ allows for a line break within the title\n    frame=[\n        \"xa30f\",\n        \"ya0.2\",\n        \"WNe+gbisque+tprojection='P5c+a+t45' @^ region=[0, 90, 0, 1]\",\n    ],\n)\n\nfig.shift_origin(xshift=\"w+3c\", yshift=\"1.3c\")\n\n# ============\n# Bottom middle\nfig.basemap(\n    # Set map limits to theta_min = 0, theta_max = 90, radius_min = 3480,\n    # radius_max = 6371 (Earth's radius)\n    region=[0, 90, 3480, 6371],\n    # Set map width to 5 cm and interpret input data as geographic azimuth instead of\n    # standard angle, rotate coordinate system counterclockwise by 45 degrees\n    projection=\"P5c+a+t45\",\n    # Set the frame, and title; @^ allows for a line break within the title\n    frame=[\n        \"xa30f\",\n        \"ya\",\n        \"WNse+gbisque+tprojection='P5c+a+t45' @^ region=[0, 90, 3480, 6371]\",\n    ],\n)\n\nfig.shift_origin(xshift=\"w+3c\")\n\n# ============\n# Bottom right\nfig.basemap(\n    # Set map limits to theta_min = 0, theta_max = 90, radius_min = 3480,\n    # radius_max = 6371 (Earth's radius)\n    region=[0, 90, 3480, 6371],\n    # Set map width to 5 cm and interpret input data as geographic azimuth instead of\n    # standard angle, rotate coordinate system counterclockwise by 45 degrees, r-axis\n    # is marked as depth\n    projection=\"P5c+a+t45+z\",\n    # Set the frame, and title; @^ allows for a line break within the title\n    frame=[\n        \"xa30f\",\n        \"ya\",\n        \"WNse+gbisque+tprojection='P5c+a+t45+\\\\z' @^ region=[0, 90, 3480, 6371]\",\n    ],\n)\n\nfig.show()"
      ]
    }
  ],
  "metadata": {
    "kernelspec": {
      "display_name": "Python 3",
      "language": "python",
      "name": "python3"
    },
    "language_info": {
      "codemirror_mode": {
        "name": "ipython",
        "version": 3
      },
      "file_extension": ".py",
      "mimetype": "text/x-python",
      "name": "python",
      "nbconvert_exporter": "python",
      "pygments_lexer": "ipython3",
      "version": "3.13.1"
    }
  },
  "nbformat": 4,
  "nbformat_minor": 0
}