{
  "cells": [
    {
      "cell_type": "markdown",
      "metadata": {},
      "source": [
        "\n# Plotting Earth relief\n\nPyGMT provides the :func:`pygmt.datasets.load_earth_relief` function to download the\nEarth relief data from the GMT remote server and load as an :class:`xarray.DataArray`\nobject. The data can then be plotted using the :meth:`pygmt.Figure.grdimage` method.\n"
      ]
    },
    {
      "cell_type": "code",
      "execution_count": null,
      "metadata": {
        "collapsed": false
      },
      "outputs": [],
      "source": [
        "import pygmt"
      ]
    },
    {
      "cell_type": "markdown",
      "metadata": {},
      "source": [
        "Load sample Earth relief data for the entire globe at a resolution of 1 arc-degree.\nRefer to :func:`pygmt.datasets.load_earth_relief` for the other available resolutions.\n\n"
      ]
    },
    {
      "cell_type": "code",
      "execution_count": null,
      "metadata": {
        "collapsed": false
      },
      "outputs": [],
      "source": [
        "grid = pygmt.datasets.load_earth_relief(resolution=\"01d\")"
      ]
    },
    {
      "cell_type": "markdown",
      "metadata": {},
      "source": [
        "## Create a plot\n\nThe :meth:`pygmt.Figure.grdimage` method takes the ``grid`` input to create a figure.\nIt creates and applies a color palette to the figure based upon the z-values of the\ndata. By default, it plots the map with the *turbo* CPT, an equidistant cylindrical\nprojection, and with no frame.\n\n"
      ]
    },
    {
      "cell_type": "code",
      "execution_count": null,
      "metadata": {
        "collapsed": false
      },
      "outputs": [],
      "source": [
        "fig = pygmt.Figure()\nfig.grdimage(grid=grid)\nfig.show()"
      ]
    },
    {
      "cell_type": "markdown",
      "metadata": {},
      "source": [
        ":meth:`pygmt.Figure.grdimage` can take the optional parameter ``projection`` for the\nmap. In the example below, ``projection`` is set to ``\"R12c\"`` for a\n12-centimeters-wide figure with a Winkel Tripel projection. For a list of available\nprojections, see :doc:`/techref/projections`.\n\n"
      ]
    },
    {
      "cell_type": "code",
      "execution_count": null,
      "metadata": {
        "collapsed": false
      },
      "outputs": [],
      "source": [
        "fig = pygmt.Figure()\nfig.grdimage(grid=grid, projection=\"R12c\")\nfig.show()"
      ]
    },
    {
      "cell_type": "markdown",
      "metadata": {},
      "source": [
        "## Set a color map\n\n:meth:`pygmt.Figure.grdimage` takes the ``cmap`` parameter to set the CPT of the\nfigure. Examples of common CPTs for Earth relief are shown below. A full list of CPTs\ncan be found at :gmt-docs:`reference/cpts.html`.\n\n"
      ]
    },
    {
      "cell_type": "markdown",
      "metadata": {},
      "source": [
        "Using the *geo* CPT:\n\n"
      ]
    },
    {
      "cell_type": "code",
      "execution_count": null,
      "metadata": {
        "collapsed": false
      },
      "outputs": [],
      "source": [
        "fig = pygmt.Figure()\nfig.grdimage(grid=grid, projection=\"R12c\", cmap=\"geo\")\nfig.show()"
      ]
    },
    {
      "cell_type": "markdown",
      "metadata": {},
      "source": [
        "Using the *relief* CPT:\n\n"
      ]
    },
    {
      "cell_type": "code",
      "execution_count": null,
      "metadata": {
        "collapsed": false
      },
      "outputs": [],
      "source": [
        "fig = pygmt.Figure()\nfig.grdimage(grid=grid, projection=\"R12c\", cmap=\"relief\")\nfig.show()"
      ]
    },
    {
      "cell_type": "markdown",
      "metadata": {},
      "source": [
        "## Add a color bar\n\nThe :meth:`pygmt.Figure.colorbar` method displays the CPT and the associated z-values\nof the figure, and by default uses the same CPT set by the ``cmap`` parameter for\n:meth:`pygmt.Figure.grdimage`. The ``frame`` parameter for\n:meth:`pygmt.Figure.colorbar` can be used to set the axis intervals and labels. A list\nis used to pass multiple arguments to ``frame``. In the example below, ``\"a2500\"``\nsets the axis interval to 2,500, ``\"x+lElevation\"`` sets the x-axis label, and\n``\"y+lm\"`` sets the y-axis label.\n\n"
      ]
    },
    {
      "cell_type": "code",
      "execution_count": null,
      "metadata": {
        "collapsed": false
      },
      "outputs": [],
      "source": [
        "fig = pygmt.Figure()\nfig.grdimage(grid=grid, projection=\"R12c\", cmap=\"geo\")\nfig.colorbar(frame=[\"a2500\", \"x+lElevation\", \"y+lm\"])\nfig.show()"
      ]
    },
    {
      "cell_type": "markdown",
      "metadata": {},
      "source": [
        "## Create a region map\n\nIn addition to providing global data, the ``region`` parameter of\n:func:`pygmt.datasets.load_earth_relief` can be used to provide data for a specific\narea. The ``region`` parameter is required for resolutions at 5 arc-minutes or higher,\nand accepts a list in the form of [*xmin*, *xmax*, *ymin*, *ymax*].\n\nThe example below uses data with a 10 arc-minutes resolution, and plots it on a\n15-centimeters-wide figure with a Mercator projection and a CPT set to *geo*.\n``frame=\"a\"`` is used to add a frame with annotations to the figure.\n\n"
      ]
    },
    {
      "cell_type": "code",
      "execution_count": null,
      "metadata": {
        "collapsed": false
      },
      "outputs": [],
      "source": [
        "grid = pygmt.datasets.load_earth_relief(resolution=\"10m\", region=[-14, 30, 35, 60])\nfig = pygmt.Figure()\nfig.grdimage(grid=grid, projection=\"M15c\", frame=\"a\", cmap=\"geo\")\nfig.colorbar(frame=[\"a1000\", \"x+lElevation\", \"y+lm\"])\nfig.show()"
      ]
    }
  ],
  "metadata": {
    "kernelspec": {
      "display_name": "Python 3",
      "language": "python",
      "name": "python3"
    },
    "language_info": {
      "codemirror_mode": {
        "name": "ipython",
        "version": 3
      },
      "file_extension": ".py",
      "mimetype": "text/x-python",
      "name": "python",
      "nbconvert_exporter": "python",
      "pygments_lexer": "ipython3",
      "version": "3.13.1"
    }
  },
  "nbformat": 4,
  "nbformat_minor": 0
}