{
  "cells": [
    {
      "cell_type": "markdown",
      "metadata": {},
      "source": [
        "\n# Timestamp\n\nThe :meth:`pygmt.Figure.timestamp` method can draw the GMT timestamp logo on the plot.\nThe timestamp will always be shown relative to the Bottom Left (BL) corner of the plot.\nBy default, the ``offset`` and ``justify`` parameters are set to ``(\"-54p\", \"-54p\")``\n(x, y directions) and ``\"BL\"`` (Bottom Left), respectively.\n"
      ]
    },
    {
      "cell_type": "code",
      "execution_count": null,
      "metadata": {
        "collapsed": false
      },
      "outputs": [],
      "source": [
        "import os\n\nimport pygmt\n\nfig = pygmt.Figure()\nfig.basemap(region=[20, 30, -10, 10], projection=\"X10c/5c\", frame=True)\nfig.timestamp()\nfig.show()"
      ]
    },
    {
      "cell_type": "markdown",
      "metadata": {},
      "source": [
        "Additionally, a custom label can be added via the ``label`` parameter. The font can be\ndefined via the ``font`` parameter and the timestamp string format via ``timefmt``.\n\n"
      ]
    },
    {
      "cell_type": "code",
      "execution_count": null,
      "metadata": {
        "collapsed": false
      },
      "outputs": [],
      "source": [
        "os.environ[\"TZ\"] = \"Pacific/Honolulu\"  # optionally set the time zone\n\nfig = pygmt.Figure()\nfig.coast(region=\"d\", projection=\"H10c\", land=\"black\", water=\"cornsilk\", frame=\"afg\")\nfig.timestamp(\n    label=\"Powered by PyGMT\",\n    justify=\"TL\",\n    font=\"Times-Bold\",\n    timefmt=\"%Y-%m-%dT%H:%M:%S%z\",\n)\nfig.show()"
      ]
    }
  ],
  "metadata": {
    "kernelspec": {
      "display_name": "Python 3",
      "language": "python",
      "name": "python3"
    },
    "language_info": {
      "codemirror_mode": {
        "name": "ipython",
        "version": 3
      },
      "file_extension": ".py",
      "mimetype": "text/x-python",
      "name": "python",
      "nbconvert_exporter": "python",
      "pygments_lexer": "ipython3",
      "version": "3.13.1"
    }
  },
  "nbformat": 4,
  "nbformat_minor": 0
}