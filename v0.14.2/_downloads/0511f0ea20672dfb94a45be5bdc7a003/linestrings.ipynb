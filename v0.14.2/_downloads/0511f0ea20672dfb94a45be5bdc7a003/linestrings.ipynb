{
  "cells": [
    {
      "cell_type": "markdown",
      "metadata": {},
      "source": [
        "\n# GeoPandas: Plotting lines with LineString or MultiLineString geometry\n\nThe :meth:`pygmt.Figure.plot` method allows us to plot geographical data such as lines\nwith LineString or MultiLineString geometry types stored in a\n:class:`geopandas.GeoDataFrame` object or any object that implements the\n[__geo_interface__](https://gist.github.com/sgillies/2217756)_ property.\n\nUse :func:`geopandas.read_file` to load data from any supported OGR format such as a\nshapefile (.shp), GeoJSON (.geojson), geopackage (.gpkg), etc. Then, pass the\n:class:`geopandas.GeoDataFrame` object as an argument to the ``data`` parameter of\n:meth:`pygmt.Figure.plot`, and style the lines using the ``pen`` parameter.\n"
      ]
    },
    {
      "cell_type": "code",
      "execution_count": null,
      "metadata": {
        "collapsed": false
      },
      "outputs": [],
      "source": [
        "import geodatasets\nimport geopandas as gpd\nimport pygmt\n\n# Read a sample dataset provided by the geodatasets package.\n# The dataset contains large rivers in Europe, stored as LineString/MultiLineString\n# geometry types.\ngdf = gpd.read_file(geodatasets.get_path(\"eea large_rivers\"))\n\n# Convert object to EPSG 4326 coordinate system\ngdf = gdf.to_crs(\"EPSG:4326\")\nprint(gdf.head())"
      ]
    },
    {
      "cell_type": "code",
      "execution_count": null,
      "metadata": {
        "collapsed": false
      },
      "outputs": [],
      "source": [
        "fig = pygmt.Figure()\n\nfig.coast(\n    projection=\"M10c\",\n    region=[-10, 30, 35, 57],\n    resolution=\"l\",\n    land=\"gray95\",\n    shorelines=\"1/0.1p,gray50\",\n    borders=\"1/0.1,gray30\",\n    frame=True,\n)\n\n# Add rivers to map\nfig.plot(data=gdf, pen=\"1p,steelblue\")\n\nfig.show()"
      ]
    }
  ],
  "metadata": {
    "kernelspec": {
      "display_name": "Python 3",
      "language": "python",
      "name": "python3"
    },
    "language_info": {
      "codemirror_mode": {
        "name": "ipython",
        "version": 3
      },
      "file_extension": ".py",
      "mimetype": "text/x-python",
      "name": "python",
      "nbconvert_exporter": "python",
      "pygments_lexer": "ipython3",
      "version": "3.13.2"
    }
  },
  "nbformat": 4,
  "nbformat_minor": 0
}