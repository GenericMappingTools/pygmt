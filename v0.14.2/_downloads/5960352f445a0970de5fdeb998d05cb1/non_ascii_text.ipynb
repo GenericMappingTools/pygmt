{
  "cells": [
    {
      "cell_type": "markdown",
      "metadata": {},
      "source": [
        "\n# Typesetting non-ASCII text\n\nIn addition to ASCII printable characters, sometimes you may also want to typeset\nnon-ASCII characters on the plot, such as Greek letters, mathematical symbols, or\nspecial characters.\n\nDue to the limitations of the underlying PostScript language, PyGMT doesn't support\nall characters in the Unicode standard. Instead, PyGMT supports a limited set of\ncharacters in the \"Adobe Symbol\", \"Adobe ZapfDingbats\", \"Adobe ISOLatin1+\", and\n\"ISO-8859-*x*\" (*x* can be 1-11, 13-16) encodings. Refer to :doc:`/techref/encodings`\nfor the complete list of supported characters.\n\nIn PyGMT, the supported (ASCII and non-ASCII) characters can be directly used in the\n``text`` parameter of the :meth:`pygmt.Figure.text` method for typesetting text strings.\nThey can also be used in the arguments of other plotting functions (e.g., in the\n``frame`` parameter to set the labels or title).\n\nIn this example, we demonstrate how to typeset non-ASCII characters in PyGMT.\n"
      ]
    },
    {
      "cell_type": "code",
      "execution_count": null,
      "metadata": {
        "collapsed": false
      },
      "outputs": [],
      "source": [
        "import pygmt\n\nfig = pygmt.Figure()\nfig.basemap(\n    region=[0, 5, 0, 6],\n    projection=\"X14c/7c\",\n    frame=[\"xaf+lDistance (\u00b0)\", \"yaf+lValue (\u2030)\", \"WSen+tTitle: \u03b1\u00b2 \u00b1 \u03b2\u00b2\"],\n)\n\nfig.text(\n    x=[0.2] * 5,\n    y=[5, 4, 3, 2, 1],\n    text=[\"ASCII:\", \"ISOLatin1+:\", \"Symbol:\", \"ZapfDingbats:\", \"Mixed:\"],\n    font=\"20p,Helvetica-Bold,red\",\n    justify=\"LM\",\n)\nfig.text(\n    x=[2] * 5,\n    y=[5, 4, 3, 2, 1],\n    text=[\n        \"ABCDE12345!#$:;<=>?\",  # ASCII only\n        \"\u00b1\u00b0\u00c0\u00c1\u00c2\u00c3\u00c4\u00c5\u00c8\u00cc\u00d2\u00d9\u00e0\u00e8\u00ec\u00f2\u00f9\",  # Non-ASCII characters from Adobe ISOLatin1+\n        \"\u03b1\u03b2\u03b3\u03b4\u03b5\u03b6\u03b7\u03b8\u2297\u2295\u2205\u2283\u2287\u2284\u2282\u2286\",  # Non-ASCII characters from Adobe Symbol\n        \"\u2708\u2665\u2666\u2663\u2660\u275b\u275c\u275d\u275e\u2768\u2769\u276a\u276b\u276c\u276d\u276e\u276f\u2192\u2194\",  # Non-ASCII characters from Adobe ZapfDingbats\n        \"ABCD \u03b1\u03b2\u03b3\u03b4 \u2460\u2461\u2462 \u278a\u278b\u278c\",  # Mix characters from ISOLatin1+, Symbol and ZapfDingbats\n    ],\n    font=\"18p,Helvetica\",\n    justify=\"LM\",\n)\n\nfig.show()"
      ]
    },
    {
      "cell_type": "markdown",
      "metadata": {},
      "source": [
        "Here are some important tips when using non-ASCII characters:\n\n- **Similar-looking characters**: Be cautious when using characters that appear\n  visually similar but are distinct. For example, ``\u03a9`` (OHM SIGN) and ``\u2126`` (GREEK\n  CAPITAL LETTER OMEGA) may look alike, but PyGMT only supports the latter. Using the\n  incorrect character can lead to unexpected results. To avoid this, it's recommended\n  to copy and paste characters from the :doc:`/techref/encodings` documentation.\n- **Mix characters from different encodings**: As shown in the example above, you can\n  mix characters from different encodings in the same text string. However, due to the\n  limitations of the underlying PostScript language, you cannot mix characters from\n  the \"Adobe ISOLatin1+\" and \"ISO-8859-*x*\" encodings in the same text string. For\n  example, you cannot mix characters from \"Adobe ISOLatin1+\" and \"ISO-8859-2\". If\n  you need to use characters from different encodings, you can use them in different\n  PyGMT function/method calls.\n- **Non-ASCII characters in text files**: Non-ASCII characters are not supported if\n  you have them in a text file and pass it to :meth:`pygmt.Figure.text`. In this case,\n  you may want to load the text file into :class:`pandas.DataFrame` and then pass it\n  to the ``text`` parameter.\n\n"
      ]
    }
  ],
  "metadata": {
    "kernelspec": {
      "display_name": "Python 3",
      "language": "python",
      "name": "python3"
    },
    "language_info": {
      "codemirror_mode": {
        "name": "ipython",
        "version": 3
      },
      "file_extension": ".py",
      "mimetype": "text/x-python",
      "name": "python",
      "nbconvert_exporter": "python",
      "pygments_lexer": "ipython3",
      "version": "3.13.2"
    }
  },
  "nbformat": 4,
  "nbformat_minor": 0
}