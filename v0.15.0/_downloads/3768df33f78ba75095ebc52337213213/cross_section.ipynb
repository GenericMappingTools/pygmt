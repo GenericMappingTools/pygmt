{
  "cells": [
    {
      "cell_type": "markdown",
      "metadata": {},
      "source": [
        "\n# Cross-section along a transect\n\n:func:`pygmt.project` and :func:`pygmt.grdtrack` can be used to focus on a quantity and\nits variation along a desired survey line. In this example, the elevation is extracted\nfrom a grid provided via :func:`pygmt.datasets.load_earth_relief`. The figure consists\nof two parts, a map of the elevation in the study area showing the survey line and a\nCartesian plot showing the elevation along the survey line.\n\n*This example is orientated on an example in the GMT/China documentation*:\nhttps://docs.gmt-china.org/latest/examples/ex026/\n"
      ]
    },
    {
      "cell_type": "code",
      "execution_count": null,
      "metadata": {
        "collapsed": false
      },
      "outputs": [],
      "source": [
        "import pygmt\n\n# Define region of study area\n# lon_min, lon_max, lat_min, lat_max in degrees East and North\nregion_map = [122, 149, 30, 49]\n\n# Create a new pygmt.Figure instance\nfig = pygmt.Figure()\n\n# ----------------------------------------------------------------------------\n# Bottom: Map of elevation in study area\n\n# Set up basic map using a Mercator projection with a width of 12 centimeters\nfig.basemap(region=region_map, projection=\"M12c\", frame=\"af\")\n\n# Download grid for Earth relief with a resolution of 10 arc-minutes and gridline\n# registration [Default]\ngrid_map = pygmt.datasets.load_earth_relief(resolution=\"10m\", region=region_map)\n\n# Plot the downloaded grid with color-coding based on the elevation\nfig.grdimage(grid=grid_map, cmap=\"oleron\")\n\n# Add a colorbar for the elevation\nfig.colorbar(\n    # Place the colorbar inside the plot (lowercase \"j\") in the Bottom Right (BR)\n    # corner with an offset (\"+o\") of 0.7 centimeters and 0.3 centimeters in x or y\n    # directions, respectively; move the x label above the horizontal colorbar (\"+ml\")\n    position=\"jBR+o0.7c/0.8c+h+w5c/0.3c+ml\",\n    # Add a box around the colobar with a fill (\"+g\") in \"white\" color and a\n    # transparency (\"@\") of 30 % and with a 0.8-points thick, black, outline (\"+p\")\n    box=\"+gwhite@30+p0.8p,black\",\n    # Add x and y labels (\"+l\")\n    frame=[\"x+lElevation\", \"y+lm\"],\n)\n\n# Choose a survey line\nfig.plot(\n    x=[126, 146],  # Longitude in degrees East\n    y=[42, 40],  # Latitude in degrees North\n    # Draw a 2-points thick, red, dashed line for the survey line\n    pen=\"2p,red,dashed\",\n)\n\n# Add labels \"A\" and \"B\" for the start and end points of the survey line\nfig.text(\n    x=[126, 146],\n    y=[42, 40],\n    text=[\"A\", \"B\"],\n    offset=\"0c/0.2c\",  # Move text 0.2 centimeters up (y direction)\n    font=\"15p\",  # Use a font size of 15 points\n)\n\n# ----------------------------------------------------------------------------\n# Top: Elevation along survey line\n\n# Shift plot origin to the top by the height of the map (\"+h\") plus 1.5 centimeters\nfig.shift_origin(yshift=\"h+1.5c\")\n\nfig.basemap(\n    region=[0, 15, -8000, 6000],  # x_min, x_max, y_min, y_max\n    # Cartesian projection with a width of 12 centimeters and a height of 3 centimeters\n    projection=\"X12c/3c\",\n    # Add annotations (\"a\") and ticks (\"f\") as well as labels (\"+l\") at the west or\n    # left and south or bottom sides (\"WSrt\")\n    frame=[\"WSrt\", \"xa2f1+lDistance+u\u00b0\", \"ya4000+lElevation / m\"],\n)\n\n# Add labels \"A\" and \"B\" for the start and end points of the survey line\nfig.text(\n    x=[0, 15],\n    y=[7000, 7000],\n    text=[\"A\", \"B\"],\n    no_clip=True,  # Do not clip text that fall outside the plot bounds\n    font=\"10p\",  # Use a font size of 10 points\n)\n\n# Generate points along a great circle corresponding to the survey line and store them\n# in a pandas.DataFrame\ntrack_df = pygmt.project(\n    center=[126, 42],  # Start point of survey line (longitude, latitude)\n    endpoint=[146, 40],  # End point of survey line (longitude, latitude)\n    generate=0.1,  # Output data in steps of 0.1 degrees\n)\n\n# Extract the elevation at the generated points from the downloaded grid and add it as\n# new column \"elevation\" to the pandas.DataFrame\ntrack_df = pygmt.grdtrack(grid=grid_map, points=track_df, newcolname=\"elevation\")\n\n# Plot water masses\nfig.plot(\n    x=[0, 15],\n    y=[0, 0],\n    fill=\"lightblue\",  # Fill the polygon in \"lightblue\"\n    # Draw a 0.25-points thick, black, solid outline\n    pen=\"0.25p,black,solid\",\n    close=\"+y-8000\",  # Force closed polygon\n)\n\n# Plot elevation along the survey line\nfig.plot(\n    x=track_df.p,\n    y=track_df.elevation,\n    fill=\"gray\",  # Fill the polygon in \"gray\"\n    # Draw a 1-point thick, black, solid outline\n    pen=\"1p,black,solid\",\n    close=\"+y-8000\",  # Force closed polygon\n)\n\nfig.show()"
      ]
    }
  ],
  "metadata": {
    "kernelspec": {
      "display_name": "Python 3",
      "language": "python",
      "name": "python3"
    },
    "language_info": {
      "codemirror_mode": {
        "name": "ipython",
        "version": 3
      },
      "file_extension": ".py",
      "mimetype": "text/x-python",
      "name": "python",
      "nbconvert_exporter": "python",
      "pygments_lexer": "ipython3",
      "version": "3.13.2"
    }
  },
  "nbformat": 4,
  "nbformat_minor": 0
}