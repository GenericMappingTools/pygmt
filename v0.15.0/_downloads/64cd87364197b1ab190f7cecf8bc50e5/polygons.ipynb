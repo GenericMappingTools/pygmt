{
  "cells": [
    {
      "cell_type": "markdown",
      "metadata": {},
      "source": [
        "\n# Plotting polygons\n\nPlotting polygons is handled by the :meth:`pygmt.Figure.plot` method.\n\nThis tutorial focuses on input data given as NumPy arrays. Besides NumPy arrays,\narray-like objects are supported. Here, a polygon is a closed shape defined by a series\nof data points with x and y coordinates, connected by line segments, with the start and\nend points being identical. For plotting a :class:`geopandas.GeoDataFrame` object with\npolygon geometries, e.g., to create a choropleth map, see the gallery example\n:doc:`Choropleth map </gallery/maps/choropleth_map>`.\n"
      ]
    },
    {
      "cell_type": "code",
      "execution_count": null,
      "metadata": {
        "collapsed": false
      },
      "outputs": [],
      "source": [
        "import numpy as np\nimport pygmt"
      ]
    },
    {
      "cell_type": "markdown",
      "metadata": {},
      "source": [
        "## Plot polygons\n\nSet up sample data points as NumPy arrays for the x and y values.\n\n"
      ]
    },
    {
      "cell_type": "code",
      "execution_count": null,
      "metadata": {
        "collapsed": false
      },
      "outputs": [],
      "source": [
        "x = np.array([-2, 1, 3, 0, -4, -2])\ny = np.array([-3, -1, 1, 3, 2, -3])"
      ]
    },
    {
      "cell_type": "markdown",
      "metadata": {},
      "source": [
        "Create a Cartesian plot via the :meth:`pygmt.Figure.basemap` method. Pass arrays to\nthe ``x`` and ``y`` parameters of the :meth:`pygmt.Figure.plot` method. Without\nfurther adjustments, lines are drawn between the data points. By default, the lines\nare 0.25-points thick, black, and solid. In this example, the data points are chosen\nto make the lines form a polygon.\n\n"
      ]
    },
    {
      "cell_type": "code",
      "execution_count": null,
      "metadata": {
        "collapsed": false
      },
      "outputs": [],
      "source": [
        "fig = pygmt.Figure()\nfig.basemap(region=[-5, 5, -5, 5], projection=\"X5c\", frame=True)\nfig.plot(x=x, y=y)\nfig.show()"
      ]
    },
    {
      "cell_type": "markdown",
      "metadata": {},
      "source": [
        "The ``pen`` parameter can be used to adjust the lines or outline of the polygon. The\nargument passed to ``pen`` is one string with the comma-separated optional values\n*width*,\\ *color*,\\ *style*.\n\n"
      ]
    },
    {
      "cell_type": "code",
      "execution_count": null,
      "metadata": {
        "collapsed": false
      },
      "outputs": [],
      "source": [
        "fig = pygmt.Figure()\nfig.basemap(region=[-5, 5, -5, 5], projection=\"X5c\", frame=True)\n# Use a 2-points thick, darkred, dashed outline\nfig.plot(x=x, y=y, pen=\"2p,darkred,dashed\")\nfig.show()"
      ]
    },
    {
      "cell_type": "markdown",
      "metadata": {},
      "source": [
        "Use the ``fill`` parameter to fill the polygon with a color or\n:doc:`pattern </techref/patterns>`. Note, that there are no lines drawn between the\ndata points by default if ``fill`` is used. Use the ``pen`` parameter to add an\noutline around the polygon.\n\n"
      ]
    },
    {
      "cell_type": "code",
      "execution_count": null,
      "metadata": {
        "collapsed": false
      },
      "outputs": [],
      "source": [
        "fig = pygmt.Figure()\nfig.basemap(region=[-5, 5, -5, 5], projection=\"X5c\", frame=True)\n# Fill the polygon with color \"orange\"\nfig.plot(x=x, y=y, fill=\"orange\")\nfig.show()"
      ]
    },
    {
      "cell_type": "markdown",
      "metadata": {},
      "source": [
        "## Close polygons\n\nSet up sample data points as NumPy arrays for the x and y values. Now, the data points\ndo not form a polygon.\n\n"
      ]
    },
    {
      "cell_type": "code",
      "execution_count": null,
      "metadata": {
        "collapsed": false
      },
      "outputs": [],
      "source": [
        "x = np.array([-2, 1, 3, 0, -4])\ny = np.array([-3, -1, 1, 3, 2])"
      ]
    },
    {
      "cell_type": "markdown",
      "metadata": {},
      "source": [
        "The ``close`` parameter can be used to force the polygon to be closed.\n\n"
      ]
    },
    {
      "cell_type": "code",
      "execution_count": null,
      "metadata": {
        "collapsed": false
      },
      "outputs": [],
      "source": [
        "fig = pygmt.Figure()\nfig.basemap(region=[-5, 5, -5, 5], projection=\"X5c\", frame=True)\nfig.plot(x=x, y=y, pen=True)\n\nfig.shift_origin(xshift=\"w+1c\")\n\nfig.basemap(region=[-5, 5, -5, 5], projection=\"X5c\", frame=True)\nfig.plot(x=x, y=y, pen=True, close=True)\nfig.show()"
      ]
    },
    {
      "cell_type": "markdown",
      "metadata": {},
      "source": [
        "When using the ``fill`` parameter, the polygon is automatically closed.\n\n"
      ]
    },
    {
      "cell_type": "code",
      "execution_count": null,
      "metadata": {
        "collapsed": false
      },
      "outputs": [],
      "source": [
        "fig = pygmt.Figure()\nfig.basemap(region=[-5, 5, -5, 5], projection=\"X5c\", frame=True)\nfig.plot(x=x, y=y, pen=True)\n\nfig.shift_origin(xshift=\"w+1c\")\n\nfig.basemap(region=[-5, 5, -5, 5], projection=\"X5c\", frame=True)\nfig.plot(x=x, y=y, pen=True, fill=\"orange\")\nfig.show()"
      ]
    }
  ],
  "metadata": {
    "kernelspec": {
      "display_name": "Python 3",
      "language": "python",
      "name": "python3"
    },
    "language_info": {
      "codemirror_mode": {
        "name": "ipython",
        "version": 3
      },
      "file_extension": ".py",
      "mimetype": "text/x-python",
      "name": "python",
      "nbconvert_exporter": "python",
      "pygments_lexer": "ipython3",
      "version": "3.13.2"
    }
  },
  "nbformat": 4,
  "nbformat_minor": 0
}