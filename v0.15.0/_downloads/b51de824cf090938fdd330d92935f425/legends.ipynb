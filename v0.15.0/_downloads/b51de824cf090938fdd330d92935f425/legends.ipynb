{
  "cells": [
    {
      "cell_type": "markdown",
      "metadata": {},
      "source": [
        "\n# Creating legends\n\nThe :meth:`pygmt.Figure.legend` method creates legends, whereby auto-legends as well as\nmanually created legends are supported.\n"
      ]
    },
    {
      "cell_type": "code",
      "execution_count": null,
      "metadata": {
        "collapsed": false
      },
      "outputs": [],
      "source": [
        "import io\n\nimport pygmt"
      ]
    },
    {
      "cell_type": "markdown",
      "metadata": {},
      "source": [
        "## Create an auto-legend\n\nAn auto-legend can be created for the methods :meth:`pygmt.Figure.plot` and\n:meth:`pygmt.Figure.plot3d`, :meth:`pygmt.Figure.hlines` and\n:meth:`pygmt.Figure.vlines` as well as :meth:`pygmt.Figure.histogram`. Therefore the\n``label`` parameter has to be specified to state the desired text for the legend entry\n(white spaces are supported). Here, we use :meth:`pygmt.Figure.plot`, exemplary. By\ndefault, the legend is placed in the Upper Right corner with an offset of 0.1\ncentimeters in both x and y directions, and surrounded by a box with a white fill and\na 1-point thick, black, solid outline. The order of the legend entries (top to bottom)\nis determine by the plotting order. Optionally, to adjust the legend, append different\nmodifiers to the string passed to ``label``. For a list of available modifiers see\n:gmt-docs:`gmt.html#l-full`. To create a :doc:`multiple-column legend\n</gallery/embellishments/legend>` **+N** is used with the desired number of columns.\n\n"
      ]
    },
    {
      "cell_type": "code",
      "execution_count": null,
      "metadata": {
        "collapsed": false
      },
      "outputs": [],
      "source": [
        "fig = pygmt.Figure()\nfig.basemap(region=[-5, 5, -5, 5], projection=\"X5c\", frame=True)\n\n# Plot two data points and one line\nfig.plot(x=0, y=0, style=\"c0.2c\", fill=\"orange\", label=\"orange circle\")\nfig.plot(x=1, y=0, style=\"t0.3c\", fill=\"pink\", pen=\"black\", label=\"pink triangle\")\nfig.plot(x=[-3, 3], y=[-2, -2], pen=\"darkred\", label=\"darkred line\")\n\n# Add a legend based on the explanation text given via the \"label\" parameter.\nfig.legend()\n\nfig.show()"
      ]
    },
    {
      "cell_type": "markdown",
      "metadata": {},
      "source": [
        "## Adjust the position\n\nUse the ``position`` parameter to adjust the position of the legend. Add an offset via\n**+o** for the x and y directions. Additionally append **+w** to adjust the width\nof the legend. Note, no box is drawn by default if ``position`` is used.\n\n"
      ]
    },
    {
      "cell_type": "code",
      "execution_count": null,
      "metadata": {
        "collapsed": false
      },
      "outputs": [],
      "source": [
        "fig = pygmt.Figure()\nfig.basemap(region=[-5, 5, -5, 5], projection=\"X5c\", frame=True)\n\nfig.plot(x=0, y=0, style=\"c0.25c\", fill=\"orange\", label=\"orange circle\")\nfig.plot(x=1, y=0, style=\"t0.3c\", fill=\"pink\", pen=\"black\", label=\"pink triangle\")\nfig.plot(x=[-3, 3], y=[-2, -2], pen=\"darkred\", label=\"darkred line\")\n\n# Set the reference point to the Top Left corner within (lowercase \"j\") the bounding box\n# of the plot and use offsets of 0.3 and 0.2 centimeters in the x and y directions,\n# respectively.\nfig.legend(position=\"jTL+o0.3c/0.2c\")\n\nfig.show()"
      ]
    },
    {
      "cell_type": "markdown",
      "metadata": {},
      "source": [
        "## Add a box\nUse the ``box`` parameter for adjusting the box around the legend. The outline of the\nbox can be adjusted by appending **+p**. Append **+g** to fill the legend with a color\n(or pattern) [Default is no fill]. The default of ``position`` is preserved.\n\n"
      ]
    },
    {
      "cell_type": "code",
      "execution_count": null,
      "metadata": {
        "collapsed": false
      },
      "outputs": [],
      "source": [
        "fig = pygmt.Figure()\nfig.basemap(region=[-5, 5, -5, 5], projection=\"X5c\", frame=\"rltb+glightgray\")\n\nfig.plot(x=0, y=0, style=\"c0.25c\", fill=\"orange\", label=\"orange circle\")\nfig.plot(x=1, y=0, style=\"t0.3c\", fill=\"pink\", pen=\"black\", label=\"pink triangle\")\nfig.plot(x=[-3, 3], y=[-2, -2], pen=\"darkred\", label=\"darkred line\")\n\nfig.legend(position=\"jTL+o0.3c/0.2c\", box=True)\n\nfig.shift_origin(xshift=\"w+1c\")\nfig.basemap(region=[-5, 5, -5, 5], projection=\"X5c\", frame=\"rltb+glightgray\")\n\nfig.plot(x=0, y=0, style=\"c0.25c\", fill=\"orange\", label=\"orange circle\")\nfig.plot(x=1, y=0, style=\"t0.3c\", fill=\"pink\", pen=\"black\", label=\"pink triangle\")\nfig.plot(x=[-3, 3], y=[-2, -2], pen=\"darkred\", label=\"darkred line\")\n\n# Add a box with a 2-points thick blue, solid outline and a white fill with a\n# transparency of 70 percentage (\"@30\").\nfig.legend(position=\"jTL+o0.3c/0.2c\", box=\"+p2p,blue+gwhite@30\")\n\nfig.show()"
      ]
    },
    {
      "cell_type": "markdown",
      "metadata": {},
      "source": [
        "## Create a manual legend\n\nFor more complicated legends, users need to prepare a legend specification with\ninstructions for the layout of the legend entries. In PyGMT, the legend specification\ncan be either an ASCII file or an :class:`io.StringIO` object. Both are passed to the\n``spec`` parameter of :meth:`pygmt.Figure.legend`. Multiple legend codes are available\nto create complicated legends. In the example below we show an subset; a full\noverview can be found at :gmt-docs:`legend.html#legend-codes`. It's also supported to\ninclude length scales (for geographic projections), faults, and images as well as to\nadd specific lines.\n\nThe following example is orientated on the related GMT example at\n:gmt-docs:`legend.html#examples`, but modified to use an :class:`io.StringIO` object.\n\nWe start with setting up the :class:`io.StringIO` object.\n\n"
      ]
    },
    {
      "cell_type": "code",
      "execution_count": null,
      "metadata": {
        "collapsed": false
      },
      "outputs": [],
      "source": [
        "spec_io = io.StringIO(\n    \"\"\"\nG -0.1c\nH 24p,Times-Roman My Map Legend\nD 0.2c 1p\nN 2\nV 0 1p\nS 0.1c c 0.20c p300/12 0.25p 0.3c This circle is hachured\nS 0.1c e 0.20c yellow 0.25p 0.3c This ellipse is yellow\nS 0.1c w 0.20c green 0.25p 0.3c This wedge is green\nS 0.1c f 0.25c blue 0.25p 0.3c This is a fault\nS 0.1c - 0.15c - 0.25p,- 0.3c A contour\nS 0.1c v 0.25c magenta 0.5p 0.3c This is a vector\nS 0.1c i 0.20c cyan 0.25p 0.3c This inverse triangle is cyan\nD 0.2c 1p\nV 0 1p\nN 1\nG 0.1c\nM 5 5 600+u+f\nG 0.1c\nI @SOEST_block4.png 3i CT\nG 0.05c\nL 9p,Times-Roman R Smith et al., @%5%J. Geophys. Res., 99@%%, 2000\nG 0.1c\nT Let us just try some simple text that can go on a few lines.\nT There is no easy way to predetermine how many lines may be required\nT so we may have to adjust the height to get the right size box.\n\"\"\"\n)"
      ]
    },
    {
      "cell_type": "markdown",
      "metadata": {},
      "source": [
        "Now, we can add a legend based on this :class:`io.StringIO` object. For multi-columns\nlegends, the width (**+w**) has to be specified via a the ``position`` parameter.\n\n"
      ]
    },
    {
      "cell_type": "code",
      "execution_count": null,
      "metadata": {
        "collapsed": false
      },
      "outputs": [],
      "source": [
        "fig = pygmt.Figure()\n# Note, that we are now using a Mercator projection\nfig.basemap(region=[-5, 5, -5, 5], projection=\"M10c\", frame=True)\n\n# Pass the io.StringIO object to the \"spec\" parameter\nfig.legend(spec=spec_io, position=\"jMC+w9c\", box=\"+p1p,gray50+ggray95\")\n\nfig.show()"
      ]
    }
  ],
  "metadata": {
    "kernelspec": {
      "display_name": "Python 3",
      "language": "python",
      "name": "python3"
    },
    "language_info": {
      "codemirror_mode": {
        "name": "ipython",
        "version": 3
      },
      "file_extension": ".py",
      "mimetype": "text/x-python",
      "name": "python",
      "nbconvert_exporter": "python",
      "pygments_lexer": "ipython3",
      "version": "3.13.2"
    }
  },
  "nbformat": 4,
  "nbformat_minor": 0
}