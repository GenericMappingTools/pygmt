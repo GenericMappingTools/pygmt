{
  "cells": [
    {
      "cell_type": "markdown",
      "metadata": {},
      "source": [
        "\n# 2. Create a contour map\n\nThis tutorial page covers the basics of creating a figure of the Earth relief, using a\nremote dataset hosted by GMT, using the method :meth:`pygmt.datasets.load_earth_relief`.\nIt will use the :meth:`pygmt.Figure.grdimage`, :meth:`pygmt.Figure.grdcontour`,\n:meth:`pygmt.Figure.colorbar`, and :meth:`pygmt.Figure.coast` methods for plotting.\n"
      ]
    },
    {
      "cell_type": "code",
      "execution_count": null,
      "metadata": {
        "collapsed": false
      },
      "outputs": [],
      "source": [
        "import pygmt"
      ]
    },
    {
      "cell_type": "markdown",
      "metadata": {},
      "source": [
        "## Loading the Earth relief dataset\n\nThe first step is to use :meth:`pygmt.datasets.load_earth_relief`. The ``resolution``\nparameter sets the resolution of the remote grid file, which will affect the\nresolution of the plot made later in the tutorial. The ``registration`` parameter\ndetermines the grid registration.\n\nThis grid region covers the islands of Guam and Rota in the western Pacific Ocean.\n\n"
      ]
    },
    {
      "cell_type": "code",
      "execution_count": null,
      "metadata": {
        "collapsed": false
      },
      "outputs": [],
      "source": [
        "grid = pygmt.datasets.load_earth_relief(\n    resolution=\"30s\", region=[144.5, 145.5, 13, 14.5], registration=\"gridline\"\n)"
      ]
    },
    {
      "cell_type": "markdown",
      "metadata": {},
      "source": [
        "## Plotting Earth relief\n\nTo plot Earth relief data, the method :meth:`pygmt.Figure.grdimage` can be used to\nplot a color-coded figure to display the topography and bathymetry in the grid file.\nThe ``grid`` parameter accepts the input grid, which in this case is the remote file\ndownloaded in the previous step. If the ``region`` parameter is not set, the region\nboundaries of the input grid are used.\n\nThe ``cmap`` parameter sets the color palette table (CPT) used for portraying the\nEarth relief. The :meth:`pygmt.Figure.grdimage` method uses the input grid to relate\nthe Earth relief values to a specific color within the CPT. In this case, the CPT\n\"oleron\" is used; a full list of CPTs can be found at :gmt-docs:`reference/cpts.html`.\n\n"
      ]
    },
    {
      "cell_type": "code",
      "execution_count": null,
      "metadata": {
        "collapsed": false
      },
      "outputs": [],
      "source": [
        "fig = pygmt.Figure()\nfig.grdimage(grid=grid, frame=\"a\", projection=\"M10c\", cmap=\"oleron\")\nfig.show()"
      ]
    },
    {
      "cell_type": "markdown",
      "metadata": {},
      "source": [
        "## Adding a colorbar\n\nTo show how the plotted colors relate to the Earth relief, a colorbar can be added\nusing the :meth:`pygmt.Figure.colorbar` method.\n\nTo control the annotation and labels on the colorbar, a list is passed to the\n``frame`` parameter. The value beginning with ``\"a\"`` sets the interval for the\nannotation on the colorbar, in this case every 1,000 meters. To set the label for an\naxis on the colorbar, the argument begins with either ``\"x+l\"`` (x-axis) or ``\"y+l\"``\n(y-axis), followed by the intended label.\n\nBy default, the CPT for the colorbar is the same as the one set in\n:meth:`pygmt.Figure.grdimage`.\n\n"
      ]
    },
    {
      "cell_type": "code",
      "execution_count": null,
      "metadata": {
        "collapsed": false
      },
      "outputs": [],
      "source": [
        "fig = pygmt.Figure()\nfig.grdimage(grid=grid, frame=\"a\", projection=\"M10c\", cmap=\"oleron\")\nfig.colorbar(frame=[\"a1000\", \"x+lElevation\", \"y+lm\"])\nfig.show()"
      ]
    },
    {
      "cell_type": "markdown",
      "metadata": {},
      "source": [
        "## Adding contour lines\n\nTo add contour lines to the color-coded figure, the :meth:`pygmt.Figure.grdcontour`\nmethod is used. The ``frame`` and ``projection`` are already set using\n:meth:`pygmt.Figure.grdimage` and are not needed again. However, the same input for\n``grid`` (in this case, the variable named \"grid\") must be input again. The ``levels``\nparameter sets the spacing between adjacent contour lines (in this case, 500 meters).\nThe ``annotation`` parameter annotates the contour lines corresponding to the given\ninterval (in this case, 1,000 meters) with the related values, here elevation or\nbathymetry. By default, these contour lines are drawn thicker. Optionally, the\nappearance (thickness, color, style) of the annotated and the not-annotated contour\nlines can be adjusted (separately) by specifying the desired ``pen``.\n\n"
      ]
    },
    {
      "cell_type": "code",
      "execution_count": null,
      "metadata": {
        "collapsed": false
      },
      "outputs": [],
      "source": [
        "fig = pygmt.Figure()\nfig.grdimage(grid=grid, frame=\"a\", projection=\"M10c\", cmap=\"oleron\")\nfig.grdcontour(grid=grid, levels=500, annotation=1000)\nfig.colorbar(frame=[\"a1000\", \"x+lElevation\", \"y+lm\"])\nfig.show()"
      ]
    },
    {
      "cell_type": "markdown",
      "metadata": {},
      "source": [
        "## Color in land\n\nTo make it clear where the islands are located, the :meth:`pygmt.Figure.coast` method\ncan be used to color in the landmasses. The ``land`` is colored in as \"lightgray\", and\nthe ``shorelines`` parameter draws a border around the islands.\n\n"
      ]
    },
    {
      "cell_type": "code",
      "execution_count": null,
      "metadata": {
        "collapsed": false
      },
      "outputs": [],
      "source": [
        "fig = pygmt.Figure()\nfig.grdimage(grid=grid, frame=\"a\", projection=\"M10c\", cmap=\"oleron\")\nfig.grdcontour(grid=grid, levels=500, annotation=1000)\nfig.coast(shorelines=\"2p\", land=\"lightgray\")\nfig.colorbar(frame=[\"a1000\", \"x+lElevation\", \"y+lm\"])\nfig.show()"
      ]
    },
    {
      "cell_type": "markdown",
      "metadata": {},
      "source": [
        "## Additional exercises\n\nThis is the end of the second tutorial. Here are some additional exercises for the\nconcepts that were discussed:\n\n1. Change the resolution of the grid file to either ``\"01m\"`` (1 arc-minute, a lower\n   resolution) or ``\"15s\"`` (15 arc-seconds, a higher resolution). Note that higher\n   resolution grids will have larger file sizes. Available resolutions can be found\n   at :meth:`pygmt.datasets.load_earth_relief`.\n\n2. Create a contour map of the area around Mt. Rainier. A suggestion for the\n   ``region`` would be ``[-122, -121, 46.5, 47.5]``. Adjust the\n   :meth:`pygmt.Figure.grdcontour` and :meth:`pygmt.Figure.colorbar` settings as\n   needed to make the figure look good.\n\n3. Create a contour map of S\u00e3o Miguel Island in the Azores; a suggested ``region`` is\n   ``[-26, -25, 37.5, 38]``. Instead of coloring in ``land``, set ``water`` to\n   \"lightblue\" to only display Earth relief information for the land.\n\n4. Try other CPTs, such as \"SCM/fes\" or \"geo\".\n\n"
      ]
    }
  ],
  "metadata": {
    "kernelspec": {
      "display_name": "Python 3",
      "language": "python",
      "name": "python3"
    },
    "language_info": {
      "codemirror_mode": {
        "name": "ipython",
        "version": 3
      },
      "file_extension": ".py",
      "mimetype": "text/x-python",
      "name": "python",
      "nbconvert_exporter": "python",
      "pygments_lexer": "ipython3",
      "version": "3.13.2"
    }
  },
  "nbformat": 4,
  "nbformat_minor": 0
}