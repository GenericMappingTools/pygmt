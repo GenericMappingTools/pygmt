{
  "cells": [
    {
      "cell_type": "markdown",
      "metadata": {},
      "source": [
        "\n# Draping a dataset on top of a topographic surface\n\nIt can be visually appealing to \"drape\" a dataset over a topographic surface. This can\nbe accomplished using the ``drapegrid`` parameter of :meth:`pygmt.Figure.grdview`.\n\nThis tutorial consists of two examples:\n\n1. Draping a grid\n\n2. Draping an image\n"
      ]
    },
    {
      "cell_type": "code",
      "execution_count": null,
      "metadata": {
        "collapsed": false
      },
      "outputs": [],
      "source": [
        "# Load the required packages\nimport pygmt\nimport rasterio\nimport xarray as xr"
      ]
    },
    {
      "cell_type": "markdown",
      "metadata": {},
      "source": [
        "## 1. Drapping a grid\n\nIn the first example, the seafloor crustal age is plotted with color-coding on top of\nthe topographic map of an area of the Mid-Atlantic Ridge.\n\n"
      ]
    },
    {
      "cell_type": "code",
      "execution_count": null,
      "metadata": {
        "collapsed": false
      },
      "outputs": [],
      "source": [
        "# Define the study area in degrees East or North\nregion_2d = [-50, 0, 36, 70]  # [lon_min, lon_max, lat_min, lat_max]\n\n# Download elevation and crustal age grids for the study region with a resolution of 10\n# arc-minutes and load them into xarray.DataArrays\ngrd_relief = pygmt.datasets.load_earth_relief(resolution=\"10m\", region=region_2d)\ngrd_age = pygmt.datasets.load_earth_age(resolution=\"10m\", region=region_2d)\n\n# Determine the 3-D region from the minimum and maximum values of the relief grid\nregion_3d = [*region_2d, grd_relief.min().to_numpy(), grd_relief.max().to_numpy()]"
      ]
    },
    {
      "cell_type": "markdown",
      "metadata": {},
      "source": [
        "The topographic surface is created based on the grid passed to the ``grid`` parameter\nof :meth:`pygmt.Figure.grdview`; here we use a grid of the Earth relief. To add a\ncolor-coding based on *another* grid we have to pass a second grid to the\n``drapegrid`` parameter; here we use a grid of the crustal age. In this case the\ncolormap specified via the ``cmap`` parameter applies to the grid passed to\n``drapegrid``, not to ``grid``. The azimuth and elevation of the 3-D plot are set via\nthe ``perspective`` parameter.\n\n"
      ]
    },
    {
      "cell_type": "code",
      "execution_count": null,
      "metadata": {
        "collapsed": false
      },
      "outputs": [],
      "source": [
        "fig = pygmt.Figure()\n\n# Set up colormap for the crustal age\npygmt.config(COLOR_NAN=\"lightgray\")\npygmt.makecpt(cmap=\"batlow\", series=[0, 200, 1], reverse=True, overrule_bg=True)\n\nfig.grdview(\n    projection=\"M12c\",  # Mercator projection with a width of 12 centimeters\n    region=region_3d,\n    grid=grd_relief,  # Use elevation grid for z values\n    drapegrid=grd_age,  # Use crustal age grid for color-coding\n    cmap=True,  # Use colormap created for the crustal age\n    surftype=\"i\",  # Create an image plot\n    # Use an illumination from the azimuthal directions 0\u00b0 (north) and 270\u00b0\n    # (west) with a normalization via a cumulative Laplace distribution for\n    # the shading\n    shading=\"+a0/270+ne0.6\",\n    perspective=[157.5, 30],  # Azimuth and elevation for the 3-D plot\n    zsize=\"1.5c\",\n    plane=\"+gdarkgray\",\n    frame=True,\n)\n\n# Add colorbar for the crustal age\nfig.colorbar(frame=[\"x+lseafloor crustal age\", \"y+lMyr\"], position=\"+n\")\n\nfig.show()"
      ]
    },
    {
      "cell_type": "markdown",
      "metadata": {},
      "source": [
        "## 2. Draping an image\n\nIn the second example, the flag of the European Union (EU) is plotted on top of a\ntopographic map of northwest Europe. This example is modified from\n:gmt-docs:`GMT example 32 </gallery/ex32.html>`.\nWe have to consider the dimension of the image we want to drap. The image we will\ndownload in this example has 1000 x 667 pixels, i.e. an aspect ratio of 3 x 2.\n\n"
      ]
    },
    {
      "cell_type": "code",
      "execution_count": null,
      "metadata": {
        "collapsed": false
      },
      "outputs": [],
      "source": [
        "# Define the study area in degrees East or North, with an extend of 6 degrees for\n# the longitude and 4 degrees for the latitude\nregion_2d = [3, 9, 50, 54]  # [lon_min, lon_max, lat_min, lat_max]\n\n# Download elevation grid for the study region with a resolution of 30 arc-seconds and\n# pixel registration and load it into an xarray.DataArray\ngrd_relief = pygmt.datasets.load_earth_relief(resolution=\"30s\", region=region_2d)\n\n# Determine the 3-D region from the minimum and maximum values of the relief grid\nregion_3d = [*region_2d, grd_relief.min().to_numpy(), grd_relief.max().to_numpy()]\n\n# Download an PNG image of the flag of the EU using rasterio and load it into a\n# xarray.DataArray\nurl_to_image = \"https://upload.wikimedia.org/wikipedia/commons/thumb/b/b7/Flag_of_Europe.svg/1000px-Flag_of_Europe.svg.png\"\nwith rasterio.open(url_to_image) as dataset:\n    data = dataset.read()\n    drapegrid = xr.DataArray(data, dims=(\"band\", \"y\", \"x\"))"
      ]
    },
    {
      "cell_type": "markdown",
      "metadata": {},
      "source": [
        "Again we create a 3-D plot with :meth:`pygmt.Figure.grdview` and pass an Earth relief\ngrid to the ``grid`` parameter to create the topographic surface. But now we pass the\nPNG image which was loaded into an :class:`xarray.DataArray` to the ``drapgrid``\nparameter.\n\n"
      ]
    },
    {
      "cell_type": "code",
      "execution_count": null,
      "metadata": {
        "collapsed": false
      },
      "outputs": [],
      "source": [
        "fig = pygmt.Figure()\n\n# Set up a colormap with two colors for the EU flag: blue (0/51/153) for the background\n# (value 0 in the netCDF file -> lower half of 0-255 range) and yellow (255/204/0) for\n# the stars (value 255 -> upper half)\npygmt.makecpt(cmap=\"0/51/153,255/204/0\", series=[0, 256, 128])\n\nfig.grdview(\n    projection=\"M12c\",  # Mercator projection with a width of 12 centimeters\n    region=region_3d,\n    grid=grd_relief,  # Use elevation grid for z values\n    drapegrid=drapegrid,  # Drap image grid for the EU flag on top\n    cmap=True,  # Use colormap defined for the EU flag\n    surftype=\"i\",  # Create an image plot\n    # Use an illumination from the azimuthal directions 0\u00b0 (north) and 270\u00b0 (west) with\n    # a normalization via a cumulative Laplace distribution for the shading\n    shading=\"+a0/270+ne0.6\",\n    perspective=[157.5, 30],  # Define azimuth, elevation for the 3-D plot\n    zsize=\"1c\",\n    plane=\"+gdarkgray\",\n    frame=True,\n)\n\nfig.show()"
      ]
    }
  ],
  "metadata": {
    "kernelspec": {
      "display_name": "Python 3",
      "language": "python",
      "name": "python3"
    },
    "language_info": {
      "codemirror_mode": {
        "name": "ipython",
        "version": 3
      },
      "file_extension": ".py",
      "mimetype": "text/x-python",
      "name": "python",
      "nbconvert_exporter": "python",
      "pygments_lexer": "ipython3",
      "version": "3.13.2"
    }
  },
  "nbformat": 4,
  "nbformat_minor": 0
}