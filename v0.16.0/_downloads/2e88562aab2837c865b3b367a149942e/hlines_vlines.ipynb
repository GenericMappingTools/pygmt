{
  "cells": [
    {
      "cell_type": "markdown",
      "metadata": {},
      "source": [
        "\n# Horizontal and vertical lines\n\nThe :meth:`pygmt.Figure.hlines` and :meth:`pygmt.Figure.vlines` methods allow to plot\nhorizontal and vertical lines in Cartesian, geographic and polar coordinate systems.\n"
      ]
    },
    {
      "cell_type": "markdown",
      "metadata": {},
      "source": [
        "## Cartesian coordinate system\nIn Cartesian coordinate systems lines are plotted as straight lines.\n\n"
      ]
    },
    {
      "cell_type": "code",
      "execution_count": null,
      "metadata": {
        "collapsed": false
      },
      "outputs": [],
      "source": [
        "import pygmt\n\nfig = pygmt.Figure()\n\nfig.basemap(\n    region=[0, 10, 0, 10], projection=\"X10c/10c\", frame=[\"+tCartesian hlines\", \"af\"]\n)\n\n# Add a horizontal line at y=9\nfig.hlines(y=9, pen=\"1.5p,red3\", label=\"Line 1\")\n# Add a horizontal line at y=8 with x from 2 to 8\nfig.hlines(y=8, xmin=2, xmax=8, pen=\"1.5p,gray30,-\", label=\"Line 2\")\n# Add two horizontal lines at y=6 and y=7 both with x from 3 to 7\nfig.hlines(y=[6, 7], xmin=3, xmax=7, pen=\"1.5p,salmon\", label=\"Lines 3 & 4\")\n# Add two horizontal lines at y=4 and y=5 both with x from 4 to 9\nfig.hlines(y=[4, 5], xmin=4, xmax=9, pen=\"1.5p,black,.\", label=\"Lines 5 & 6\")\n# Add two horizontal lines at y=2 and y=3 with different x limits\nfig.hlines(\n    y=[2, 3], xmin=[0, 1], xmax=[7, 7.5], pen=\"1.5p,dodgerblue3\", label=\"Lines 7 & 8\"\n)\nfig.legend(position=\"JBR+jBR+o0.2c\", box=\"+gwhite+p1p\")\n\nfig.shift_origin(xshift=\"w+2c\")\n\nfig.basemap(\n    region=[0, 10, 0, 10], projection=\"X10c/10c\", frame=[\"+tCartesian vlines\", \"af\"]\n)\n# Add a vertical line at x=1\nfig.vlines(x=1, pen=\"1.5p,red3\", label=\"Line 1\")\n# Add a vertical line at x=2 with y from 2 to 8\nfig.vlines(x=2, ymin=2, ymax=8, pen=\"1.5p,gray30,-\", label=\"Line 2\")\n# Add two vertical lines at x=3 and x=4 both with y from 3 to 7\nfig.vlines(x=[3, 4], ymin=3, ymax=7, pen=\"1.5p,salmon\", label=\"Lines 3 & 4\")\n# Add two vertical lines at x=5 and x=6 both with y from 4 to 9\nfig.vlines(x=[5, 6], ymin=4, ymax=9, pen=\"1.5p,black,.\", label=\"Lines 5 & 6\")\n# Add two vertical lines at x=7 and x=8 with different y limits\nfig.vlines(\n    x=[7, 8], ymin=[0, 1], ymax=[7, 7.5], pen=\"1.5p,dodgerblue3\", label=\"Lines 7 & 8\"\n)\nfig.legend()\n\nfig.show()"
      ]
    },
    {
      "cell_type": "markdown",
      "metadata": {},
      "source": [
        "## Geographic coordinate system\nThe same can be done in geographic coordinate systems where \"horizontal\" means lines\nare plotted along parallels (constant latitude) while \"vertical\" means lines are\nplotted along meridians (constant longitude).\n\n"
      ]
    },
    {
      "cell_type": "code",
      "execution_count": null,
      "metadata": {
        "collapsed": false
      },
      "outputs": [],
      "source": [
        "fig = pygmt.Figure()\n\nfig.basemap(region=\"g\", projection=\"R15c\", frame=[\"+tGeographic hlines\", \"af\"])\n# Add a line at 70\u00b0N\nfig.hlines(y=70, pen=\"1.5p,red3\", label=\"Line 1\")\n# Add a line at 50\u00b0N with longitude limits at 20\u00b0E and 160\u00b0E\nfig.hlines(y=50, xmin=20, xmax=160, pen=\"1.5p,dodgerblue3\", label=\"Line 2\")\n# Add a line at 30\u00b0S with longitude limits at 60\u00b0E and 270\u00b0E\nfig.hlines(y=-30, xmin=60, xmax=270, pen=\"1.5p,gray30,-\", label=\"Line 3\")\nfig.legend()\n\nfig.shift_origin(xshift=\"w+2c\")\n\nfig.basemap(region=\"g\", projection=\"R15c\", frame=[\"+tGeographic vlines\", \"af\"])\n# Add a line at 70\u00b0E\nfig.vlines(x=70, pen=\"1.5p,red3\", label=\"Line 1\")\n# Add a line at 20\u00b0E with latitude limits at 50\u00b0S and 70\u00b0N\nfig.vlines(x=120, ymin=-50, ymax=70, pen=\"1.5p,dodgerblue3\", label=\"Line 2\")\n# Add a line at 230\u00b0E with latitude limits at 70\u00b0S and 80\u00b0N\nfig.vlines(x=230, ymin=-70, ymax=80, pen=\"1.5p,gray30,-\", label=\"Line 3\")\nfig.legend()\n\nfig.show()"
      ]
    },
    {
      "cell_type": "markdown",
      "metadata": {},
      "source": [
        "## Polar coordinate system\nWhen using polar coordinate systems \"horizontal\" means lines are plotted as arcs along\na constant radius while \"vertical\" means lines are plotted as straight lines along\nradius at a specified azimuth.\n\n"
      ]
    },
    {
      "cell_type": "code",
      "execution_count": null,
      "metadata": {
        "collapsed": false
      },
      "outputs": [],
      "source": [
        "fig = pygmt.Figure()\n\nfig.basemap(region=[0, 360, 0, 1], projection=\"P10c\", frame=[\"+tPolar hlines\", \"af\"])\n# Add a line along radius=0.8\nfig.hlines(y=0.8, pen=\"1.5p,red3\", label=\"Line 1\")\n# Add a line along radius=0.5 with azimuth limits at 30\u00b0 and 160\u00b0\nfig.hlines(y=0.5, xmin=30, xmax=160, pen=\"1.5p,dodgerblue3\", label=\"Line 2\")\n# Add a line along radius=0.25 with azimuth limits at 60\u00b0 and 270\u00b0\nfig.hlines(y=0.25, xmin=60, xmax=270, pen=\"1.5p,gray30,-\", label=\"Line 3\")\nfig.legend()\n\nfig.shift_origin(xshift=\"w+2c\")\n\nfig.basemap(region=[0, 360, 0, 1], projection=\"P10c\", frame=[\"+tPolar vlines\", \"af\"])\n# Add a line along azimuth=120\u00b0\nfig.vlines(x=120, pen=\"1.5p,red3\", label=\"Line 1\")\n# Add a line along azimuth=190\u00b0 with radius limits at 0.2 and 0.8\nfig.vlines(x=190, ymin=0.2, ymax=0.8, pen=\"1.5p,dodgerblue3\", label=\"Line 2\")\n# Add a line along azimuth=320 with radius limits at 0.5 and 0.9\nfig.vlines(x=320, ymin=0.5, ymax=0.9, pen=\"1.5p,gray30,-\", label=\"Line 3\")\nfig.legend()\n\nfig.show()"
      ]
    }
  ],
  "metadata": {
    "kernelspec": {
      "display_name": "Python 3",
      "language": "python",
      "name": "python3"
    },
    "language_info": {
      "codemirror_mode": {
        "name": "ipython",
        "version": 3
      },
      "file_extension": ".py",
      "mimetype": "text/x-python",
      "name": "python",
      "nbconvert_exporter": "python",
      "pygments_lexer": "ipython3",
      "version": "3.13.5"
    }
  },
  "nbformat": 4,
  "nbformat_minor": 0
}