{
  "cells": [
    {
      "cell_type": "markdown",
      "metadata": {},
      "source": [
        "\n# Image on a figure\n\nThe :meth:`pygmt.Figure.image` method can be used to read and place an image file in\nmany formats (e.g., png, jpg, eps, pdf) on a figure. We must specify the filename via\nthe ``imagefile`` parameter or simply use the filename as the first argument. You can\nalso use a full URL pointing to your desired image. The ``position`` parameter allows\nus to set a reference point on the map for the image.\n"
      ]
    },
    {
      "cell_type": "code",
      "execution_count": null,
      "metadata": {
        "collapsed": false
      },
      "outputs": [],
      "source": [
        "from pathlib import Path\n\nimport pygmt\n\nfig = pygmt.Figure()\nfig.basemap(region=[0, 2, 0, 2], projection=\"X10c\", frame=True)\n\n# Place and center (\"+jCM\") the image \"needle.jpg\" provided by GMT to the position\n# (\"+g\") 1/1 on the current plot, scale it to a width of 8 centimeters (\"+w\") and draw\n# a rectangular border around it\nfig.image(\n    imagefile=\"https://oceania.generic-mapping-tools.org/cache/needle.jpg\",\n    position=\"g1/1+w8c+jCM\",\n    box=True,\n)\n\nfig.show()\n\n# Clean up the downloaded image in the current directory\nPath(\"needle.jpg\").unlink()"
      ]
    }
  ],
  "metadata": {
    "kernelspec": {
      "display_name": "Python 3",
      "language": "python",
      "name": "python3"
    },
    "language_info": {
      "codemirror_mode": {
        "name": "ipython",
        "version": 3
      },
      "file_extension": ".py",
      "mimetype": "text/x-python",
      "name": "python",
      "nbconvert_exporter": "python",
      "pygments_lexer": "ipython3",
      "version": "3.13.5"
    }
  },
  "nbformat": 4,
  "nbformat_minor": 0
}