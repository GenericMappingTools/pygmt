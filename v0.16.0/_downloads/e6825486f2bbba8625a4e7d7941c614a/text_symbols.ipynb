{
  "cells": [
    {
      "cell_type": "markdown",
      "metadata": {},
      "source": [
        "\n# Text symbols\n\nThe :meth:`pygmt.Figure.plot` method allows to plot text symbols. Text is normally\nplaced with the :meth:`pygmt.Figure.text` method but there are times we wish to treat a\ncharacter or even a string as a plottable symbol. A text symbol can be drawn by passing\n**l**\\ *size*\\ **+t**\\ *string* to the ``style`` parameter where *size* defines the size\nof the text symbol (note: the size is only approximate; no individual scaling is done\nfor different characters) and *string* can be a letter or a text string (less than 256\ncharacters). Optionally, you can append **+f**\\ *font,outlinecolor* to select a\nparticular font [Default is :gmt-term:`FONT_ANNOT_PRIMARY`] and outline color [Default\nis black] as well as **+j**\\ *justify* to change the justification [Default is CM]. For\nall supported fonts see :doc:`/techref/fonts`. The fill color of the text symbols can be\nset with the ``fill`` parameter, and the outline width can be customized with the\n``pen`` parameter.\n"
      ]
    },
    {
      "cell_type": "code",
      "execution_count": null,
      "metadata": {
        "collapsed": false
      },
      "outputs": [],
      "source": [
        "import pygmt\n\nfig = pygmt.Figure()\n\nfig.basemap(region=[0, 8, 0, 3], projection=\"X12c/4c\", frame=True)\n\npen = \"1.5p\"\n# plot an uppercase \"A\" of size 3.5c, color fill is set to \"dodgerblue3\"\nfig.plot(x=1, y=1.5, style=\"l3.5c+tA\", fill=\"dodgerblue3\", pen=pen)\n# plot an \"asterisk\" of size 3.5c, color fill is set to \"red3\"\nfig.plot(x=2.5, y=1, style=\"l3.5c+t*\", fill=\"red3\", pen=pen)\n# plot an uppercase \"Z\" of size 3.5c and use the \"Courier-Bold\" font,\n# color fill is set to \"seagreen\"\nfig.plot(x=4, y=1.5, style=\"l3.5c+tZ+fCourier-Bold\", fill=\"seagreen\", pen=pen)\n# plot a lowercase \"s\" of size 3.5c and use the \"Times-Italic\" font,\n# color fill is set to \"gold\"\nfig.plot(x=5.5, y=1.5, style=\"l3.5c+ts+fTimes-Italic\", fill=\"gold\", pen=pen)\n# plot the pi symbol of size 3.5c, the outline color of the symbol is set to\n# \"darkorange\", the color fill is set to \"magenta4\"\nfig.plot(x=7, y=1.5, style=\"l3.5c+t\u03c0+fdarkorange\", fill=\"magenta4\", pen=pen)\n\nfig.show()"
      ]
    }
  ],
  "metadata": {
    "kernelspec": {
      "display_name": "Python 3",
      "language": "python",
      "name": "python3"
    },
    "language_info": {
      "codemirror_mode": {
        "name": "ipython",
        "version": 3
      },
      "file_extension": ".py",
      "mimetype": "text/x-python",
      "name": "python",
      "nbconvert_exporter": "python",
      "pygments_lexer": "ipython3",
      "version": "3.13.5"
    }
  },
  "nbformat": 4,
  "nbformat_minor": 0
}