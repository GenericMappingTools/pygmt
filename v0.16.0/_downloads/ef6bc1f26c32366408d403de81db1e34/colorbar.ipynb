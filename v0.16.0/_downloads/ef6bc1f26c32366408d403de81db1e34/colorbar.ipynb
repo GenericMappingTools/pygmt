{
  "cells": [
    {
      "cell_type": "markdown",
      "metadata": {},
      "source": [
        "\n# Colorbar\n\nThe :meth:`pygmt.Figure.colorbar` method creates a color scalebar.\nThe colormap is set via the ``cmap`` parameter. A full list of available\ncolor palette tables can be found at :gmt-docs:`reference/cpts.html`.\nUse the ``frame`` parameter to add labels to the **x** and **y** axes\nof the colorbar by appending **+l** followed by the desired text. To add\nand adjust the annotations (**a**) and ticks (**f**) append the letter\nfollowed by the desired interval. The placement of the colorbar is set\nvia the ``position`` parameter. There are the following options:\n\n- **j/J**: placed inside/outside the plot bounding box using any 2-character\n  combination of vertical (**T**\\ op, **M**\\ iddle, **B**\\ ottom) and\n  horizontal (**L**\\ eft, **C**\\ enter, **R**\\ ight) alignment codes, e.g.\n  ``position=\"jTR\"`` for Top Right.\n- **g**: using map coordinates, e.g. ``position=\"g170/-45\"`` for longitude\n  170\u00b0 East, latitude 45\u00b0 South.\n- **x**: using paper coordinates, e.g. ``position=\"x5c/7c\"`` for 5 cm, 7 cm\n  from anchor point.\n- **n**: using normalized (0-1) coordinates, e.g. ``position=\"n0.4/0.8\"``.\n\nNote that the anchor point defaults to Bottom Left (**BL**). Append ``+h`` to\n``position`` to get a horizontal colorbar instead of a vertical one (``+v``).\n"
      ]
    },
    {
      "cell_type": "code",
      "execution_count": null,
      "metadata": {
        "collapsed": false
      },
      "outputs": [],
      "source": [
        "import pygmt\n\nfig = pygmt.Figure()\nfig.basemap(region=[0, 3, 6, 9], projection=\"x3c\", frame=[\"af\", \"WSne+tColorbars\"])\n\n# ============\n# Create a colorbar designed for seismic tomography - roma\n# Colorbar is placed at Bottom Center (BC) by default if no position is given\n# Add quantity and unit as labels (\"+l\") to the x and y axes\n# Add annotations (\"+a\") in steps of 0.5 and ticks (\"+f\") in steps of 0.1\nfig.colorbar(cmap=\"roma\", frame=[\"xa0.5f0.1+lVelocity\", \"y+lm/s\"])\n\n# ============\n# Create a colorbar showing the scientific rainbow - batlow\nfig.colorbar(\n    cmap=\"batlow\",\n    # Colorbar positioned at map coordinates (g) longitude/latitude 0.3/8.7,\n    # with a length/width (+w) of 4 cm by 0.5 cm, and plotted horizontally (+h)\n    position=\"g0.3/8.7+w4c/0.5c+h\",\n    box=True,\n    frame=[\"x+lTemperature\", \"y+l\u00b0C\"],\n    scale=100,\n)\n\n# ============\n# Create a colorbar suitable for surface topography - oleron\nfig.colorbar(\n    cmap=\"oleron\",\n    # Colorbar placed outside the plot bounding box (J) at Middle Right (MR),\n    # offset (+o) by 1 cm horizontally and 0 cm vertically from anchor point,\n    # with a length/width (+w) of 7 cm by 0.5 cm and a box for NaN values (+n)\n    position=\"JMR+o1c/0c+w7c/0.5c+n+mc\",\n    # Note that the label 'Elevation' is moved to the opposite side and plotted\n    # vertically as a column of text using '+mc' in the position parameter\n    # above\n    frame=[\"x+lElevation\", \"y+lm\"],\n    scale=10,\n)\n\n# ============\n# Create a colorbar suitable for categorical data - hawaii\n# Set up the colormap\npygmt.makecpt(\n    cmap=\"hawaii\",\n    series=[0, 3, 1],\n    # Comma-separated string for the annotations of the colorbar\n    color_model=\"+cA,B,C,D\",\n)\n# Plot the colorbar\nfig.colorbar(\n    cmap=True,  # Use colormap set up above\n    # Colorbar placed inside the plot bounding box (j) in the Bottom Left (BL) corner,\n    # with an offset (+o) by 0.5 cm horizontally and 0.8 cm vertically from the anchor\n    # point, and plotted horizontally (+h)\n    position=\"jBL+o0.5c/0.8c+h\",\n    box=True,\n    # Divide colorbar into equal-sized rectangles\n    equalsize=0.5,\n)\n\nfig.show()"
      ]
    }
  ],
  "metadata": {
    "kernelspec": {
      "display_name": "Python 3",
      "language": "python",
      "name": "python3"
    },
    "language_info": {
      "codemirror_mode": {
        "name": "ipython",
        "version": 3
      },
      "file_extension": ".py",
      "mimetype": "text/x-python",
      "name": "python",
      "nbconvert_exporter": "python",
      "pygments_lexer": "ipython3",
      "version": "3.13.5"
    }
  },
  "nbformat": 4,
  "nbformat_minor": 0
}