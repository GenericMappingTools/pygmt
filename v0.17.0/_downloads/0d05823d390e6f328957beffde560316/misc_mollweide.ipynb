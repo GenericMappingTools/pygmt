{
  "cells": [
    {
      "cell_type": "markdown",
      "metadata": {},
      "source": [
        "\n# Mollweide projection\n\nThis pseudo-cylindrical, equal-area projection was developed by the German\nmathematician and astronomer Karl Brandan Mollweide in 1805. Parallels are\nunequally spaced straight lines with the meridians being equally spaced\nelliptical arcs. The scale is only true along latitudes 40\u00b044' north and south.\nThe projection is used mainly for global maps showing data distributions. It is\noccasionally referenced under the name homalographic projection.\n\n**w**\\ [*lon0/*]\\ *scale* or **W**\\ [*lon0/*]\\ *width*\n\nThe projection is set with **w** or **W**. The central meridian is set with the\noptional *lon0*, and the figure size is set with *scale* or *width*.\n"
      ]
    },
    {
      "cell_type": "code",
      "execution_count": null,
      "metadata": {
        "collapsed": false
      },
      "outputs": [],
      "source": [
        "import pygmt\n\nfig = pygmt.Figure()\n# Use region \"d\" to specify global region (-180/180/-90/90)\nfig.coast(region=\"d\", projection=\"W12c\", frame=\"afg\", land=\"ivory\", water=\"bisque4\")\nfig.show()"
      ]
    }
  ],
  "metadata": {
    "kernelspec": {
      "display_name": "Python 3",
      "language": "python",
      "name": "python3"
    },
    "language_info": {
      "codemirror_mode": {
        "name": "ipython",
        "version": 3
      },
      "file_extension": ".py",
      "mimetype": "text/x-python",
      "name": "python",
      "nbconvert_exporter": "python",
      "pygments_lexer": "ipython3",
      "version": "3.13.7"
    }
  },
  "nbformat": 4,
  "nbformat_minor": 0
}