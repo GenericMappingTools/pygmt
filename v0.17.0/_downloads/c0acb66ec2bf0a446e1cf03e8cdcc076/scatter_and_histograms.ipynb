{
  "cells": [
    {
      "cell_type": "markdown",
      "metadata": {},
      "source": [
        "\n# Scatter plot with histograms\n\nTo create a scatter plot with histograms at the sides of the plot one can use\n:meth:`pygmt.Figure.plot` in combination with :meth:`pygmt.Figure.histogram`. The\npositions of the histograms are plotted by offsetting them from the main scatter plot\nusing :meth:`pygmt.Figure.shift_origin`.\n"
      ]
    },
    {
      "cell_type": "code",
      "execution_count": null,
      "metadata": {
        "collapsed": false
      },
      "outputs": [],
      "source": [
        "import numpy as np\nimport pygmt\n\n# Generate random x-, y-coordinates from a standard normal distribution.\n# x-values are centered on 0 with a standard deviation of 1, and y-values are centered\n# on 30 with a standard deviation of 2.\nrng = np.random.default_rng()\nx = rng.normal(loc=0, scale=1, size=1000)\ny = rng.normal(loc=30, scale=2, size=1000)\n\n# Get axis limits from the data limits. Extend the limits by 0.5 to add some margin.\nxmin = np.floor(x.min()) - 0.5\nxmax = np.ceil(x.max()) + 0.5\nymin = np.floor(y.min()) - 0.5\nymax = np.ceil(y.max()) + 0.5\n\n# Set fill color for symbols and bars.\nfill = \"seagreen\"\n\n# Set the dimensions of the scatter plot.\nwidth, height = 10, 8\n\nfig = pygmt.Figure()\nfig.basemap(\n    region=[xmin, xmax, ymin, ymax],\n    projection=f\"X{width}/{height}\",\n    frame=[\"WSrt\", \"af\"],\n)\n\n# Plot data points as circles with a diameter of 0.15 centimeters and set transparency\n# level for all circles to deal with overplotting.\nfig.plot(x=x, y=y, style=\"c0.15c\", fill=fill, transparency=50)\n\n# Shift the plot origin in y-direction temporarily and add top margin histogram.\nwith fig.shift_origin(yshift=height + 0.25):\n    fig.histogram(\n        projection=f\"X{width}/3\",\n        frame=[\"Wsrt\", \"xf\", \"yaf+lCounts\"],\n        # Give the same value for ymin and ymax to have them calculated automatically.\n        region=[xmin, xmax, 0, 0],\n        data=x,\n        fill=fill,\n        pen=\"0.1p,white\",\n        histtype=0,\n        series=0.2,\n    )\n\n# Shift the plot origin in x-direction temporarily and add right margin histogram.\nwith fig.shift_origin(xshift=width + 0.25):\n    # Plot the horizontal histogram.\n    fig.histogram(\n        horizontal=True,\n        projection=f\"X3/{height}\",\n        # Note that the x- and y-axes are flipped, with the y-axis plotted horizontally.\n        frame=[\"wSrt\", \"xf\", \"yaf+lCounts\"],\n        region=[ymin, ymax, 0, 0],\n        data=y,\n        fill=fill,\n        pen=\"0.1p,white\",\n        histtype=0,\n        series=0.2,\n    )\nfig.show()"
      ]
    }
  ],
  "metadata": {
    "kernelspec": {
      "display_name": "Python 3",
      "language": "python",
      "name": "python3"
    },
    "language_info": {
      "codemirror_mode": {
        "name": "ipython",
        "version": 3
      },
      "file_extension": ".py",
      "mimetype": "text/x-python",
      "name": "python",
      "nbconvert_exporter": "python",
      "pygments_lexer": "ipython3",
      "version": "3.13.7"
    }
  },
  "nbformat": 4,
  "nbformat_minor": 0
}