{
  "cells": [
    {
      "cell_type": "markdown",
      "metadata": {},
      "source": [
        "\n# Plotting focal mechanisms\n\nFocal mechanisms can be plotted as beachballs with the :meth:`pygmt.Figure.meca` method.\n\nThe focal mechanism data or parameters can be provided as various input types: ASCII\nfile, :class:`numpy.array`, dictionary, or :class:`pandas.Dataframe`. Different\nconventions to define the focal mechanism are supported: Aki and Richards (``\"aki\"``),\nglobal CMT (``\"gcmt\"``), moment tensor (``\"mt\"``), partial focal mechanism\n(``\"partial\"``), and, principal axis (``\"principal_axis\"``). Please refer to the table\nin the documentation of :meth:`pygmt.Figure.meca` regarding how to set up the input data\nin respect to the chosen input type and convention (i.e., the expected column order,\nkeys, or column names). In this tutorial we focus on how to adjust the display of the\nbeachballs.\n"
      ]
    },
    {
      "cell_type": "code",
      "execution_count": null,
      "metadata": {
        "collapsed": false
      },
      "outputs": [],
      "source": [
        "import pandas as pd\nimport pygmt\nfrom pygmt.params import Pattern\n\n# Set up arguments for basemap\nregion = [-5, 5, -5, 5]\nprojection = \"X10c/4c\"\nframe = [\"af\", \"+ggray90\"]"
      ]
    },
    {
      "cell_type": "markdown",
      "metadata": {},
      "source": [
        "## Setting up the focal mechanism data\n\nWe store focal mechanism parameters for two single events in dictionaries using the\nmoment tensor and Aki and Richards conventions:\n\n"
      ]
    },
    {
      "cell_type": "code",
      "execution_count": null,
      "metadata": {
        "collapsed": false
      },
      "outputs": [],
      "source": [
        "# moment tensor convention\nmt_single = {\n    \"mrr\": 4.71,\n    \"mtt\": 0.0381,\n    \"mff\": -4.74,\n    \"mrt\": 0.399,\n    \"mrf\": -0.805,\n    \"mtf\": -1.23,\n    \"exponent\": 24,\n}\n# Aki and Richards convention\naki_single = {\"strike\": 318, \"dip\": 89, \"rake\": -179, \"magnitude\": 7.75}"
      ]
    },
    {
      "cell_type": "markdown",
      "metadata": {},
      "source": [
        "## Plotting a single beachball\n\nRequired parameters are ``spec`` and ``scale`` as well as ``longitude``, ``latitude``\n(event location), and depth (if these values are not included in the argument passed\nto ``spec``). Additionally, the ``convention`` parameter is required if ``spec`` is\nan 1-D or 2-D numpy array; for the input types dictionary and ``pandas.Dataframe``,\nthe focal mechanism convention is automatically determined from dictionary keys or\n:class:`pandas.DataFrame` column names. The ``scale`` parameter controls the radius\nof the beachball. By default, the value defines the size for a magnitude of 5 (i.e.,\na scalar seismic moment of $M_0 = 4.0 \\times 10^{23}$ dyn cm) and the beachball\nsize is proportional to the magnitude. Append ``\"+l\"`` to force the radius to be\nproportional to the seismic moment.\n\n"
      ]
    },
    {
      "cell_type": "code",
      "execution_count": null,
      "metadata": {
        "collapsed": false
      },
      "outputs": [],
      "source": [
        "fig = pygmt.Figure()\nfig.basemap(region=region, projection=projection, frame=frame)\n\nfig.meca(spec=mt_single, scale=\"1c\", longitude=0, latitude=0, depth=0)\n\nfig.show()"
      ]
    },
    {
      "cell_type": "markdown",
      "metadata": {},
      "source": [
        "## Plotting the components of a seismic moment tensor\n\nA moment tensor can be decomposed into isotropic and deviatoric parts. The deviatoric\npart can be further decomposed into multiple parts (e.g., a double couple (DC) and a\ncompensated linear vector dipole (CLVD)). Use the ``component`` parameter to specify\nthe component you want to plot.\n\n"
      ]
    },
    {
      "cell_type": "code",
      "execution_count": null,
      "metadata": {
        "collapsed": false
      },
      "outputs": [],
      "source": [
        "fig = pygmt.Figure()\nfig.basemap(region=region, projection=projection, frame=frame)\n\nfor component, longitude in zip([\"full\", \"dc\", \"deviatoric\"], [-2, 0, 2], strict=True):\n    fig.meca(\n        spec=mt_single,\n        scale=\"1c\",\n        longitude=longitude,\n        latitude=0,\n        depth=0,\n        component=component,\n    )\n\nfig.show()"
      ]
    },
    {
      "cell_type": "markdown",
      "metadata": {},
      "source": [
        "## Filling the quadrants\n\nUse the parameters ``compressionfill`` and ``extensionfill`` to fill the quadrants\nwith different colors or :class:`patterns <pygmt.params.Pattern>`.\n\n"
      ]
    },
    {
      "cell_type": "code",
      "execution_count": null,
      "metadata": {
        "collapsed": false
      },
      "outputs": [],
      "source": [
        "fig = pygmt.Figure()\nfig.basemap(region=region, projection=projection, frame=frame)\n\nfig.meca(\n    spec=mt_single,\n    scale=\"1c\",\n    longitude=-2,\n    latitude=0,\n    depth=0,\n    compressionfill=\"darkorange\",\n    extensionfill=\"cornsilk\",\n)\n\nfig.meca(\n    spec=mt_single,\n    scale=\"1c\",\n    longitude=2,\n    latitude=0,\n    depth=0,\n    compressionfill=Pattern(8),\n    extensionfill=Pattern(31),\n    outline=True,\n)\n\nfig.show()"
      ]
    },
    {
      "cell_type": "markdown",
      "metadata": {},
      "source": [
        "## Adjusting the outlines\n\nUse the parameters ``pen`` and ``outline`` for adjusting the circumference of the\nbeachball or all lines (i.e, circumference and both nodal planes).\n\n"
      ]
    },
    {
      "cell_type": "code",
      "execution_count": null,
      "metadata": {
        "collapsed": false
      },
      "outputs": [],
      "source": [
        "fig = pygmt.Figure()\nfig.basemap(region=region, projection=projection, frame=frame)\n\nfig.meca(\n    spec=aki_single,\n    scale=\"1c\",\n    longitude=-2,\n    latitude=0,\n    depth=0,\n    # Use a 1-point thick, darkorange and solid line\n    pen=\"1p,darkorange\",\n)\n\nfig.meca(\n    spec=aki_single,\n    scale=\"1c\",\n    longitude=2,\n    latitude=0,\n    depth=0,\n    outline=\"1p,darkorange\",\n)\n\nfig.show()"
      ]
    },
    {
      "cell_type": "markdown",
      "metadata": {},
      "source": [
        "## Highlighting the nodal planes\n\nUse the parameter ``nodal`` to highlight specific nodal planes. ``\"0\"`` refers to\nboth, ``\"1\"`` to the first, and ``\"2\"`` to the second nodal plane(s). Only the\ncircumference and the specified nodal plane(s) are plotted, i.e. the quadrants\nremain unfilled (transparent). We can make use of the stacking concept of (Py)GMT,\nand use ``nodal`` in combination with the ``outline``, ``compressionfill`` /\n``extensionfill`` and ``pen`` parameters.\n\n"
      ]
    },
    {
      "cell_type": "code",
      "execution_count": null,
      "metadata": {
        "collapsed": false
      },
      "outputs": [],
      "source": [
        "fig = pygmt.Figure()\nfig.basemap(region=region, projection=projection, frame=frame)\n\nfig.meca(\n    spec=aki_single,\n    scale=\"1c\",\n    longitude=-2,\n    latitude=0,\n    depth=0,\n    nodal=\"0/1p,black\",\n)\n\n# Plot the same beachball three times with different settings:\n# (i) Fill the compressive quadrants\n# (ii) Plot the first nodal plane and the circumference in darkorange\n# (iii) Plot the circumfence in black on top; use \"-\" to not fill the quadrants\nfor kwargs in [\n    {\"compressionfill\": \"lightorange\"},\n    {\"nodal\": \"1/1p,darkorange\"},\n    {\"compressionfill\": \"-\", \"extensionfill\": \"-\", \"pen\": \"1p,gray30\"},\n]:\n    fig.meca(\n        spec=aki_single,\n        scale=\"1c\",\n        longitude=0,\n        latitude=0,\n        depth=0,\n        **kwargs,\n    )\nfig.show()"
      ]
    },
    {
      "cell_type": "markdown",
      "metadata": {},
      "source": [
        "## Adding offset from event location\n\nSpecify the optional parameters ``plot_longitude`` and ``plot_latitude``. If ``spec``\nis an ASCII file with columns for ``plot_longitude`` and ``plot_latitude``, the\n``offset`` parameter has to be set to ``True``. Besides just drawing a line between\nthe beachball and the event location, a small circle can be plotted at the event\nlocation by appending **+s** and the descired circle diameter. The connecting line as\nwell as the outline of the circle are plotted with the  setting of pen, or can be\nadjusted separately. The fill of the small circle corresponds to the fill of the\ncompressive quadrantes.\n\n"
      ]
    },
    {
      "cell_type": "code",
      "execution_count": null,
      "metadata": {
        "collapsed": false
      },
      "outputs": [],
      "source": [
        "fig = pygmt.Figure()\nfig.basemap(region=region, projection=projection, frame=frame)\n\nfig.meca(\n    spec=aki_single,\n    scale=\"1c\",\n    longitude=-1,\n    latitude=0,\n    depth=0,\n    plot_longitude=-3,\n    plot_latitude=2,\n)\n\nfig.meca(\n    spec=aki_single,\n    scale=\"1c\",\n    longitude=3,\n    latitude=0,\n    depth=0,\n    plot_longitude=1,\n    plot_latitude=2,\n    offset=\"+p1p,darkorange+s0.25c\",\n    compressionfill=\"lightorange\",\n)\n\nfig.show()"
      ]
    },
    {
      "cell_type": "markdown",
      "metadata": {},
      "source": [
        "## Plotting multiple beachballs\n\nNow we want to plot multiple beachballs with one call of :meth:`pygmt.Figure.meca`. We\nuse data of four earthquakes taken from USGS. For each focal mechanism parameter a\nlist with a length corresponding to the number of events has to be given.\n\n"
      ]
    },
    {
      "cell_type": "code",
      "execution_count": null,
      "metadata": {
        "collapsed": false
      },
      "outputs": [],
      "source": [
        "# Set up a pandas.DataFrame with multiple focal mechanism parameters.\naki_multiple = pd.DataFrame(\n    {\n        \"strike\": [255, 173, 295, 318],\n        \"dip\": [70, 68, 79, 89],\n        \"rake\": [20, 83, -177, -179],\n        \"magnitude\": [7.0, 5.8, 6.0, 7.8],\n        \"longitude\": [-72.53, -79.61, 69.46, 37.01],\n        \"latitude\": [18.44, 0.90, 33.02, 37.23],\n        \"depth\": [13, 19, 4, 10],\n        \"plot_longitude\": [-70, -110, 100, 0],\n        \"plot_latitude\": [40, 10, 50, 55],\n        \"event_name\": [\n            \"Haiti - 2010/01/12\",\n            \"Esmeraldas - 2022/03/27\",\n            \"Afghanistan - 2022/06/21\",\n            \"Syria/Turkey - 2023/02/06\",\n        ],\n    }\n)"
      ]
    },
    {
      "cell_type": "markdown",
      "metadata": {},
      "source": [
        "## Adding a label\n\nUse the optional parameter ``event_name`` to add a label near the beachball, e.g.,\nevent name or event date and time. Change the font of the label text by appending\n**+f** and the desired font (size,name,color) to the argument passed to the ``scale``\nparameter. Additionally, the location of the label relative to the beachball [Default\nis ``\"TC\"``, i.e., Top Center] can be changed by appending **+j** and an offset can\nbe applied by appending **+o** with values for *dx*\\ /*dy*. Add a colored [Default is\nwhite] box behind the label via the label ``labelbox``. Force a fixed size of the\nbeachball by appending **+m** to the argument passed to the ``scale`` parameter.\n\n"
      ]
    },
    {
      "cell_type": "code",
      "execution_count": null,
      "metadata": {
        "collapsed": false
      },
      "outputs": [],
      "source": [
        "fig = pygmt.Figure()\nfig.coast(region=\"d\", projection=\"N10c\", land=\"lightgray\", frame=True)\n\nfig.meca(spec=aki_multiple, scale=\"0.4c+m+f5p\", labelbox=\"white@30\", offset=\"+s0.1c\")\n\nfig.show()"
      ]
    },
    {
      "cell_type": "markdown",
      "metadata": {},
      "source": [
        "## Using size-coding and color-coding\n\nThe beachball can be sized and colored by the quantities given as ``magnitude`` and\n``depth``, e.g., by moment magnitude or hypocentral depth, respectively. Use the\nparameter ``cmap`` to pass the descired colormap. Now, the fills of the small circles\nindicating the event locations are given by the colormap.\n\n"
      ]
    },
    {
      "cell_type": "code",
      "execution_count": null,
      "metadata": {
        "collapsed": false
      },
      "outputs": [],
      "source": [
        "fig = pygmt.Figure()\nfig.coast(region=\"d\", projection=\"N10c\", land=\"lightgray\", frame=True)\n\n# Set up colormap and colorbar for hypocentral depth\npygmt.makecpt(cmap=\"lajolla\", series=[0, 20])\nfig.colorbar(frame=[\"x+lhypocentral depth\", \"y+lkm\"])\n\nfig.meca(\n    spec=aki_multiple,\n    scale=\"0.4c+f5p\",\n    offset=\"0.2p,gray30+s0.1c\",\n    labelbox=\"white@30\",\n    cmap=True,\n    outline=\"0.2p,gray30\",\n)\n\nfig.show()"
      ]
    }
  ],
  "metadata": {
    "kernelspec": {
      "display_name": "Python 3",
      "language": "python",
      "name": "python3"
    },
    "language_info": {
      "codemirror_mode": {
        "name": "ipython",
        "version": 3
      },
      "file_extension": ".py",
      "mimetype": "text/x-python",
      "name": "python",
      "nbconvert_exporter": "python",
      "pygments_lexer": "ipython3",
      "version": "3.13.7"
    }
  },
  "nbformat": 4,
  "nbformat_minor": 0
}