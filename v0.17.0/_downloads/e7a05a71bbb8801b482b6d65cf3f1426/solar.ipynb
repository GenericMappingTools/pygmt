{
  "cells": [
    {
      "cell_type": "markdown",
      "metadata": {},
      "source": [
        "\n# Day-night terminator and twilights\n\nUse :meth:`pygmt.Figure.solar` to show the different transition stages between daytime\nand nighttime. The parameter ``terminator`` is used to set the twilight stage, and can\nbe either ``\"day_night\"`` (brightest), ``\"civil\"``, ``\"nautical\"``, or\n``\"astronomical\"`` (darkest). Refer to https://en.wikipedia.org/wiki/Twilight for more\ninformation.\n"
      ]
    },
    {
      "cell_type": "code",
      "execution_count": null,
      "metadata": {
        "collapsed": false
      },
      "outputs": [],
      "source": [
        "import datetime\n\nimport pygmt\n\nfig = pygmt.Figure()\n# Create a global map using the Mollweide projection, centered at 0\u00b0E, with a width of\n# 15 centimeters.\nfig.basemap(region=\"d\", projection=\"W15c\", frame=True)\nfig.coast(land=\"darkgreen\", water=\"lightblue\")\n\n# Set a time for the day-night terminator and twilights to 17:00 UTC on January 1, 2000\nreference_time = datetime.datetime(\n    year=2000, month=1, day=1, hour=17, minute=0, second=0\n)\n\n# Plot the day-night terminator and twilights\nfor terminator in [\"day_night\", \"civil\", \"nautical\", \"astronomical\"]:\n    fig.solar(\n        terminator=terminator,\n        terminator_datetime=reference_time,\n        # Set the fill for the night area to navy blue with 85 % transparency\n        fill=\"navyblue@85\",\n        pen=\"0.5p\",  # Set the outline to be 0.5 points thick\n    )\n\nfig.show()"
      ]
    }
  ],
  "metadata": {
    "kernelspec": {
      "display_name": "Python 3",
      "language": "python",
      "name": "python3"
    },
    "language_info": {
      "codemirror_mode": {
        "name": "ipython",
        "version": 3
      },
      "file_extension": ".py",
      "mimetype": "text/x-python",
      "name": "python",
      "nbconvert_exporter": "python",
      "pygments_lexer": "ipython3",
      "version": "3.13.7"
    }
  },
  "nbformat": 4,
  "nbformat_minor": 0
}