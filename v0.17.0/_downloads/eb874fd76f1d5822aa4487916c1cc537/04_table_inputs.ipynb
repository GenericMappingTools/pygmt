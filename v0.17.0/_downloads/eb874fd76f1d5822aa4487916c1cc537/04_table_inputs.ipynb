{
  "cells": [
    {
      "cell_type": "markdown",
      "metadata": {},
      "source": [
        "\n# 4. PyGMT I/O: Table inputs\n\nGenerally, PyGMT accepts two different types of data inputs: tables and grids.\n\n- A table is a 2-D array with rows and columns. Each column represents a different\n  variable (e.g., *x*, *y* and *z*) and each row represents a different record.\n- A grid is a 2-D array of data that is regularly spaced in the x- and y-directions (or\n  longitude and latitude).\n\nIn this tutorial, we'll focus on working with table inputs, and cover grid inputs in a\nseparate tutorial.\n\nPyGMT supports a variety of table input types that allow you to work with data in a\nformat that suits your needs. In this tutorial, we'll explore the different table input\ntypes available in PyGMT and provide examples for each. By understanding the different\ntable input types, you can choose the one that best fits your data and analysis needs,\nand work more efficiently with PyGMT.\n"
      ]
    },
    {
      "cell_type": "code",
      "execution_count": null,
      "metadata": {
        "collapsed": false
      },
      "outputs": [],
      "source": [
        "from pathlib import Path\n\nimport geopandas as gpd\nimport numpy as np\nimport pandas as pd\nimport pygmt"
      ]
    },
    {
      "cell_type": "markdown",
      "metadata": {},
      "source": [
        "## ASCII table file\n\nMost PyGMT functions/methods that accept table input data have a ``data`` parameter.\nThe easiest way to provide table input data to PyGMT is by specifying the file name of\nan ASCII table (e.g., ``data=\"input_data.dat\"``). This is useful when your data is\nstored in a separate text file.\n\n"
      ]
    },
    {
      "cell_type": "code",
      "execution_count": null,
      "metadata": {
        "collapsed": false
      },
      "outputs": [],
      "source": [
        "# Create an example file with 3 rows and 2 columns\ndata = np.array([[1.0, 2.0], [5.0, 4.0], [8.0, 3.0]])\nnp.savetxt(\"input_data.dat\", data, fmt=\"%f\")\n\n# Pass the file name to the data parameter\nfig = pygmt.Figure()\nfig.basemap(region=[0, 10, 0, 5], projection=\"X10c/5c\", frame=True)\nfig.plot(data=\"input_data.dat\", style=\"p0.2c\", fill=\"blue\")\nfig.show()\n\n# Now let's delete the example file\nPath(\"input_data.dat\").unlink()"
      ]
    },
    {
      "cell_type": "markdown",
      "metadata": {},
      "source": [
        "Besides a plain string to a table file, the following variants are also accepted:\n\n- A :class:`pathlib.Path` object.\n- A full URL. PyGMT will download the file to the current directory first.\n- A file name prefixed with ``@`` (e.g., ``data=\"@input_data.dat\"``), which is a\n  special syntax in GMT to indicate that the file is a remote file hosted on the GMT\n  data server.\n\nAdditionally, PyGMT also supports a list of file names, :class:`pathlib.Path` objects,\nURLs, or remote files, to provide more flexibility in specifying input files.\n\n"
      ]
    },
    {
      "cell_type": "markdown",
      "metadata": {},
      "source": [
        "## 2-D array: `list`, `numpy.ndarray`, and `pandas.DataFrame`\n\nThe ``data`` parameter also accepts a 2-D array, e.g.,\n\n- A 2-D :class:`list` (i.e., a list of lists)\n- A :class:`numpy.ndarray` object with with a dimension of 2\n- A :class:`pandas.DataFrame` object\n\nThis is useful when you want to plot data that is already in memory.\n\n"
      ]
    },
    {
      "cell_type": "code",
      "execution_count": null,
      "metadata": {
        "collapsed": false
      },
      "outputs": [],
      "source": [
        "fig = pygmt.Figure()\nfig.basemap(region=[0, 10, 0, 5], projection=\"X10c/5c\", frame=True)\n\n# Pass a 2-D list to the 'data' parameter\nfig.plot(data=[[1.0, 2.0], [3.0, 4.0]], style=\"c0.2c\", fill=\"black\")\n\n# Pass a 2-D numpy array to the 'data' parameter\nfig.plot(data=np.array([[4.0, 2.0], [6.0, 4.0]]), style=\"t0.2c\", fill=\"red\")\n\n# Pass a pandas.DataFrame to the 'data' parameter\ndf = pd.DataFrame(np.array([[7.0, 3.0], [9.0, 2.0]]), columns=[\"x\", \"y\"])\nfig.plot(data=df, style=\"a0.2c\", fill=\"blue\")\n\nfig.show()"
      ]
    },
    {
      "cell_type": "markdown",
      "metadata": {},
      "source": [
        "## :class:`geopandas.GeoDataFrame`\n\nIf you're working with geospatial data, you can read your data as a\n:class:`geopandas.GeoDataFrame` object and pass it to the ``data`` parameter. This is\nuseful if your data is stored in a geospatial data format (e.g., GeoJSON, etc.) that\nGMT and PyGMT do not support natively.\n\n"
      ]
    },
    {
      "cell_type": "code",
      "execution_count": null,
      "metadata": {
        "collapsed": false
      },
      "outputs": [],
      "source": [
        "# Example GeoDataFrame\ngdf = gpd.GeoDataFrame(\n    {\n        \"geometry\": gpd.points_from_xy([2, 5, 9], [2, 3, 4]),\n        \"value\": [10, 20, 30],\n    }\n)\n\n# Use the GeoDataFrame to specify the 'data' parameter\nfig = pygmt.Figure()\nfig.basemap(region=[0, 10, 0, 5], projection=\"X10c/5c\", frame=True)\nfig.plot(data=gdf, style=\"c0.2c\", fill=\"purple\")\nfig.show()"
      ]
    },
    {
      "cell_type": "markdown",
      "metadata": {},
      "source": [
        "## Scalar values or 1-D arrays\n\nIn addition to the ``data`` parameter, some PyGMT functions/methods also provide\nindividual parameters (e.g., ``x`` and ``y`` for data coordinates) which allow you to\nspecify the data. These parameters accept individual scalar values or 1-D arrays\n(lists or 1-D numpy arrays).\n\n"
      ]
    },
    {
      "cell_type": "code",
      "execution_count": null,
      "metadata": {
        "collapsed": false
      },
      "outputs": [],
      "source": [
        "fig = pygmt.Figure()\nfig.basemap(region=[0, 10, 0, 5], projection=\"X10c/5c\", frame=True)\n\n# Pass scalar values to plot a single data point\nfig.plot(x=1.0, y=2.0, style=\"a0.2c\", fill=\"blue\")\n\n# Pass 1-D lists to plot multiple data points\nfig.plot(x=[5.0, 5.0, 5.0], y=[2.0, 3.0, 4.0], style=\"t0.2c\", fill=\"green\")\n\n# Pass 1-D numpy arrays to plot multiple data points\nfig.plot(\n    x=np.array([8.0, 8.0, 8.0]), y=np.array([2.0, 3.0, 4.0]), style=\"c0.2c\", fill=\"red\"\n)\n\nfig.show()"
      ]
    },
    {
      "cell_type": "markdown",
      "metadata": {},
      "source": [
        "## Conclusion\n\nIn PyGMT, you have the flexibility to provide data in various table input types,\nincluding file names, 2-D arrays (2-D :class:`list`, :class:`numpy.ndarray`,\n:class:`pandas.DataFrames`), scalar values or a series of 1-D arrays, and\n:class:`geopandas.GeoDataFrame`. Choose the input type that best suits your data\nsource and analysis requirements.\n\n"
      ]
    }
  ],
  "metadata": {
    "kernelspec": {
      "display_name": "Python 3",
      "language": "python",
      "name": "python3"
    },
    "language_info": {
      "codemirror_mode": {
        "name": "ipython",
        "version": 3
      },
      "file_extension": ".py",
      "mimetype": "text/x-python",
      "name": "python",
      "nbconvert_exporter": "python",
      "pygments_lexer": "ipython3",
      "version": "3.13.7"
    }
  },
  "nbformat": 4,
  "nbformat_minor": 0
}