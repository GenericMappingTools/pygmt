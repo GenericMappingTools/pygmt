{
  "cells": [
    {
      "cell_type": "code",
      "execution_count": null,
      "metadata": {
        "collapsed": false
      },
      "outputs": [],
      "source": [
        "%matplotlib inline"
      ]
    },
    {
      "cell_type": "markdown",
      "metadata": {},
      "source": [
        "\n# Plotting Earth relief\n\nPlotting a map of Earth relief can use the data accessed by the\n:meth:`pygmt.datasets.load_earth_relief` method. The data can then be plotted\nusing the :meth:`pygmt.Figure.grdimage` method.\n"
      ]
    },
    {
      "cell_type": "code",
      "execution_count": null,
      "metadata": {
        "collapsed": false
      },
      "outputs": [],
      "source": [
        "import pygmt"
      ]
    },
    {
      "cell_type": "markdown",
      "metadata": {},
      "source": [
        "Load sample Earth relief data for the entire globe at a resolution of 1 arc\ndegree. The other available resolutions are show\nat :gmt-docs:`datasets/remote-data.html#global-earth-relief-grids`.\n\n"
      ]
    },
    {
      "cell_type": "code",
      "execution_count": null,
      "metadata": {
        "collapsed": false
      },
      "outputs": [],
      "source": [
        "grid = pygmt.datasets.load_earth_relief(resolution=\"01d\")"
      ]
    },
    {
      "cell_type": "markdown",
      "metadata": {},
      "source": [
        "## Create a plot\n\nThe :meth:`pygmt.Figure.grdimage` method takes the ``grid`` input to create a\nfigure. It creates and applies a color palette to the figure based upon the\nz-values of the data. By default, it plots the map with the *turbo* CPT, an\nequidistant cylindrical projection, and with no frame.\n\n"
      ]
    },
    {
      "cell_type": "code",
      "execution_count": null,
      "metadata": {
        "collapsed": false
      },
      "outputs": [],
      "source": [
        "fig = pygmt.Figure()\nfig.grdimage(grid=grid)\nfig.show()"
      ]
    },
    {
      "cell_type": "markdown",
      "metadata": {},
      "source": [
        ":meth:`pygmt.Figure.grdimage` can take the optional argument ``projection``\nfor the map. In the example below, the ``projection`` is set as ``R12c`` for\n12 centimeter figure with a Winkel Tripel projection. For a list of available\nprojections, see :gmt-docs:`cookbook/map-projections.html`.\n\n"
      ]
    },
    {
      "cell_type": "code",
      "execution_count": null,
      "metadata": {
        "collapsed": false
      },
      "outputs": [],
      "source": [
        "fig = pygmt.Figure()\nfig.grdimage(grid=grid, projection=\"R12c\")\nfig.show()"
      ]
    },
    {
      "cell_type": "markdown",
      "metadata": {},
      "source": [
        "## Set a color map\n\n:meth:`pygmt.Figure.grdimage` takes the ``cmap`` argument to set the CPT of\nthe figure. Examples of common CPTs for Earth relief are shown below.\nA full list of CPTs can be found at :gmt-docs:`cookbook/cpts.html`.\n\n"
      ]
    },
    {
      "cell_type": "markdown",
      "metadata": {},
      "source": [
        "Using the *geo* CPT:\n\n"
      ]
    },
    {
      "cell_type": "code",
      "execution_count": null,
      "metadata": {
        "collapsed": false
      },
      "outputs": [],
      "source": [
        "fig = pygmt.Figure()\nfig.grdimage(grid=grid, projection=\"R12c\", cmap=\"geo\")\nfig.show()"
      ]
    },
    {
      "cell_type": "markdown",
      "metadata": {},
      "source": [
        "Using the *relief* CPT:\n\n"
      ]
    },
    {
      "cell_type": "code",
      "execution_count": null,
      "metadata": {
        "collapsed": false
      },
      "outputs": [],
      "source": [
        "fig = pygmt.Figure()\nfig.grdimage(grid=grid, projection=\"R12c\", cmap=\"relief\")\nfig.show()"
      ]
    },
    {
      "cell_type": "markdown",
      "metadata": {},
      "source": [
        "## Add a color bar\n\nThe :meth:`pygmt.Figure.colorbar` method displays the CPT and the associated\nZ-values of the figure, and by default uses the same CPT set by the ``cmap``\nargument for :meth:`pygmt.Figure.grdimage`. The ``frame`` argument for\n:meth:`pygmt.Figure.colorbar` can be used to set the axis intervals and\nlabels. A list is used to pass multiple arguments to ``frame``. In the\nexample below, ``a2500`` sets the axis interval to 2,500, ``x+lElevation``\nsets the x-axis label, and ``y+lm`` sets the y-axis label.\n\n"
      ]
    },
    {
      "cell_type": "code",
      "execution_count": null,
      "metadata": {
        "collapsed": false
      },
      "outputs": [],
      "source": [
        "fig = pygmt.Figure()\nfig.grdimage(grid=grid, projection=\"R12c\", cmap=\"geo\")\nfig.colorbar(frame=[\"a2500\", \"x+lElevation\", \"y+lm\"])\nfig.show()"
      ]
    },
    {
      "cell_type": "markdown",
      "metadata": {},
      "source": [
        "## Create a region map\n\nIn addition to providing global data, the ``region`` argument for\n:meth:`pygmt.datasets.load_earth_relief` can be used to provide data for a\nspecific area. The ``region`` argument is required for resolutions at 5 arc\nminutes or higher, and accepts a list (as in the example below) or a string.\nThe geographic ranges are passed as *xmin*/*xmax*/*ymin*/*ymax*.\n\nThe example below uses data with a 10 arc minute resolution, and plots it on\na 15 centimeter figure with a Mercator projection and a CPT set to *geo*.\n``frame=\"a\"`` is used to add a frame to the figure.\n\n"
      ]
    },
    {
      "cell_type": "code",
      "execution_count": null,
      "metadata": {
        "collapsed": false
      },
      "outputs": [],
      "source": [
        "grid = pygmt.datasets.load_earth_relief(resolution=\"10m\", region=[-14, 30, 35, 60])\nfig = pygmt.Figure()\nfig.grdimage(grid=grid, projection=\"M15c\", frame=\"a\", cmap=\"geo\")\nfig.colorbar(frame=[\"a1000\", \"x+lElevation\", \"y+lm\"])\nfig.show()"
      ]
    }
  ],
  "metadata": {
    "kernelspec": {
      "display_name": "Python 3",
      "language": "python",
      "name": "python3"
    },
    "language_info": {
      "codemirror_mode": {
        "name": "ipython",
        "version": 3
      },
      "file_extension": ".py",
      "mimetype": "text/x-python",
      "name": "python",
      "nbconvert_exporter": "python",
      "pygments_lexer": "ipython3",
      "version": "3.9.7"
    }
  },
  "nbformat": 4,
  "nbformat_minor": 0
}