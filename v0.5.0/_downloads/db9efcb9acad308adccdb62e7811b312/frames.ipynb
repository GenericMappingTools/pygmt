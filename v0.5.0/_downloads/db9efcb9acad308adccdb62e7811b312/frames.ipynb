{
  "cells": [
    {
      "cell_type": "code",
      "execution_count": null,
      "metadata": {
        "collapsed": false
      },
      "outputs": [],
      "source": [
        "%matplotlib inline"
      ]
    },
    {
      "cell_type": "markdown",
      "metadata": {},
      "source": [
        "\n# Frames, ticks, titles, and labels\n\nSetting the style of the map frames, ticks, etc, is handled by the ``frame``\nparameter that all plotting methods of :class:`pygmt.Figure`.\n"
      ]
    },
    {
      "cell_type": "code",
      "execution_count": null,
      "metadata": {
        "collapsed": false
      },
      "outputs": [],
      "source": [
        "import pygmt"
      ]
    },
    {
      "cell_type": "markdown",
      "metadata": {},
      "source": [
        "## Plot frame\n\nBy default, PyGMT does not add a frame to your plot. For example, we can plot\nthe coastlines of the world with a Mercator projection:\n\n"
      ]
    },
    {
      "cell_type": "code",
      "execution_count": null,
      "metadata": {
        "collapsed": false
      },
      "outputs": [],
      "source": [
        "fig = pygmt.Figure()\nfig.coast(shorelines=\"1/0.5p\", region=[-180, 180, -60, 60], projection=\"M25c\")\nfig.show()"
      ]
    },
    {
      "cell_type": "markdown",
      "metadata": {},
      "source": [
        "To add the default GMT frame to the plot, use ``frame=\"f\"`` in\n:meth:`pygmt.Figure.basemap` or any other plotting module:\n\n"
      ]
    },
    {
      "cell_type": "code",
      "execution_count": null,
      "metadata": {
        "collapsed": false
      },
      "outputs": [],
      "source": [
        "fig = pygmt.Figure()\nfig.coast(shorelines=\"1/0.5p\", region=[-180, 180, -60, 60], projection=\"M25c\")\nfig.basemap(frame=\"f\")\nfig.show()"
      ]
    },
    {
      "cell_type": "markdown",
      "metadata": {},
      "source": [
        "## Ticks and grid lines\n\nThe automatic frame (``frame=True`` or ``frame=\"a\"``) sets the default GMT\nstyle frame and automatically determines tick labels from the plot region.\n\n"
      ]
    },
    {
      "cell_type": "code",
      "execution_count": null,
      "metadata": {
        "collapsed": false
      },
      "outputs": [],
      "source": [
        "fig = pygmt.Figure()\nfig.coast(shorelines=\"1/0.5p\", region=[-180, 180, -60, 60], projection=\"M25c\")\nfig.basemap(frame=\"a\")\nfig.show()"
      ]
    },
    {
      "cell_type": "markdown",
      "metadata": {},
      "source": [
        "Add automatic grid lines to the plot by adding a ``g`` to ``frame``:\n\n"
      ]
    },
    {
      "cell_type": "code",
      "execution_count": null,
      "metadata": {
        "collapsed": false
      },
      "outputs": [],
      "source": [
        "fig = pygmt.Figure()\nfig.coast(shorelines=\"1/0.5p\", region=[-180, 180, -60, 60], projection=\"M25c\")\nfig.basemap(frame=\"ag\")\nfig.show()"
      ]
    },
    {
      "cell_type": "markdown",
      "metadata": {},
      "source": [
        "## Title\n\nThe figure title can be set by passing **+t**\\ *title* to the ``frame``\nparameter of :meth:`pygmt.Figure.basemap`. Passing multiple arguments to\n``frame`` can be done by using a list, as show in the example below.\n\n"
      ]
    },
    {
      "cell_type": "code",
      "execution_count": null,
      "metadata": {
        "collapsed": false
      },
      "outputs": [],
      "source": [
        "fig = pygmt.Figure()\n# region=\"IS\" specifies Iceland using the ISO country code\nfig.coast(shorelines=\"1/0.5p\", region=\"IS\", projection=\"M25c\")\nfig.basemap(frame=[\"a\", \"+tIceland\"])\nfig.show()"
      ]
    },
    {
      "cell_type": "markdown",
      "metadata": {},
      "source": [
        "To use a title with multiple words, the title must be placed inside another\nset of quotation marks. To prevent the quotation marks from appearing in the\nfigure title, the ``frame`` parameter can be passed in single quotation marks\nand the title can be passed in double quotation marks.\n\n"
      ]
    },
    {
      "cell_type": "code",
      "execution_count": null,
      "metadata": {
        "collapsed": false
      },
      "outputs": [],
      "source": [
        "fig = pygmt.Figure()\n# region=\"TT\" specifies Trinidad and Tobago\nfig.coast(shorelines=\"1/0.5p\", region=\"TT\", projection=\"M25c\")\nfig.basemap(frame=[\"a\", '+t\"Trinidad and Tobago\"'])\nfig.show()"
      ]
    },
    {
      "cell_type": "markdown",
      "metadata": {},
      "source": [
        "## Axis labels\n\nAxis labels can be set by passing **x+l**\\ *label* (or starting with **y** if\nlabeling the y-axis) to the ``frame`` parameter of\n:meth:`pygmt.Figure.basemap`. By default, all 4 map boundaries (or plot axes)\nare plotted with both tick marks and axis labels. The axes are named as\n**W** (west/left), **S** (south/bottom), **N** (north/top), and\n**E** (east/right) sides of a figure. If an upper-case axis name is passed,\nthe axis is plotted with tick marks and axis labels. A lower case axis name\nplots only the axis and tick marks.\n\nThe example below uses a Cartesian projection, as GMT does not allow axis\nlabels to be set for geographic maps.\n\n"
      ]
    },
    {
      "cell_type": "code",
      "execution_count": null,
      "metadata": {
        "collapsed": false
      },
      "outputs": [],
      "source": [
        "fig = pygmt.Figure()\nfig.basemap(\n    region=[0, 10, 0, 20],\n    projection=\"X10c/8c\",\n    # Plot axis, tick marks, and axis labels on the west/left and south/bottom\n    # axes\n    # Plot axis and tick marks on the north/top and east/right axes\n    frame=[\"WSne\", \"xaf+lx-axis\", \"yaf+ly-axis\"],\n)\nfig.show()"
      ]
    }
  ],
  "metadata": {
    "kernelspec": {
      "display_name": "Python 3",
      "language": "python",
      "name": "python3"
    },
    "language_info": {
      "codemirror_mode": {
        "name": "ipython",
        "version": 3
      },
      "file_extension": ".py",
      "mimetype": "text/x-python",
      "name": "python",
      "nbconvert_exporter": "python",
      "pygments_lexer": "ipython3",
      "version": "3.9.7"
    }
  },
  "nbformat": 4,
  "nbformat_minor": 0
}